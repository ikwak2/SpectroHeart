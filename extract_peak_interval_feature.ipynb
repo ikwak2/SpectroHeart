{
 "cells": [
  {
   "cell_type": "code",
   "execution_count": 14,
   "id": "e5b507da",
   "metadata": {},
   "outputs": [
    {
     "name": "stderr",
     "output_type": "stream",
     "text": [
      "/tmp/ipykernel_44785/912229180.py:1: DeprecationWarning: Importing display from IPython.core.display is deprecated since IPython 7.14, please import from IPython display\n",
      "  from IPython.core.display import display, HTML\n"
     ]
    },
    {
     "data": {
      "text/html": [
       "<style>.container { width:90% !important; }</style>"
      ],
      "text/plain": [
       "<IPython.core.display.HTML object>"
      ]
     },
     "metadata": {},
     "output_type": "display_data"
    }
   ],
   "source": [
    "from IPython.core.display import display, HTML\n",
    "display(HTML(\"<style>.container { width:90% !important; }</style>\"))"
   ]
  },
  {
   "cell_type": "code",
   "execution_count": 2,
   "id": "e5281ac0",
   "metadata": {},
   "outputs": [
    {
     "name": "stderr",
     "output_type": "stream",
     "text": [
      "/usr/lib/python3/dist-packages/requests/__init__.py:89: RequestsDependencyWarning: urllib3 (1.26.11) or chardet (3.0.4) doesn't match a supported version!\n",
      "  warnings.warn(\"urllib3 ({}) or chardet ({}) doesn't match a supported \"\n"
     ]
    }
   ],
   "source": [
    "from helper_code import *\n",
    "import numpy as np, scipy as sp, scipy.stats, os, sys, joblib\n",
    "from sklearn.impute import SimpleImputer\n",
    "#from sklearn.ensemble import RandomForestClassifier\n",
    "from models import *\n",
    "from get_feature import *\n",
    "from Generator0 import *\n",
    "import pickle as pk\n",
    "from tensorflow.keras.callbacks import LearningRateScheduler, ModelCheckpoint\n",
    "\n",
    "\n",
    "import os\n",
    "import pandas as pd\n",
    "import numpy as np\n",
    "import scipy as sp\n",
    "import scipy.stats\n",
    "import librosa\n",
    "import librosa.display\n",
    "import math\n",
    "import sys\n",
    "sys.path.insert(0,'lucashnegri-peakutils-51a679cd8428')\n",
    "from helper_code import *\n",
    "from get_feature import *\n",
    "from models import *\n",
    "from Generator0 import *\n",
    "from keras.preprocessing import sequence\n",
    "import peakutils\n",
    "from scipy import special\n",
    "import scipy.io as sio\n",
    "from keras.preprocessing.sequence import pad_sequences\n",
    "import peakutils\n",
    "from tensorflow import keras\n",
    "from tensorflow.keras import layers\n",
    "from tensorflow.keras.callbacks import LearningRateScheduler,ModelCheckpoint"
   ]
  },
  {
   "cell_type": "code",
   "execution_count": 3,
   "id": "beda1a18",
   "metadata": {},
   "outputs": [
    {
     "name": "stdout",
     "output_type": "stream",
     "text": [
      "Thu Mar 14 11:51:58 2024       \n",
      "+-----------------------------------------------------------------------------+\n",
      "| NVIDIA-SMI 525.105.17   Driver Version: 525.105.17   CUDA Version: 12.0     |\n",
      "|-------------------------------+----------------------+----------------------+\n",
      "| GPU  Name        Persistence-M| Bus-Id        Disp.A | Volatile Uncorr. ECC |\n",
      "| Fan  Temp  Perf  Pwr:Usage/Cap|         Memory-Usage | GPU-Util  Compute M. |\n",
      "|                               |                      |               MIG M. |\n",
      "|===============================+======================+======================|\n",
      "|   0  NVIDIA RTX A6000    On   | 00000000:1A:00.0 Off |                    0 |\n",
      "| 30%   30C    P8    28W / 300W |  45619MiB / 46068MiB |      0%      Default |\n",
      "|                               |                      |                  N/A |\n",
      "+-------------------------------+----------------------+----------------------+\n",
      "|   1  NVIDIA RTX A6000    On   | 00000000:1B:00.0 Off |                    0 |\n",
      "| 30%   31C    P8    14W / 300W |  10013MiB / 46068MiB |      0%      Default |\n",
      "|                               |                      |                  N/A |\n",
      "+-------------------------------+----------------------+----------------------+\n",
      "|   2  Quadro RTX 8000     On   | 00000000:1D:00.0 Off |                    0 |\n",
      "| 55%   75C    P2   260W / 260W |  20655MiB / 46080MiB |    100%      Default |\n",
      "|                               |                      |                  N/A |\n",
      "+-------------------------------+----------------------+----------------------+\n",
      "|   3  Quadro RTX 8000     On   | 00000000:1E:00.0 Off |                    0 |\n",
      "| 56%   76C    P2   261W / 260W |  20625MiB / 46080MiB |    100%      Default |\n",
      "|                               |                      |                  N/A |\n",
      "+-------------------------------+----------------------+----------------------+\n",
      "|   4  Quadro RTX 8000     On   | 00000000:3D:00.0 Off |                    0 |\n",
      "| 53%   75C    P2   254W / 260W |  27193MiB / 46080MiB |    100%      Default |\n",
      "|                               |                      |                  N/A |\n",
      "+-------------------------------+----------------------+----------------------+\n",
      "|   5  Quadro RTX 8000     On   | 00000000:3E:00.0 Off |                    0 |\n",
      "| 34%   31C    P8    13W / 260W |  45065MiB / 46080MiB |      0%      Default |\n",
      "|                               |                      |                  N/A |\n",
      "+-------------------------------+----------------------+----------------------+\n",
      "|   6  Quadro RTX 8000     On   | 00000000:41:00.0 Off |                    0 |\n",
      "| 34%   29C    P8    11W / 260W |      3MiB / 46080MiB |      0%      Default |\n",
      "|                               |                      |                  N/A |\n",
      "+-------------------------------+----------------------+----------------------+\n",
      "                                                                               \n",
      "+-----------------------------------------------------------------------------+\n",
      "| Processes:                                                                  |\n",
      "|  GPU   GI   CI        PID   Type   Process name                  GPU Memory |\n",
      "|        ID   ID                                                   Usage      |\n",
      "|=============================================================================|\n",
      "+-----------------------------------------------------------------------------+\n"
     ]
    }
   ],
   "source": [
    "!nvidia-smi"
   ]
  },
  {
   "cell_type": "code",
   "execution_count": 4,
   "id": "1bd12d0e",
   "metadata": {},
   "outputs": [],
   "source": [
    "# Setting the GPU.\n",
    "gpus = tf.config.experimental.list_physical_devices('GPU')\n",
    "if gpus:\n",
    "    try:\n",
    "        tf.config.experimental.set_visible_devices(gpus[0], 'GPU')\n",
    "    except RuntimeError as e:\n",
    "        print(e)"
   ]
  },
  {
   "cell_type": "code",
   "execution_count": 5,
   "id": "fdc59d55",
   "metadata": {},
   "outputs": [],
   "source": [
    "# Data folder path\n",
    "train_folder =  '/Data/hmd/data_split/murmur/train/'\n",
    "test_folder = '/Data/hmd/data_split/murmur/test/'"
   ]
  },
  {
   "cell_type": "code",
   "execution_count": 6,
   "id": "ec3de33e",
   "metadata": {},
   "outputs": [],
   "source": [
    "patient_files_trn = find_patient_files(train_folder)\n",
    "patient_files_test = find_patient_files(test_folder)"
   ]
  },
  {
   "cell_type": "markdown",
   "id": "0823d822",
   "metadata": {},
   "source": [
    "# PI feature"
   ]
  },
  {
   "cell_type": "code",
   "execution_count": 7,
   "id": "9a3afafd",
   "metadata": {},
   "outputs": [],
   "source": [
    "model_folder = 'pi_interval_develop'\n",
    "output_folder = '/Data/jk_paper/JK_paper/out_pi_develop'"
   ]
  },
  {
   "cell_type": "code",
   "execution_count": 8,
   "id": "1aaa8adf",
   "metadata": {},
   "outputs": [],
   "source": [
    "per_sec=4000\n",
    "winlen = 512\n",
    "hoplen = 256\n",
    "nmel = 120 \n",
    "nsec = 20 \n",
    "trim = 1 \n",
    "use_mel=True\n",
    "use_cqt = False \n",
    "use_stft = False\n",
    "use_interval=True\n",
    "maxlen1 = 120000\n",
    "min_dist = 630     #np.random.choice(list(range(10,2000 ,10)))\n",
    "max_interval_len = 130 #np.random.choice(list(range(100,300 ,10)))\n",
    "\n",
    "params_feature = {'samp_sec': nsec,\n",
    "              #### melspec, stft  \n",
    "              'pre_emphasis': 0,\n",
    "              'hop_length': hoplen,\n",
    "              'win_length': winlen,\n",
    "              'n_mels': nmel,\n",
    "              #### cqt   \n",
    "              'filter_scale': 1,\n",
    "              'n_bins': 80,\n",
    "              'fmin': 10,\n",
    "              'maxlen1': maxlen1,\n",
    "              'min_dist':min_dist,\n",
    "              'max_interval_len' : max_interval_len,\n",
    "              'trim' :1,\n",
    "              'use_mel' : use_mel,\n",
    "              'use_cqt' : use_cqt,\n",
    "              'use_stft' : use_stft,\n",
    "              'use_interval' : use_interval,\n",
    "              'per_sec' : per_sec}\n"
   ]
  },
  {
   "cell_type": "code",
   "execution_count": 55,
   "id": "18b22fd6",
   "metadata": {
    "scrolled": true
   },
   "outputs": [
    {
     "name": "stderr",
     "output_type": "stream",
     "text": [
      "  0%|                                                                                                                                                                                                                                                                                                        | 0/751 [00:00<?, ?it/s]"
     ]
    },
    {
     "name": "stdout",
     "output_type": "stream",
     "text": [
      "94391\n",
      "52215\n",
      "59959\n"
     ]
    },
    {
     "name": "stderr",
     "output_type": "stream",
     "text": [
      "  0%|▍                                                                                                                                                                                                                                                                                               | 1/751 [00:01<21:58,  1.76s/it]"
     ]
    },
    {
     "name": "stdout",
     "output_type": "stream",
     "text": [
      "106743\n",
      "72631\n",
      "81015\n",
      "91575\n"
     ]
    },
    {
     "name": "stderr",
     "output_type": "stream",
     "text": [
      "  0%|▊                                                                                                                                                                                                                                                                                               | 2/751 [00:03<21:40,  1.74s/it]"
     ]
    },
    {
     "name": "stdout",
     "output_type": "stream",
     "text": [
      "84599\n",
      "92215\n",
      "106615\n",
      "79159\n"
     ]
    },
    {
     "name": "stderr",
     "output_type": "stream",
     "text": [
      "  0%|█▏                                                                                                                                                                                                                                                                                              | 3/751 [00:05<22:06,  1.77s/it]"
     ]
    },
    {
     "name": "stdout",
     "output_type": "stream",
     "text": [
      "79799\n",
      "41143\n",
      "37559\n",
      "26359\n"
     ]
    },
    {
     "name": "stderr",
     "output_type": "stream",
     "text": [
      "  1%|█▌                                                                                                                                                                                                                                                                                              | 4/751 [00:06<19:36,  1.57s/it]"
     ]
    },
    {
     "name": "stdout",
     "output_type": "stream",
     "text": [
      "115127\n",
      "81911\n",
      "85175\n",
      "131383\n"
     ]
    },
    {
     "name": "stderr",
     "output_type": "stream",
     "text": [
      "  1%|█▉                                                                                                                                                                                                                                                                                              | 5/751 [00:08<21:18,  1.71s/it]"
     ]
    },
    {
     "name": "stdout",
     "output_type": "stream",
     "text": [
      "80183\n",
      "88183\n",
      "82359\n",
      "108727\n"
     ]
    },
    {
     "name": "stderr",
     "output_type": "stream",
     "text": [
      "  1%|██▎                                                                                                                                                                                                                                                                                             | 6/751 [00:10<22:35,  1.82s/it]"
     ]
    },
    {
     "name": "stdout",
     "output_type": "stream",
     "text": [
      "91127\n",
      "81847\n",
      "122551\n",
      "81975\n"
     ]
    },
    {
     "name": "stderr",
     "output_type": "stream",
     "text": [
      "  1%|██▋                                                                                                                                                                                                                                                                                             | 7/751 [00:12<22:30,  1.82s/it]"
     ]
    },
    {
     "name": "stdout",
     "output_type": "stream",
     "text": [
      "85111\n",
      "51575\n",
      "46711\n",
      "56375\n"
     ]
    },
    {
     "name": "stderr",
     "output_type": "stream",
     "text": [
      "  1%|███                                                                                                                                                                                                                                                                                             | 8/751 [00:13<21:40,  1.75s/it]"
     ]
    },
    {
     "name": "stdout",
     "output_type": "stream",
     "text": [
      "90359\n",
      "91575\n",
      "85175\n",
      "90999\n"
     ]
    },
    {
     "name": "stderr",
     "output_type": "stream",
     "text": [
      "  1%|███▍                                                                                                                                                                                                                                                                                            | 9/751 [00:15<21:44,  1.76s/it]"
     ]
    },
    {
     "name": "stdout",
     "output_type": "stream",
     "text": [
      "81975\n",
      "44343\n"
     ]
    },
    {
     "name": "stderr",
     "output_type": "stream",
     "text": [
      "  1%|███▊                                                                                                                                                                                                                                                                                           | 10/751 [00:16<16:50,  1.36s/it]"
     ]
    },
    {
     "name": "stdout",
     "output_type": "stream",
     "text": [
      "69943\n",
      "35575\n",
      "59767\n",
      "53559\n"
     ]
    },
    {
     "name": "stderr",
     "output_type": "stream",
     "text": [
      "  1%|████▏                                                                                                                                                                                                                                                                                          | 11/751 [00:17<16:08,  1.31s/it]"
     ]
    },
    {
     "name": "stdout",
     "output_type": "stream",
     "text": [
      "59191\n",
      "79607\n",
      "81015\n",
      "78775\n"
     ]
    },
    {
     "name": "stderr",
     "output_type": "stream",
     "text": [
      "  2%|████▌                                                                                                                                                                                                                                                                                          | 12/751 [00:19<17:41,  1.44s/it]"
     ]
    },
    {
     "name": "stdout",
     "output_type": "stream",
     "text": [
      "83959\n",
      "48759\n",
      "51575\n",
      "45175\n"
     ]
    },
    {
     "name": "stderr",
     "output_type": "stream",
     "text": [
      "  2%|████▉                                                                                                                                                                                                                                                                                          | 13/751 [00:20<16:22,  1.33s/it]"
     ]
    },
    {
     "name": "stdout",
     "output_type": "stream",
     "text": [
      "94711\n",
      "45175\n",
      "72759\n",
      "43959\n"
     ]
    },
    {
     "name": "stderr",
     "output_type": "stream",
     "text": [
      "  2%|█████▎                                                                                                                                                                                                                                                                                         | 14/751 [00:21<15:45,  1.28s/it]"
     ]
    },
    {
     "name": "stdout",
     "output_type": "stream",
     "text": [
      "76343\n",
      "85943\n",
      "119799\n"
     ]
    },
    {
     "name": "stderr",
     "output_type": "stream",
     "text": [
      "  2%|█████▋                                                                                                                                                                                                                                                                                         | 15/751 [00:22<14:49,  1.21s/it]"
     ]
    },
    {
     "name": "stdout",
     "output_type": "stream",
     "text": [
      "78967\n",
      "47543\n",
      "53559\n",
      "76599\n"
     ]
    },
    {
     "name": "stderr",
     "output_type": "stream",
     "text": [
      "  2%|██████                                                                                                                                                                                                                                                                                         | 16/751 [00:24<16:42,  1.36s/it]"
     ]
    },
    {
     "name": "stdout",
     "output_type": "stream",
     "text": [
      "128759\n",
      "81399\n",
      "87159\n",
      "80311\n"
     ]
    },
    {
     "name": "stderr",
     "output_type": "stream",
     "text": [
      "  2%|██████▍                                                                                                                                                                                                                                                                                        | 17/751 [00:26<19:09,  1.57s/it]"
     ]
    },
    {
     "name": "stdout",
     "output_type": "stream",
     "text": [
      "82999\n",
      "82999\n",
      "75127\n",
      "87543\n"
     ]
    },
    {
     "name": "stderr",
     "output_type": "stream",
     "text": [
      "  2%|██████▉                                                                                                                                                                                                                                                                                        | 18/751 [00:27<19:21,  1.58s/it]"
     ]
    },
    {
     "name": "stdout",
     "output_type": "stream",
     "text": [
      "82039\n",
      "84343\n",
      "83959\n",
      "86775\n"
     ]
    },
    {
     "name": "stderr",
     "output_type": "stream",
     "text": [
      "  3%|███████▎                                                                                                                                                                                                                                                                                       | 19/751 [00:29<20:16,  1.66s/it]"
     ]
    },
    {
     "name": "stdout",
     "output_type": "stream",
     "text": [
      "85943\n",
      "87543\n",
      "82359\n",
      "81399\n"
     ]
    },
    {
     "name": "stderr",
     "output_type": "stream",
     "text": [
      "  3%|███████▋                                                                                                                                                                                                                                                                                       | 20/751 [00:31<20:46,  1.70s/it]"
     ]
    },
    {
     "name": "stdout",
     "output_type": "stream",
     "text": [
      "81207\n",
      "62967\n",
      "58743\n",
      "50999\n"
     ]
    },
    {
     "name": "stderr",
     "output_type": "stream",
     "text": [
      "  3%|████████                                                                                                                                                                                                                                                                                       | 21/751 [00:32<19:33,  1.61s/it]"
     ]
    },
    {
     "name": "stdout",
     "output_type": "stream",
     "text": [
      "77175\n"
     ]
    },
    {
     "name": "stderr",
     "output_type": "stream",
     "text": [
      "  3%|████████▍                                                                                                                                                                                                                                                                                      | 22/751 [00:33<15:05,  1.24s/it]"
     ]
    },
    {
     "name": "stdout",
     "output_type": "stream",
     "text": [
      "81975\n",
      "78199\n",
      "85559\n",
      "62967\n"
     ]
    },
    {
     "name": "stderr",
     "output_type": "stream",
     "text": [
      "  3%|████████▊                                                                                                                                                                                                                                                                                      | 23/751 [00:34<16:44,  1.38s/it]"
     ]
    },
    {
     "name": "stdout",
     "output_type": "stream",
     "text": [
      "85559\n"
     ]
    },
    {
     "name": "stderr",
     "output_type": "stream",
     "text": [
      "  3%|█████████▏                                                                                                                                                                                                                                                                                     | 24/751 [00:35<12:36,  1.04s/it]"
     ]
    },
    {
     "name": "stdout",
     "output_type": "stream",
     "text": [
      "36343\n",
      "83191\n"
     ]
    },
    {
     "name": "stderr",
     "output_type": "stream",
     "text": [
      "  3%|█████████▌                                                                                                                                                                                                                                                                                     | 25/751 [00:36<12:35,  1.04s/it]"
     ]
    },
    {
     "name": "stdout",
     "output_type": "stream",
     "text": [
      "117559\n",
      "121399\n",
      "119159\n",
      "121591\n"
     ]
    },
    {
     "name": "stderr",
     "output_type": "stream",
     "text": [
      "  3%|█████████▉                                                                                                                                                                                                                                                                                     | 26/751 [00:38<18:20,  1.52s/it]"
     ]
    },
    {
     "name": "stdout",
     "output_type": "stream",
     "text": [
      "129399\n",
      "117559\n",
      "117559\n",
      "116599\n"
     ]
    },
    {
     "name": "stderr",
     "output_type": "stream",
     "text": [
      "  4%|██████████▎                                                                                                                                                                                                                                                                                    | 27/751 [00:41<21:24,  1.77s/it]"
     ]
    },
    {
     "name": "stdout",
     "output_type": "stream",
     "text": [
      "117943\n",
      "107959\n",
      "113783\n",
      "130999\n"
     ]
    },
    {
     "name": "stderr",
     "output_type": "stream",
     "text": [
      "  4%|██████████▋                                                                                                                                                                                                                                                                                    | 28/751 [00:43<23:12,  1.93s/it]"
     ]
    },
    {
     "name": "stdout",
     "output_type": "stream",
     "text": [
      "123383\n",
      "63799\n",
      "61175\n",
      "95607\n"
     ]
    },
    {
     "name": "stderr",
     "output_type": "stream",
     "text": [
      "  4%|███████████                                                                                                                                                                                                                                                                                    | 29/751 [00:45<21:45,  1.81s/it]"
     ]
    },
    {
     "name": "stdout",
     "output_type": "stream",
     "text": [
      "95543\n",
      "124215\n",
      "120375\n",
      "151799\n"
     ]
    },
    {
     "name": "stderr",
     "output_type": "stream",
     "text": [
      "  4%|███████████▍                                                                                                                                                                                                                                                                                   | 30/751 [00:47<24:46,  2.06s/it]"
     ]
    },
    {
     "name": "stdout",
     "output_type": "stream",
     "text": [
      "138359\n",
      "115831\n",
      "117367\n",
      "119159\n"
     ]
    },
    {
     "name": "stderr",
     "output_type": "stream",
     "text": [
      "  4%|███████████▊                                                                                                                                                                                                                                                                                   | 31/751 [00:50<25:43,  2.14s/it]"
     ]
    },
    {
     "name": "stdout",
     "output_type": "stream",
     "text": [
      "124215\n",
      "134967\n"
     ]
    },
    {
     "name": "stderr",
     "output_type": "stream",
     "text": [
      "  4%|████████████▏                                                                                                                                                                                                                                                                                  | 32/751 [00:51<22:56,  1.91s/it]"
     ]
    },
    {
     "name": "stdout",
     "output_type": "stream",
     "text": [
      "125175\n",
      "116343\n"
     ]
    },
    {
     "name": "stderr",
     "output_type": "stream",
     "text": [
      "  4%|████████████▌                                                                                                                                                                                                                                                                                  | 33/751 [00:52<20:41,  1.73s/it]"
     ]
    },
    {
     "name": "stdout",
     "output_type": "stream",
     "text": [
      "132727\n",
      "141431\n",
      "120759\n",
      "118199\n"
     ]
    },
    {
     "name": "stderr",
     "output_type": "stream",
     "text": [
      "  5%|████████████▉                                                                                                                                                                                                                                                                                  | 34/751 [00:55<22:58,  1.92s/it]"
     ]
    },
    {
     "name": "stdout",
     "output_type": "stream",
     "text": [
      "124599\n",
      "84343\n"
     ]
    },
    {
     "name": "stderr",
     "output_type": "stream",
     "text": [
      "  5%|█████████████▍                                                                                                                                                                                                                                                                                 | 35/751 [00:56<19:29,  1.63s/it]"
     ]
    },
    {
     "name": "stdout",
     "output_type": "stream",
     "text": [
      "148343\n",
      "123959\n"
     ]
    },
    {
     "name": "stderr",
     "output_type": "stream",
     "text": [
      "  5%|█████████████▊                                                                                                                                                                                                                                                                                 | 36/751 [00:56<16:33,  1.39s/it]"
     ]
    },
    {
     "name": "stdout",
     "output_type": "stream",
     "text": [
      "120631\n",
      "118967\n",
      "125431\n",
      "127351\n"
     ]
    },
    {
     "name": "stderr",
     "output_type": "stream",
     "text": [
      "  5%|██████████████▏                                                                                                                                                                                                                                                                                | 37/751 [00:59<19:15,  1.62s/it]"
     ]
    },
    {
     "name": "stdout",
     "output_type": "stream",
     "text": [
      "123959\n",
      "116599\n",
      "102775\n",
      "126327\n"
     ]
    },
    {
     "name": "stderr",
     "output_type": "stream",
     "text": [
      "  5%|██████████████▌                                                                                                                                                                                                                                                                                | 38/751 [01:01<22:05,  1.86s/it]"
     ]
    },
    {
     "name": "stdout",
     "output_type": "stream",
     "text": [
      "185975\n",
      "144759\n"
     ]
    },
    {
     "name": "stderr",
     "output_type": "stream",
     "text": [
      "  5%|██████████████▉                                                                                                                                                                                                                                                                                | 39/751 [01:02<19:49,  1.67s/it]"
     ]
    },
    {
     "name": "stdout",
     "output_type": "stream",
     "text": [
      "119991\n",
      "166775\n",
      "100215\n"
     ]
    },
    {
     "name": "stderr",
     "output_type": "stream",
     "text": [
      "  5%|███████████████▎                                                                                                                                                                                                                                                                               | 40/751 [01:04<19:56,  1.68s/it]"
     ]
    },
    {
     "name": "stdout",
     "output_type": "stream",
     "text": [
      "85815\n",
      "129975\n",
      "121783\n",
      "123447\n"
     ]
    },
    {
     "name": "stderr",
     "output_type": "stream",
     "text": [
      "  5%|███████████████▋                                                                                                                                                                                                                                                                               | 41/751 [01:06<22:50,  1.93s/it]"
     ]
    },
    {
     "name": "stdout",
     "output_type": "stream",
     "text": [
      "125111\n",
      "127671\n"
     ]
    },
    {
     "name": "stderr",
     "output_type": "stream",
     "text": [
      "  6%|████████████████                                                                                                                                                                                                                                                                               | 42/751 [01:08<20:16,  1.72s/it]"
     ]
    },
    {
     "name": "stdout",
     "output_type": "stream",
     "text": [
      "120375\n",
      "68215\n"
     ]
    },
    {
     "name": "stderr",
     "output_type": "stream",
     "text": [
      "  6%|████████████████▍                                                                                                                                                                                                                                                                              | 43/751 [01:08<17:05,  1.45s/it]"
     ]
    },
    {
     "name": "stdout",
     "output_type": "stream",
     "text": [
      "107575\n",
      "124343\n",
      "102711\n",
      "91959\n"
     ]
    },
    {
     "name": "stderr",
     "output_type": "stream",
     "text": [
      "  6%|████████████████▊                                                                                                                                                                                                                                                                              | 44/751 [01:10<18:51,  1.60s/it]"
     ]
    },
    {
     "name": "stdout",
     "output_type": "stream",
     "text": [
      "118775\n",
      "117367\n",
      "121975\n",
      "123959\n"
     ]
    },
    {
     "name": "stderr",
     "output_type": "stream",
     "text": [
      "  6%|█████████████████▏                                                                                                                                                                                                                                                                             | 45/751 [01:13<21:44,  1.85s/it]"
     ]
    },
    {
     "name": "stdout",
     "output_type": "stream",
     "text": [
      "135543\n",
      "127159\n"
     ]
    },
    {
     "name": "stderr",
     "output_type": "stream",
     "text": [
      "  6%|█████████████████▌                                                                                                                                                                                                                                                                             | 46/751 [01:14<18:29,  1.57s/it]"
     ]
    },
    {
     "name": "stdout",
     "output_type": "stream",
     "text": [
      "126583\n",
      "97335\n",
      "142583\n",
      "145143\n"
     ]
    },
    {
     "name": "stderr",
     "output_type": "stream",
     "text": [
      "  6%|█████████████████▉                                                                                                                                                                                                                                                                             | 47/751 [01:16<20:59,  1.79s/it]"
     ]
    },
    {
     "name": "stdout",
     "output_type": "stream",
     "text": [
      "130231\n",
      "120759\n",
      "122359\n",
      "121591\n"
     ]
    },
    {
     "name": "stderr",
     "output_type": "stream",
     "text": [
      "  6%|██████████████████▎                                                                                                                                                                                                                                                                            | 48/751 [01:18<23:15,  1.99s/it]"
     ]
    },
    {
     "name": "stdout",
     "output_type": "stream",
     "text": [
      "128375\n",
      "117751\n",
      "119351\n",
      "120375\n"
     ]
    },
    {
     "name": "stderr",
     "output_type": "stream",
     "text": [
      "  7%|██████████████████▋                                                                                                                                                                                                                                                                            | 49/751 [01:21<24:33,  2.10s/it]"
     ]
    },
    {
     "name": "stdout",
     "output_type": "stream",
     "text": [
      "119799\n",
      "122551\n",
      "122359\n"
     ]
    },
    {
     "name": "stderr",
     "output_type": "stream",
     "text": [
      "  7%|███████████████████                                                                                                                                                                                                                                                                            | 50/751 [01:23<23:54,  2.05s/it]"
     ]
    },
    {
     "name": "stdout",
     "output_type": "stream",
     "text": [
      "122743\n",
      "108407\n",
      "97399\n",
      "79927\n"
     ]
    },
    {
     "name": "stderr",
     "output_type": "stream",
     "text": [
      "  7%|███████████████████▍                                                                                                                                                                                                                                                                           | 51/751 [01:25<23:37,  2.02s/it]"
     ]
    },
    {
     "name": "stdout",
     "output_type": "stream",
     "text": [
      "90807\n",
      "119095\n",
      "123959\n",
      "107895\n",
      "123831\n",
      "121975\n"
     ]
    },
    {
     "name": "stderr",
     "output_type": "stream",
     "text": [
      "  7%|███████████████████▊                                                                                                                                                                                                                                                                           | 52/751 [01:28<28:47,  2.47s/it]"
     ]
    },
    {
     "name": "stdout",
     "output_type": "stream",
     "text": [
      "119543\n",
      "117367\n",
      "122167\n",
      "143159\n"
     ]
    },
    {
     "name": "stderr",
     "output_type": "stream",
     "text": [
      "  7%|████████████████████▎                                                                                                                                                                                                                                                                          | 53/751 [01:31<28:53,  2.48s/it]"
     ]
    },
    {
     "name": "stdout",
     "output_type": "stream",
     "text": [
      "136567\n",
      "152375\n",
      "141175\n",
      "141367\n"
     ]
    },
    {
     "name": "stderr",
     "output_type": "stream",
     "text": [
      "  7%|████████████████████▋                                                                                                                                                                                                                                                                          | 54/751 [01:33<29:11,  2.51s/it]"
     ]
    },
    {
     "name": "stdout",
     "output_type": "stream",
     "text": [
      "143415\n",
      "121399\n"
     ]
    },
    {
     "name": "stderr",
     "output_type": "stream",
     "text": [
      "  7%|█████████████████████                                                                                                                                                                                                                                                                          | 55/751 [01:35<24:37,  2.12s/it]"
     ]
    },
    {
     "name": "stdout",
     "output_type": "stream",
     "text": [
      "119159\n",
      "77815\n",
      "58615\n"
     ]
    },
    {
     "name": "stderr",
     "output_type": "stream",
     "text": [
      "  7%|█████████████████████▍                                                                                                                                                                                                                                                                         | 56/751 [01:36<20:41,  1.79s/it]"
     ]
    },
    {
     "name": "stdout",
     "output_type": "stream",
     "text": [
      "62199\n",
      "118967\n",
      "117431\n",
      "121399\n"
     ]
    },
    {
     "name": "stderr",
     "output_type": "stream",
     "text": [
      "  8%|█████████████████████▊                                                                                                                                                                                                                                                                         | 57/751 [01:38<23:01,  1.99s/it]"
     ]
    },
    {
     "name": "stdout",
     "output_type": "stream",
     "text": [
      "150775\n",
      "95159\n",
      "97911\n"
     ]
    },
    {
     "name": "stderr",
     "output_type": "stream",
     "text": [
      "  8%|██████████████████████▏                                                                                                                                                                                                                                                                        | 58/751 [01:39<21:04,  1.82s/it]"
     ]
    },
    {
     "name": "stdout",
     "output_type": "stream",
     "text": [
      "134775\n"
     ]
    },
    {
     "name": "stderr",
     "output_type": "stream",
     "text": [
      "  8%|██████████████████████▌                                                                                                                                                                                                                                                                        | 59/751 [01:40<16:45,  1.45s/it]"
     ]
    },
    {
     "name": "stdout",
     "output_type": "stream",
     "text": [
      "111543\n",
      "117751\n",
      "108983\n",
      "121975\n"
     ]
    },
    {
     "name": "stderr",
     "output_type": "stream",
     "text": [
      "  8%|██████████████████████▉                                                                                                                                                                                                                                                                        | 60/751 [01:43<20:28,  1.78s/it]"
     ]
    },
    {
     "name": "stdout",
     "output_type": "stream",
     "text": [
      "117367\n",
      "127543\n",
      "103543\n",
      "107959\n"
     ]
    },
    {
     "name": "stderr",
     "output_type": "stream",
     "text": [
      "  8%|███████████████████████▎                                                                                                                                                                                                                                                                       | 61/751 [01:45<22:53,  1.99s/it]"
     ]
    },
    {
     "name": "stdout",
     "output_type": "stream",
     "text": [
      "103031\n",
      "123575\n"
     ]
    },
    {
     "name": "stderr",
     "output_type": "stream",
     "text": [
      "  8%|███████████████████████▋                                                                                                                                                                                                                                                                       | 62/751 [01:46<20:00,  1.74s/it]"
     ]
    },
    {
     "name": "stdout",
     "output_type": "stream",
     "text": [
      "122743\n",
      "92215\n",
      "85367\n",
      "89975\n"
     ]
    },
    {
     "name": "stderr",
     "output_type": "stream",
     "text": [
      "  8%|████████████████████████                                                                                                                                                                                                                                                                       | 63/751 [01:48<20:22,  1.78s/it]"
     ]
    },
    {
     "name": "stdout",
     "output_type": "stream",
     "text": [
      "98167\n",
      "115767\n",
      "115831\n",
      "116727\n"
     ]
    },
    {
     "name": "stderr",
     "output_type": "stream",
     "text": [
      "  9%|████████████████████████▍                                                                                                                                                                                                                                                                      | 64/751 [01:50<21:55,  1.92s/it]"
     ]
    },
    {
     "name": "stdout",
     "output_type": "stream",
     "text": [
      "118775\n",
      "130999\n"
     ]
    },
    {
     "name": "stderr",
     "output_type": "stream",
     "text": [
      "  9%|████████████████████████▊                                                                                                                                                                                                                                                                      | 65/751 [01:52<20:06,  1.76s/it]"
     ]
    },
    {
     "name": "stdout",
     "output_type": "stream",
     "text": [
      "118391\n",
      "115959\n",
      "116343\n",
      "124791\n"
     ]
    },
    {
     "name": "stderr",
     "output_type": "stream",
     "text": [
      "  9%|█████████████████████████▏                                                                                                                                                                                                                                                                     | 66/751 [01:54<22:30,  1.97s/it]"
     ]
    },
    {
     "name": "stdout",
     "output_type": "stream",
     "text": [
      "114999\n",
      "121335\n",
      "124343\n",
      "124215\n"
     ]
    },
    {
     "name": "stderr",
     "output_type": "stream",
     "text": [
      "  9%|█████████████████████████▌                                                                                                                                                                                                                                                                     | 67/751 [01:56<22:46,  2.00s/it]"
     ]
    },
    {
     "name": "stdout",
     "output_type": "stream",
     "text": [
      "124983\n",
      "120567\n"
     ]
    },
    {
     "name": "stderr",
     "output_type": "stream",
     "text": [
      "  9%|█████████████████████████▉                                                                                                                                                                                                                                                                     | 68/751 [01:57<19:00,  1.67s/it]"
     ]
    },
    {
     "name": "stdout",
     "output_type": "stream",
     "text": [
      "90167\n",
      "129527\n",
      "123383\n",
      "137591\n"
     ]
    },
    {
     "name": "stderr",
     "output_type": "stream",
     "text": [
      "  9%|██████████████████████████▎                                                                                                                                                                                                                                                                    | 69/751 [01:59<21:10,  1.86s/it]"
     ]
    },
    {
     "name": "stdout",
     "output_type": "stream",
     "text": [
      "119415\n",
      "127031\n",
      "126967\n"
     ]
    },
    {
     "name": "stderr",
     "output_type": "stream",
     "text": [
      "  9%|██████████████████████████▊                                                                                                                                                                                                                                                                    | 70/751 [02:01<20:18,  1.79s/it]"
     ]
    },
    {
     "name": "stdout",
     "output_type": "stream",
     "text": [
      "131831\n",
      "123127\n",
      "127799\n"
     ]
    },
    {
     "name": "stderr",
     "output_type": "stream",
     "text": [
      "  9%|███████████████████████████▏                                                                                                                                                                                                                                                                   | 71/751 [02:03<19:58,  1.76s/it]"
     ]
    },
    {
     "name": "stdout",
     "output_type": "stream",
     "text": [
      "122999\n",
      "101431\n"
     ]
    },
    {
     "name": "stderr",
     "output_type": "stream",
     "text": [
      " 10%|███████████████████████████▌                                                                                                                                                                                                                                                                   | 72/751 [02:04<17:23,  1.54s/it]"
     ]
    },
    {
     "name": "stdout",
     "output_type": "stream",
     "text": [
      "91511\n",
      "99959\n",
      "111927\n",
      "112183\n"
     ]
    },
    {
     "name": "stderr",
     "output_type": "stream",
     "text": [
      " 10%|███████████████████████████▉                                                                                                                                                                                                                                                                   | 73/751 [02:06<20:24,  1.81s/it]"
     ]
    },
    {
     "name": "stdout",
     "output_type": "stream",
     "text": [
      "154615\n",
      "79991\n",
      "64375\n",
      "83127\n"
     ]
    },
    {
     "name": "stderr",
     "output_type": "stream",
     "text": [
      " 10%|████████████████████████████▎                                                                                                                                                                                                                                                                  | 74/751 [02:08<20:27,  1.81s/it]"
     ]
    },
    {
     "name": "stdout",
     "output_type": "stream",
     "text": [
      "89143\n"
     ]
    },
    {
     "name": "stderr",
     "output_type": "stream",
     "text": [
      " 10%|████████████████████████████▋                                                                                                                                                                                                                                                                  | 75/751 [02:08<15:35,  1.38s/it]"
     ]
    },
    {
     "name": "stdout",
     "output_type": "stream",
     "text": [
      "62711\n",
      "71799\n",
      "71351\n"
     ]
    },
    {
     "name": "stderr",
     "output_type": "stream",
     "text": [
      " 10%|█████████████████████████████                                                                                                                                                                                                                                                                  | 76/751 [02:10<15:08,  1.35s/it]"
     ]
    },
    {
     "name": "stdout",
     "output_type": "stream",
     "text": [
      "87159\n"
     ]
    },
    {
     "name": "stderr",
     "output_type": "stream",
     "text": [
      " 10%|█████████████████████████████▍                                                                                                                                                                                                                                                                 | 77/751 [02:10<12:15,  1.09s/it]"
     ]
    },
    {
     "name": "stdout",
     "output_type": "stream",
     "text": [
      "105143\n",
      "83959\n"
     ]
    },
    {
     "name": "stderr",
     "output_type": "stream",
     "text": [
      " 10%|█████████████████████████████▊                                                                                                                                                                                                                                                                 | 78/751 [02:11<11:39,  1.04s/it]"
     ]
    },
    {
     "name": "stdout",
     "output_type": "stream",
     "text": [
      "81911\n",
      "86007\n",
      "106999\n",
      "107767\n"
     ]
    },
    {
     "name": "stderr",
     "output_type": "stream",
     "text": [
      " 11%|██████████████████████████████▏                                                                                                                                                                                                                                                                | 79/751 [02:13<14:20,  1.28s/it]"
     ]
    },
    {
     "name": "stdout",
     "output_type": "stream",
     "text": [
      "65399\n"
     ]
    },
    {
     "name": "stderr",
     "output_type": "stream",
     "text": [
      " 11%|██████████████████████████████▌                                                                                                                                                                                                                                                                | 80/751 [02:13<11:11,  1.00s/it]"
     ]
    },
    {
     "name": "stdout",
     "output_type": "stream",
     "text": [
      "66359\n",
      "102327\n"
     ]
    },
    {
     "name": "stderr",
     "output_type": "stream",
     "text": [
      " 11%|██████████████████████████████▉                                                                                                                                                                                                                                                                | 81/751 [02:14<10:20,  1.08it/s]"
     ]
    },
    {
     "name": "stdout",
     "output_type": "stream",
     "text": [
      "68215\n",
      "62775\n"
     ]
    },
    {
     "name": "stderr",
     "output_type": "stream",
     "text": [
      " 11%|███████████████████████████████▎                                                                                                                                                                                                                                                               | 82/751 [02:15<09:10,  1.22it/s]"
     ]
    },
    {
     "name": "stdout",
     "output_type": "stream",
     "text": [
      "54967\n",
      "80375\n",
      "76599\n",
      "90743\n"
     ]
    },
    {
     "name": "stderr",
     "output_type": "stream",
     "text": [
      " 11%|███████████████████████████████▋                                                                                                                                                                                                                                                               | 83/751 [02:16<10:13,  1.09it/s]"
     ]
    },
    {
     "name": "stdout",
     "output_type": "stream",
     "text": [
      "71415\n",
      "30199\n"
     ]
    },
    {
     "name": "stderr",
     "output_type": "stream",
     "text": [
      " 11%|████████████████████████████████                                                                                                                                                                                                                                                               | 84/751 [02:16<08:56,  1.24it/s]"
     ]
    },
    {
     "name": "stdout",
     "output_type": "stream",
     "text": [
      "57911\n",
      "77559\n",
      "89143\n",
      "78583\n"
     ]
    },
    {
     "name": "stderr",
     "output_type": "stream",
     "text": [
      " 11%|████████████████████████████████▍                                                                                                                                                                                                                                                              | 85/751 [02:18<10:10,  1.09it/s]"
     ]
    },
    {
     "name": "stdout",
     "output_type": "stream",
     "text": [
      "61943\n",
      "116727\n",
      "80567\n",
      "67447\n"
     ]
    },
    {
     "name": "stderr",
     "output_type": "stream",
     "text": [
      " 11%|████████████████████████████████▊                                                                                                                                                                                                                                                              | 86/751 [02:19<12:23,  1.12s/it]"
     ]
    },
    {
     "name": "stdout",
     "output_type": "stream",
     "text": [
      "51959\n",
      "62391\n",
      "65527\n",
      "69559\n"
     ]
    },
    {
     "name": "stderr",
     "output_type": "stream",
     "text": [
      " 12%|█████████████████████████████████▏                                                                                                                                                                                                                                                             | 87/751 [02:20<12:56,  1.17s/it]"
     ]
    },
    {
     "name": "stdout",
     "output_type": "stream",
     "text": [
      "46711\n",
      "142327\n",
      "124983\n",
      "133175\n"
     ]
    },
    {
     "name": "stderr",
     "output_type": "stream",
     "text": [
      " 12%|█████████████████████████████████▋                                                                                                                                                                                                                                                             | 88/751 [02:23<17:07,  1.55s/it]"
     ]
    },
    {
     "name": "stdout",
     "output_type": "stream",
     "text": [
      "127543\n",
      "131575\n",
      "133751\n"
     ]
    },
    {
     "name": "stderr",
     "output_type": "stream",
     "text": [
      " 12%|██████████████████████████████████                                                                                                                                                                                                                                                             | 89/751 [02:25<18:26,  1.67s/it]"
     ]
    },
    {
     "name": "stdout",
     "output_type": "stream",
     "text": [
      "163127\n",
      "123127\n",
      "122359\n",
      "120759\n"
     ]
    },
    {
     "name": "stderr",
     "output_type": "stream",
     "text": [
      " 12%|██████████████████████████████████▍                                                                                                                                                                                                                                                            | 90/751 [02:27<20:24,  1.85s/it]"
     ]
    },
    {
     "name": "stdout",
     "output_type": "stream",
     "text": [
      "146167\n",
      "59767\n",
      "47799\n",
      "42231\n"
     ]
    },
    {
     "name": "stderr",
     "output_type": "stream",
     "text": [
      " 12%|██████████████████████████████████▊                                                                                                                                                                                                                                                            | 91/751 [02:28<18:31,  1.68s/it]"
     ]
    },
    {
     "name": "stdout",
     "output_type": "stream",
     "text": [
      "78199\n",
      "124343\n",
      "129591\n"
     ]
    },
    {
     "name": "stderr",
     "output_type": "stream",
     "text": [
      " 12%|███████████████████████████████████▏                                                                                                                                                                                                                                                           | 92/751 [02:30<19:12,  1.75s/it]"
     ]
    },
    {
     "name": "stdout",
     "output_type": "stream",
     "text": [
      "121143\n"
     ]
    },
    {
     "name": "stderr",
     "output_type": "stream",
     "text": [
      " 12%|███████████████████████████████████▌                                                                                                                                                                                                                                                           | 93/751 [02:31<15:01,  1.37s/it]"
     ]
    },
    {
     "name": "stdout",
     "output_type": "stream",
     "text": [
      "92599\n",
      "139127\n",
      "127927\n",
      "102327\n"
     ]
    },
    {
     "name": "stderr",
     "output_type": "stream",
     "text": [
      " 13%|███████████████████████████████████▉                                                                                                                                                                                                                                                           | 94/751 [02:33<17:18,  1.58s/it]"
     ]
    },
    {
     "name": "stdout",
     "output_type": "stream",
     "text": [
      "109175\n",
      "120183\n",
      "119991\n",
      "118711\n"
     ]
    },
    {
     "name": "stderr",
     "output_type": "stream",
     "text": [
      " 13%|████████████████████████████████████▎                                                                                                                                                                                                                                                          | 95/751 [02:35<18:28,  1.69s/it]"
     ]
    },
    {
     "name": "stdout",
     "output_type": "stream",
     "text": [
      "112247\n"
     ]
    },
    {
     "name": "stderr",
     "output_type": "stream",
     "text": [
      " 13%|████████████████████████████████████▋                                                                                                                                                                                                                                                          | 96/751 [02:35<13:57,  1.28s/it]"
     ]
    },
    {
     "name": "stdout",
     "output_type": "stream",
     "text": [
      "74807\n",
      "70583\n",
      "45559\n",
      "56759\n"
     ]
    },
    {
     "name": "stderr",
     "output_type": "stream",
     "text": [
      " 13%|█████████████████████████████████████                                                                                                                                                                                                                                                          | 97/751 [02:36<12:54,  1.18s/it]"
     ]
    },
    {
     "name": "stdout",
     "output_type": "stream",
     "text": [
      "41527\n",
      "121015\n",
      "120759\n",
      "122231\n"
     ]
    },
    {
     "name": "stderr",
     "output_type": "stream",
     "text": [
      " 13%|█████████████████████████████████████▍                                                                                                                                                                                                                                                         | 98/751 [02:38<16:39,  1.53s/it]"
     ]
    },
    {
     "name": "stdout",
     "output_type": "stream",
     "text": [
      "118583\n",
      "139959\n",
      "121399\n",
      "122551\n"
     ]
    },
    {
     "name": "stderr",
     "output_type": "stream",
     "text": [
      " 13%|█████████████████████████████████████▊                                                                                                                                                                                                                                                         | 99/751 [02:41<19:59,  1.84s/it]"
     ]
    },
    {
     "name": "stdout",
     "output_type": "stream",
     "text": [
      "119159\n",
      "76791\n"
     ]
    },
    {
     "name": "stderr",
     "output_type": "stream",
     "text": [
      " 13%|██████████████████████████████████████                                                                                                                                                                                                                                                        | 100/751 [02:42<16:48,  1.55s/it]"
     ]
    },
    {
     "name": "stdout",
     "output_type": "stream",
     "text": [
      "97591\n",
      "118647\n",
      "122615\n",
      "120759\n"
     ]
    },
    {
     "name": "stderr",
     "output_type": "stream",
     "text": [
      " 13%|██████████████████████████████████████▍                                                                                                                                                                                                                                                       | 101/751 [02:44<19:43,  1.82s/it]"
     ]
    },
    {
     "name": "stdout",
     "output_type": "stream",
     "text": [
      "125367\n",
      "121015\n"
     ]
    },
    {
     "name": "stderr",
     "output_type": "stream",
     "text": [
      " 14%|██████████████████████████████████████▊                                                                                                                                                                                                                                                       | 102/751 [02:45<17:29,  1.62s/it]"
     ]
    },
    {
     "name": "stdout",
     "output_type": "stream",
     "text": [
      "123831\n",
      "122231\n",
      "121143\n",
      "121783\n"
     ]
    },
    {
     "name": "stderr",
     "output_type": "stream",
     "text": [
      " 14%|███████████████████████████████████████▏                                                                                                                                                                                                                                                      | 103/751 [02:48<20:28,  1.90s/it]"
     ]
    },
    {
     "name": "stdout",
     "output_type": "stream",
     "text": [
      "144759\n",
      "70071\n",
      "61175\n"
     ]
    },
    {
     "name": "stderr",
     "output_type": "stream",
     "text": [
      " 14%|███████████████████████████████████████▌                                                                                                                                                                                                                                                      | 104/751 [02:49<18:30,  1.72s/it]"
     ]
    },
    {
     "name": "stdout",
     "output_type": "stream",
     "text": [
      "87031\n",
      "73143\n",
      "58807\n"
     ]
    },
    {
     "name": "stderr",
     "output_type": "stream",
     "text": [
      " 14%|███████████████████████████████████████▉                                                                                                                                                                                                                                                      | 105/751 [02:50<16:45,  1.56s/it]"
     ]
    },
    {
     "name": "stdout",
     "output_type": "stream",
     "text": [
      "53431\n",
      "151159\n"
     ]
    },
    {
     "name": "stderr",
     "output_type": "stream",
     "text": [
      " 14%|████████████████████████████████████████▎                                                                                                                                                                                                                                                     | 106/751 [02:52<17:08,  1.59s/it]"
     ]
    },
    {
     "name": "stdout",
     "output_type": "stream",
     "text": [
      "151415\n",
      "124599\n"
     ]
    },
    {
     "name": "stderr",
     "output_type": "stream",
     "text": [
      " 14%|████████████████████████████████████████▋                                                                                                                                                                                                                                                     | 107/751 [02:53<16:02,  1.50s/it]"
     ]
    },
    {
     "name": "stdout",
     "output_type": "stream",
     "text": [
      "127607\n",
      "108599\n",
      "98359\n"
     ]
    },
    {
     "name": "stderr",
     "output_type": "stream",
     "text": [
      " 14%|█████████████████████████████████████████▏                                                                                                                                                                                                                                                    | 108/751 [02:55<16:04,  1.50s/it]"
     ]
    },
    {
     "name": "stdout",
     "output_type": "stream",
     "text": [
      "153975\n",
      "129399\n",
      "125943\n"
     ]
    },
    {
     "name": "stderr",
     "output_type": "stream",
     "text": [
      " 15%|█████████████████████████████████████████▌                                                                                                                                                                                                                                                    | 109/751 [02:57<16:33,  1.55s/it]"
     ]
    },
    {
     "name": "stdout",
     "output_type": "stream",
     "text": [
      "199927\n",
      "185015\n",
      "141175\n"
     ]
    },
    {
     "name": "stderr",
     "output_type": "stream",
     "text": [
      " 15%|█████████████████████████████████████████▉                                                                                                                                                                                                                                                    | 110/751 [02:58<17:29,  1.64s/it]"
     ]
    },
    {
     "name": "stdout",
     "output_type": "stream",
     "text": [
      "135799\n",
      "94583\n",
      "83959\n",
      "84151\n"
     ]
    },
    {
     "name": "stderr",
     "output_type": "stream",
     "text": [
      " 15%|██████████████████████████████████████████▎                                                                                                                                                                                                                                                   | 111/751 [03:00<17:15,  1.62s/it]"
     ]
    },
    {
     "name": "stdout",
     "output_type": "stream",
     "text": [
      "87799\n",
      "124791\n",
      "124343\n",
      "120567\n"
     ]
    },
    {
     "name": "stderr",
     "output_type": "stream",
     "text": [
      " 15%|██████████████████████████████████████████▋                                                                                                                                                                                                                                                   | 112/751 [03:02<17:54,  1.68s/it]"
     ]
    },
    {
     "name": "stdout",
     "output_type": "stream",
     "text": [
      "120375\n",
      "65527\n",
      "82999\n"
     ]
    },
    {
     "name": "stderr",
     "output_type": "stream",
     "text": [
      " 15%|███████████████████████████████████████████                                                                                                                                                                                                                                                   | 113/751 [03:03<16:22,  1.54s/it]"
     ]
    },
    {
     "name": "stdout",
     "output_type": "stream",
     "text": [
      "98359\n",
      "122167\n",
      "123191\n",
      "131575\n"
     ]
    },
    {
     "name": "stderr",
     "output_type": "stream",
     "text": [
      " 15%|███████████████████████████████████████████▍                                                                                                                                                                                                                                                  | 114/751 [03:05<17:57,  1.69s/it]"
     ]
    },
    {
     "name": "stdout",
     "output_type": "stream",
     "text": [
      "133175\n",
      "121911\n"
     ]
    },
    {
     "name": "stderr",
     "output_type": "stream",
     "text": [
      " 15%|███████████████████████████████████████████▊                                                                                                                                                                                                                                                  | 115/751 [03:06<15:18,  1.44s/it]"
     ]
    },
    {
     "name": "stdout",
     "output_type": "stream",
     "text": [
      "136631\n",
      "120951\n",
      "118967\n",
      "122615\n"
     ]
    },
    {
     "name": "stderr",
     "output_type": "stream",
     "text": [
      " 15%|████████████████████████████████████████████▏                                                                                                                                                                                                                                                 | 116/751 [03:08<16:52,  1.59s/it]"
     ]
    },
    {
     "name": "stdout",
     "output_type": "stream",
     "text": [
      "122999\n",
      "138231\n",
      "125367\n"
     ]
    },
    {
     "name": "stderr",
     "output_type": "stream",
     "text": [
      " 16%|████████████████████████████████████████████▌                                                                                                                                                                                                                                                 | 117/751 [03:10<17:13,  1.63s/it]"
     ]
    },
    {
     "name": "stdout",
     "output_type": "stream",
     "text": [
      "124983\n",
      "118327\n",
      "117751\n",
      "119159\n"
     ]
    },
    {
     "name": "stderr",
     "output_type": "stream",
     "text": [
      " 16%|████████████████████████████████████████████▉                                                                                                                                                                                                                                                 | 118/751 [03:12<18:53,  1.79s/it]"
     ]
    },
    {
     "name": "stdout",
     "output_type": "stream",
     "text": [
      "123127\n",
      "100791\n",
      "101815\n",
      "112759\n"
     ]
    },
    {
     "name": "stderr",
     "output_type": "stream",
     "text": [
      " 16%|█████████████████████████████████████████████▎                                                                                                                                                                                                                                                | 119/751 [03:14<19:59,  1.90s/it]"
     ]
    },
    {
     "name": "stdout",
     "output_type": "stream",
     "text": [
      "113399\n"
     ]
    },
    {
     "name": "stderr",
     "output_type": "stream",
     "text": [
      " 16%|█████████████████████████████████████████████▋                                                                                                                                                                                                                                                | 120/751 [03:14<15:31,  1.48s/it]"
     ]
    },
    {
     "name": "stdout",
     "output_type": "stream",
     "text": [
      "102967\n",
      "109559\n",
      "117815\n",
      "118199\n"
     ]
    },
    {
     "name": "stderr",
     "output_type": "stream",
     "text": [
      " 16%|██████████████████████████████████████████████                                                                                                                                                                                                                                                | 121/751 [03:17<18:18,  1.74s/it]"
     ]
    },
    {
     "name": "stdout",
     "output_type": "stream",
     "text": [
      "115575\n",
      "113591\n",
      "106359\n",
      "94967\n"
     ]
    },
    {
     "name": "stderr",
     "output_type": "stream",
     "text": [
      " 16%|██████████████████████████████████████████████▍                                                                                                                                                                                                                                               | 122/751 [03:19<18:46,  1.79s/it]"
     ]
    },
    {
     "name": "stdout",
     "output_type": "stream",
     "text": [
      "109815\n",
      "63351\n",
      "79543\n",
      "78967\n"
     ]
    },
    {
     "name": "stderr",
     "output_type": "stream",
     "text": [
      " 16%|██████████████████████████████████████████████▊                                                                                                                                                                                                                                               | 123/751 [03:20<18:14,  1.74s/it]"
     ]
    },
    {
     "name": "stdout",
     "output_type": "stream",
     "text": [
      "91831\n",
      "98743\n",
      "105527\n"
     ]
    },
    {
     "name": "stderr",
     "output_type": "stream",
     "text": [
      " 17%|███████████████████████████████████████████████▏                                                                                                                                                                                                                                              | 124/751 [03:21<16:24,  1.57s/it]"
     ]
    },
    {
     "name": "stdout",
     "output_type": "stream",
     "text": [
      "113143\n",
      "118583\n",
      "105783\n",
      "110583\n"
     ]
    },
    {
     "name": "stderr",
     "output_type": "stream",
     "text": [
      " 17%|███████████████████████████████████████████████▌                                                                                                                                                                                                                                              | 125/751 [03:24<17:55,  1.72s/it]"
     ]
    },
    {
     "name": "stdout",
     "output_type": "stream",
     "text": [
      "116215\n",
      "129591\n",
      "128567\n"
     ]
    },
    {
     "name": "stderr",
     "output_type": "stream",
     "text": [
      " 17%|███████████████████████████████████████████████▉                                                                                                                                                                                                                                              | 126/751 [03:25<18:06,  1.74s/it]"
     ]
    },
    {
     "name": "stdout",
     "output_type": "stream",
     "text": [
      "124343\n",
      "113207\n",
      "102007\n",
      "114231\n"
     ]
    },
    {
     "name": "stderr",
     "output_type": "stream",
     "text": [
      " 17%|████████████████████████████████████████████████▎                                                                                                                                                                                                                                             | 127/751 [03:28<20:03,  1.93s/it]"
     ]
    },
    {
     "name": "stdout",
     "output_type": "stream",
     "text": [
      "112759\n",
      "115959\n",
      "119991\n"
     ]
    },
    {
     "name": "stderr",
     "output_type": "stream",
     "text": [
      " 17%|████████████████████████████████████████████████▋                                                                                                                                                                                                                                             | 128/751 [03:29<18:30,  1.78s/it]"
     ]
    },
    {
     "name": "stdout",
     "output_type": "stream",
     "text": [
      "116599\n",
      "131383\n"
     ]
    },
    {
     "name": "stderr",
     "output_type": "stream",
     "text": [
      " 17%|█████████████████████████████████████████████████▏                                                                                                                                                                                                                                            | 129/751 [03:30<17:09,  1.65s/it]"
     ]
    },
    {
     "name": "stdout",
     "output_type": "stream",
     "text": [
      "155127\n",
      "111543\n",
      "101559\n",
      "104311\n"
     ]
    },
    {
     "name": "stderr",
     "output_type": "stream",
     "text": [
      " 17%|█████████████████████████████████████████████████▌                                                                                                                                                                                                                                            | 130/751 [03:33<18:33,  1.79s/it]"
     ]
    },
    {
     "name": "stdout",
     "output_type": "stream",
     "text": [
      "113015\n",
      "124215\n",
      "118775\n",
      "117367\n"
     ]
    },
    {
     "name": "stderr",
     "output_type": "stream",
     "text": [
      " 17%|█████████████████████████████████████████████████▉                                                                                                                                                                                                                                            | 131/751 [03:35<19:52,  1.92s/it]"
     ]
    },
    {
     "name": "stdout",
     "output_type": "stream",
     "text": [
      "121591\n",
      "125047\n",
      "127543\n",
      "123383\n"
     ]
    },
    {
     "name": "stderr",
     "output_type": "stream",
     "text": [
      " 18%|██████████████████████████████████████████████████▎                                                                                                                                                                                                                                           | 132/751 [03:37<21:18,  2.06s/it]"
     ]
    },
    {
     "name": "stdout",
     "output_type": "stream",
     "text": [
      "122807\n",
      "76151\n",
      "90359\n",
      "112759\n"
     ]
    },
    {
     "name": "stderr",
     "output_type": "stream",
     "text": [
      " 18%|██████████████████████████████████████████████████▋                                                                                                                                                                                                                                           | 133/751 [03:39<21:50,  2.12s/it]"
     ]
    },
    {
     "name": "stdout",
     "output_type": "stream",
     "text": [
      "129015\n",
      "117047\n",
      "115191\n",
      "120183\n",
      "131959\n",
      "114231\n"
     ]
    },
    {
     "name": "stderr",
     "output_type": "stream",
     "text": [
      " 18%|███████████████████████████████████████████████████                                                                                                                                                                                                                                           | 134/751 [03:43<25:38,  2.49s/it]"
     ]
    },
    {
     "name": "stdout",
     "output_type": "stream",
     "text": [
      "113399\n",
      "111799\n",
      "111799\n",
      "113591\n"
     ]
    },
    {
     "name": "stderr",
     "output_type": "stream",
     "text": [
      " 18%|███████████████████████████████████████████████████▍                                                                                                                                                                                                                                          | 135/751 [03:45<25:21,  2.47s/it]"
     ]
    },
    {
     "name": "stdout",
     "output_type": "stream",
     "text": [
      "115959\n",
      "114743\n",
      "118391\n"
     ]
    },
    {
     "name": "stderr",
     "output_type": "stream",
     "text": [
      " 18%|███████████████████████████████████████████████████▊                                                                                                                                                                                                                                          | 136/751 [03:47<22:50,  2.23s/it]"
     ]
    },
    {
     "name": "stdout",
     "output_type": "stream",
     "text": [
      "116727\n",
      "116343\n",
      "114743\n"
     ]
    },
    {
     "name": "stderr",
     "output_type": "stream",
     "text": [
      " 18%|████████████████████████████████████████████████████▏                                                                                                                                                                                                                                         | 137/751 [03:48<20:35,  2.01s/it]"
     ]
    },
    {
     "name": "stdout",
     "output_type": "stream",
     "text": [
      "118775\n"
     ]
    },
    {
     "name": "stderr",
     "output_type": "stream",
     "text": [
      " 18%|████████████████████████████████████████████████████▌                                                                                                                                                                                                                                         | 138/751 [03:49<16:35,  1.62s/it]"
     ]
    },
    {
     "name": "stdout",
     "output_type": "stream",
     "text": [
      "125559\n",
      "127159\n"
     ]
    },
    {
     "name": "stderr",
     "output_type": "stream",
     "text": [
      " 19%|████████████████████████████████████████████████████▉                                                                                                                                                                                                                                         | 139/751 [03:51<16:10,  1.59s/it]"
     ]
    },
    {
     "name": "stdout",
     "output_type": "stream",
     "text": [
      "150583\n",
      "111991\n",
      "113143\n"
     ]
    },
    {
     "name": "stderr",
     "output_type": "stream",
     "text": [
      " 19%|█████████████████████████████████████████████████████▎                                                                                                                                                                                                                                        | 140/751 [03:52<16:42,  1.64s/it]"
     ]
    },
    {
     "name": "stdout",
     "output_type": "stream",
     "text": [
      "116983\n"
     ]
    },
    {
     "name": "stderr",
     "output_type": "stream",
     "text": [
      " 19%|█████████████████████████████████████████████████████▋                                                                                                                                                                                                                                        | 141/751 [03:53<14:03,  1.38s/it]"
     ]
    },
    {
     "name": "stdout",
     "output_type": "stream",
     "text": [
      "137399\n",
      "110967\n",
      "119159\n"
     ]
    },
    {
     "name": "stderr",
     "output_type": "stream",
     "text": [
      " 19%|██████████████████████████████████████████████████████                                                                                                                                                                                                                                        | 142/751 [03:55<14:47,  1.46s/it]"
     ]
    },
    {
     "name": "stdout",
     "output_type": "stream",
     "text": [
      "82999\n",
      "115895\n",
      "83575\n",
      "97527\n"
     ]
    },
    {
     "name": "stderr",
     "output_type": "stream",
     "text": [
      " 19%|██████████████████████████████████████████████████████▍                                                                                                                                                                                                                                       | 143/751 [03:57<16:20,  1.61s/it]"
     ]
    },
    {
     "name": "stdout",
     "output_type": "stream",
     "text": [
      "119159\n",
      "106615\n",
      "79031\n",
      "80375\n"
     ]
    },
    {
     "name": "stderr",
     "output_type": "stream",
     "text": [
      " 19%|██████████████████████████████████████████████████████▊                                                                                                                                                                                                                                       | 144/751 [03:59<17:36,  1.74s/it]"
     ]
    },
    {
     "name": "stdout",
     "output_type": "stream",
     "text": [
      "121527\n",
      "112567\n",
      "115191\n",
      "113847\n"
     ]
    },
    {
     "name": "stderr",
     "output_type": "stream",
     "text": [
      " 19%|███████████████████████████████████████████████████████▏                                                                                                                                                                                                                                      | 145/751 [04:01<18:10,  1.80s/it]"
     ]
    },
    {
     "name": "stdout",
     "output_type": "stream",
     "text": [
      "118967\n",
      "67959\n",
      "89399\n",
      "79159\n"
     ]
    },
    {
     "name": "stderr",
     "output_type": "stream",
     "text": [
      " 19%|███████████████████████████████████████████████████████▌                                                                                                                                                                                                                                      | 146/751 [04:02<16:49,  1.67s/it]"
     ]
    },
    {
     "name": "stdout",
     "output_type": "stream",
     "text": [
      "83575\n"
     ]
    },
    {
     "name": "stderr",
     "output_type": "stream",
     "text": [
      " 20%|███████████████████████████████████████████████████████▉                                                                                                                                                                                                                                      | 147/751 [04:03<13:29,  1.34s/it]"
     ]
    },
    {
     "name": "stdout",
     "output_type": "stream",
     "text": [
      "134391\n",
      "131959\n"
     ]
    },
    {
     "name": "stderr",
     "output_type": "stream",
     "text": [
      " 20%|████████████████████████████████████████████████████████▎                                                                                                                                                                                                                                     | 148/751 [04:04<13:21,  1.33s/it]"
     ]
    },
    {
     "name": "stdout",
     "output_type": "stream",
     "text": [
      "128759\n",
      "110711\n",
      "115191\n"
     ]
    },
    {
     "name": "stderr",
     "output_type": "stream",
     "text": [
      " 20%|████████████████████████████████████████████████████████▋                                                                                                                                                                                                                                     | 149/751 [04:06<14:22,  1.43s/it]"
     ]
    },
    {
     "name": "stdout",
     "output_type": "stream",
     "text": [
      "117175\n",
      "121399\n"
     ]
    },
    {
     "name": "stderr",
     "output_type": "stream",
     "text": [
      " 20%|█████████████████████████████████████████████████████████                                                                                                                                                                                                                                     | 150/751 [04:07<13:54,  1.39s/it]"
     ]
    },
    {
     "name": "stdout",
     "output_type": "stream",
     "text": [
      "123575\n"
     ]
    },
    {
     "name": "stderr",
     "output_type": "stream",
     "text": [
      " 20%|█████████████████████████████████████████████████████████▌                                                                                                                                                                                                                                    | 151/751 [04:08<11:40,  1.17s/it]"
     ]
    },
    {
     "name": "stdout",
     "output_type": "stream",
     "text": [
      "120375\n",
      "147959\n"
     ]
    },
    {
     "name": "stderr",
     "output_type": "stream",
     "text": [
      " 20%|█████████████████████████████████████████████████████████▉                                                                                                                                                                                                                                    | 152/751 [04:09<12:01,  1.20s/it]"
     ]
    },
    {
     "name": "stdout",
     "output_type": "stream",
     "text": [
      "119607\n"
     ]
    },
    {
     "name": "stderr",
     "output_type": "stream",
     "text": [
      " 20%|██████████████████████████████████████████████████████████▎                                                                                                                                                                                                                                   | 153/751 [04:10<10:37,  1.07s/it]"
     ]
    },
    {
     "name": "stdout",
     "output_type": "stream",
     "text": [
      "154039\n",
      "35383\n"
     ]
    },
    {
     "name": "stderr",
     "output_type": "stream",
     "text": [
      " 21%|██████████████████████████████████████████████████████████▋                                                                                                                                                                                                                                   | 154/751 [04:11<11:50,  1.19s/it]"
     ]
    },
    {
     "name": "stdout",
     "output_type": "stream",
     "text": [
      "247351\n",
      "110391\n",
      "108343\n",
      "126327\n"
     ]
    },
    {
     "name": "stderr",
     "output_type": "stream",
     "text": [
      " 21%|███████████████████████████████████████████████████████████                                                                                                                                                                                                                                   | 155/751 [04:13<15:21,  1.55s/it]"
     ]
    },
    {
     "name": "stdout",
     "output_type": "stream",
     "text": [
      "118007\n"
     ]
    },
    {
     "name": "stderr",
     "output_type": "stream",
     "text": [
      " 21%|███████████████████████████████████████████████████████████▍                                                                                                                                                                                                                                  | 156/751 [04:14<12:12,  1.23s/it]"
     ]
    },
    {
     "name": "stdout",
     "output_type": "stream",
     "text": [
      "100343\n",
      "147959\n"
     ]
    },
    {
     "name": "stderr",
     "output_type": "stream",
     "text": [
      " 21%|███████████████████████████████████████████████████████████▊                                                                                                                                                                                                                                  | 157/751 [04:15<11:26,  1.16s/it]"
     ]
    },
    {
     "name": "stdout",
     "output_type": "stream",
     "text": [
      "136183\n",
      "122999\n"
     ]
    },
    {
     "name": "stderr",
     "output_type": "stream",
     "text": [
      " 21%|████████████████████████████████████████████████████████████▏                                                                                                                                                                                                                                 | 158/751 [04:16<11:44,  1.19s/it]"
     ]
    },
    {
     "name": "stdout",
     "output_type": "stream",
     "text": [
      "177015\n",
      "114359\n",
      "116599\n"
     ]
    },
    {
     "name": "stderr",
     "output_type": "stream",
     "text": [
      " 21%|████████████████████████████████████████████████████████████▌                                                                                                                                                                                                                                 | 159/751 [04:18<12:17,  1.25s/it]"
     ]
    },
    {
     "name": "stdout",
     "output_type": "stream",
     "text": [
      "115767\n",
      "76791\n",
      "103927\n"
     ]
    },
    {
     "name": "stderr",
     "output_type": "stream",
     "text": [
      " 21%|████████████████████████████████████████████████████████████▉                                                                                                                                                                                                                                 | 160/751 [04:19<13:13,  1.34s/it]"
     ]
    },
    {
     "name": "stdout",
     "output_type": "stream",
     "text": [
      "101559\n",
      "114743\n",
      "105015\n"
     ]
    },
    {
     "name": "stderr",
     "output_type": "stream",
     "text": [
      " 21%|█████████████████████████████████████████████████████████████▎                                                                                                                                                                                                                                | 161/751 [04:21<14:36,  1.49s/it]"
     ]
    },
    {
     "name": "stdout",
     "output_type": "stream",
     "text": [
      "119159\n"
     ]
    },
    {
     "name": "stderr",
     "output_type": "stream",
     "text": [
      " 22%|█████████████████████████████████████████████████████████████▋                                                                                                                                                                                                                                | 162/751 [04:22<12:25,  1.27s/it]"
     ]
    },
    {
     "name": "stdout",
     "output_type": "stream",
     "text": [
      "163191\n",
      "69111\n",
      "41143\n",
      "59575\n"
     ]
    },
    {
     "name": "stderr",
     "output_type": "stream",
     "text": [
      " 22%|██████████████████████████████████████████████████████████████                                                                                                                                                                                                                                | 163/751 [04:23<11:59,  1.22s/it]"
     ]
    },
    {
     "name": "stdout",
     "output_type": "stream",
     "text": [
      "58999\n",
      "123959\n",
      "67575\n"
     ]
    },
    {
     "name": "stderr",
     "output_type": "stream",
     "text": [
      " 22%|██████████████████████████████████████████████████████████████▍                                                                                                                                                                                                                               | 164/751 [04:24<12:33,  1.28s/it]"
     ]
    },
    {
     "name": "stdout",
     "output_type": "stream",
     "text": [
      "148983\n",
      "91127\n",
      "81911\n"
     ]
    },
    {
     "name": "stderr",
     "output_type": "stream",
     "text": [
      " 22%|██████████████████████████████████████████████████████████████▊                                                                                                                                                                                                                               | 165/751 [04:26<12:42,  1.30s/it]"
     ]
    },
    {
     "name": "stdout",
     "output_type": "stream",
     "text": [
      "77559\n",
      "118583\n"
     ]
    },
    {
     "name": "stderr",
     "output_type": "stream",
     "text": [
      " 22%|███████████████████████████████████████████████████████████████▏                                                                                                                                                                                                                              | 166/751 [04:27<12:09,  1.25s/it]"
     ]
    },
    {
     "name": "stdout",
     "output_type": "stream",
     "text": [
      "117943\n",
      "116343\n",
      "105975\n",
      "126391\n"
     ]
    },
    {
     "name": "stderr",
     "output_type": "stream",
     "text": [
      " 22%|███████████████████████████████████████████████████████████████▌                                                                                                                                                                                                                              | 167/751 [04:29<14:55,  1.53s/it]"
     ]
    },
    {
     "name": "stdout",
     "output_type": "stream",
     "text": [
      "132599\n",
      "127543\n",
      "122743\n",
      "122999\n",
      "22711\n"
     ]
    },
    {
     "name": "stderr",
     "output_type": "stream",
     "text": [
      " 22%|███████████████████████████████████████████████████████████████▉                                                                                                                                                                                                                              | 168/751 [04:32<18:45,  1.93s/it]"
     ]
    },
    {
     "name": "stdout",
     "output_type": "stream",
     "text": [
      "105975\n",
      "124983\n"
     ]
    },
    {
     "name": "stderr",
     "output_type": "stream",
     "text": [
      " 23%|████████████████████████████████████████████████████████████████▎                                                                                                                                                                                                                             | 169/751 [04:33<16:33,  1.71s/it]"
     ]
    },
    {
     "name": "stdout",
     "output_type": "stream",
     "text": [
      "127159\n",
      "119799\n"
     ]
    },
    {
     "name": "stderr",
     "output_type": "stream",
     "text": [
      " 23%|████████████████████████████████████████████████████████████████▋                                                                                                                                                                                                                             | 170/751 [04:34<15:08,  1.56s/it]"
     ]
    },
    {
     "name": "stdout",
     "output_type": "stream",
     "text": [
      "140599\n",
      "137143\n"
     ]
    },
    {
     "name": "stderr",
     "output_type": "stream",
     "text": [
      " 23%|█████████████████████████████████████████████████████████████████                                                                                                                                                                                                                             | 171/751 [04:36<14:14,  1.47s/it]"
     ]
    },
    {
     "name": "stdout",
     "output_type": "stream",
     "text": [
      "141943\n",
      "128183\n"
     ]
    },
    {
     "name": "stderr",
     "output_type": "stream",
     "text": [
      " 23%|█████████████████████████████████████████████████████████████████▌                                                                                                                                                                                                                            | 172/751 [04:37<13:45,  1.43s/it]"
     ]
    },
    {
     "name": "stdout",
     "output_type": "stream",
     "text": [
      "139959\n",
      "131383\n",
      "112631\n",
      "153207\n"
     ]
    },
    {
     "name": "stderr",
     "output_type": "stream",
     "text": [
      " 23%|█████████████████████████████████████████████████████████████████▉                                                                                                                                                                                                                            | 173/751 [04:39<15:03,  1.56s/it]"
     ]
    },
    {
     "name": "stdout",
     "output_type": "stream",
     "text": [
      "125175\n",
      "125175\n"
     ]
    },
    {
     "name": "stderr",
     "output_type": "stream",
     "text": [
      " 23%|██████████████████████████████████████████████████████████████████▎                                                                                                                                                                                                                           | 174/751 [04:40<13:27,  1.40s/it]"
     ]
    },
    {
     "name": "stdout",
     "output_type": "stream",
     "text": [
      "154743\n",
      "95415\n",
      "79223\n",
      "91959\n"
     ]
    },
    {
     "name": "stderr",
     "output_type": "stream",
     "text": [
      " 23%|██████████████████████████████████████████████████████████████████▋                                                                                                                                                                                                                           | 175/751 [04:41<13:26,  1.40s/it]"
     ]
    },
    {
     "name": "stdout",
     "output_type": "stream",
     "text": [
      "78327\n",
      "117559\n",
      "110775\n",
      "118199\n"
     ]
    },
    {
     "name": "stderr",
     "output_type": "stream",
     "text": [
      " 23%|███████████████████████████████████████████████████████████████████                                                                                                                                                                                                                           | 176/751 [04:43<14:50,  1.55s/it]"
     ]
    },
    {
     "name": "stdout",
     "output_type": "stream",
     "text": [
      "161527\n",
      "125751\n",
      "123511\n",
      "122615\n"
     ]
    },
    {
     "name": "stderr",
     "output_type": "stream",
     "text": [
      " 24%|███████████████████████████████████████████████████████████████████▍                                                                                                                                                                                                                          | 177/751 [04:45<16:05,  1.68s/it]"
     ]
    },
    {
     "name": "stdout",
     "output_type": "stream",
     "text": [
      "121591\n",
      "118199\n",
      "120759\n",
      "119031\n"
     ]
    },
    {
     "name": "stderr",
     "output_type": "stream",
     "text": [
      " 24%|███████████████████████████████████████████████████████████████████▊                                                                                                                                                                                                                          | 178/751 [04:47<17:39,  1.85s/it]"
     ]
    },
    {
     "name": "stdout",
     "output_type": "stream",
     "text": [
      "122743\n",
      "69815\n",
      "76343\n",
      "82551\n"
     ]
    },
    {
     "name": "stderr",
     "output_type": "stream",
     "text": [
      " 24%|████████████████████████████████████████████████████████████████████▏                                                                                                                                                                                                                         | 179/751 [04:49<16:04,  1.69s/it]"
     ]
    },
    {
     "name": "stdout",
     "output_type": "stream",
     "text": [
      "84151\n",
      "113399\n",
      "139831\n",
      "111415\n"
     ]
    },
    {
     "name": "stderr",
     "output_type": "stream",
     "text": [
      " 24%|████████████████████████████████████████████████████████████████████▌                                                                                                                                                                                                                         | 180/751 [04:50<16:17,  1.71s/it]"
     ]
    },
    {
     "name": "stdout",
     "output_type": "stream",
     "text": [
      "114359\n"
     ]
    },
    {
     "name": "stderr",
     "output_type": "stream",
     "text": [
      " 24%|████████████████████████████████████████████████████████████████████▉                                                                                                                                                                                                                         | 181/751 [04:51<12:47,  1.35s/it]"
     ]
    },
    {
     "name": "stdout",
     "output_type": "stream",
     "text": [
      "122167\n",
      "134583\n",
      "118775\n",
      "125367\n"
     ]
    },
    {
     "name": "stderr",
     "output_type": "stream",
     "text": [
      " 24%|█████████████████████████████████████████████████████████████████████▎                                                                                                                                                                                                                        | 182/751 [04:53<15:12,  1.60s/it]"
     ]
    },
    {
     "name": "stdout",
     "output_type": "stream",
     "text": [
      "127543\n",
      "108599\n",
      "125175\n"
     ]
    },
    {
     "name": "stderr",
     "output_type": "stream",
     "text": [
      " 24%|█████████████████████████████████████████████████████████████████████▋                                                                                                                                                                                                                        | 183/751 [04:55<15:28,  1.63s/it]"
     ]
    },
    {
     "name": "stdout",
     "output_type": "stream",
     "text": [
      "134199\n"
     ]
    },
    {
     "name": "stderr",
     "output_type": "stream",
     "text": [
      " 25%|██████████████████████████████████████████████████████████████████████                                                                                                                                                                                                                        | 184/751 [04:55<12:00,  1.27s/it]"
     ]
    },
    {
     "name": "stdout",
     "output_type": "stream",
     "text": [
      "78775\n",
      "108215\n",
      "115959\n",
      "79799\n",
      "90743\n"
     ]
    },
    {
     "name": "stderr",
     "output_type": "stream",
     "text": [
      " 25%|██████████████████████████████████████████████████████████████████████▍                                                                                                                                                                                                                       | 185/751 [04:57<14:18,  1.52s/it]"
     ]
    },
    {
     "name": "stdout",
     "output_type": "stream",
     "text": [
      "117943\n",
      "123127\n"
     ]
    },
    {
     "name": "stderr",
     "output_type": "stream",
     "text": [
      " 25%|██████████████████████████████████████████████████████████████████████▊                                                                                                                                                                                                                       | 186/751 [04:58<12:31,  1.33s/it]"
     ]
    },
    {
     "name": "stdout",
     "output_type": "stream",
     "text": [
      "106167\n",
      "121399\n",
      "111031\n",
      "126199\n"
     ]
    },
    {
     "name": "stderr",
     "output_type": "stream",
     "text": [
      " 25%|███████████████████████████████████████████████████████████████████████▏                                                                                                                                                                                                                      | 187/751 [05:00<14:11,  1.51s/it]"
     ]
    },
    {
     "name": "stdout",
     "output_type": "stream",
     "text": [
      "115447\n",
      "118199\n",
      "115511\n",
      "117175\n"
     ]
    },
    {
     "name": "stderr",
     "output_type": "stream",
     "text": [
      " 25%|███████████████████████████████████████████████████████████████████████▌                                                                                                                                                                                                                      | 188/751 [05:02<16:17,  1.74s/it]"
     ]
    },
    {
     "name": "stdout",
     "output_type": "stream",
     "text": [
      "121143\n",
      "78135\n",
      "74743\n"
     ]
    },
    {
     "name": "stderr",
     "output_type": "stream",
     "text": [
      " 25%|███████████████████████████████████████████████████████████████████████▉                                                                                                                                                                                                                      | 189/751 [05:04<15:29,  1.65s/it]"
     ]
    },
    {
     "name": "stdout",
     "output_type": "stream",
     "text": [
      "136311\n",
      "117111\n",
      "125047\n",
      "123959\n"
     ]
    },
    {
     "name": "stderr",
     "output_type": "stream",
     "text": [
      " 25%|████████████████████████████████████████████████████████████████████████▎                                                                                                                                                                                                                     | 190/751 [05:06<16:51,  1.80s/it]"
     ]
    },
    {
     "name": "stdout",
     "output_type": "stream",
     "text": [
      "136567\n",
      "73783\n",
      "78391\n",
      "36727\n",
      "64759\n"
     ]
    },
    {
     "name": "stderr",
     "output_type": "stream",
     "text": [
      " 25%|████████████████████████████████████████████████████████████████████████▋                                                                                                                                                                                                                     | 191/751 [05:07<16:05,  1.72s/it]"
     ]
    },
    {
     "name": "stdout",
     "output_type": "stream",
     "text": [
      "79991\n",
      "115959\n"
     ]
    },
    {
     "name": "stderr",
     "output_type": "stream",
     "text": [
      " 26%|█████████████████████████████████████████████████████████████████████████                                                                                                                                                                                                                     | 192/751 [05:08<13:37,  1.46s/it]"
     ]
    },
    {
     "name": "stdout",
     "output_type": "stream",
     "text": [
      "112183\n",
      "100983\n",
      "114999\n",
      "108215\n"
     ]
    },
    {
     "name": "stderr",
     "output_type": "stream",
     "text": [
      " 26%|█████████████████████████████████████████████████████████████████████████▍                                                                                                                                                                                                                    | 193/751 [05:10<14:55,  1.60s/it]"
     ]
    },
    {
     "name": "stdout",
     "output_type": "stream",
     "text": [
      "117943\n",
      "115959\n",
      "128759\n",
      "115383\n"
     ]
    },
    {
     "name": "stderr",
     "output_type": "stream",
     "text": [
      " 26%|█████████████████████████████████████████████████████████████████████████▉                                                                                                                                                                                                                    | 194/751 [05:12<16:11,  1.74s/it]"
     ]
    },
    {
     "name": "stdout",
     "output_type": "stream",
     "text": [
      "122231\n",
      "114359\n",
      "121015\n",
      "116983\n"
     ]
    },
    {
     "name": "stderr",
     "output_type": "stream",
     "text": [
      " 26%|██████████████████████████████████████████████████████████████████████████▎                                                                                                                                                                                                                   | 195/751 [05:15<17:29,  1.89s/it]"
     ]
    },
    {
     "name": "stdout",
     "output_type": "stream",
     "text": [
      "119607\n",
      "116727\n",
      "115511\n",
      "116791\n"
     ]
    },
    {
     "name": "stderr",
     "output_type": "stream",
     "text": [
      " 26%|██████████████████████████████████████████████████████████████████████████▋                                                                                                                                                                                                                   | 196/751 [05:17<19:03,  2.06s/it]"
     ]
    },
    {
     "name": "stdout",
     "output_type": "stream",
     "text": [
      "113399\n",
      "86903\n",
      "81975\n",
      "88183\n"
     ]
    },
    {
     "name": "stderr",
     "output_type": "stream",
     "text": [
      " 26%|███████████████████████████████████████████████████████████████████████████                                                                                                                                                                                                                   | 197/751 [05:19<18:22,  1.99s/it]"
     ]
    },
    {
     "name": "stdout",
     "output_type": "stream",
     "text": [
      "91191\n",
      "110007\n",
      "115191\n",
      "106999\n"
     ]
    },
    {
     "name": "stderr",
     "output_type": "stream",
     "text": [
      " 26%|███████████████████████████████████████████████████████████████████████████▍                                                                                                                                                                                                                  | 198/751 [05:21<18:53,  2.05s/it]"
     ]
    },
    {
     "name": "stdout",
     "output_type": "stream",
     "text": [
      "129143\n",
      "100023\n",
      "111799\n"
     ]
    },
    {
     "name": "stderr",
     "output_type": "stream",
     "text": [
      " 26%|███████████████████████████████████████████████████████████████████████████▊                                                                                                                                                                                                                  | 199/751 [05:23<17:26,  1.90s/it]"
     ]
    },
    {
     "name": "stdout",
     "output_type": "stream",
     "text": [
      "149047\n",
      "126711\n",
      "122231\n"
     ]
    },
    {
     "name": "stderr",
     "output_type": "stream",
     "text": [
      " 27%|████████████████████████████████████████████████████████████████████████████▏                                                                                                                                                                                                                 | 200/751 [05:24<16:59,  1.85s/it]"
     ]
    },
    {
     "name": "stdout",
     "output_type": "stream",
     "text": [
      "130359\n",
      "117815\n",
      "107767\n",
      "113975\n"
     ]
    },
    {
     "name": "stderr",
     "output_type": "stream",
     "text": [
      " 27%|████████████████████████████████████████████████████████████████████████████▌                                                                                                                                                                                                                 | 201/751 [05:26<17:25,  1.90s/it]"
     ]
    },
    {
     "name": "stdout",
     "output_type": "stream",
     "text": [
      "123383\n"
     ]
    },
    {
     "name": "stderr",
     "output_type": "stream",
     "text": [
      " 27%|████████████████████████████████████████████████████████████████████████████▉                                                                                                                                                                                                                 | 202/751 [05:27<13:36,  1.49s/it]"
     ]
    },
    {
     "name": "stdout",
     "output_type": "stream",
     "text": [
      "122231\n",
      "119159\n",
      "111607\n"
     ]
    },
    {
     "name": "stderr",
     "output_type": "stream",
     "text": [
      " 27%|█████████████████████████████████████████████████████████████████████████████▎                                                                                                                                                                                                                | 203/751 [05:28<12:45,  1.40s/it]"
     ]
    },
    {
     "name": "stdout",
     "output_type": "stream",
     "text": [
      "71159\n",
      "119159\n",
      "125431\n",
      "157559\n"
     ]
    },
    {
     "name": "stderr",
     "output_type": "stream",
     "text": [
      " 27%|█████████████████████████████████████████████████████████████████████████████▋                                                                                                                                                                                                                | 204/751 [05:30<15:34,  1.71s/it]"
     ]
    },
    {
     "name": "stdout",
     "output_type": "stream",
     "text": [
      "153527\n",
      "116599\n",
      "115831\n",
      "145591\n"
     ]
    },
    {
     "name": "stderr",
     "output_type": "stream",
     "text": [
      " 27%|██████████████████████████████████████████████████████████████████████████████                                                                                                                                                                                                                | 205/751 [05:33<17:11,  1.89s/it]"
     ]
    },
    {
     "name": "stdout",
     "output_type": "stream",
     "text": [
      "117431\n",
      "105399\n",
      "107959\n",
      "102775\n"
     ]
    },
    {
     "name": "stderr",
     "output_type": "stream",
     "text": [
      " 27%|██████████████████████████████████████████████████████████████████████████████▍                                                                                                                                                                                                               | 206/751 [05:35<17:42,  1.95s/it]"
     ]
    },
    {
     "name": "stdout",
     "output_type": "stream",
     "text": [
      "106167\n",
      "121143\n",
      "114359\n"
     ]
    },
    {
     "name": "stderr",
     "output_type": "stream",
     "text": [
      " 28%|██████████████████████████████████████████████████████████████████████████████▊                                                                                                                                                                                                               | 207/751 [05:37<17:09,  1.89s/it]"
     ]
    },
    {
     "name": "stdout",
     "output_type": "stream",
     "text": [
      "139383\n",
      "115511\n"
     ]
    },
    {
     "name": "stderr",
     "output_type": "stream",
     "text": [
      " 28%|███████████████████████████████████████████████████████████████████████████████▏                                                                                                                                                                                                              | 208/751 [05:38<14:52,  1.64s/it]"
     ]
    },
    {
     "name": "stdout",
     "output_type": "stream",
     "text": [
      "111927\n",
      "98359\n",
      "49143\n"
     ]
    },
    {
     "name": "stderr",
     "output_type": "stream",
     "text": [
      " 28%|███████████████████████████████████████████████████████████████████████████████▌                                                                                                                                                                                                              | 209/751 [05:39<14:05,  1.56s/it]"
     ]
    },
    {
     "name": "stdout",
     "output_type": "stream",
     "text": [
      "95159\n"
     ]
    },
    {
     "name": "stderr",
     "output_type": "stream",
     "text": [
      " 28%|███████████████████████████████████████████████████████████████████████████████▉                                                                                                                                                                                                              | 210/751 [05:40<11:03,  1.23s/it]"
     ]
    },
    {
     "name": "stdout",
     "output_type": "stream",
     "text": [
      "74743\n",
      "112759\n",
      "115959\n",
      "116983\n"
     ]
    },
    {
     "name": "stderr",
     "output_type": "stream",
     "text": [
      " 28%|████████████████████████████████████████████████████████████████████████████████▎                                                                                                                                                                                                             | 211/751 [05:42<13:16,  1.48s/it]"
     ]
    },
    {
     "name": "stdout",
     "output_type": "stream",
     "text": [
      "114743\n",
      "122807\n",
      "119799\n"
     ]
    },
    {
     "name": "stderr",
     "output_type": "stream",
     "text": [
      " 28%|████████████████████████████████████████████████████████████████████████████████▋                                                                                                                                                                                                             | 212/751 [05:43<13:53,  1.55s/it]"
     ]
    },
    {
     "name": "stdout",
     "output_type": "stream",
     "text": [
      "121783\n",
      "122551\n",
      "124215\n",
      "131575\n"
     ]
    },
    {
     "name": "stderr",
     "output_type": "stream",
     "text": [
      " 28%|█████████████████████████████████████████████████████████████████████████████████                                                                                                                                                                                                             | 213/751 [05:46<16:01,  1.79s/it]"
     ]
    },
    {
     "name": "stdout",
     "output_type": "stream",
     "text": [
      "76407\n",
      "122615\n",
      "112375\n",
      "122359\n"
     ]
    },
    {
     "name": "stderr",
     "output_type": "stream",
     "text": [
      " 28%|█████████████████████████████████████████████████████████████████████████████████▍                                                                                                                                                                                                            | 214/751 [05:48<17:33,  1.96s/it]"
     ]
    },
    {
     "name": "stdout",
     "output_type": "stream",
     "text": [
      "124983\n",
      "130999\n"
     ]
    },
    {
     "name": "stderr",
     "output_type": "stream",
     "text": [
      " 29%|█████████████████████████████████████████████████████████████████████████████████▉                                                                                                                                                                                                            | 215/751 [05:49<15:44,  1.76s/it]"
     ]
    },
    {
     "name": "stdout",
     "output_type": "stream",
     "text": [
      "121143\n",
      "126583\n",
      "115959\n"
     ]
    },
    {
     "name": "stderr",
     "output_type": "stream",
     "text": [
      " 29%|██████████████████████████████████████████████████████████████████████████████████▎                                                                                                                                                                                                           | 216/751 [05:51<15:50,  1.78s/it]"
     ]
    },
    {
     "name": "stdout",
     "output_type": "stream",
     "text": [
      "103863\n",
      "115511\n",
      "106359\n",
      "117943\n"
     ]
    },
    {
     "name": "stderr",
     "output_type": "stream",
     "text": [
      " 29%|██████████████████████████████████████████████████████████████████████████████████▋                                                                                                                                                                                                           | 217/751 [05:53<17:19,  1.95s/it]"
     ]
    },
    {
     "name": "stdout",
     "output_type": "stream",
     "text": [
      "112183\n",
      "65975\n",
      "95991\n",
      "162551\n"
     ]
    },
    {
     "name": "stderr",
     "output_type": "stream",
     "text": [
      " 29%|███████████████████████████████████████████████████████████████████████████████████                                                                                                                                                                                                           | 218/751 [05:56<17:57,  2.02s/it]"
     ]
    },
    {
     "name": "stdout",
     "output_type": "stream",
     "text": [
      "123511\n",
      "210743\n",
      "123383\n",
      "20983\n"
     ]
    },
    {
     "name": "stderr",
     "output_type": "stream",
     "text": [
      " 29%|███████████████████████████████████████████████████████████████████████████████████▍                                                                                                                                                                                                          | 219/751 [05:58<18:26,  2.08s/it]"
     ]
    },
    {
     "name": "stdout",
     "output_type": "stream",
     "text": [
      "142199\n",
      "123959\n",
      "149431\n",
      "121911\n"
     ]
    },
    {
     "name": "stderr",
     "output_type": "stream",
     "text": [
      " 29%|███████████████████████████████████████████████████████████████████████████████████▊                                                                                                                                                                                                          | 220/751 [06:01<19:52,  2.25s/it]"
     ]
    },
    {
     "name": "stdout",
     "output_type": "stream",
     "text": [
      "162807\n",
      "85815\n",
      "92791\n",
      "80247\n"
     ]
    },
    {
     "name": "stderr",
     "output_type": "stream",
     "text": [
      " 29%|████████████████████████████████████████████████████████████████████████████████████▏                                                                                                                                                                                                         | 221/751 [06:02<17:46,  2.01s/it]"
     ]
    },
    {
     "name": "stdout",
     "output_type": "stream",
     "text": [
      "77367\n",
      "110775\n",
      "111543\n",
      "110967\n"
     ]
    },
    {
     "name": "stderr",
     "output_type": "stream",
     "text": [
      " 30%|████████████████████████████████████████████████████████████████████████████████████▌                                                                                                                                                                                                         | 222/751 [06:04<17:59,  2.04s/it]"
     ]
    },
    {
     "name": "stdout",
     "output_type": "stream",
     "text": [
      "114807\n",
      "118967\n",
      "69367\n",
      "110007\n"
     ]
    },
    {
     "name": "stderr",
     "output_type": "stream",
     "text": [
      " 30%|████████████████████████████████████████████████████████████████████████████████████▉                                                                                                                                                                                                         | 223/751 [06:06<18:07,  2.06s/it]"
     ]
    },
    {
     "name": "stdout",
     "output_type": "stream",
     "text": [
      "133431\n",
      "68407\n",
      "102391\n",
      "97527\n"
     ]
    },
    {
     "name": "stderr",
     "output_type": "stream",
     "text": [
      " 30%|█████████████████████████████████████████████████████████████████████████████████████▎                                                                                                                                                                                                        | 224/751 [06:08<17:07,  1.95s/it]"
     ]
    },
    {
     "name": "stdout",
     "output_type": "stream",
     "text": [
      "94647\n",
      "131959\n"
     ]
    },
    {
     "name": "stderr",
     "output_type": "stream",
     "text": [
      " 30%|█████████████████████████████████████████████████████████████████████████████████████▋                                                                                                                                                                                                        | 225/751 [06:09<15:49,  1.81s/it]"
     ]
    },
    {
     "name": "stdout",
     "output_type": "stream",
     "text": [
      "223415\n",
      "123383\n",
      "125559\n",
      "131575\n"
     ]
    },
    {
     "name": "stderr",
     "output_type": "stream",
     "text": [
      " 30%|██████████████████████████████████████████████████████████████████████████████████████                                                                                                                                                                                                        | 226/751 [06:12<17:15,  1.97s/it]"
     ]
    },
    {
     "name": "stdout",
     "output_type": "stream",
     "text": [
      "144311\n",
      "117815\n"
     ]
    },
    {
     "name": "stderr",
     "output_type": "stream",
     "text": [
      " 30%|██████████████████████████████████████████████████████████████████████████████████████▍                                                                                                                                                                                                       | 227/751 [06:13<15:11,  1.74s/it]"
     ]
    },
    {
     "name": "stdout",
     "output_type": "stream",
     "text": [
      "123831\n",
      "108983\n",
      "118775\n"
     ]
    },
    {
     "name": "stderr",
     "output_type": "stream",
     "text": [
      " 30%|██████████████████████████████████████████████████████████████████████████████████████▊                                                                                                                                                                                                       | 228/751 [06:15<15:02,  1.73s/it]"
     ]
    },
    {
     "name": "stdout",
     "output_type": "stream",
     "text": [
      "116151\n",
      "112759\n",
      "112311\n"
     ]
    },
    {
     "name": "stderr",
     "output_type": "stream",
     "text": [
      " 30%|███████████████████████████████████████████████████████████████████████████████████████▏                                                                                                                                                                                                      | 229/751 [06:16<14:42,  1.69s/it]"
     ]
    },
    {
     "name": "stdout",
     "output_type": "stream",
     "text": [
      "116215\n",
      "118583\n",
      "115959\n",
      "116215\n"
     ]
    },
    {
     "name": "stderr",
     "output_type": "stream",
     "text": [
      " 31%|███████████████████████████████████████████████████████████████████████████████████████▌                                                                                                                                                                                                      | 230/751 [06:18<15:52,  1.83s/it]"
     ]
    },
    {
     "name": "stdout",
     "output_type": "stream",
     "text": [
      "117175\n",
      "117559\n",
      "119991\n",
      "140343\n"
     ]
    },
    {
     "name": "stderr",
     "output_type": "stream",
     "text": [
      " 31%|███████████████████████████████████████████████████████████████████████████████████████▉                                                                                                                                                                                                      | 231/751 [06:21<16:50,  1.94s/it]"
     ]
    },
    {
     "name": "stdout",
     "output_type": "stream",
     "text": [
      "116983\n",
      "117367\n",
      "123191\n"
     ]
    },
    {
     "name": "stderr",
     "output_type": "stream",
     "text": [
      " 31%|████████████████████████████████████████████████████████████████████████████████████████▎                                                                                                                                                                                                     | 232/751 [06:23<16:50,  1.95s/it]"
     ]
    },
    {
     "name": "stdout",
     "output_type": "stream",
     "text": [
      "132215\n",
      "127159\n",
      "138615\n",
      "120631\n"
     ]
    },
    {
     "name": "stderr",
     "output_type": "stream",
     "text": [
      " 31%|████████████████████████████████████████████████████████████████████████████████████████▋                                                                                                                                                                                                     | 233/751 [06:25<18:03,  2.09s/it]"
     ]
    },
    {
     "name": "stdout",
     "output_type": "stream",
     "text": [
      "123575\n",
      "152375\n",
      "125943\n",
      "119543\n"
     ]
    },
    {
     "name": "stderr",
     "output_type": "stream",
     "text": [
      " 31%|█████████████████████████████████████████████████████████████████████████████████████████                                                                                                                                                                                                     | 234/751 [06:27<18:43,  2.17s/it]"
     ]
    },
    {
     "name": "stdout",
     "output_type": "stream",
     "text": [
      "120759\n",
      "123767\n",
      "121975\n"
     ]
    },
    {
     "name": "stderr",
     "output_type": "stream",
     "text": [
      " 31%|█████████████████████████████████████████████████████████████████████████████████████████▍                                                                                                                                                                                                    | 235/751 [06:29<17:26,  2.03s/it]"
     ]
    },
    {
     "name": "stdout",
     "output_type": "stream",
     "text": [
      "123959\n",
      "118647\n",
      "121975\n",
      "127031\n"
     ]
    },
    {
     "name": "stderr",
     "output_type": "stream",
     "text": [
      " 31%|█████████████████████████████████████████████████████████████████████████████████████████▊                                                                                                                                                                                                    | 236/751 [06:31<17:40,  2.06s/it]"
     ]
    },
    {
     "name": "stdout",
     "output_type": "stream",
     "text": [
      "116983\n",
      "129783\n",
      "123575\n",
      "136375\n"
     ]
    },
    {
     "name": "stderr",
     "output_type": "stream",
     "text": [
      " 32%|██████████████████████████████████████████████████████████████████████████████████████████▎                                                                                                                                                                                                   | 237/751 [06:33<17:36,  2.06s/it]"
     ]
    },
    {
     "name": "stdout",
     "output_type": "stream",
     "text": [
      "131511\n",
      "120375\n",
      "115959\n",
      "121975\n"
     ]
    },
    {
     "name": "stderr",
     "output_type": "stream",
     "text": [
      " 32%|██████████████████████████████████████████████████████████████████████████████████████████▋                                                                                                                                                                                                   | 238/751 [06:35<17:17,  2.02s/it]"
     ]
    },
    {
     "name": "stdout",
     "output_type": "stream",
     "text": [
      "117367\n",
      "129591\n",
      "127159\n",
      "114743\n"
     ]
    },
    {
     "name": "stderr",
     "output_type": "stream",
     "text": [
      " 32%|███████████████████████████████████████████████████████████████████████████████████████████                                                                                                                                                                                                   | 239/751 [06:37<16:42,  1.96s/it]"
     ]
    },
    {
     "name": "stdout",
     "output_type": "stream",
     "text": [
      "116727\n",
      "132791\n",
      "127415\n",
      "133559\n"
     ]
    },
    {
     "name": "stderr",
     "output_type": "stream",
     "text": [
      " 32%|███████████████████████████████████████████████████████████████████████████████████████████▍                                                                                                                                                                                                  | 240/751 [06:39<17:14,  2.02s/it]"
     ]
    },
    {
     "name": "stdout",
     "output_type": "stream",
     "text": [
      "131575\n",
      "110327\n",
      "111863\n",
      "113143\n"
     ]
    },
    {
     "name": "stderr",
     "output_type": "stream",
     "text": [
      " 32%|███████████████████████████████████████████████████████████████████████████████████████████▊                                                                                                                                                                                                  | 241/751 [06:41<17:49,  2.10s/it]"
     ]
    },
    {
     "name": "stdout",
     "output_type": "stream",
     "text": [
      "120567\n",
      "108343\n",
      "112183\n"
     ]
    },
    {
     "name": "stderr",
     "output_type": "stream",
     "text": [
      " 32%|████████████████████████████████████████████████████████████████████████████████████████████▏                                                                                                                                                                                                 | 242/751 [06:43<16:34,  1.95s/it]"
     ]
    },
    {
     "name": "stdout",
     "output_type": "stream",
     "text": [
      "110391\n",
      "117175\n",
      "123959\n",
      "122999\n"
     ]
    },
    {
     "name": "stderr",
     "output_type": "stream",
     "text": [
      " 32%|████████████████████████████████████████████████████████████████████████████████████████████▌                                                                                                                                                                                                 | 243/751 [06:45<17:15,  2.04s/it]"
     ]
    },
    {
     "name": "stdout",
     "output_type": "stream",
     "text": [
      "120951\n",
      "178999\n"
     ]
    },
    {
     "name": "stderr",
     "output_type": "stream",
     "text": [
      " 32%|████████████████████████████████████████████████████████████████████████████████████████████▉                                                                                                                                                                                                 | 244/751 [06:47<16:09,  1.91s/it]"
     ]
    },
    {
     "name": "stdout",
     "output_type": "stream",
     "text": [
      "126583\n"
     ]
    },
    {
     "name": "stderr",
     "output_type": "stream",
     "text": [
      " 33%|█████████████████████████████████████████████████████████████████████████████████████████████▎                                                                                                                                                                                                | 245/751 [06:47<12:30,  1.48s/it]"
     ]
    },
    {
     "name": "stdout",
     "output_type": "stream",
     "text": [
      "117815\n",
      "175159\n"
     ]
    },
    {
     "name": "stderr",
     "output_type": "stream",
     "text": [
      " 33%|█████████████████████████████████████████████████████████████████████████████████████████████▋                                                                                                                                                                                                | 246/751 [06:49<12:22,  1.47s/it]"
     ]
    },
    {
     "name": "stdout",
     "output_type": "stream",
     "text": [
      "122231\n",
      "122231\n"
     ]
    },
    {
     "name": "stderr",
     "output_type": "stream",
     "text": [
      " 33%|██████████████████████████████████████████████████████████████████████████████████████████████                                                                                                                                                                                                | 247/751 [06:50<12:22,  1.47s/it]"
     ]
    },
    {
     "name": "stdout",
     "output_type": "stream",
     "text": [
      "122743\n",
      "121527\n"
     ]
    },
    {
     "name": "stderr",
     "output_type": "stream",
     "text": [
      " 33%|██████████████████████████████████████████████████████████████████████████████████████████████▍                                                                                                                                                                                               | 248/751 [06:51<11:16,  1.35s/it]"
     ]
    },
    {
     "name": "stdout",
     "output_type": "stream",
     "text": [
      "122359\n",
      "116343\n"
     ]
    },
    {
     "name": "stderr",
     "output_type": "stream",
     "text": [
      " 33%|██████████████████████████████████████████████████████████████████████████████████████████████▊                                                                                                                                                                                               | 249/751 [06:52<10:21,  1.24s/it]"
     ]
    },
    {
     "name": "stdout",
     "output_type": "stream",
     "text": [
      "122743\n",
      "234999\n",
      "140599\n",
      "125815\n"
     ]
    },
    {
     "name": "stderr",
     "output_type": "stream",
     "text": [
      " 33%|███████████████████████████████████████████████████████████████████████████████████████████████▏                                                                                                                                                                                              | 250/751 [06:55<14:01,  1.68s/it]"
     ]
    },
    {
     "name": "stdout",
     "output_type": "stream",
     "text": [
      "124791\n",
      "164727\n"
     ]
    },
    {
     "name": "stderr",
     "output_type": "stream",
     "text": [
      " 33%|███████████████████████████████████████████████████████████████████████████████████████████████▌                                                                                                                                                                                              | 251/751 [06:56<13:30,  1.62s/it]"
     ]
    },
    {
     "name": "stdout",
     "output_type": "stream",
     "text": [
      "123767\n",
      "114743\n"
     ]
    },
    {
     "name": "stderr",
     "output_type": "stream",
     "text": [
      " 34%|███████████████████████████████████████████████████████████████████████████████████████████████▉                                                                                                                                                                                              | 252/751 [06:58<11:58,  1.44s/it]"
     ]
    },
    {
     "name": "stdout",
     "output_type": "stream",
     "text": [
      "93943\n",
      "119799\n",
      "121783\n",
      "120759\n"
     ]
    },
    {
     "name": "stderr",
     "output_type": "stream",
     "text": [
      " 34%|████████████████████████████████████████████████████████████████████████████████████████████████▎                                                                                                                                                                                             | 253/751 [07:00<14:19,  1.73s/it]"
     ]
    },
    {
     "name": "stdout",
     "output_type": "stream",
     "text": [
      "124343\n",
      "125943\n"
     ]
    },
    {
     "name": "stderr",
     "output_type": "stream",
     "text": [
      " 34%|████████████████████████████████████████████████████████████████████████████████████████████████▋                                                                                                                                                                                             | 254/751 [07:01<12:54,  1.56s/it]"
     ]
    },
    {
     "name": "stdout",
     "output_type": "stream",
     "text": [
      "134775\n",
      "119351\n",
      "119351\n",
      "120567\n"
     ]
    },
    {
     "name": "stderr",
     "output_type": "stream",
     "text": [
      " 34%|█████████████████████████████████████████████████████████████████████████████████████████████████                                                                                                                                                                                             | 255/751 [07:03<14:47,  1.79s/it]"
     ]
    },
    {
     "name": "stdout",
     "output_type": "stream",
     "text": [
      "133431\n",
      "119415\n",
      "120951\n",
      "120631\n"
     ]
    },
    {
     "name": "stderr",
     "output_type": "stream",
     "text": [
      " 34%|█████████████████████████████████████████████████████████████████████████████████████████████████▍                                                                                                                                                                                            | 256/751 [07:06<15:50,  1.92s/it]"
     ]
    },
    {
     "name": "stdout",
     "output_type": "stream",
     "text": [
      "123383\n",
      "118391\n"
     ]
    },
    {
     "name": "stderr",
     "output_type": "stream",
     "text": [
      " 34%|█████████████████████████████████████████████████████████████████████████████████████████████████▊                                                                                                                                                                                            | 257/751 [07:07<14:18,  1.74s/it]"
     ]
    },
    {
     "name": "stdout",
     "output_type": "stream",
     "text": [
      "122359\n",
      "111351\n",
      "107127\n"
     ]
    },
    {
     "name": "stderr",
     "output_type": "stream",
     "text": [
      " 34%|██████████████████████████████████████████████████████████████████████████████████████████████████▎                                                                                                                                                                                           | 258/751 [07:09<14:04,  1.71s/it]"
     ]
    },
    {
     "name": "stdout",
     "output_type": "stream",
     "text": [
      "118967\n",
      "118775\n"
     ]
    },
    {
     "name": "stderr",
     "output_type": "stream",
     "text": [
      " 34%|██████████████████████████████████████████████████████████████████████████████████████████████████▋                                                                                                                                                                                           | 259/751 [07:10<12:21,  1.51s/it]"
     ]
    },
    {
     "name": "stdout",
     "output_type": "stream",
     "text": [
      "139191\n",
      "121783\n",
      "129015\n",
      "124791\n"
     ]
    },
    {
     "name": "stderr",
     "output_type": "stream",
     "text": [
      " 35%|███████████████████████████████████████████████████████████████████████████████████████████████████                                                                                                                                                                                           | 260/751 [07:12<14:31,  1.78s/it]"
     ]
    },
    {
     "name": "stdout",
     "output_type": "stream",
     "text": [
      "133047\n",
      "116215\n",
      "129399\n",
      "114743\n"
     ]
    },
    {
     "name": "stderr",
     "output_type": "stream",
     "text": [
      " 35%|███████████████████████████████████████████████████████████████████████████████████████████████████▍                                                                                                                                                                                          | 261/751 [07:14<15:45,  1.93s/it]"
     ]
    },
    {
     "name": "stdout",
     "output_type": "stream",
     "text": [
      "121143\n",
      "127159\n"
     ]
    },
    {
     "name": "stderr",
     "output_type": "stream",
     "text": [
      " 35%|███████████████████████████████████████████████████████████████████████████████████████████████████▊                                                                                                                                                                                          | 262/751 [07:16<14:13,  1.74s/it]"
     ]
    },
    {
     "name": "stdout",
     "output_type": "stream",
     "text": [
      "124215\n",
      "127415\n"
     ]
    },
    {
     "name": "stderr",
     "output_type": "stream",
     "text": [
      " 35%|████████████████████████████████████████████████████████████████████████████████████████████████████▏                                                                                                                                                                                         | 263/751 [07:17<12:50,  1.58s/it]"
     ]
    },
    {
     "name": "stdout",
     "output_type": "stream",
     "text": [
      "130231\n",
      "123383\n",
      "122743\n",
      "121975\n"
     ]
    },
    {
     "name": "stderr",
     "output_type": "stream",
     "text": [
      " 35%|████████████████████████████████████████████████████████████████████████████████████████████████████▌                                                                                                                                                                                         | 264/751 [07:19<14:50,  1.83s/it]"
     ]
    },
    {
     "name": "stdout",
     "output_type": "stream",
     "text": [
      "123447\n",
      "119351\n",
      "119991\n",
      "121015\n"
     ]
    },
    {
     "name": "stderr",
     "output_type": "stream",
     "text": [
      " 35%|████████████████████████████████████████████████████████████████████████████████████████████████████▉                                                                                                                                                                                         | 265/751 [07:22<16:28,  2.03s/it]"
     ]
    },
    {
     "name": "stdout",
     "output_type": "stream",
     "text": [
      "133111\n",
      "108983\n",
      "116983\n",
      "116599\n"
     ]
    },
    {
     "name": "stderr",
     "output_type": "stream",
     "text": [
      " 35%|█████████████████████████████████████████████████████████████████████████████████████████████████████▎                                                                                                                                                                                        | 266/751 [07:24<15:59,  1.98s/it]"
     ]
    },
    {
     "name": "stdout",
     "output_type": "stream",
     "text": [
      "124343\n",
      "93815\n",
      "104311\n",
      "142775\n"
     ]
    },
    {
     "name": "stderr",
     "output_type": "stream",
     "text": [
      " 36%|█████████████████████████████████████████████████████████████████████████████████████████████████████▋                                                                                                                                                                                        | 267/751 [07:25<15:47,  1.96s/it]"
     ]
    },
    {
     "name": "stdout",
     "output_type": "stream",
     "text": [
      "109175\n",
      "116215\n",
      "119159\n",
      "116727\n"
     ]
    },
    {
     "name": "stderr",
     "output_type": "stream",
     "text": [
      " 36%|██████████████████████████████████████████████████████████████████████████████████████████████████████                                                                                                                                                                                        | 268/751 [07:28<16:39,  2.07s/it]"
     ]
    },
    {
     "name": "stdout",
     "output_type": "stream",
     "text": [
      "121399\n",
      "118199\n"
     ]
    },
    {
     "name": "stderr",
     "output_type": "stream",
     "text": [
      " 36%|██████████████████████████████████████████████████████████████████████████████████████████████████████▍                                                                                                                                                                                       | 269/751 [07:29<14:53,  1.85s/it]"
     ]
    },
    {
     "name": "stdout",
     "output_type": "stream",
     "text": [
      "123191\n",
      "84727\n",
      "97399\n"
     ]
    },
    {
     "name": "stderr",
     "output_type": "stream",
     "text": [
      " 36%|██████████████████████████████████████████████████████████████████████████████████████████████████████▊                                                                                                                                                                                       | 270/751 [07:31<14:36,  1.82s/it]"
     ]
    },
    {
     "name": "stdout",
     "output_type": "stream",
     "text": [
      "120375\n",
      "123575\n",
      "123767\n",
      "117431\n"
     ]
    },
    {
     "name": "stderr",
     "output_type": "stream",
     "text": [
      " 36%|███████████████████████████████████████████████████████████████████████████████████████████████████████▏                                                                                                                                                                                      | 271/751 [07:33<16:19,  2.04s/it]"
     ]
    },
    {
     "name": "stdout",
     "output_type": "stream",
     "text": [
      "118711\n",
      "122615\n",
      "118327\n",
      "122231\n"
     ]
    },
    {
     "name": "stderr",
     "output_type": "stream",
     "text": [
      " 36%|███████████████████████████████████████████████████████████████████████████████████████████████████████▌                                                                                                                                                                                      | 272/751 [07:36<18:16,  2.29s/it]"
     ]
    },
    {
     "name": "stdout",
     "output_type": "stream",
     "text": [
      "126199\n",
      "117175\n",
      "117815\n",
      "115575\n"
     ]
    },
    {
     "name": "stderr",
     "output_type": "stream",
     "text": [
      " 36%|███████████████████████████████████████████████████████████████████████████████████████████████████████▉                                                                                                                                                                                      | 273/751 [07:39<19:04,  2.39s/it]"
     ]
    },
    {
     "name": "stdout",
     "output_type": "stream",
     "text": [
      "121975\n",
      "124151\n",
      "122359\n",
      "115831\n"
     ]
    },
    {
     "name": "stderr",
     "output_type": "stream",
     "text": [
      " 36%|████████████████████████████████████████████████████████████████████████████████████████████████████████▎                                                                                                                                                                                     | 274/751 [07:41<18:44,  2.36s/it]"
     ]
    },
    {
     "name": "stdout",
     "output_type": "stream",
     "text": [
      "123767\n",
      "121015\n",
      "124791\n",
      "123191\n",
      "35575\n"
     ]
    },
    {
     "name": "stderr",
     "output_type": "stream",
     "text": [
      " 37%|████████████████████████████████████████████████████████████████████████████████████████████████████████▋                                                                                                                                                                                     | 275/751 [07:44<19:22,  2.44s/it]"
     ]
    },
    {
     "name": "stdout",
     "output_type": "stream",
     "text": [
      "121399\n",
      "116343\n",
      "130999\n",
      "119543\n"
     ]
    },
    {
     "name": "stderr",
     "output_type": "stream",
     "text": [
      " 37%|█████████████████████████████████████████████████████████████████████████████████████████████████████████                                                                                                                                                                                     | 276/751 [07:46<19:16,  2.44s/it]"
     ]
    },
    {
     "name": "stdout",
     "output_type": "stream",
     "text": [
      "130743\n",
      "138551\n"
     ]
    },
    {
     "name": "stderr",
     "output_type": "stream",
     "text": [
      " 37%|█████████████████████████████████████████████████████████████████████████████████████████████████████████▍                                                                                                                                                                                    | 277/751 [07:48<16:34,  2.10s/it]"
     ]
    },
    {
     "name": "stdout",
     "output_type": "stream",
     "text": [
      "118391\n",
      "125751\n",
      "121975\n"
     ]
    },
    {
     "name": "stderr",
     "output_type": "stream",
     "text": [
      " 37%|█████████████████████████████████████████████████████████████████████████████████████████████████████████▊                                                                                                                                                                                    | 278/751 [07:49<15:15,  1.94s/it]"
     ]
    },
    {
     "name": "stdout",
     "output_type": "stream",
     "text": [
      "125943\n",
      "119991\n",
      "118711\n",
      "118007\n"
     ]
    },
    {
     "name": "stderr",
     "output_type": "stream",
     "text": [
      " 37%|██████████████████████████████████████████████████████████████████████████████████████████████████████████▎                                                                                                                                                                                   | 279/751 [07:51<15:43,  2.00s/it]"
     ]
    },
    {
     "name": "stdout",
     "output_type": "stream",
     "text": [
      "120183\n",
      "116599\n",
      "118583\n",
      "117559\n"
     ]
    },
    {
     "name": "stderr",
     "output_type": "stream",
     "text": [
      " 37%|██████████████████████████████████████████████████████████████████████████████████████████████████████████▋                                                                                                                                                                                   | 280/751 [07:54<16:21,  2.08s/it]"
     ]
    },
    {
     "name": "stdout",
     "output_type": "stream",
     "text": [
      "120375\n",
      "128759\n"
     ]
    },
    {
     "name": "stderr",
     "output_type": "stream",
     "text": [
      " 37%|███████████████████████████████████████████████████████████████████████████████████████████████████████████                                                                                                                                                                                   | 281/751 [07:55<14:25,  1.84s/it]"
     ]
    },
    {
     "name": "stdout",
     "output_type": "stream",
     "text": [
      "143543\n",
      "126391\n",
      "116983\n",
      "123575\n"
     ]
    },
    {
     "name": "stderr",
     "output_type": "stream",
     "text": [
      " 38%|███████████████████████████████████████████████████████████████████████████████████████████████████████████▍                                                                                                                                                                                  | 282/751 [07:57<15:46,  2.02s/it]"
     ]
    },
    {
     "name": "stdout",
     "output_type": "stream",
     "text": [
      "137975\n",
      "127415\n",
      "121527\n"
     ]
    },
    {
     "name": "stderr",
     "output_type": "stream",
     "text": [
      " 38%|███████████████████████████████████████████████████████████████████████████████████████████████████████████▊                                                                                                                                                                                  | 283/751 [07:59<15:06,  1.94s/it]"
     ]
    },
    {
     "name": "stdout",
     "output_type": "stream",
     "text": [
      "121911\n",
      "124599\n",
      "122743\n",
      "117175\n"
     ]
    },
    {
     "name": "stderr",
     "output_type": "stream",
     "text": [
      " 38%|████████████████████████████████████████████████████████████████████████████████████████████████████████████▏                                                                                                                                                                                 | 284/751 [08:01<14:56,  1.92s/it]"
     ]
    },
    {
     "name": "stdout",
     "output_type": "stream",
     "text": [
      "121911\n",
      "157751\n",
      "150967\n",
      "126583\n"
     ]
    },
    {
     "name": "stderr",
     "output_type": "stream",
     "text": [
      " 38%|████████████████████████████████████████████████████████████████████████████████████████████████████████████▌                                                                                                                                                                                 | 285/751 [08:03<15:35,  2.01s/it]"
     ]
    },
    {
     "name": "stdout",
     "output_type": "stream",
     "text": [
      "130359\n",
      "118391\n"
     ]
    },
    {
     "name": "stderr",
     "output_type": "stream",
     "text": [
      " 38%|████████████████████████████████████████████████████████████████████████████████████████████████████████████▉                                                                                                                                                                                 | 286/751 [08:04<13:23,  1.73s/it]"
     ]
    },
    {
     "name": "stdout",
     "output_type": "stream",
     "text": [
      "118391\n",
      "117943\n"
     ]
    },
    {
     "name": "stderr",
     "output_type": "stream",
     "text": [
      " 38%|█████████████████████████████████████████████████████████████████████████████████████████████████████████████▎                                                                                                                                                                                | 287/751 [08:05<11:57,  1.55s/it]"
     ]
    },
    {
     "name": "stdout",
     "output_type": "stream",
     "text": [
      "117367\n",
      "121143\n",
      "125431\n"
     ]
    },
    {
     "name": "stderr",
     "output_type": "stream",
     "text": [
      " 38%|█████████████████████████████████████████████████████████████████████████████████████████████████████████████▋                                                                                                                                                                                | 288/751 [08:07<12:58,  1.68s/it]"
     ]
    },
    {
     "name": "stdout",
     "output_type": "stream",
     "text": [
      "123191\n",
      "103415\n",
      "114615\n",
      "140215\n"
     ]
    },
    {
     "name": "stderr",
     "output_type": "stream",
     "text": [
      " 38%|██████████████████████████████████████████████████████████████████████████████████████████████████████████████                                                                                                                                                                                | 289/751 [08:10<14:31,  1.89s/it]"
     ]
    },
    {
     "name": "stdout",
     "output_type": "stream",
     "text": [
      "159159\n",
      "92599\n",
      "89911\n",
      "97399\n"
     ]
    },
    {
     "name": "stderr",
     "output_type": "stream",
     "text": [
      " 39%|██████████████████████████████████████████████████████████████████████████████████████████████████████████████▍                                                                                                                                                                               | 290/751 [08:12<15:06,  1.97s/it]"
     ]
    },
    {
     "name": "stdout",
     "output_type": "stream",
     "text": [
      "116599\n",
      "115063\n",
      "95543\n"
     ]
    },
    {
     "name": "stderr",
     "output_type": "stream",
     "text": [
      " 39%|██████████████████████████████████████████████████████████████████████████████████████████████████████████████▊                                                                                                                                                                               | 291/751 [08:14<14:21,  1.87s/it]"
     ]
    },
    {
     "name": "stdout",
     "output_type": "stream",
     "text": [
      "94711\n",
      "120375\n",
      "117943\n",
      "121143\n"
     ]
    },
    {
     "name": "stderr",
     "output_type": "stream",
     "text": [
      " 39%|███████████████████████████████████████████████████████████████████████████████████████████████████████████████▏                                                                                                                                                                              | 292/751 [08:16<15:43,  2.06s/it]"
     ]
    },
    {
     "name": "stdout",
     "output_type": "stream",
     "text": [
      "121527\n",
      "121015\n"
     ]
    },
    {
     "name": "stderr",
     "output_type": "stream",
     "text": [
      " 39%|███████████████████████████████████████████████████████████████████████████████████████████████████████████████▌                                                                                                                                                                              | 293/751 [08:17<13:45,  1.80s/it]"
     ]
    },
    {
     "name": "stdout",
     "output_type": "stream",
     "text": [
      "124343\n",
      "123703\n",
      "119031\n",
      "120183\n"
     ]
    },
    {
     "name": "stderr",
     "output_type": "stream",
     "text": [
      " 39%|███████████████████████████████████████████████████████████████████████████████████████████████████████████████▉                                                                                                                                                                              | 294/751 [08:20<14:56,  1.96s/it]"
     ]
    },
    {
     "name": "stdout",
     "output_type": "stream",
     "text": [
      "123575\n",
      "119543\n",
      "89591\n",
      "80503\n"
     ]
    },
    {
     "name": "stderr",
     "output_type": "stream",
     "text": [
      " 39%|████████████████████████████████████████████████████████████████████████████████████████████████████████████████▎                                                                                                                                                                             | 295/751 [08:21<13:45,  1.81s/it]"
     ]
    },
    {
     "name": "stdout",
     "output_type": "stream",
     "text": [
      "111159\n",
      "86967\n",
      "80759\n",
      "70775\n"
     ]
    },
    {
     "name": "stderr",
     "output_type": "stream",
     "text": [
      " 39%|████████████████████████████████████████████████████████████████████████████████████████████████████████████████▋                                                                                                                                                                             | 296/751 [08:22<12:40,  1.67s/it]"
     ]
    },
    {
     "name": "stdout",
     "output_type": "stream",
     "text": [
      "91127\n",
      "116343\n",
      "125559\n",
      "118583\n"
     ]
    },
    {
     "name": "stderr",
     "output_type": "stream",
     "text": [
      " 40%|█████████████████████████████████████████████████████████████████████████████████████████████████████████████████                                                                                                                                                                             | 297/751 [08:24<13:31,  1.79s/it]"
     ]
    },
    {
     "name": "stdout",
     "output_type": "stream",
     "text": [
      "115575\n",
      "117943\n",
      "121399\n",
      "120183\n"
     ]
    },
    {
     "name": "stderr",
     "output_type": "stream",
     "text": [
      " 40%|█████████████████████████████████████████████████████████████████████████████████████████████████████████████████▍                                                                                                                                                                            | 298/751 [08:26<14:11,  1.88s/it]"
     ]
    },
    {
     "name": "stdout",
     "output_type": "stream",
     "text": [
      "119415\n",
      "118967\n"
     ]
    },
    {
     "name": "stderr",
     "output_type": "stream",
     "text": [
      " 40%|█████████████████████████████████████████████████████████████████████████████████████████████████████████████████▊                                                                                                                                                                            | 299/751 [08:28<13:07,  1.74s/it]"
     ]
    },
    {
     "name": "stdout",
     "output_type": "stream",
     "text": [
      "135607\n",
      "125111\n",
      "103159\n",
      "106231\n"
     ]
    },
    {
     "name": "stderr",
     "output_type": "stream",
     "text": [
      " 40%|██████████████████████████████████████████████████████████████████████████████████████████████████████████████████▏                                                                                                                                                                           | 300/751 [08:30<13:42,  1.82s/it]"
     ]
    },
    {
     "name": "stdout",
     "output_type": "stream",
     "text": [
      "107383\n",
      "119927\n",
      "114551\n",
      "119415\n"
     ]
    },
    {
     "name": "stderr",
     "output_type": "stream",
     "text": [
      " 40%|██████████████████████████████████████████████████████████████████████████████████████████████████████████████████▋                                                                                                                                                                           | 301/751 [08:32<14:27,  1.93s/it]"
     ]
    },
    {
     "name": "stdout",
     "output_type": "stream",
     "text": [
      "122359\n",
      "113975\n",
      "109367\n",
      "101367\n"
     ]
    },
    {
     "name": "stderr",
     "output_type": "stream",
     "text": [
      " 40%|███████████████████████████████████████████████████████████████████████████████████████████████████████████████████                                                                                                                                                                           | 302/751 [08:34<14:23,  1.92s/it]"
     ]
    },
    {
     "name": "stdout",
     "output_type": "stream",
     "text": [
      "113783\n",
      "135543\n",
      "118327\n",
      "116983\n"
     ]
    },
    {
     "name": "stderr",
     "output_type": "stream",
     "text": [
      " 40%|███████████████████████████████████████████████████████████████████████████████████████████████████████████████████▍                                                                                                                                                                          | 303/751 [08:37<15:49,  2.12s/it]"
     ]
    },
    {
     "name": "stdout",
     "output_type": "stream",
     "text": [
      "121975\n",
      "114231\n",
      "111415\n",
      "119607\n"
     ]
    },
    {
     "name": "stderr",
     "output_type": "stream",
     "text": [
      " 40%|███████████████████████████████████████████████████████████████████████████████████████████████████████████████████▊                                                                                                                                                                          | 304/751 [08:39<16:14,  2.18s/it]"
     ]
    },
    {
     "name": "stdout",
     "output_type": "stream",
     "text": [
      "122359\n",
      "137783\n",
      "107191\n",
      "108343\n"
     ]
    },
    {
     "name": "stderr",
     "output_type": "stream",
     "text": [
      " 41%|████████████████████████████████████████████████████████████████████████████████████████████████████████████████████▏                                                                                                                                                                         | 305/751 [08:41<16:14,  2.19s/it]"
     ]
    },
    {
     "name": "stdout",
     "output_type": "stream",
     "text": [
      "112375\n",
      "118647\n",
      "116983\n",
      "118391\n"
     ]
    },
    {
     "name": "stderr",
     "output_type": "stream",
     "text": [
      " 41%|████████████████████████████████████████████████████████████████████████████████████████████████████████████████████▌                                                                                                                                                                         | 306/751 [08:43<15:47,  2.13s/it]"
     ]
    },
    {
     "name": "stdout",
     "output_type": "stream",
     "text": [
      "120375\n",
      "116983\n",
      "114807\n",
      "115191\n"
     ]
    },
    {
     "name": "stderr",
     "output_type": "stream",
     "text": [
      " 41%|████████████████████████████████████████████████████████████████████████████████████████████████████████████████████▉                                                                                                                                                                         | 307/751 [08:45<15:32,  2.10s/it]"
     ]
    },
    {
     "name": "stdout",
     "output_type": "stream",
     "text": [
      "117815\n",
      "101559\n",
      "98231\n",
      "105783\n"
     ]
    },
    {
     "name": "stderr",
     "output_type": "stream",
     "text": [
      " 41%|█████████████████████████████████████████████████████████████████████████████████████████████████████████████████████▎                                                                                                                                                                        | 308/751 [08:47<14:26,  1.96s/it]"
     ]
    },
    {
     "name": "stdout",
     "output_type": "stream",
     "text": [
      "107831\n",
      "120759\n",
      "122167\n",
      "124599\n"
     ]
    },
    {
     "name": "stderr",
     "output_type": "stream",
     "text": [
      " 41%|█████████████████████████████████████████████████████████████████████████████████████████████████████████████████████▋                                                                                                                                                                        | 309/751 [08:49<15:40,  2.13s/it]"
     ]
    },
    {
     "name": "stdout",
     "output_type": "stream",
     "text": [
      "127991\n"
     ]
    },
    {
     "name": "stderr",
     "output_type": "stream",
     "text": [
      " 41%|██████████████████████████████████████████████████████████████████████████████████████████████████████████████████████                                                                                                                                                                        | 310/751 [08:50<12:14,  1.67s/it]"
     ]
    },
    {
     "name": "stdout",
     "output_type": "stream",
     "text": [
      "112759\n",
      "105591\n",
      "106359\n",
      "116599\n"
     ]
    },
    {
     "name": "stderr",
     "output_type": "stream",
     "text": [
      " 41%|██████████████████████████████████████████████████████████████████████████████████████████████████████████████████████▍                                                                                                                                                                       | 311/751 [08:52<13:24,  1.83s/it]"
     ]
    },
    {
     "name": "stdout",
     "output_type": "stream",
     "text": [
      "111415\n",
      "119543\n",
      "53111\n"
     ]
    },
    {
     "name": "stderr",
     "output_type": "stream",
     "text": [
      " 42%|██████████████████████████████████████████████████████████████████████████████████████████████████████████████████████▊                                                                                                                                                                       | 312/751 [08:53<12:23,  1.69s/it]"
     ]
    },
    {
     "name": "stdout",
     "output_type": "stream",
     "text": [
      "121399\n",
      "124215\n",
      "122807\n",
      "121975\n"
     ]
    },
    {
     "name": "stderr",
     "output_type": "stream",
     "text": [
      " 42%|███████████████████████████████████████████████████████████████████████████████████████████████████████████████████████▏                                                                                                                                                                      | 313/751 [08:56<14:25,  1.98s/it]"
     ]
    },
    {
     "name": "stdout",
     "output_type": "stream",
     "text": [
      "117943\n"
     ]
    },
    {
     "name": "stderr",
     "output_type": "stream",
     "text": [
      " 42%|███████████████████████████████████████████████████████████████████████████████████████████████████████████████████████▌                                                                                                                                                                      | 314/751 [08:57<11:15,  1.55s/it]"
     ]
    },
    {
     "name": "stdout",
     "output_type": "stream",
     "text": [
      "113783\n",
      "121591\n",
      "76983\n",
      "125175\n",
      "113591\n",
      "113975\n",
      "24738\n"
     ]
    },
    {
     "name": "stderr",
     "output_type": "stream",
     "text": [
      " 42%|███████████████████████████████████████████████████████████████████████████████████████████████████████████████████████▉                                                                                                                                                                      | 315/751 [09:00<14:31,  2.00s/it]"
     ]
    },
    {
     "name": "stdout",
     "output_type": "stream",
     "text": [
      "111159\n",
      "118711\n",
      "114999\n"
     ]
    },
    {
     "name": "stderr",
     "output_type": "stream",
     "text": [
      " 42%|████████████████████████████████████████████████████████████████████████████████████████████████████████████████████████▎                                                                                                                                                                     | 316/751 [09:02<15:29,  2.14s/it]"
     ]
    },
    {
     "name": "stdout",
     "output_type": "stream",
     "text": [
      "123191\n"
     ]
    },
    {
     "name": "stderr",
     "output_type": "stream",
     "text": [
      " 42%|████████████████████████████████████████████████████████████████████████████████████████████████████████████████████████▋                                                                                                                                                                     | 317/751 [09:03<12:03,  1.67s/it]"
     ]
    },
    {
     "name": "stdout",
     "output_type": "stream",
     "text": [
      "115127\n",
      "116983\n",
      "123191\n",
      "119031\n"
     ]
    },
    {
     "name": "stderr",
     "output_type": "stream",
     "text": [
      " 42%|█████████████████████████████████████████████████████████████████████████████████████████████████████████████████████████                                                                                                                                                                     | 318/751 [09:05<13:44,  1.90s/it]"
     ]
    },
    {
     "name": "stdout",
     "output_type": "stream",
     "text": [
      "121143\n",
      "121143\n",
      "119159\n",
      "115383\n"
     ]
    },
    {
     "name": "stderr",
     "output_type": "stream",
     "text": [
      " 42%|█████████████████████████████████████████████████████████████████████████████████████████████████████████████████████████▍                                                                                                                                                                    | 319/751 [09:07<14:28,  2.01s/it]"
     ]
    },
    {
     "name": "stdout",
     "output_type": "stream",
     "text": [
      "121143\n",
      "112375\n"
     ]
    },
    {
     "name": "stderr",
     "output_type": "stream",
     "text": [
      " 43%|█████████████████████████████████████████████████████████████████████████████████████████████████████████████████████████▊                                                                                                                                                                    | 320/751 [09:09<12:53,  1.79s/it]"
     ]
    },
    {
     "name": "stdout",
     "output_type": "stream",
     "text": [
      "116407\n",
      "106359\n",
      "121847\n"
     ]
    },
    {
     "name": "stderr",
     "output_type": "stream",
     "text": [
      " 43%|██████████████████████████████████████████████████████████████████████████████████████████████████████████████████████████▏                                                                                                                                                                   | 321/751 [09:10<12:26,  1.74s/it]"
     ]
    },
    {
     "name": "stdout",
     "output_type": "stream",
     "text": [
      "129975\n",
      "118327\n"
     ]
    },
    {
     "name": "stderr",
     "output_type": "stream",
     "text": [
      " 43%|██████████████████████████████████████████████████████████████████████████████████████████████████████████████████████████▋                                                                                                                                                                   | 322/751 [09:11<11:02,  1.55s/it]"
     ]
    },
    {
     "name": "stdout",
     "output_type": "stream",
     "text": [
      "118199\n",
      "103991\n",
      "117559\n"
     ]
    },
    {
     "name": "stderr",
     "output_type": "stream",
     "text": [
      " 43%|███████████████████████████████████████████████████████████████████████████████████████████████████████████████████████████                                                                                                                                                                   | 323/751 [09:13<11:28,  1.61s/it]"
     ]
    },
    {
     "name": "stdout",
     "output_type": "stream",
     "text": [
      "131191\n",
      "117175\n",
      "117559\n",
      "115127\n"
     ]
    },
    {
     "name": "stderr",
     "output_type": "stream",
     "text": [
      " 43%|███████████████████████████████████████████████████████████████████████████████████████████████████████████████████████████▍                                                                                                                                                                  | 324/751 [09:16<13:11,  1.85s/it]"
     ]
    },
    {
     "name": "stdout",
     "output_type": "stream",
     "text": [
      "117559\n",
      "123959\n",
      "120759\n",
      "114359\n"
     ]
    },
    {
     "name": "stderr",
     "output_type": "stream",
     "text": [
      " 43%|███████████████████████████████████████████████████████████████████████████████████████████████████████████████████████████▊                                                                                                                                                                  | 325/751 [09:18<14:37,  2.06s/it]"
     ]
    },
    {
     "name": "stdout",
     "output_type": "stream",
     "text": [
      "129591\n",
      "119159\n",
      "116791\n",
      "37623\n",
      "116151\n"
     ]
    },
    {
     "name": "stderr",
     "output_type": "stream",
     "text": [
      " 43%|████████████████████████████████████████████████████████████████████████████████████████████████████████████████████████████▏                                                                                                                                                                 | 326/751 [09:21<16:04,  2.27s/it]"
     ]
    },
    {
     "name": "stdout",
     "output_type": "stream",
     "text": [
      "119543\n",
      "130167\n",
      "115575\n",
      "119799\n"
     ]
    },
    {
     "name": "stderr",
     "output_type": "stream",
     "text": [
      " 44%|████████████████████████████████████████████████████████████████████████████████████████████████████████████████████████████▌                                                                                                                                                                 | 327/751 [09:24<16:46,  2.37s/it]"
     ]
    },
    {
     "name": "stdout",
     "output_type": "stream",
     "text": [
      "119607\n",
      "117367\n",
      "122359\n"
     ]
    },
    {
     "name": "stderr",
     "output_type": "stream",
     "text": [
      " 44%|████████████████████████████████████████████████████████████████████████████████████████████████████████████████████████████▉                                                                                                                                                                 | 328/751 [09:25<15:27,  2.19s/it]"
     ]
    },
    {
     "name": "stdout",
     "output_type": "stream",
     "text": [
      "121975\n",
      "119159\n",
      "124343\n",
      "117815\n"
     ]
    },
    {
     "name": "stderr",
     "output_type": "stream",
     "text": [
      " 44%|█████████████████████████████████████████████████████████████████████████████████████████████████████████████████████████████▎                                                                                                                                                                | 329/751 [09:28<15:56,  2.27s/it]"
     ]
    },
    {
     "name": "stdout",
     "output_type": "stream",
     "text": [
      "125943\n",
      "123191\n",
      "124599\n",
      "126391\n"
     ]
    },
    {
     "name": "stderr",
     "output_type": "stream",
     "text": [
      " 44%|█████████████████████████████████████████████████████████████████████████████████████████████████████████████████████████████▋                                                                                                                                                                | 330/751 [09:30<16:20,  2.33s/it]"
     ]
    },
    {
     "name": "stdout",
     "output_type": "stream",
     "text": [
      "118775\n",
      "117367\n",
      "125559\n",
      "120951\n"
     ]
    },
    {
     "name": "stderr",
     "output_type": "stream",
     "text": [
      " 44%|██████████████████████████████████████████████████████████████████████████████████████████████████████████████████████████████                                                                                                                                                                | 331/751 [09:32<15:39,  2.24s/it]"
     ]
    },
    {
     "name": "stdout",
     "output_type": "stream",
     "text": [
      "122167\n",
      "115191\n",
      "117559\n",
      "116599\n"
     ]
    },
    {
     "name": "stderr",
     "output_type": "stream",
     "text": [
      " 44%|██████████████████████████████████████████████████████████████████████████████████████████████████████████████████████████████▍                                                                                                                                                               | 332/751 [09:34<15:00,  2.15s/it]"
     ]
    },
    {
     "name": "stdout",
     "output_type": "stream",
     "text": [
      "119415\n",
      "121847\n",
      "117175\n",
      "187959\n"
     ]
    },
    {
     "name": "stderr",
     "output_type": "stream",
     "text": [
      " 44%|██████████████████████████████████████████████████████████████████████████████████████████████████████████████████████████████▊                                                                                                                                                               | 333/751 [09:37<15:55,  2.29s/it]"
     ]
    },
    {
     "name": "stdout",
     "output_type": "stream",
     "text": [
      "119927\n",
      "117111\n",
      "127031\n",
      "119799\n"
     ]
    },
    {
     "name": "stderr",
     "output_type": "stream",
     "text": [
      " 44%|███████████████████████████████████████████████████████████████████████████████████████████████████████████████████████████████▏                                                                                                                                                              | 334/751 [09:39<16:11,  2.33s/it]"
     ]
    },
    {
     "name": "stdout",
     "output_type": "stream",
     "text": [
      "117559\n",
      "116791\n",
      "117943\n",
      "121015\n"
     ]
    },
    {
     "name": "stderr",
     "output_type": "stream",
     "text": [
      " 45%|███████████████████████████████████████████████████████████████████████████████████████████████████████████████████████████████▌                                                                                                                                                              | 335/751 [09:42<16:43,  2.41s/it]"
     ]
    },
    {
     "name": "stdout",
     "output_type": "stream",
     "text": [
      "120759\n",
      "133815\n",
      "156215\n"
     ]
    },
    {
     "name": "stderr",
     "output_type": "stream",
     "text": [
      " 45%|███████████████████████████████████████████████████████████████████████████████████████████████████████████████████████████████▉                                                                                                                                                              | 336/751 [09:44<15:53,  2.30s/it]"
     ]
    },
    {
     "name": "stdout",
     "output_type": "stream",
     "text": [
      "136759\n",
      "87927\n",
      "88567\n",
      "81015\n"
     ]
    },
    {
     "name": "stderr",
     "output_type": "stream",
     "text": [
      " 45%|████████████████████████████████████████████████████████████████████████████████████████████████████████████████████████████████▎                                                                                                                                                             | 337/751 [09:46<15:13,  2.21s/it]"
     ]
    },
    {
     "name": "stdout",
     "output_type": "stream",
     "text": [
      "68151\n",
      "115767\n",
      "82999\n",
      "83959\n"
     ]
    },
    {
     "name": "stderr",
     "output_type": "stream",
     "text": [
      " 45%|████████████████████████████████████████████████████████████████████████████████████████████████████████████████████████████████▋                                                                                                                                                             | 338/751 [09:48<14:37,  2.13s/it]"
     ]
    },
    {
     "name": "stdout",
     "output_type": "stream",
     "text": [
      "102327\n",
      "90359\n",
      "72631\n"
     ]
    },
    {
     "name": "stderr",
     "output_type": "stream",
     "text": [
      " 45%|█████████████████████████████████████████████████████████████████████████████████████████████████████████████████████████████████                                                                                                                                                             | 339/751 [09:49<13:15,  1.93s/it]"
     ]
    },
    {
     "name": "stdout",
     "output_type": "stream",
     "text": [
      "109367\n",
      "82359\n",
      "78391\n",
      "76983\n"
     ]
    },
    {
     "name": "stderr",
     "output_type": "stream",
     "text": [
      " 45%|█████████████████████████████████████████████████████████████████████████████████████████████████████████████████████████████████▍                                                                                                                                                            | 340/751 [09:51<13:04,  1.91s/it]"
     ]
    },
    {
     "name": "stdout",
     "output_type": "stream",
     "text": [
      "88183\n",
      "70391\n",
      "111159\n",
      "85943\n"
     ]
    },
    {
     "name": "stderr",
     "output_type": "stream",
     "text": [
      " 45%|█████████████████████████████████████████████████████████████████████████████████████████████████████████████████████████████████▊                                                                                                                                                            | 341/751 [09:53<12:45,  1.87s/it]"
     ]
    },
    {
     "name": "stdout",
     "output_type": "stream",
     "text": [
      "80567\n",
      "78775\n",
      "71543\n",
      "60407\n"
     ]
    },
    {
     "name": "stderr",
     "output_type": "stream",
     "text": [
      " 46%|██████████████████████████████████████████████████████████████████████████████████████████████████████████████████████████████████▏                                                                                                                                                           | 342/751 [09:55<12:22,  1.81s/it]"
     ]
    },
    {
     "name": "stdout",
     "output_type": "stream",
     "text": [
      "86007\n",
      "76215\n",
      "94391\n",
      "78967\n"
     ]
    },
    {
     "name": "stderr",
     "output_type": "stream",
     "text": [
      " 46%|██████████████████████████████████████████████████████████████████████████████████████████████████████████████████████████████████▌                                                                                                                                                           | 343/751 [09:56<12:06,  1.78s/it]"
     ]
    },
    {
     "name": "stdout",
     "output_type": "stream",
     "text": [
      "76983\n",
      "92791\n",
      "83575\n"
     ]
    },
    {
     "name": "stderr",
     "output_type": "stream",
     "text": [
      " 46%|███████████████████████████████████████████████████████████████████████████████████████████████████████████████████████████████████                                                                                                                                                           | 344/751 [09:58<11:04,  1.63s/it]"
     ]
    },
    {
     "name": "stdout",
     "output_type": "stream",
     "text": [
      "52599\n",
      "42615\n",
      "39799\n"
     ]
    },
    {
     "name": "stderr",
     "output_type": "stream",
     "text": [
      " 46%|███████████████████████████████████████████████████████████████████████████████████████████████████████████████████████████████████▍                                                                                                                                                          | 345/751 [09:59<09:50,  1.45s/it]"
     ]
    },
    {
     "name": "stdout",
     "output_type": "stream",
     "text": [
      "64759\n",
      "44983\n",
      "30199\n",
      "39543\n"
     ]
    },
    {
     "name": "stderr",
     "output_type": "stream",
     "text": [
      " 46%|███████████████████████████████████████████████████████████████████████████████████████████████████████████████████████████████████▊                                                                                                                                                          | 346/751 [10:00<09:47,  1.45s/it]"
     ]
    },
    {
     "name": "stdout",
     "output_type": "stream",
     "text": [
      "92599\n",
      "80247\n",
      "83383\n",
      "81975\n"
     ]
    },
    {
     "name": "stderr",
     "output_type": "stream",
     "text": [
      " 46%|████████████████████████████████████████████████████████████████████████████████████████████████████████████████████████████████████▏                                                                                                                                                         | 347/751 [10:02<10:34,  1.57s/it]"
     ]
    },
    {
     "name": "stdout",
     "output_type": "stream",
     "text": [
      "82551\n",
      "58359\n",
      "89911\n",
      "88631\n"
     ]
    },
    {
     "name": "stderr",
     "output_type": "stream",
     "text": [
      " 46%|████████████████████████████████████████████████████████████████████████████████████████████████████████████████████████████████████▌                                                                                                                                                         | 348/751 [10:04<11:01,  1.64s/it]"
     ]
    },
    {
     "name": "stdout",
     "output_type": "stream",
     "text": [
      "119543\n",
      "36983\n",
      "49143\n",
      "31991\n"
     ]
    },
    {
     "name": "stderr",
     "output_type": "stream",
     "text": [
      " 46%|████████████████████████████████████████████████████████████████████████████████████████████████████████████████████████████████████▉                                                                                                                                                         | 349/751 [10:05<09:49,  1.47s/it]"
     ]
    },
    {
     "name": "stdout",
     "output_type": "stream",
     "text": [
      "46647\n",
      "72951\n",
      "44727\n",
      "49783\n"
     ]
    },
    {
     "name": "stderr",
     "output_type": "stream",
     "text": [
      " 47%|█████████████████████████████████████████████████████████████████████████████████████████████████████████████████████████████████████▎                                                                                                                                                        | 350/751 [10:06<09:44,  1.46s/it]"
     ]
    },
    {
     "name": "stdout",
     "output_type": "stream",
     "text": [
      "61559\n",
      "79991\n",
      "97591\n",
      "80375\n"
     ]
    },
    {
     "name": "stderr",
     "output_type": "stream",
     "text": [
      " 47%|█████████████████████████████████████████████████████████████████████████████████████████████████████████████████████████████████████▋                                                                                                                                                        | 351/751 [10:08<10:11,  1.53s/it]"
     ]
    },
    {
     "name": "stdout",
     "output_type": "stream",
     "text": [
      "77943\n",
      "80183\n",
      "86647\n",
      "79927\n"
     ]
    },
    {
     "name": "stderr",
     "output_type": "stream",
     "text": [
      " 47%|██████████████████████████████████████████████████████████████████████████████████████████████████████████████████████████████████████                                                                                                                                                        | 352/751 [10:10<10:44,  1.61s/it]"
     ]
    },
    {
     "name": "stdout",
     "output_type": "stream",
     "text": [
      "88183\n",
      "43383\n",
      "51575\n",
      "45175\n"
     ]
    },
    {
     "name": "stderr",
     "output_type": "stream",
     "text": [
      " 47%|██████████████████████████████████████████████████████████████████████████████████████████████████████████████████████████████████████▍                                                                                                                                                       | 353/751 [10:11<09:59,  1.51s/it]"
     ]
    },
    {
     "name": "stdout",
     "output_type": "stream",
     "text": [
      "70199\n",
      "47159\n",
      "48375\n",
      "37559\n"
     ]
    },
    {
     "name": "stderr",
     "output_type": "stream",
     "text": [
      " 47%|██████████████████████████████████████████████████████████████████████████████████████████████████████████████████████████████████████▊                                                                                                                                                       | 354/751 [10:12<09:32,  1.44s/it]"
     ]
    },
    {
     "name": "stdout",
     "output_type": "stream",
     "text": [
      "63415\n",
      "23799\n"
     ]
    },
    {
     "name": "stderr",
     "output_type": "stream",
     "text": [
      " 47%|███████████████████████████████████████████████████████████████████████████████████████████████████████████████████████████████████████▏                                                                                                                                                      | 355/751 [10:13<07:36,  1.15s/it]"
     ]
    },
    {
     "name": "stdout",
     "output_type": "stream",
     "text": [
      "26359\n",
      "73975\n",
      "54583\n"
     ]
    },
    {
     "name": "stderr",
     "output_type": "stream",
     "text": [
      " 47%|███████████████████████████████████████████████████████████████████████████████████████████████████████████████████████████████████████▌                                                                                                                                                      | 356/751 [10:14<07:49,  1.19s/it]"
     ]
    },
    {
     "name": "stdout",
     "output_type": "stream",
     "text": [
      "87991\n",
      "53559\n",
      "63159\n",
      "48183\n"
     ]
    },
    {
     "name": "stderr",
     "output_type": "stream",
     "text": [
      " 48%|███████████████████████████████████████████████████████████████████████████████████████████████████████████████████████████████████████▉                                                                                                                                                      | 357/751 [10:15<07:58,  1.22s/it]"
     ]
    },
    {
     "name": "stdout",
     "output_type": "stream",
     "text": [
      "62775\n",
      "89207\n"
     ]
    },
    {
     "name": "stderr",
     "output_type": "stream",
     "text": [
      " 48%|████████████████████████████████████████████████████████████████████████████████████████████████████████████████████████████████████████▎                                                                                                                                                     | 358/751 [10:16<07:29,  1.14s/it]"
     ]
    },
    {
     "name": "stdout",
     "output_type": "stream",
     "text": [
      "92791\n",
      "50743\n",
      "55351\n",
      "34999\n"
     ]
    },
    {
     "name": "stderr",
     "output_type": "stream",
     "text": [
      " 48%|████████████████████████████████████████████████████████████████████████████████████████████████████████████████████████████████████████▋                                                                                                                                                     | 359/751 [10:18<07:43,  1.18s/it]"
     ]
    },
    {
     "name": "stdout",
     "output_type": "stream",
     "text": [
      "45175\n",
      "32759\n",
      "39159\n",
      "34359\n"
     ]
    },
    {
     "name": "stderr",
     "output_type": "stream",
     "text": [
      " 48%|█████████████████████████████████████████████████████████████████████████████████████████████████████████████████████████████████████████                                                                                                                                                     | 360/751 [10:19<07:56,  1.22s/it]"
     ]
    },
    {
     "name": "stdout",
     "output_type": "stream",
     "text": [
      "60599\n",
      "45111\n",
      "64247\n",
      "47351\n"
     ]
    },
    {
     "name": "stderr",
     "output_type": "stream",
     "text": [
      " 48%|█████████████████████████████████████████████████████████████████████████████████████████████████████████████████████████████████████████▍                                                                                                                                                    | 361/751 [10:20<08:27,  1.30s/it]"
     ]
    },
    {
     "name": "stdout",
     "output_type": "stream",
     "text": [
      "64631\n",
      "88759\n",
      "87415\n",
      "127543\n"
     ]
    },
    {
     "name": "stderr",
     "output_type": "stream",
     "text": [
      " 48%|█████████████████████████████████████████████████████████████████████████████████████████████████████████████████████████████████████████▊                                                                                                                                                    | 362/751 [10:22<09:40,  1.49s/it]"
     ]
    },
    {
     "name": "stdout",
     "output_type": "stream",
     "text": [
      "76343\n",
      "59127\n",
      "35959\n",
      "41399\n"
     ]
    },
    {
     "name": "stderr",
     "output_type": "stream",
     "text": [
      " 48%|██████████████████████████████████████████████████████████████████████████████████████████████████████████████████████████████████████████▏                                                                                                                                                   | 363/751 [10:23<09:03,  1.40s/it]"
     ]
    },
    {
     "name": "stdout",
     "output_type": "stream",
     "text": [
      "45943\n",
      "36599\n",
      "66743\n",
      "41975\n"
     ]
    },
    {
     "name": "stderr",
     "output_type": "stream",
     "text": [
      " 48%|██████████████████████████████████████████████████████████████████████████████████████████████████████████████████████████████████████████▌                                                                                                                                                   | 364/751 [10:25<08:49,  1.37s/it]"
     ]
    },
    {
     "name": "stdout",
     "output_type": "stream",
     "text": [
      "47799\n",
      "65271\n"
     ]
    },
    {
     "name": "stderr",
     "output_type": "stream",
     "text": [
      " 49%|███████████████████████████████████████████████████████████████████████████████████████████████████████████████████████████████████████████                                                                                                                                                   | 365/751 [10:26<07:40,  1.19s/it]"
     ]
    },
    {
     "name": "stdout",
     "output_type": "stream",
     "text": [
      "67255\n",
      "65015\n",
      "67575\n",
      "65591\n"
     ]
    },
    {
     "name": "stderr",
     "output_type": "stream",
     "text": [
      " 49%|███████████████████████████████████████████████████████████████████████████████████████████████████████████████████████████████████████████▍                                                                                                                                                  | 366/751 [10:27<08:32,  1.33s/it]"
     ]
    },
    {
     "name": "stdout",
     "output_type": "stream",
     "text": [
      "69111\n",
      "87991\n"
     ]
    },
    {
     "name": "stderr",
     "output_type": "stream",
     "text": [
      " 49%|███████████████████████████████████████████████████████████████████████████████████████████████████████████████████████████████████████████▊                                                                                                                                                  | 367/751 [10:28<07:34,  1.18s/it]"
     ]
    },
    {
     "name": "stdout",
     "output_type": "stream",
     "text": [
      "82999\n",
      "42359\n",
      "58359\n",
      "52343\n"
     ]
    },
    {
     "name": "stderr",
     "output_type": "stream",
     "text": [
      " 49%|████████████████████████████████████████████████████████████████████████████████████████████████████████████████████████████████████████████▏                                                                                                                                                 | 368/751 [10:29<07:46,  1.22s/it]"
     ]
    },
    {
     "name": "stdout",
     "output_type": "stream",
     "text": [
      "64759\n",
      "42359\n",
      "52791\n",
      "44215\n"
     ]
    },
    {
     "name": "stderr",
     "output_type": "stream",
     "text": [
      " 49%|████████████████████████████████████████████████████████████████████████████████████████████████████████████████████████████████████████████▌                                                                                                                                                 | 369/751 [10:31<07:59,  1.26s/it]"
     ]
    },
    {
     "name": "stdout",
     "output_type": "stream",
     "text": [
      "59959\n",
      "83127\n"
     ]
    },
    {
     "name": "stderr",
     "output_type": "stream",
     "text": [
      " 49%|████████████████████████████████████████████████████████████████████████████████████████████████████████████████████████████████████████████▉                                                                                                                                                 | 370/751 [10:32<07:18,  1.15s/it]"
     ]
    },
    {
     "name": "stdout",
     "output_type": "stream",
     "text": [
      "59959\n",
      "79543\n"
     ]
    },
    {
     "name": "stderr",
     "output_type": "stream",
     "text": [
      " 49%|█████████████████████████████████████████████████████████████████████████████████████████████████████████████████████████████████████████████▎                                                                                                                                                | 371/751 [10:32<06:49,  1.08s/it]"
     ]
    },
    {
     "name": "stdout",
     "output_type": "stream",
     "text": [
      "85367\n",
      "58167\n",
      "64759\n",
      "60727\n"
     ]
    },
    {
     "name": "stderr",
     "output_type": "stream",
     "text": [
      " 50%|█████████████████████████████████████████████████████████████████████████████████████████████████████████████████████████████████████████████▋                                                                                                                                                | 372/751 [10:34<07:06,  1.12s/it]"
     ]
    },
    {
     "name": "stdout",
     "output_type": "stream",
     "text": [
      "60727\n",
      "41527\n",
      "45047\n",
      "49399\n"
     ]
    },
    {
     "name": "stderr",
     "output_type": "stream",
     "text": [
      " 50%|██████████████████████████████████████████████████████████████████████████████████████████████████████████████████████████████████████████████                                                                                                                                                | 373/751 [10:35<06:46,  1.08s/it]"
     ]
    },
    {
     "name": "stdout",
     "output_type": "stream",
     "text": [
      "64375\n",
      "81143\n",
      "80759\n",
      "83191\n"
     ]
    },
    {
     "name": "stderr",
     "output_type": "stream",
     "text": [
      " 50%|██████████████████████████████████████████████████████████████████████████████████████████████████████████████████████████████████████████████▍                                                                                                                                               | 374/751 [10:36<07:53,  1.26s/it]"
     ]
    },
    {
     "name": "stdout",
     "output_type": "stream",
     "text": [
      "80759\n",
      "31799\n",
      "41847\n",
      "43511\n"
     ]
    },
    {
     "name": "stderr",
     "output_type": "stream",
     "text": [
      " 50%|██████████████████████████████████████████████████████████████████████████████████████████████████████████████████████████████████████████████▊                                                                                                                                               | 375/751 [10:38<07:58,  1.27s/it]"
     ]
    },
    {
     "name": "stdout",
     "output_type": "stream",
     "text": [
      "96759\n",
      "69175\n",
      "82999\n",
      "70199\n"
     ]
    },
    {
     "name": "stderr",
     "output_type": "stream",
     "text": [
      " 50%|███████████████████████████████████████████████████████████████████████████████████████████████████████████████████████████████████████████████▏                                                                                                                                              | 376/751 [10:39<08:41,  1.39s/it]"
     ]
    },
    {
     "name": "stdout",
     "output_type": "stream",
     "text": [
      "70583\n",
      "64375\n",
      "75383\n",
      "60599\n"
     ]
    },
    {
     "name": "stderr",
     "output_type": "stream",
     "text": [
      " 50%|███████████████████████████████████████████████████████████████████████████████████████████████████████████████████████████████████████████████▌                                                                                                                                              | 377/751 [10:41<09:19,  1.50s/it]"
     ]
    },
    {
     "name": "stdout",
     "output_type": "stream",
     "text": [
      "80183\n",
      "79159\n",
      "80375\n",
      "80375\n"
     ]
    },
    {
     "name": "stderr",
     "output_type": "stream",
     "text": [
      " 50%|███████████████████████████████████████████████████████████████████████████████████████████████████████████████████████████████████████████████▉                                                                                                                                              | 378/751 [10:43<09:50,  1.58s/it]"
     ]
    },
    {
     "name": "stdout",
     "output_type": "stream",
     "text": [
      "95159\n",
      "81399\n",
      "86199\n",
      "79159\n"
     ]
    },
    {
     "name": "stderr",
     "output_type": "stream",
     "text": [
      " 50%|████████████████████████████████████████████████████████████████████████████████████████████████████████████████████████████████████████████████▎                                                                                                                                             | 379/751 [10:45<10:03,  1.62s/it]"
     ]
    },
    {
     "name": "stdout",
     "output_type": "stream",
     "text": [
      "80631\n",
      "34551\n",
      "45111\n",
      "47799\n"
     ]
    },
    {
     "name": "stderr",
     "output_type": "stream",
     "text": [
      " 51%|████████████████████████████████████████████████████████████████████████████████████████████████████████████████████████████████████████████████▋                                                                                                                                             | 380/751 [10:46<09:09,  1.48s/it]"
     ]
    },
    {
     "name": "stdout",
     "output_type": "stream",
     "text": [
      "65143\n",
      "49399\n",
      "26359\n",
      "25399\n"
     ]
    },
    {
     "name": "stderr",
     "output_type": "stream",
     "text": [
      " 51%|█████████████████████████████████████████████████████████████████████████████████████████████████████████████████████████████████████████████████                                                                                                                                             | 381/751 [10:47<08:24,  1.36s/it]"
     ]
    },
    {
     "name": "stdout",
     "output_type": "stream",
     "text": [
      "61175\n",
      "28215\n"
     ]
    },
    {
     "name": "stderr",
     "output_type": "stream",
     "text": [
      " 51%|█████████████████████████████████████████████████████████████████████████████████████████████████████████████████████████████████████████████████▍                                                                                                                                            | 382/751 [10:47<06:34,  1.07s/it]"
     ]
    },
    {
     "name": "stdout",
     "output_type": "stream",
     "text": [
      "31927\n",
      "80759\n",
      "89911\n",
      "85559\n"
     ]
    },
    {
     "name": "stderr",
     "output_type": "stream",
     "text": [
      " 51%|█████████████████████████████████████████████████████████████████████████████████████████████████████████████████████████████████████████████████▊                                                                                                                                            | 383/751 [10:49<07:59,  1.30s/it]"
     ]
    },
    {
     "name": "stdout",
     "output_type": "stream",
     "text": [
      "83383\n",
      "81527\n",
      "65143\n",
      "53559\n"
     ]
    },
    {
     "name": "stderr",
     "output_type": "stream",
     "text": [
      " 51%|██████████████████████████████████████████████████████████████████████████████████████████████████████████████████████████████████████████████████▏                                                                                                                                           | 384/751 [10:50<07:52,  1.29s/it]"
     ]
    },
    {
     "name": "stdout",
     "output_type": "stream",
     "text": [
      "58359\n",
      "46775\n",
      "54775\n",
      "43191\n"
     ]
    },
    {
     "name": "stderr",
     "output_type": "stream",
     "text": [
      " 51%|██████████████████████████████████████████████████████████████████████████████████████████████████████████████████████████████████████████████████▌                                                                                                                                           | 385/751 [10:51<07:13,  1.19s/it]"
     ]
    },
    {
     "name": "stdout",
     "output_type": "stream",
     "text": [
      "70327\n",
      "84727\n",
      "88375\n",
      "127031\n"
     ]
    },
    {
     "name": "stderr",
     "output_type": "stream",
     "text": [
      " 51%|██████████████████████████████████████████████████████████████████████████████████████████████████████████████████████████████████████████████████▉                                                                                                                                           | 386/751 [10:53<08:26,  1.39s/it]"
     ]
    },
    {
     "name": "stdout",
     "output_type": "stream",
     "text": [
      "91127\n",
      "81975\n",
      "83959\n",
      "116791\n"
     ]
    },
    {
     "name": "stderr",
     "output_type": "stream",
     "text": [
      " 52%|███████████████████████████████████████████████████████████████████████████████████████████████████████████████████████████████████████████████████▍                                                                                                                                          | 387/751 [10:55<09:27,  1.56s/it]"
     ]
    },
    {
     "name": "stdout",
     "output_type": "stream",
     "text": [
      "84343\n",
      "85559\n",
      "83575\n",
      "86775\n"
     ]
    },
    {
     "name": "stderr",
     "output_type": "stream",
     "text": [
      " 52%|███████████████████████████████████████████████████████████████████████████████████████████████████████████████████████████████████████████████████▊                                                                                                                                          | 388/751 [10:57<10:06,  1.67s/it]"
     ]
    },
    {
     "name": "stdout",
     "output_type": "stream",
     "text": [
      "110391\n",
      "45367\n",
      "81591\n",
      "89591\n"
     ]
    },
    {
     "name": "stderr",
     "output_type": "stream",
     "text": [
      " 52%|████████████████████████████████████████████████████████████████████████████████████████████████████████████████████████████████████████████████████▏                                                                                                                                         | 389/751 [10:59<09:45,  1.62s/it]"
     ]
    },
    {
     "name": "stdout",
     "output_type": "stream",
     "text": [
      "78583\n",
      "56247\n"
     ]
    },
    {
     "name": "stderr",
     "output_type": "stream",
     "text": [
      " 52%|████████████████████████████████████████████████████████████████████████████████████████████████████████████████████████████████████████████████████▌                                                                                                                                         | 390/751 [10:59<07:58,  1.33s/it]"
     ]
    },
    {
     "name": "stdout",
     "output_type": "stream",
     "text": [
      "37815\n",
      "52215\n",
      "60215\n",
      "48759\n"
     ]
    },
    {
     "name": "stderr",
     "output_type": "stream",
     "text": [
      " 52%|████████████████████████████████████████████████████████████████████████████████████████████████████████████████████████████████████████████████████▉                                                                                                                                         | 391/751 [11:01<08:36,  1.44s/it]"
     ]
    },
    {
     "name": "stdout",
     "output_type": "stream",
     "text": [
      "137207\n",
      "79991\n",
      "55543\n",
      "50743\n"
     ]
    },
    {
     "name": "stderr",
     "output_type": "stream",
     "text": [
      " 52%|█████████████████████████████████████████████████████████████████████████████████████████████████████████████████████████████████████████████████████▎                                                                                                                                        | 392/751 [11:02<08:26,  1.41s/it]"
     ]
    },
    {
     "name": "stdout",
     "output_type": "stream",
     "text": [
      "83191\n",
      "85943\n"
     ]
    },
    {
     "name": "stderr",
     "output_type": "stream",
     "text": [
      " 52%|█████████████████████████████████████████████████████████████████████████████████████████████████████████████████████████████████████████████████████▋                                                                                                                                        | 393/751 [11:03<07:28,  1.25s/it]"
     ]
    },
    {
     "name": "stdout",
     "output_type": "stream",
     "text": [
      "100727\n",
      "61943\n",
      "48759\n",
      "62775\n"
     ]
    },
    {
     "name": "stderr",
     "output_type": "stream",
     "text": [
      " 52%|██████████████████████████████████████████████████████████████████████████████████████████████████████████████████████████████████████████████████████                                                                                                                                        | 394/751 [11:05<08:21,  1.40s/it]"
     ]
    },
    {
     "name": "stdout",
     "output_type": "stream",
     "text": [
      "100343\n",
      "81591\n",
      "81399\n",
      "79543\n"
     ]
    },
    {
     "name": "stderr",
     "output_type": "stream",
     "text": [
      " 53%|██████████████████████████████████████████████████████████████████████████████████████████████████████████████████████████████████████████████████████▍                                                                                                                                       | 395/751 [11:07<08:54,  1.50s/it]"
     ]
    },
    {
     "name": "stdout",
     "output_type": "stream",
     "text": [
      "89143\n",
      "86327\n",
      "81399\n"
     ]
    },
    {
     "name": "stderr",
     "output_type": "stream",
     "text": [
      " 53%|██████████████████████████████████████████████████████████████████████████████████████████████████████████████████████████████████████████████████████▊                                                                                                                                       | 396/751 [11:08<08:37,  1.46s/it]"
     ]
    },
    {
     "name": "stdout",
     "output_type": "stream",
     "text": [
      "84407\n",
      "76407\n",
      "72375\n",
      "52983\n"
     ]
    },
    {
     "name": "stderr",
     "output_type": "stream",
     "text": [
      " 53%|███████████████████████████████████████████████████████████████████████████████████████████████████████████████████████████████████████████████████████▏                                                                                                                                      | 397/751 [11:10<09:14,  1.56s/it]"
     ]
    },
    {
     "name": "stdout",
     "output_type": "stream",
     "text": [
      "114999\n",
      "75831\n",
      "92599\n",
      "79415\n"
     ]
    },
    {
     "name": "stderr",
     "output_type": "stream",
     "text": [
      " 53%|███████████████████████████████████████████████████████████████████████████████████████████████████████████████████████████████████████████████████████▌                                                                                                                                      | 398/751 [11:11<09:21,  1.59s/it]"
     ]
    },
    {
     "name": "stdout",
     "output_type": "stream",
     "text": [
      "77367\n",
      "32183\n",
      "53559\n",
      "80375\n"
     ]
    },
    {
     "name": "stderr",
     "output_type": "stream",
     "text": [
      " 53%|███████████████████████████████████████████████████████████████████████████████████████████████████████████████████████████████████████████████████████▉                                                                                                                                      | 399/751 [11:13<08:41,  1.48s/it]"
     ]
    },
    {
     "name": "stdout",
     "output_type": "stream",
     "text": [
      "67127\n",
      "80631\n",
      "84727\n",
      "110199\n"
     ]
    },
    {
     "name": "stderr",
     "output_type": "stream",
     "text": [
      " 53%|████████████████████████████████████████████████████████████████████████████████████████████████████████████████████████████████████████████████████████▎                                                                                                                                     | 400/751 [11:15<09:27,  1.62s/it]"
     ]
    },
    {
     "name": "stdout",
     "output_type": "stream",
     "text": [
      "86775\n",
      "43767\n",
      "35191\n",
      "43959\n"
     ]
    },
    {
     "name": "stderr",
     "output_type": "stream",
     "text": [
      " 53%|████████████████████████████████████████████████████████████████████████████████████████████████████████████████████████████████████████████████████████▋                                                                                                                                     | 401/751 [11:16<08:43,  1.50s/it]"
     ]
    },
    {
     "name": "stdout",
     "output_type": "stream",
     "text": [
      "76727\n",
      "80759\n",
      "97527\n",
      "81975\n"
     ]
    },
    {
     "name": "stderr",
     "output_type": "stream",
     "text": [
      " 54%|█████████████████████████████████████████████████████████████████████████████████████████████████████████████████████████████████████████████████████████                                                                                                                                     | 402/751 [11:18<09:13,  1.59s/it]"
     ]
    },
    {
     "name": "stdout",
     "output_type": "stream",
     "text": [
      "82231\n",
      "83127\n",
      "79799\n",
      "118327\n"
     ]
    },
    {
     "name": "stderr",
     "output_type": "stream",
     "text": [
      " 54%|█████████████████████████████████████████████████████████████████████████████████████████████████████████████████████████████████████████████████████████▍                                                                                                                                    | 403/751 [11:19<09:24,  1.62s/it]"
     ]
    },
    {
     "name": "stdout",
     "output_type": "stream",
     "text": [
      "81591\n",
      "77175\n",
      "78391\n",
      "80375\n"
     ]
    },
    {
     "name": "stderr",
     "output_type": "stream",
     "text": [
      " 54%|█████████████████████████████████████████████████████████████████████████████████████████████████████████████████████████████████████████████████████████▊                                                                                                                                    | 404/751 [11:20<08:38,  1.49s/it]"
     ]
    },
    {
     "name": "stdout",
     "output_type": "stream",
     "text": [
      "73783\n",
      "43959\n",
      "35575\n",
      "33527\n"
     ]
    },
    {
     "name": "stderr",
     "output_type": "stream",
     "text": [
      " 54%|██████████████████████████████████████████████████████████████████████████████████████████████████████████████████████████████████████████████████████████▏                                                                                                                                   | 405/751 [11:22<08:09,  1.41s/it]"
     ]
    },
    {
     "name": "stdout",
     "output_type": "stream",
     "text": [
      "38199\n",
      "135927\n",
      "91191\n",
      "93559\n"
     ]
    },
    {
     "name": "stderr",
     "output_type": "stream",
     "text": [
      " 54%|██████████████████████████████████████████████████████████████████████████████████████████████████████████████████████████████████████████████████████████▌                                                                                                                                   | 406/751 [11:24<09:35,  1.67s/it]"
     ]
    },
    {
     "name": "stdout",
     "output_type": "stream",
     "text": [
      "132407\n",
      "83575\n",
      "85367\n",
      "119991\n"
     ]
    },
    {
     "name": "stderr",
     "output_type": "stream",
     "text": [
      " 54%|██████████████████████████████████████████████████████████████████████████████████████████████████████████████████████████████████████████████████████████▉                                                                                                                                   | 407/751 [11:26<10:06,  1.76s/it]"
     ]
    },
    {
     "name": "stdout",
     "output_type": "stream",
     "text": [
      "79159\n",
      "87415\n",
      "86583\n",
      "121911\n"
     ]
    },
    {
     "name": "stderr",
     "output_type": "stream",
     "text": [
      " 54%|███████████████████████████████████████████████████████████████████████████████████████████████████████████████████████████████████████████████████████████▍                                                                                                                                  | 408/751 [11:28<10:34,  1.85s/it]"
     ]
    },
    {
     "name": "stdout",
     "output_type": "stream",
     "text": [
      "90231\n",
      "54199\n",
      "91831\n"
     ]
    },
    {
     "name": "stderr",
     "output_type": "stream",
     "text": [
      " 54%|███████████████████████████████████████████████████████████████████████████████████████████████████████████████████████████████████████████████████████████▊                                                                                                                                  | 409/751 [11:29<09:43,  1.71s/it]"
     ]
    },
    {
     "name": "stdout",
     "output_type": "stream",
     "text": [
      "118775\n",
      "75127\n",
      "74615\n"
     ]
    },
    {
     "name": "stderr",
     "output_type": "stream",
     "text": [
      " 55%|████████████████████████████████████████████████████████████████████████████████████████████████████████████████████████████████████████████████████████████▏                                                                                                                                 | 410/751 [11:30<08:36,  1.52s/it]"
     ]
    },
    {
     "name": "stdout",
     "output_type": "stream",
     "text": [
      "58615\n",
      "94775\n",
      "112759\n"
     ]
    },
    {
     "name": "stderr",
     "output_type": "stream",
     "text": [
      " 55%|████████████████████████████████████████████████████████████████████████████████████████████████████████████████████████████████████████████████████████████▌                                                                                                                                 | 411/751 [11:32<08:37,  1.52s/it]"
     ]
    },
    {
     "name": "stdout",
     "output_type": "stream",
     "text": [
      "97527\n",
      "84215\n",
      "78775\n",
      "82615\n"
     ]
    },
    {
     "name": "stderr",
     "output_type": "stream",
     "text": [
      " 55%|████████████████████████████████████████████████████████████████████████████████████████████████████████████████████████████████████████████████████████████▉                                                                                                                                 | 412/751 [11:34<08:41,  1.54s/it]"
     ]
    },
    {
     "name": "stdout",
     "output_type": "stream",
     "text": [
      "82231\n",
      "52599\n",
      "79031\n",
      "73143\n"
     ]
    },
    {
     "name": "stderr",
     "output_type": "stream",
     "text": [
      " 55%|█████████████████████████████████████████████████████████████████████████████████████████████████████████████████████████████████████████████████████████████▎                                                                                                                                | 413/751 [11:35<08:22,  1.49s/it]"
     ]
    },
    {
     "name": "stdout",
     "output_type": "stream",
     "text": [
      "74167\n"
     ]
    },
    {
     "name": "stderr",
     "output_type": "stream",
     "text": [
      " 55%|█████████████████████████████████████████████████████████████████████████████████████████████████████████████████████████████████████████████████████████████▋                                                                                                                                | 414/751 [11:35<06:37,  1.18s/it]"
     ]
    },
    {
     "name": "stdout",
     "output_type": "stream",
     "text": [
      "112631\n",
      "55159\n",
      "104311\n",
      "96375\n"
     ]
    },
    {
     "name": "stderr",
     "output_type": "stream",
     "text": [
      " 55%|██████████████████████████████████████████████████████████████████████████████████████████████████████████████████████████████████████████████████████████████                                                                                                                                | 415/751 [11:37<06:44,  1.21s/it]"
     ]
    },
    {
     "name": "stdout",
     "output_type": "stream",
     "text": [
      "99575\n",
      "72183\n",
      "70327\n"
     ]
    },
    {
     "name": "stderr",
     "output_type": "stream",
     "text": [
      " 55%|██████████████████████████████████████████████████████████████████████████████████████████████████████████████████████████████████████████████████████████████▍                                                                                                                               | 416/751 [11:38<06:35,  1.18s/it]"
     ]
    },
    {
     "name": "stdout",
     "output_type": "stream",
     "text": [
      "105527\n",
      "79927\n",
      "90359\n",
      "79543\n"
     ]
    },
    {
     "name": "stderr",
     "output_type": "stream",
     "text": [
      " 56%|██████████████████████████████████████████████████████████████████████████████████████████████████████████████████████████████████████████████████████████████▊                                                                                                                               | 417/751 [11:40<07:31,  1.35s/it]"
     ]
    },
    {
     "name": "stdout",
     "output_type": "stream",
     "text": [
      "77815\n",
      "79543\n",
      "95159\n",
      "80375\n"
     ]
    },
    {
     "name": "stderr",
     "output_type": "stream",
     "text": [
      " 56%|███████████████████████████████████████████████████████████████████████████████████████████████████████████████████████████████████████████████████████████████▏                                                                                                                              | 418/751 [11:41<08:19,  1.50s/it]"
     ]
    },
    {
     "name": "stdout",
     "output_type": "stream",
     "text": [
      "77367\n",
      "45815\n",
      "80375\n",
      "63927\n"
     ]
    },
    {
     "name": "stderr",
     "output_type": "stream",
     "text": [
      " 56%|███████████████████████████████████████████████████████████████████████████████████████████████████████████████████████████████████████████████████████████████▌                                                                                                                              | 419/751 [11:43<08:20,  1.51s/it]"
     ]
    },
    {
     "name": "stdout",
     "output_type": "stream",
     "text": [
      "64183\n",
      "80247\n",
      "78967\n",
      "78199\n"
     ]
    },
    {
     "name": "stderr",
     "output_type": "stream",
     "text": [
      " 56%|███████████████████████████████████████████████████████████████████████████████████████████████████████████████████████████████████████████████████████████████▉                                                                                                                              | 420/751 [11:45<08:38,  1.57s/it]"
     ]
    },
    {
     "name": "stdout",
     "output_type": "stream",
     "text": [
      "78775\n",
      "79799\n",
      "96183\n",
      "75831\n"
     ]
    },
    {
     "name": "stderr",
     "output_type": "stream",
     "text": [
      " 56%|████████████████████████████████████████████████████████████████████████████████████████████████████████████████████████████████████████████████████████████████▎                                                                                                                             | 421/751 [11:46<08:07,  1.48s/it]"
     ]
    },
    {
     "name": "stdout",
     "output_type": "stream",
     "text": [
      "80567\n",
      "99383\n",
      "123191\n"
     ]
    },
    {
     "name": "stderr",
     "output_type": "stream",
     "text": [
      " 56%|████████████████████████████████████████████████████████████████████████████████████████████████████████████████████████████████████████████████████████████████▋                                                                                                                             | 422/751 [11:47<07:51,  1.43s/it]"
     ]
    },
    {
     "name": "stdout",
     "output_type": "stream",
     "text": [
      "85943\n",
      "88567\n",
      "80375\n",
      "77943\n"
     ]
    },
    {
     "name": "stderr",
     "output_type": "stream",
     "text": [
      " 56%|█████████████████████████████████████████████████████████████████████████████████████████████████████████████████████████████████████████████████████████████████                                                                                                                             | 423/751 [11:49<08:48,  1.61s/it]"
     ]
    },
    {
     "name": "stdout",
     "output_type": "stream",
     "text": [
      "77751\n",
      "79351\n",
      "80183\n",
      "80759\n"
     ]
    },
    {
     "name": "stderr",
     "output_type": "stream",
     "text": [
      " 56%|█████████████████████████████████████████████████████████████████████████████████████████████████████████████████████████████████████████████████████████████████▍                                                                                                                            | 424/751 [11:51<08:57,  1.64s/it]"
     ]
    },
    {
     "name": "stdout",
     "output_type": "stream",
     "text": [
      "76215\n",
      "56567\n",
      "46583\n",
      "49783\n"
     ]
    },
    {
     "name": "stderr",
     "output_type": "stream",
     "text": [
      " 57%|█████████████████████████████████████████████████████████████████████████████████████████████████████████████████████████████████████████████████████████████████▊                                                                                                                            | 425/751 [11:52<08:34,  1.58s/it]"
     ]
    },
    {
     "name": "stdout",
     "output_type": "stream",
     "text": [
      "71607\n",
      "84983\n",
      "86199\n",
      "123191\n"
     ]
    },
    {
     "name": "stderr",
     "output_type": "stream",
     "text": [
      " 57%|██████████████████████████████████████████████████████████████████████████████████████████████████████████████████████████████████████████████████████████████████▏                                                                                                                           | 426/751 [11:54<08:59,  1.66s/it]"
     ]
    },
    {
     "name": "stdout",
     "output_type": "stream",
     "text": [
      "78775\n",
      "84599\n",
      "79991\n",
      "116983\n"
     ]
    },
    {
     "name": "stderr",
     "output_type": "stream",
     "text": [
      " 57%|██████████████████████████████████████████████████████████████████████████████████████████████████████████████████████████████████████████████████████████████████▌                                                                                                                           | 427/751 [11:56<09:33,  1.77s/it]"
     ]
    },
    {
     "name": "stdout",
     "output_type": "stream",
     "text": [
      "79991\n",
      "88375\n",
      "81527\n",
      "103159\n"
     ]
    },
    {
     "name": "stderr",
     "output_type": "stream",
     "text": [
      " 57%|██████████████████████████████████████████████████████████████████████████████████████████████████████████████████████████████████████████████████████████████████▉                                                                                                                           | 428/751 [11:58<10:02,  1.87s/it]"
     ]
    },
    {
     "name": "stdout",
     "output_type": "stream",
     "text": [
      "85815\n",
      "36727\n",
      "31415\n",
      "45559\n"
     ]
    },
    {
     "name": "stderr",
     "output_type": "stream",
     "text": [
      " 57%|███████████████████████████████████████████████████████████████████████████████████████████████████████████████████████████████████████████████████████████████████▎                                                                                                                          | 429/751 [12:00<09:07,  1.70s/it]"
     ]
    },
    {
     "name": "stdout",
     "output_type": "stream",
     "text": [
      "44599\n",
      "87927\n",
      "80375\n",
      "91191\n"
     ]
    },
    {
     "name": "stderr",
     "output_type": "stream",
     "text": [
      " 57%|███████████████████████████████████████████████████████████████████████████████████████████████████████████████████████████████████████████████████████████████████▊                                                                                                                          | 430/751 [12:02<09:26,  1.77s/it]"
     ]
    },
    {
     "name": "stdout",
     "output_type": "stream",
     "text": [
      "80759\n",
      "43575\n",
      "68727\n",
      "81975\n"
     ]
    },
    {
     "name": "stderr",
     "output_type": "stream",
     "text": [
      " 57%|████████████████████████████████████████████████████████████████████████████████████████████████████████████████████████████████████████████████████████████████████▏                                                                                                                         | 431/751 [12:03<09:08,  1.71s/it]"
     ]
    },
    {
     "name": "stdout",
     "output_type": "stream",
     "text": [
      "89847\n",
      "54583\n",
      "54391\n",
      "55543\n"
     ]
    },
    {
     "name": "stderr",
     "output_type": "stream",
     "text": [
      " 58%|████████████████████████████████████████████████████████████████████████████████████████████████████████████████████████████████████████████████████████████████████▌                                                                                                                         | 432/751 [12:05<08:45,  1.65s/it]"
     ]
    },
    {
     "name": "stdout",
     "output_type": "stream",
     "text": [
      "49591\n",
      "80183\n",
      "84983\n",
      "79543\n"
     ]
    },
    {
     "name": "stderr",
     "output_type": "stream",
     "text": [
      " 58%|████████████████████████████████████████████████████████████████████████████████████████████████████████████████████████████████████████████████████████████████████▉                                                                                                                         | 433/751 [12:06<08:38,  1.63s/it]"
     ]
    },
    {
     "name": "stdout",
     "output_type": "stream",
     "text": [
      "79927\n",
      "57975\n",
      "60727\n",
      "56183\n"
     ]
    },
    {
     "name": "stderr",
     "output_type": "stream",
     "text": [
      " 58%|█████████████████████████████████████████████████████████████████████████████████████████████████████████████████████████████████████████████████████████████████████▎                                                                                                                        | 434/751 [12:08<08:20,  1.58s/it]"
     ]
    },
    {
     "name": "stdout",
     "output_type": "stream",
     "text": [
      "70391\n",
      "39159\n",
      "30199\n"
     ]
    },
    {
     "name": "stderr",
     "output_type": "stream",
     "text": [
      " 58%|█████████████████████████████████████████████████████████████████████████████████████████████████████████████████████████████████████████████████████████████████████▋                                                                                                                        | 435/751 [12:09<07:15,  1.38s/it]"
     ]
    },
    {
     "name": "stdout",
     "output_type": "stream",
     "text": [
      "85175\n",
      "48567\n",
      "52343\n",
      "52727\n"
     ]
    },
    {
     "name": "stderr",
     "output_type": "stream",
     "text": [
      " 58%|██████████████████████████████████████████████████████████████████████████████████████████████████████████████████████████████████████████████████████████████████████                                                                                                                        | 436/751 [12:10<07:13,  1.38s/it]"
     ]
    },
    {
     "name": "stdout",
     "output_type": "stream",
     "text": [
      "99959\n",
      "78775\n",
      "81015\n",
      "83575\n"
     ]
    },
    {
     "name": "stderr",
     "output_type": "stream",
     "text": [
      " 58%|██████████████████████████████████████████████████████████████████████████████████████████████████████████████████████████████████████████████████████████████████████▍                                                                                                                       | 437/751 [12:12<07:35,  1.45s/it]"
     ]
    },
    {
     "name": "stdout",
     "output_type": "stream",
     "text": [
      "85751\n",
      "85559\n",
      "87543\n",
      "85559\n"
     ]
    },
    {
     "name": "stderr",
     "output_type": "stream",
     "text": [
      " 58%|██████████████████████████████████████████████████████████████████████████████████████████████████████████████████████████████████████████████████████████████████████▊                                                                                                                       | 438/751 [12:13<08:15,  1.58s/it]"
     ]
    },
    {
     "name": "stdout",
     "output_type": "stream",
     "text": [
      "92407\n",
      "83959\n",
      "80311\n",
      "83959\n"
     ]
    },
    {
     "name": "stderr",
     "output_type": "stream",
     "text": [
      " 58%|███████████████████████████████████████████████████████████████████████████████████████████████████████████████████████████████████████████████████████████████████████▏                                                                                                                      | 439/751 [12:15<08:17,  1.60s/it]"
     ]
    },
    {
     "name": "stdout",
     "output_type": "stream",
     "text": [
      "81015\n",
      "90999\n",
      "83959\n",
      "77111\n"
     ]
    },
    {
     "name": "stderr",
     "output_type": "stream",
     "text": [
      " 59%|███████████████████████████████████████████████████████████████████████████████████████████████████████████████████████████████████████████████████████████████████████▌                                                                                                                      | 440/751 [12:17<08:34,  1.66s/it]"
     ]
    },
    {
     "name": "stdout",
     "output_type": "stream",
     "text": [
      "89975\n",
      "84599\n",
      "145143\n"
     ]
    },
    {
     "name": "stderr",
     "output_type": "stream",
     "text": [
      " 59%|███████████████████████████████████████████████████████████████████████████████████████████████████████████████████████████████████████████████████████████████████████▉                                                                                                                      | 441/751 [12:18<08:14,  1.60s/it]"
     ]
    },
    {
     "name": "stdout",
     "output_type": "stream",
     "text": [
      "82359\n"
     ]
    },
    {
     "name": "stderr",
     "output_type": "stream",
     "text": [
      " 59%|████████████████████████████████████████████████████████████████████████████████████████████████████████████████████████████████████████████████████████████████████████▎                                                                                                                     | 442/751 [12:19<06:17,  1.22s/it]"
     ]
    },
    {
     "name": "stdout",
     "output_type": "stream",
     "text": [
      "52983\n",
      "57143\n"
     ]
    },
    {
     "name": "stderr",
     "output_type": "stream",
     "text": [
      " 59%|████████████████████████████████████████████████████████████████████████████████████████████████████████████████████████████████████████████████████████████████████████▋                                                                                                                     | 443/751 [12:19<05:25,  1.06s/it]"
     ]
    },
    {
     "name": "stdout",
     "output_type": "stream",
     "text": [
      "72759\n",
      "79543\n",
      "79159\n",
      "82231\n"
     ]
    },
    {
     "name": "stderr",
     "output_type": "stream",
     "text": [
      " 59%|█████████████████████████████████████████████████████████████████████████████████████████████████████████████████████████████████████████████████████████████████████████                                                                                                                     | 444/751 [12:21<06:36,  1.29s/it]"
     ]
    },
    {
     "name": "stdout",
     "output_type": "stream",
     "text": [
      "85175\n",
      "60727\n",
      "66359\n",
      "60983\n"
     ]
    },
    {
     "name": "stderr",
     "output_type": "stream",
     "text": [
      " 59%|█████████████████████████████████████████████████████████████████████████████████████████████████████████████████████████████████████████████████████████████████████████▍                                                                                                                    | 445/751 [12:23<06:55,  1.36s/it]"
     ]
    },
    {
     "name": "stdout",
     "output_type": "stream",
     "text": [
      "59575\n"
     ]
    },
    {
     "name": "stderr",
     "output_type": "stream",
     "text": [
      " 59%|█████████████████████████████████████████████████████████████████████████████████████████████████████████████████████████████████████████████████████████████████████████▊                                                                                                                    | 446/751 [12:23<05:28,  1.08s/it]"
     ]
    },
    {
     "name": "stdout",
     "output_type": "stream",
     "text": [
      "69623\n",
      "85175\n",
      "81143\n",
      "66359\n"
     ]
    },
    {
     "name": "stderr",
     "output_type": "stream",
     "text": [
      " 60%|██████████████████████████████████████████████████████████████████████████████████████████████████████████████████████████████████████████████████████████████████████████▏                                                                                                                   | 447/751 [12:25<06:20,  1.25s/it]"
     ]
    },
    {
     "name": "stdout",
     "output_type": "stream",
     "text": [
      "91575\n",
      "101047\n"
     ]
    },
    {
     "name": "stderr",
     "output_type": "stream",
     "text": [
      " 60%|██████████████████████████████████████████████████████████████████████████████████████████████████████████████████████████████████████████████████████████████████████████▌                                                                                                                   | 448/751 [12:26<05:54,  1.17s/it]"
     ]
    },
    {
     "name": "stdout",
     "output_type": "stream",
     "text": [
      "78775\n",
      "88759\n"
     ]
    },
    {
     "name": "stderr",
     "output_type": "stream",
     "text": [
      " 60%|██████████████████████████████████████████████████████████████████████████████████████████████████████████████████████████████████████████████████████████████████████████▉                                                                                                                   | 449/751 [12:27<05:22,  1.07s/it]"
     ]
    },
    {
     "name": "stdout",
     "output_type": "stream",
     "text": [
      "84343\n",
      "80183\n",
      "82999\n",
      "122743\n"
     ]
    },
    {
     "name": "stderr",
     "output_type": "stream",
     "text": [
      " 60%|███████████████████████████████████████████████████████████████████████████████████████████████████████████████████████████████████████████████████████████████████████████▎                                                                                                                  | 450/751 [12:28<06:29,  1.30s/it]"
     ]
    },
    {
     "name": "stdout",
     "output_type": "stream",
     "text": [
      "79543\n",
      "86199\n",
      "110391\n",
      "118327\n"
     ]
    },
    {
     "name": "stderr",
     "output_type": "stream",
     "text": [
      " 60%|███████████████████████████████████████████████████████████████████████████████████████████████████████████████████████████████████████████████████████████████████████████▊                                                                                                                  | 451/751 [12:31<07:53,  1.58s/it]"
     ]
    },
    {
     "name": "stdout",
     "output_type": "stream",
     "text": [
      "79543\n",
      "44727\n",
      "42807\n",
      "38647\n"
     ]
    },
    {
     "name": "stderr",
     "output_type": "stream",
     "text": [
      " 60%|████████████████████████████████████████████████████████████████████████████████████████████████████████████████████████████████████████████████████████████████████████████▏                                                                                                                 | 452/751 [12:32<07:24,  1.49s/it]"
     ]
    },
    {
     "name": "stdout",
     "output_type": "stream",
     "text": [
      "61943\n",
      "85431\n",
      "53815\n",
      "55031\n"
     ]
    },
    {
     "name": "stderr",
     "output_type": "stream",
     "text": [
      " 60%|████████████████████████████████████████████████████████████████████████████████████████████████████████████████████████████████████████████████████████████████████████████▌                                                                                                                 | 453/751 [12:33<07:13,  1.45s/it]"
     ]
    },
    {
     "name": "stdout",
     "output_type": "stream",
     "text": [
      "62711\n",
      "82615\n"
     ]
    },
    {
     "name": "stderr",
     "output_type": "stream",
     "text": [
      " 60%|████████████████████████████████████████████████████████████████████████████████████████████████████████████████████████████████████████████████████████████████████████████▉                                                                                                                 | 454/751 [12:34<06:30,  1.32s/it]"
     ]
    },
    {
     "name": "stdout",
     "output_type": "stream",
     "text": [
      "85943\n",
      "99127\n"
     ]
    },
    {
     "name": "stderr",
     "output_type": "stream",
     "text": [
      " 61%|█████████████████████████████████████████████████████████████████████████████████████████████████████████████████████████████████████████████████████████████████████████████▎                                                                                                                | 455/751 [12:35<05:47,  1.17s/it]"
     ]
    },
    {
     "name": "stdout",
     "output_type": "stream",
     "text": [
      "92343\n"
     ]
    },
    {
     "name": "stderr",
     "output_type": "stream",
     "text": [
      " 61%|█████████████████████████████████████████████████████████████████████████████████████████████████████████████████████████████████████████████████████████████████████████████▋                                                                                                                | 456/751 [12:36<04:36,  1.07it/s]"
     ]
    },
    {
     "name": "stdout",
     "output_type": "stream",
     "text": [
      "87031\n",
      "87159\n"
     ]
    },
    {
     "name": "stderr",
     "output_type": "stream",
     "text": [
      " 61%|██████████████████████████████████████████████████████████████████████████████████████████████████████████████████████████████████████████████████████████████████████████████                                                                                                                | 457/751 [12:36<04:24,  1.11it/s]"
     ]
    },
    {
     "name": "stdout",
     "output_type": "stream",
     "text": [
      "87159\n"
     ]
    },
    {
     "name": "stderr",
     "output_type": "stream",
     "text": [
      " 61%|██████████████████████████████████████████████████████████████████████████████████████████████████████████████████████████████████████████████████████████████████████████████▍                                                                                                               | 458/751 [12:37<03:37,  1.35it/s]"
     ]
    },
    {
     "name": "stdout",
     "output_type": "stream",
     "text": [
      "93559\n",
      "40375\n",
      "55799\n",
      "60151\n"
     ]
    },
    {
     "name": "stderr",
     "output_type": "stream",
     "text": [
      " 61%|██████████████████████████████████████████████████████████████████████████████████████████████████████████████████████████████████████████████████████████████████████████████▊                                                                                                               | 459/751 [12:38<04:19,  1.12it/s]"
     ]
    },
    {
     "name": "stdout",
     "output_type": "stream",
     "text": [
      "50551\n",
      "81591\n",
      "118583\n"
     ]
    },
    {
     "name": "stderr",
     "output_type": "stream",
     "text": [
      " 61%|███████████████████████████████████████████████████████████████████████████████████████████████████████████████████████████████████████████████████████████████████████████████▏                                                                                                              | 460/751 [12:39<05:01,  1.04s/it]"
     ]
    },
    {
     "name": "stdout",
     "output_type": "stream",
     "text": [
      "92983\n",
      "88759\n",
      "181431\n",
      "80375\n"
     ]
    },
    {
     "name": "stderr",
     "output_type": "stream",
     "text": [
      " 61%|███████████████████████████████████████████████████████████████████████████████████████████████████████████████████████████████████████████████████████████████████████████████▌                                                                                                              | 461/751 [12:41<06:31,  1.35s/it]"
     ]
    },
    {
     "name": "stdout",
     "output_type": "stream",
     "text": [
      "85943\n",
      "88375\n",
      "85175\n",
      "103543\n"
     ]
    },
    {
     "name": "stderr",
     "output_type": "stream",
     "text": [
      " 62%|███████████████████████████████████████████████████████████████████████████████████████████████████████████████████████████████████████████████████████████████████████████████▉                                                                                                              | 462/751 [12:43<07:19,  1.52s/it]"
     ]
    },
    {
     "name": "stdout",
     "output_type": "stream",
     "text": [
      "86775\n",
      "33527\n",
      "49399\n",
      "42615\n"
     ]
    },
    {
     "name": "stderr",
     "output_type": "stream",
     "text": [
      " 62%|████████████████████████████████████████████████████████████████████████████████████████████████████████████████████████████████████████████████████████████████████████████████▎                                                                                                             | 463/751 [12:45<06:52,  1.43s/it]"
     ]
    },
    {
     "name": "stdout",
     "output_type": "stream",
     "text": [
      "53559\n",
      "42807\n",
      "56183\n",
      "65527\n"
     ]
    },
    {
     "name": "stderr",
     "output_type": "stream",
     "text": [
      " 62%|████████████████████████████████████████████████████████████████████████████████████████████████████████████████████████████████████████████████████████████████████████████████▋                                                                                                             | 464/751 [12:46<06:51,  1.43s/it]"
     ]
    },
    {
     "name": "stdout",
     "output_type": "stream",
     "text": [
      "58231\n",
      "94199\n",
      "79543\n",
      "96759\n"
     ]
    },
    {
     "name": "stderr",
     "output_type": "stream",
     "text": [
      " 62%|█████████████████████████████████████████████████████████████████████████████████████████████████████████████████████████████████████████████████████████████████████████████████                                                                                                             | 465/751 [12:48<07:38,  1.60s/it]"
     ]
    },
    {
     "name": "stdout",
     "output_type": "stream",
     "text": [
      "89143\n",
      "59959\n",
      "53943\n"
     ]
    },
    {
     "name": "stderr",
     "output_type": "stream",
     "text": [
      " 62%|█████████████████████████████████████████████████████████████████████████████████████████████████████████████████████████████████████████████████████████████████████████████████▍                                                                                                            | 466/751 [12:49<06:56,  1.46s/it]"
     ]
    },
    {
     "name": "stdout",
     "output_type": "stream",
     "text": [
      "68983\n"
     ]
    },
    {
     "name": "stderr",
     "output_type": "stream",
     "text": [
      " 62%|█████████████████████████████████████████████████████████████████████████████████████████████████████████████████████████████████████████████████████████████████████████████████▊                                                                                                            | 467/751 [12:50<05:30,  1.16s/it]"
     ]
    },
    {
     "name": "stdout",
     "output_type": "stream",
     "text": [
      "69559\n",
      "59511\n",
      "67191\n",
      "62007\n"
     ]
    },
    {
     "name": "stderr",
     "output_type": "stream",
     "text": [
      " 62%|██████████████████████████████████████████████████████████████████████████████████████████████████████████████████████████████████████████████████████████████████████████████████▏                                                                                                           | 468/751 [12:51<05:57,  1.26s/it]"
     ]
    },
    {
     "name": "stdout",
     "output_type": "stream",
     "text": [
      "73271\n",
      "63159\n",
      "58359\n",
      "57527\n"
     ]
    },
    {
     "name": "stderr",
     "output_type": "stream",
     "text": [
      " 62%|██████████████████████████████████████████████████████████████████████████████████████████████████████████████████████████████████████████████████████████████████████████████████▌                                                                                                           | 469/751 [12:53<06:30,  1.39s/it]"
     ]
    },
    {
     "name": "stdout",
     "output_type": "stream",
     "text": [
      "60791\n",
      "59575\n",
      "64375\n",
      "60599\n"
     ]
    },
    {
     "name": "stderr",
     "output_type": "stream",
     "text": [
      " 63%|██████████████████████████████████████████████████████████████████████████████████████████████████████████████████████████████████████████████████████████████████████████████████▉                                                                                                           | 470/751 [12:54<06:35,  1.41s/it]"
     ]
    },
    {
     "name": "stdout",
     "output_type": "stream",
     "text": [
      "50615\n",
      "96311\n",
      "87543\n"
     ]
    },
    {
     "name": "stderr",
     "output_type": "stream",
     "text": [
      " 63%|███████████████████████████████████████████████████████████████████████████████████████████████████████████████████████████████████████████████████████████████████████████████████▎                                                                                                          | 471/751 [12:56<07:00,  1.50s/it]"
     ]
    },
    {
     "name": "stdout",
     "output_type": "stream",
     "text": [
      "119607\n",
      "86775\n",
      "173559\n"
     ]
    },
    {
     "name": "stderr",
     "output_type": "stream",
     "text": [
      " 63%|███████████████████████████████████████████████████████████████████████████████████████████████████████████████████████████████████████████████████████████████████████████████████▋                                                                                                          | 472/751 [12:58<07:50,  1.69s/it]"
     ]
    },
    {
     "name": "stdout",
     "output_type": "stream",
     "text": [
      "127927\n",
      "56759\n",
      "62391\n",
      "73975\n"
     ]
    },
    {
     "name": "stderr",
     "output_type": "stream",
     "text": [
      " 63%|████████████████████████████████████████████████████████████████████████████████████████████████████████████████████████████████████████████████████████████████████████████████████▏                                                                                                         | 473/751 [12:59<07:16,  1.57s/it]"
     ]
    },
    {
     "name": "stdout",
     "output_type": "stream",
     "text": [
      "63159\n",
      "73143\n",
      "71607\n",
      "61175\n"
     ]
    },
    {
     "name": "stderr",
     "output_type": "stream",
     "text": [
      " 63%|████████████████████████████████████████████████████████████████████████████████████████████████████████████████████████████████████████████████████████████████████████████████████▌                                                                                                         | 474/751 [13:01<06:43,  1.46s/it]"
     ]
    },
    {
     "name": "stdout",
     "output_type": "stream",
     "text": [
      "60343\n",
      "62711\n",
      "59447\n",
      "57975\n"
     ]
    },
    {
     "name": "stderr",
     "output_type": "stream",
     "text": [
      " 63%|████████████████████████████████████████████████████████████████████████████████████████████████████████████████████████████████████████████████████████████████████████████████████▉                                                                                                         | 475/751 [13:02<06:26,  1.40s/it]"
     ]
    },
    {
     "name": "stdout",
     "output_type": "stream",
     "text": [
      "60343\n",
      "61111\n",
      "65399\n",
      "65591\n"
     ]
    },
    {
     "name": "stderr",
     "output_type": "stream",
     "text": [
      " 63%|█████████████████████████████████████████████████████████████████████████████████████████████████████████████████████████████████████████████████████████████████████████████████████▎                                                                                                        | 476/751 [13:03<05:51,  1.28s/it]"
     ]
    },
    {
     "name": "stdout",
     "output_type": "stream",
     "text": [
      "65783\n",
      "65591\n",
      "77559\n"
     ]
    },
    {
     "name": "stderr",
     "output_type": "stream",
     "text": [
      " 64%|█████████████████████████████████████████████████████████████████████████████████████████████████████████████████████████████████████████████████████████████████████████████████████▋                                                                                                        | 477/751 [13:04<05:24,  1.18s/it]"
     ]
    },
    {
     "name": "stdout",
     "output_type": "stream",
     "text": [
      "67383\n",
      "63543\n",
      "51383\n",
      "61815\n"
     ]
    },
    {
     "name": "stderr",
     "output_type": "stream",
     "text": [
      " 64%|██████████████████████████████████████████████████████████████████████████████████████████████████████████████████████████████████████████████████████████████████████████████████████                                                                                                        | 478/751 [13:05<05:39,  1.25s/it]"
     ]
    },
    {
     "name": "stdout",
     "output_type": "stream",
     "text": [
      "52791\n",
      "80759\n",
      "85111\n",
      "114615\n"
     ]
    },
    {
     "name": "stderr",
     "output_type": "stream",
     "text": [
      " 64%|██████████████████████████████████████████████████████████████████████████████████████████████████████████████████████████████████████████████████████████████████████████████████████▍                                                                                                       | 479/751 [13:07<06:18,  1.39s/it]"
     ]
    },
    {
     "name": "stdout",
     "output_type": "stream",
     "text": [
      "86391\n"
     ]
    },
    {
     "name": "stderr",
     "output_type": "stream",
     "text": [
      " 64%|██████████████████████████████████████████████████████████████████████████████████████████████████████████████████████████████████████████████████████████████████████████████████████▊                                                                                                       | 480/751 [13:07<04:59,  1.10s/it]"
     ]
    },
    {
     "name": "stdout",
     "output_type": "stream",
     "text": [
      "89975\n",
      "81015\n"
     ]
    },
    {
     "name": "stderr",
     "output_type": "stream",
     "text": [
      " 64%|███████████████████████████████████████████████████████████████████████████████████████████████████████████████████████████████████████████████████████████████████████████████████████▏                                                                                                      | 481/751 [13:08<04:42,  1.05s/it]"
     ]
    },
    {
     "name": "stdout",
     "output_type": "stream",
     "text": [
      "79415\n",
      "69047\n",
      "69111\n",
      "71159\n"
     ]
    },
    {
     "name": "stderr",
     "output_type": "stream",
     "text": [
      " 64%|███████████████████████████████████████████████████████████████████████████████████████████████████████████████████████████████████████████████████████████████████████████████████████▌                                                                                                      | 482/751 [13:10<05:13,  1.16s/it]"
     ]
    },
    {
     "name": "stdout",
     "output_type": "stream",
     "text": [
      "78775\n",
      "79031\n"
     ]
    },
    {
     "name": "stderr",
     "output_type": "stream",
     "text": [
      " 64%|███████████████████████████████████████████████████████████████████████████████████████████████████████████████████████████████████████████████████████████████████████████████████████▉                                                                                                      | 483/751 [13:10<04:33,  1.02s/it]"
     ]
    },
    {
     "name": "stdout",
     "output_type": "stream",
     "text": [
      "95031\n",
      "59575\n",
      "65783\n",
      "56567\n"
     ]
    },
    {
     "name": "stderr",
     "output_type": "stream",
     "text": [
      " 64%|████████████████████████████████████████████████████████████████████████████████████████████████████████████████████████████████████████████████████████████████████████████████████████▎                                                                                                     | 484/751 [13:12<04:40,  1.05s/it]"
     ]
    },
    {
     "name": "stdout",
     "output_type": "stream",
     "text": [
      "63159\n",
      "92599\n",
      "83831\n",
      "88759\n"
     ]
    },
    {
     "name": "stderr",
     "output_type": "stream",
     "text": [
      " 65%|████████████████████████████████████████████████████████████████████████████████████████████████████████████████████████████████████████████████████████████████████████████████████████▋                                                                                                     | 485/751 [13:13<05:20,  1.20s/it]"
     ]
    },
    {
     "name": "stdout",
     "output_type": "stream",
     "text": [
      "80311\n",
      "80759\n",
      "80631\n",
      "80183\n"
     ]
    },
    {
     "name": "stderr",
     "output_type": "stream",
     "text": [
      " 65%|█████████████████████████████████████████████████████████████████████████████████████████████████████████████████████████████████████████████████████████████████████████████████████████                                                                                                     | 486/751 [13:15<06:09,  1.39s/it]"
     ]
    },
    {
     "name": "stdout",
     "output_type": "stream",
     "text": [
      "78775\n"
     ]
    },
    {
     "name": "stderr",
     "output_type": "stream",
     "text": [
      " 65%|█████████████████████████████████████████████████████████████████████████████████████████████████████████████████████████████████████████████████████████████████████████████████████████▍                                                                                                    | 487/751 [13:15<04:54,  1.12s/it]"
     ]
    },
    {
     "name": "stdout",
     "output_type": "stream",
     "text": [
      "65399\n"
     ]
    },
    {
     "name": "stderr",
     "output_type": "stream",
     "text": [
      " 65%|█████████████████████████████████████████████████████████████████████████████████████████████████████████████████████████████████████████████████████████████████████████████████████████▊                                                                                                    | 488/751 [13:16<04:09,  1.06it/s]"
     ]
    },
    {
     "name": "stdout",
     "output_type": "stream",
     "text": [
      "108727\n",
      "87415\n",
      "88759\n",
      "86583\n"
     ]
    },
    {
     "name": "stderr",
     "output_type": "stream",
     "text": [
      " 65%|██████████████████████████████████████████████████████████████████████████████████████████████████████████████████████████████████████████████████████████████████████████████████████████▏                                                                                                   | 489/751 [13:18<05:10,  1.18s/it]"
     ]
    },
    {
     "name": "stdout",
     "output_type": "stream",
     "text": [
      "90359\n",
      "84727\n",
      "85815\n",
      "132343\n"
     ]
    },
    {
     "name": "stderr",
     "output_type": "stream",
     "text": [
      " 65%|██████████████████████████████████████████████████████████████████████████████████████████████████████████████████████████████████████████████████████████████████████████████████████████▌                                                                                                   | 490/751 [13:20<06:17,  1.45s/it]"
     ]
    },
    {
     "name": "stdout",
     "output_type": "stream",
     "text": [
      "90743\n",
      "35511\n",
      "37047\n",
      "40311\n"
     ]
    },
    {
     "name": "stderr",
     "output_type": "stream",
     "text": [
      " 65%|██████████████████████████████████████████████████████████████████████████████████████████████████████████████████████████████████████████████████████████████████████████████████████████▉                                                                                                   | 491/751 [13:21<05:56,  1.37s/it]"
     ]
    },
    {
     "name": "stdout",
     "output_type": "stream",
     "text": [
      "51191\n",
      "83127\n",
      "83959\n",
      "79543\n"
     ]
    },
    {
     "name": "stderr",
     "output_type": "stream",
     "text": [
      " 66%|███████████████████████████████████████████████████████████████████████████████████████████████████████████████████████████████████████████████████████████████████████████████████████████▎                                                                                                  | 492/751 [13:23<06:15,  1.45s/it]"
     ]
    },
    {
     "name": "stdout",
     "output_type": "stream",
     "text": [
      "82359\n",
      "78199\n",
      "99191\n"
     ]
    },
    {
     "name": "stderr",
     "output_type": "stream",
     "text": [
      " 66%|███████████████████████████████████████████████████████████████████████████████████████████████████████████████████████████████████████████████████████████████████████████████████████████▋                                                                                                  | 493/751 [13:24<06:06,  1.42s/it]"
     ]
    },
    {
     "name": "stdout",
     "output_type": "stream",
     "text": [
      "83127\n"
     ]
    },
    {
     "name": "stderr",
     "output_type": "stream",
     "text": [
      " 66%|████████████████████████████████████████████████████████████████████████████████████████████████████████████████████████████████████████████████████████████████████████████████████████████▏                                                                                                 | 494/751 [13:24<04:41,  1.09s/it]"
     ]
    },
    {
     "name": "stdout",
     "output_type": "stream",
     "text": [
      "49143\n",
      "73847\n",
      "78967\n",
      "69559\n"
     ]
    },
    {
     "name": "stderr",
     "output_type": "stream",
     "text": [
      " 66%|████████████████████████████████████████████████████████████████████████████████████████████████████████████████████████████████████████████████████████████████████████████████████████████▌                                                                                                 | 495/751 [13:26<05:11,  1.22s/it]"
     ]
    },
    {
     "name": "stdout",
     "output_type": "stream",
     "text": [
      "67191\n",
      "67575\n",
      "73975\n",
      "68791\n"
     ]
    },
    {
     "name": "stderr",
     "output_type": "stream",
     "text": [
      " 66%|████████████████████████████████████████████████████████████████████████████████████████████████████████████████████████████████████████████████████████████████████████████████████████████▉                                                                                                 | 496/751 [13:27<05:19,  1.25s/it]"
     ]
    },
    {
     "name": "stdout",
     "output_type": "stream",
     "text": [
      "66167\n",
      "51575\n",
      "45367\n",
      "41143\n"
     ]
    },
    {
     "name": "stderr",
     "output_type": "stream",
     "text": [
      " 66%|█████████████████████████████████████████████████████████████████████████████████████████████████████████████████████████████████████████████████████████████████████████████████████████████▎                                                                                                | 497/751 [13:28<05:22,  1.27s/it]"
     ]
    },
    {
     "name": "stdout",
     "output_type": "stream",
     "text": [
      "51959\n",
      "83383\n",
      "81015\n",
      "79543\n"
     ]
    },
    {
     "name": "stderr",
     "output_type": "stream",
     "text": [
      " 66%|█████████████████████████████████████████████████████████████████████████████████████████████████████████████████████████████████████████████████████████████████████████████████████████████▋                                                                                                | 498/751 [13:30<05:58,  1.42s/it]"
     ]
    },
    {
     "name": "stdout",
     "output_type": "stream",
     "text": [
      "80375\n",
      "79159\n"
     ]
    },
    {
     "name": "stderr",
     "output_type": "stream",
     "text": [
      " 66%|██████████████████████████████████████████████████████████████████████████████████████████████████████████████████████████████████████████████████████████████████████████████████████████████                                                                                                | 499/751 [13:31<05:11,  1.24s/it]"
     ]
    },
    {
     "name": "stdout",
     "output_type": "stream",
     "text": [
      "82359\n",
      "90359\n"
     ]
    },
    {
     "name": "stderr",
     "output_type": "stream",
     "text": [
      " 67%|██████████████████████████████████████████████████████████████████████████████████████████████████████████████████████████████████████████████████████████████████████████████████████████████▍                                                                                               | 500/751 [13:32<04:39,  1.11s/it]"
     ]
    },
    {
     "name": "stdout",
     "output_type": "stream",
     "text": [
      "86775\n",
      "60791\n",
      "68727\n",
      "72375\n"
     ]
    },
    {
     "name": "stderr",
     "output_type": "stream",
     "text": [
      " 67%|██████████████████████████████████████████████████████████████████████████████████████████████████████████████████████████████████████████████████████████████████████████████████████████████▊                                                                                               | 501/751 [13:33<05:03,  1.22s/it]"
     ]
    },
    {
     "name": "stdout",
     "output_type": "stream",
     "text": [
      "43959\n",
      "66999\n",
      "67383\n",
      "70775\n"
     ]
    },
    {
     "name": "stderr",
     "output_type": "stream",
     "text": [
      " 67%|███████████████████████████████████████████████████████████████████████████████████████████████████████████████████████████████████████████████████████████████████████████████████████████████▏                                                                                              | 502/751 [13:35<05:26,  1.31s/it]"
     ]
    },
    {
     "name": "stdout",
     "output_type": "stream",
     "text": [
      "73975\n",
      "63543\n",
      "53751\n",
      "50231\n"
     ]
    },
    {
     "name": "stderr",
     "output_type": "stream",
     "text": [
      " 67%|███████████████████████████████████████████████████████████████████████████████████████████████████████████████████████████████████████████████████████████████████████████████████████████████▌                                                                                              | 503/751 [13:36<05:13,  1.27s/it]"
     ]
    },
    {
     "name": "stdout",
     "output_type": "stream",
     "text": [
      "54199\n",
      "71159\n",
      "69751\n",
      "58807\n"
     ]
    },
    {
     "name": "stderr",
     "output_type": "stream",
     "text": [
      " 67%|███████████████████████████████████████████████████████████████████████████████████████████████████████████████████████████████████████████████████████████████████████████████████████████████▉                                                                                              | 504/751 [13:38<05:44,  1.39s/it]"
     ]
    },
    {
     "name": "stdout",
     "output_type": "stream",
     "text": [
      "61175\n",
      "65527\n",
      "51959\n",
      "57591\n"
     ]
    },
    {
     "name": "stderr",
     "output_type": "stream",
     "text": [
      " 67%|████████████████████████████████████████████████████████████████████████████████████████████████████████████████████████████████████████████████████████████████████████████████████████████████▎                                                                                             | 505/751 [13:39<05:30,  1.34s/it]"
     ]
    },
    {
     "name": "stdout",
     "output_type": "stream",
     "text": [
      "71799\n",
      "78775\n"
     ]
    },
    {
     "name": "stderr",
     "output_type": "stream",
     "text": [
      " 67%|████████████████████████████████████████████████████████████████████████████████████████████████████████████████████████████████████████████████████████████████████████████████████████████████▋                                                                                             | 506/751 [13:40<04:56,  1.21s/it]"
     ]
    },
    {
     "name": "stdout",
     "output_type": "stream",
     "text": [
      "79415\n",
      "51127\n",
      "46775\n",
      "51831\n"
     ]
    },
    {
     "name": "stderr",
     "output_type": "stream",
     "text": [
      " 68%|█████████████████████████████████████████████████████████████████████████████████████████████████████████████████████████████████████████████████████████████████████████████████████████████████                                                                                             | 507/751 [13:41<05:06,  1.26s/it]"
     ]
    },
    {
     "name": "stdout",
     "output_type": "stream",
     "text": [
      "78775\n",
      "83575\n",
      "79351\n"
     ]
    },
    {
     "name": "stderr",
     "output_type": "stream",
     "text": [
      " 68%|█████████████████████████████████████████████████████████████████████████████████████████████████████████████████████████████████████████████████████████████████████████████████████████████████▍                                                                                            | 508/751 [13:43<05:22,  1.33s/it]"
     ]
    },
    {
     "name": "stdout",
     "output_type": "stream",
     "text": [
      "87031\n"
     ]
    },
    {
     "name": "stderr",
     "output_type": "stream",
     "text": [
      " 68%|█████████████████████████████████████████████████████████████████████████████████████████████████████████████████████████████████████████████████████████████████████████████████████████████████▊                                                                                            | 509/751 [13:43<04:08,  1.03s/it]"
     ]
    },
    {
     "name": "stdout",
     "output_type": "stream",
     "text": [
      "51127\n",
      "33399\n",
      "45175\n",
      "52983\n"
     ]
    },
    {
     "name": "stderr",
     "output_type": "stream",
     "text": [
      " 68%|██████████████████████████████████████████████████████████████████████████████████████████████████████████████████████████████████████████████████████████████████████████████████████████████████▏                                                                                           | 510/751 [13:44<04:22,  1.09s/it]"
     ]
    },
    {
     "name": "stdout",
     "output_type": "stream",
     "text": [
      "49143\n",
      "92599\n"
     ]
    },
    {
     "name": "stderr",
     "output_type": "stream",
     "text": [
      " 68%|██████████████████████████████████████████████████████████████████████████████████████████████████████████████████████████████████████████████████████████████████████████████████████████████████▌                                                                                           | 511/751 [13:45<04:05,  1.02s/it]"
     ]
    },
    {
     "name": "stdout",
     "output_type": "stream",
     "text": [
      "87415\n",
      "64631\n",
      "30583\n",
      "38775\n"
     ]
    },
    {
     "name": "stderr",
     "output_type": "stream",
     "text": [
      " 68%|██████████████████████████████████████████████████████████████████████████████████████████████████████████████████████████████████████████████████████████████████████████████████████████████████▉                                                                                           | 512/751 [13:46<04:22,  1.10s/it]"
     ]
    },
    {
     "name": "stdout",
     "output_type": "stream",
     "text": [
      "65399\n",
      "67959\n",
      "77751\n",
      "70391\n"
     ]
    },
    {
     "name": "stderr",
     "output_type": "stream",
     "text": [
      " 68%|███████████████████████████████████████████████████████████████████████████████████████████████████████████████████████████████████████████████████████████████████████████████████████████████████▎                                                                                          | 513/751 [13:48<04:49,  1.21s/it]"
     ]
    },
    {
     "name": "stdout",
     "output_type": "stream",
     "text": [
      "71927\n",
      "79351\n",
      "82359\n",
      "78199\n"
     ]
    },
    {
     "name": "stderr",
     "output_type": "stream",
     "text": [
      " 68%|███████████████████████████████████████████████████████████████████████████████████████████████████████████████████████████████████████████████████████████████████████████████████████████████████▋                                                                                          | 514/751 [13:49<05:02,  1.28s/it]"
     ]
    },
    {
     "name": "stdout",
     "output_type": "stream",
     "text": [
      "78327\n",
      "87415\n",
      "87031\n",
      "84791\n"
     ]
    },
    {
     "name": "stderr",
     "output_type": "stream",
     "text": [
      " 69%|████████████████████████████████████████████████████████████████████████████████████████████████████████████████████████████████████████████████████████████████████████████████████████████████████▏                                                                                         | 515/751 [13:51<05:52,  1.49s/it]"
     ]
    },
    {
     "name": "stdout",
     "output_type": "stream",
     "text": [
      "84791\n"
     ]
    },
    {
     "name": "stderr",
     "output_type": "stream",
     "text": [
      " 69%|████████████████████████████████████████████████████████████████████████████████████████████████████████████████████████████████████████████████████████████████████████████████████████████████████▌                                                                                         | 516/751 [13:52<04:36,  1.17s/it]"
     ]
    },
    {
     "name": "stdout",
     "output_type": "stream",
     "text": [
      "87991\n",
      "69943\n",
      "76343\n",
      "79927\n"
     ]
    },
    {
     "name": "stderr",
     "output_type": "stream",
     "text": [
      " 69%|████████████████████████████████████████████████████████████████████████████████████████████████████████████████████████████████████████████████████████████████████████████████████████████████████▉                                                                                         | 517/751 [13:53<05:18,  1.36s/it]"
     ]
    },
    {
     "name": "stdout",
     "output_type": "stream",
     "text": [
      "74359\n",
      "79607\n"
     ]
    },
    {
     "name": "stderr",
     "output_type": "stream",
     "text": [
      " 69%|█████████████████████████████████████████████████████████████████████████████████████████████████████████████████████████████████████████████████████████████████████████████████████████████████████▎                                                                                        | 518/751 [13:54<04:47,  1.23s/it]"
     ]
    },
    {
     "name": "stdout",
     "output_type": "stream",
     "text": [
      "80759\n",
      "36791\n",
      "39415\n",
      "47607\n"
     ]
    },
    {
     "name": "stderr",
     "output_type": "stream",
     "text": [
      " 69%|█████████████████████████████████████████████████████████████████████████████████████████████████████████████████████████████████████████████████████████████████████████████████████████████████████▋                                                                                        | 519/751 [13:56<04:46,  1.23s/it]"
     ]
    },
    {
     "name": "stdout",
     "output_type": "stream",
     "text": [
      "59831\n",
      "77175\n",
      "81143\n",
      "87415\n"
     ]
    },
    {
     "name": "stderr",
     "output_type": "stream",
     "text": [
      " 69%|██████████████████████████████████████████████████████████████████████████████████████████████████████████████████████████████████████████████████████████████████████████████████████████████████████                                                                                        | 520/751 [13:57<05:29,  1.42s/it]"
     ]
    },
    {
     "name": "stdout",
     "output_type": "stream",
     "text": [
      "83511\n",
      "65143\n",
      "42743\n",
      "45815\n"
     ]
    },
    {
     "name": "stderr",
     "output_type": "stream",
     "text": [
      " 69%|██████████████████████████████████████████████████████████████████████████████████████████████████████████████████████████████████████████████████████████████████████████████████████████████████████▍                                                                                       | 521/751 [13:59<05:15,  1.37s/it]"
     ]
    },
    {
     "name": "stdout",
     "output_type": "stream",
     "text": [
      "62327\n",
      "44983\n",
      "54391\n",
      "52407\n"
     ]
    },
    {
     "name": "stderr",
     "output_type": "stream",
     "text": [
      " 70%|██████████████████████████████████████████████████████████████████████████████████████████████████████████████████████████████████████████████████████████████████████████████████████████████████████▊                                                                                       | 522/751 [14:00<05:06,  1.34s/it]"
     ]
    },
    {
     "name": "stdout",
     "output_type": "stream",
     "text": [
      "69559\n",
      "81847\n"
     ]
    },
    {
     "name": "stderr",
     "output_type": "stream",
     "text": [
      " 70%|███████████████████████████████████████████████████████████████████████████████████████████████████████████████████████████████████████████████████████████████████████████████████████████████████████▏                                                                                      | 523/751 [14:01<04:28,  1.18s/it]"
     ]
    },
    {
     "name": "stdout",
     "output_type": "stream",
     "text": [
      "80183\n",
      "78775\n",
      "84151\n",
      "80567\n"
     ]
    },
    {
     "name": "stderr",
     "output_type": "stream",
     "text": [
      " 70%|███████████████████████████████████████████████████████████████████████████████████████████████████████████████████████████████████████████████████████████████████████████████████████████████████████▌                                                                                      | 524/751 [14:03<05:17,  1.40s/it]"
     ]
    },
    {
     "name": "stdout",
     "output_type": "stream",
     "text": [
      "81143\n",
      "74615\n",
      "78199\n",
      "74999\n"
     ]
    },
    {
     "name": "stderr",
     "output_type": "stream",
     "text": [
      " 70%|███████████████████████████████████████████████████████████████████████████████████████████████████████████████████████████████████████████████████████████████████████████████████████████████████████▉                                                                                      | 525/751 [14:04<05:28,  1.46s/it]"
     ]
    },
    {
     "name": "stdout",
     "output_type": "stream",
     "text": [
      "76791\n",
      "51575\n",
      "51959\n",
      "37431\n"
     ]
    },
    {
     "name": "stderr",
     "output_type": "stream",
     "text": [
      " 70%|████████████████████████████████████████████████████████████████████████████████████████████████████████████████████████████████████████████████████████████████████████████████████████████████████████▎                                                                                     | 526/751 [14:06<05:16,  1.41s/it]"
     ]
    },
    {
     "name": "stdout",
     "output_type": "stream",
     "text": [
      "57847\n",
      "64759\n"
     ]
    },
    {
     "name": "stderr",
     "output_type": "stream",
     "text": [
      " 70%|████████████████████████████████████████████████████████████████████████████████████████████████████████████████████████████████████████████████████████████████████████████████████████████████████████▋                                                                                     | 527/751 [14:06<04:33,  1.22s/it]"
     ]
    },
    {
     "name": "stdout",
     "output_type": "stream",
     "text": [
      "70647\n",
      "83831\n",
      "83447\n",
      "87799\n"
     ]
    },
    {
     "name": "stderr",
     "output_type": "stream",
     "text": [
      " 70%|█████████████████████████████████████████████████████████████████████████████████████████████████████████████████████████████████████████████████████████████████████████████████████████████████████████                                                                                     | 528/751 [14:08<05:11,  1.40s/it]"
     ]
    },
    {
     "name": "stdout",
     "output_type": "stream",
     "text": [
      "76791\n",
      "89143\n",
      "84343\n",
      "86327\n"
     ]
    },
    {
     "name": "stderr",
     "output_type": "stream",
     "text": [
      " 70%|█████████████████████████████████████████████████████████████████████████████████████████████████████████████████████████████████████████████████████████████████████████████████████████████████████████▍                                                                                    | 529/751 [14:10<05:36,  1.52s/it]"
     ]
    },
    {
     "name": "stdout",
     "output_type": "stream",
     "text": [
      "81911\n",
      "53559\n",
      "44983\n",
      "44407\n"
     ]
    },
    {
     "name": "stderr",
     "output_type": "stream",
     "text": [
      " 71%|█████████████████████████████████████████████████████████████████████████████████████████████████████████████████████████████████████████████████████████████████████████████████████████████████████████▊                                                                                    | 530/751 [14:11<05:19,  1.45s/it]"
     ]
    },
    {
     "name": "stdout",
     "output_type": "stream",
     "text": [
      "49591\n",
      "39159\n",
      "40759\n",
      "25527\n"
     ]
    },
    {
     "name": "stderr",
     "output_type": "stream",
     "text": [
      " 71%|██████████████████████████████████████████████████████████████████████████████████████████████████████████████████████████████████████████████████████████████████████████████████████████████████████████▏                                                                                   | 531/751 [14:12<04:55,  1.34s/it]"
     ]
    },
    {
     "name": "stdout",
     "output_type": "stream",
     "text": [
      "49143\n",
      "82615\n",
      "99127\n",
      "80183\n"
     ]
    },
    {
     "name": "stderr",
     "output_type": "stream",
     "text": [
      " 71%|██████████████████████████████████████████████████████████████████████████████████████████████████████████████████████████████████████████████████████████████████████████████████████████████████████████▌                                                                                   | 532/751 [14:14<05:28,  1.50s/it]"
     ]
    },
    {
     "name": "stdout",
     "output_type": "stream",
     "text": [
      "85943\n",
      "82807\n",
      "79607\n",
      "81783\n"
     ]
    },
    {
     "name": "stderr",
     "output_type": "stream",
     "text": [
      " 71%|██████████████████████████████████████████████████████████████████████████████████████████████████████████████████████████████████████████████████████████████████████████████████████████████████████████▉                                                                                   | 533/751 [14:16<05:37,  1.55s/it]"
     ]
    },
    {
     "name": "stdout",
     "output_type": "stream",
     "text": [
      "81399\n",
      "50359\n",
      "49847\n",
      "54327\n"
     ]
    },
    {
     "name": "stderr",
     "output_type": "stream",
     "text": [
      " 71%|███████████████████████████████████████████████████████████████████████████████████████████████████████████████████████████████████████████████████████████████████████████████████████████████████████████▎                                                                                  | 534/751 [14:17<05:21,  1.48s/it]"
     ]
    },
    {
     "name": "stdout",
     "output_type": "stream",
     "text": [
      "62583\n",
      "77559\n",
      "79415\n",
      "78007\n"
     ]
    },
    {
     "name": "stderr",
     "output_type": "stream",
     "text": [
      " 71%|███████████████████████████████████████████████████████████████████████████████████████████████████████████████████████████████████████████████████████████████████████████████████████████████████████████▋                                                                                  | 535/751 [14:19<05:37,  1.56s/it]"
     ]
    },
    {
     "name": "stdout",
     "output_type": "stream",
     "text": [
      "79799\n",
      "82231\n",
      "80567\n",
      "118199\n"
     ]
    },
    {
     "name": "stderr",
     "output_type": "stream",
     "text": [
      " 71%|████████████████████████████████████████████████████████████████████████████████████████████████████████████████████████████████████████████████████████████████████████████████████████████████████████████                                                                                  | 536/751 [14:21<06:07,  1.71s/it]"
     ]
    },
    {
     "name": "stdout",
     "output_type": "stream",
     "text": [
      "80311\n",
      "67959\n",
      "41527\n",
      "43959\n"
     ]
    },
    {
     "name": "stderr",
     "output_type": "stream",
     "text": [
      " 72%|████████████████████████████████████████████████████████████████████████████████████████████████████████████████████████████████████████████████████████████████████████████████████████████████████████████▌                                                                                 | 537/751 [14:22<05:39,  1.59s/it]"
     ]
    },
    {
     "name": "stdout",
     "output_type": "stream",
     "text": [
      "71031\n",
      "79991\n",
      "79415\n",
      "117559\n"
     ]
    },
    {
     "name": "stderr",
     "output_type": "stream",
     "text": [
      " 72%|████████████████████████████████████████████████████████████████████████████████████████████████████████████████████████████████████████████████████████████████████████████████████████████████████████████▉                                                                                 | 538/751 [14:24<05:57,  1.68s/it]"
     ]
    },
    {
     "name": "stdout",
     "output_type": "stream",
     "text": [
      "88759\n",
      "82807\n",
      "81591\n",
      "83959\n"
     ]
    },
    {
     "name": "stderr",
     "output_type": "stream",
     "text": [
      " 72%|█████████████████████████████████████████████████████████████████████████████████████████████████████████████████████████████████████████████████████████████████████████████████████████████████████████████▎                                                                                | 539/751 [14:26<05:54,  1.67s/it]"
     ]
    },
    {
     "name": "stdout",
     "output_type": "stream",
     "text": [
      "82359\n",
      "79159\n"
     ]
    },
    {
     "name": "stderr",
     "output_type": "stream",
     "text": [
      " 72%|█████████████████████████████████████████████████████████████████████████████████████████████████████████████████████████████████████████████████████████████████████████████████████████████████████████████▋                                                                                | 540/751 [14:27<04:59,  1.42s/it]"
     ]
    },
    {
     "name": "stdout",
     "output_type": "stream",
     "text": [
      "86391\n",
      "105527\n"
     ]
    },
    {
     "name": "stderr",
     "output_type": "stream",
     "text": [
      " 72%|██████████████████████████████████████████████████████████████████████████████████████████████████████████████████████████████████████████████████████████████████████████████████████████████████████████████                                                                                | 541/751 [14:28<04:18,  1.23s/it]"
     ]
    },
    {
     "name": "stdout",
     "output_type": "stream",
     "text": [
      "67831\n",
      "92215\n",
      "63543\n",
      "63799\n"
     ]
    },
    {
     "name": "stderr",
     "output_type": "stream",
     "text": [
      " 72%|██████████████████████████████████████████████████████████████████████████████████████████████████████████████████████████████████████████████████████████████████████████████████████████████████████████████▍                                                                               | 542/751 [14:29<04:56,  1.42s/it]"
     ]
    },
    {
     "name": "stdout",
     "output_type": "stream",
     "text": [
      "97783\n",
      "81015\n",
      "80375\n",
      "79799\n"
     ]
    },
    {
     "name": "stderr",
     "output_type": "stream",
     "text": [
      " 72%|██████████████████████████████████████████████████████████████████████████████████████████████████████████████████████████████████████████████████████████████████████████████████████████████████████████████▊                                                                               | 543/751 [14:31<05:22,  1.55s/it]"
     ]
    },
    {
     "name": "stdout",
     "output_type": "stream",
     "text": [
      "82167\n",
      "81143\n",
      "83191\n",
      "81143\n"
     ]
    },
    {
     "name": "stderr",
     "output_type": "stream",
     "text": [
      " 72%|███████████████████████████████████████████████████████████████████████████████████████████████████████████████████████████████████████████████████████████████████████████████████████████████████████████████▏                                                                              | 544/751 [14:33<05:23,  1.56s/it]"
     ]
    },
    {
     "name": "stdout",
     "output_type": "stream",
     "text": [
      "83127\n",
      "79415\n",
      "81527\n",
      "81591\n"
     ]
    },
    {
     "name": "stderr",
     "output_type": "stream",
     "text": [
      " 73%|███████████████████████████████████████████████████████████████████████████████████████████████████████████████████████████████████████████████████████████████████████████████████████████████████████████████▌                                                                              | 545/751 [14:34<05:26,  1.59s/it]"
     ]
    },
    {
     "name": "stdout",
     "output_type": "stream",
     "text": [
      "70583\n",
      "88759\n",
      "103543\n",
      "81399\n"
     ]
    },
    {
     "name": "stderr",
     "output_type": "stream",
     "text": [
      " 73%|███████████████████████████████████████████████████████████████████████████████████████████████████████████████████████████████████████████████████████████████████████████████████████████████████████████████▉                                                                              | 546/751 [14:36<05:31,  1.62s/it]"
     ]
    },
    {
     "name": "stdout",
     "output_type": "stream",
     "text": [
      "84343\n",
      "82999\n",
      "89591\n",
      "79991\n"
     ]
    },
    {
     "name": "stderr",
     "output_type": "stream",
     "text": [
      " 73%|████████████████████████████████████████████████████████████████████████████████████████████████████████████████████████████████████████████████████████████████████████████████████████████████████████████████▎                                                                             | 547/751 [14:38<05:29,  1.62s/it]"
     ]
    },
    {
     "name": "stdout",
     "output_type": "stream",
     "text": [
      "78967\n",
      "65527\n"
     ]
    },
    {
     "name": "stderr",
     "output_type": "stream",
     "text": [
      " 73%|████████████████████████████████████████████████████████████████████████████████████████████████████████████████████████████████████████████████████████████████████████████████████████████████████████████████▋                                                                             | 548/751 [14:39<04:46,  1.41s/it]"
     ]
    },
    {
     "name": "stdout",
     "output_type": "stream",
     "text": [
      "109175\n"
     ]
    },
    {
     "name": "stderr",
     "output_type": "stream",
     "text": [
      " 73%|█████████████████████████████████████████████████████████████████████████████████████████████████████████████████████████████████████████████████████████████████████████████████████████████████████████████████                                                                             | 549/751 [14:39<03:39,  1.09s/it]"
     ]
    },
    {
     "name": "stdout",
     "output_type": "stream",
     "text": [
      "79799\n",
      "79351\n",
      "80375\n",
      "79543\n"
     ]
    },
    {
     "name": "stderr",
     "output_type": "stream",
     "text": [
      " 73%|█████████████████████████████████████████████████████████████████████████████████████████████████████████████████████████████████████████████████████████████████████████████████████████████████████████████████▍                                                                            | 550/751 [14:41<04:18,  1.28s/it]"
     ]
    },
    {
     "name": "stdout",
     "output_type": "stream",
     "text": [
      "71159\n",
      "52343\n",
      "61943\n",
      "70391\n"
     ]
    },
    {
     "name": "stderr",
     "output_type": "stream",
     "text": [
      " 73%|█████████████████████████████████████████████████████████████████████████████████████████████████████████████████████████████████████████████████████████████████████████████████████████████████████████████████▊                                                                            | 551/751 [14:43<04:47,  1.44s/it]"
     ]
    },
    {
     "name": "stdout",
     "output_type": "stream",
     "text": [
      "104183\n",
      "82807\n",
      "84599\n"
     ]
    },
    {
     "name": "stderr",
     "output_type": "stream",
     "text": [
      " 74%|██████████████████████████████████████████████████████████████████████████████████████████████████████████████████████████████████████████████████████████████████████████████████████████████████████████████████▏                                                                           | 552/751 [14:44<04:44,  1.43s/it]"
     ]
    },
    {
     "name": "stdout",
     "output_type": "stream",
     "text": [
      "83767\n",
      "81527\n",
      "90615\n",
      "79991\n"
     ]
    },
    {
     "name": "stderr",
     "output_type": "stream",
     "text": [
      " 74%|██████████████████████████████████████████████████████████████████████████████████████████████████████████████████████████████████████████████████████████████████████████████████████████████████████████████████▌                                                                           | 553/751 [14:46<05:07,  1.55s/it]"
     ]
    },
    {
     "name": "stdout",
     "output_type": "stream",
     "text": [
      "79159\n",
      "84791\n",
      "82807\n",
      "90615\n"
     ]
    },
    {
     "name": "stderr",
     "output_type": "stream",
     "text": [
      " 74%|██████████████████████████████████████████████████████████████████████████████████████████████████████████████████████████████████████████████████████████████████████████████████████████████████████████████████▉                                                                           | 554/751 [14:48<05:22,  1.63s/it]"
     ]
    },
    {
     "name": "stdout",
     "output_type": "stream",
     "text": [
      "83575\n"
     ]
    },
    {
     "name": "stderr",
     "output_type": "stream",
     "text": [
      " 74%|███████████████████████████████████████████████████████████████████████████████████████████████████████████████████████████████████████████████████████████████████████████████████████████████████████████████████▎                                                                          | 555/751 [14:48<04:13,  1.29s/it]"
     ]
    },
    {
     "name": "stdout",
     "output_type": "stream",
     "text": [
      "80951\n",
      "80375\n"
     ]
    },
    {
     "name": "stderr",
     "output_type": "stream",
     "text": [
      " 74%|███████████████████████████████████████████████████████████████████████████████████████████████████████████████████████████████████████████████████████████████████████████████████████████████████████████████████▋                                                                          | 556/751 [14:49<03:51,  1.19s/it]"
     ]
    },
    {
     "name": "stdout",
     "output_type": "stream",
     "text": [
      "81783\n",
      "105399\n",
      "84599\n",
      "117751\n"
     ]
    },
    {
     "name": "stderr",
     "output_type": "stream",
     "text": [
      " 74%|████████████████████████████████████████████████████████████████████████████████████████████████████████████████████████████████████████████████████████████████████████████████████████████████████████████████████                                                                          | 557/751 [14:51<04:47,  1.48s/it]"
     ]
    },
    {
     "name": "stdout",
     "output_type": "stream",
     "text": [
      "99127\n",
      "49399\n"
     ]
    },
    {
     "name": "stderr",
     "output_type": "stream",
     "text": [
      " 74%|████████████████████████████████████████████████████████████████████████████████████████████████████████████████████████████████████████████████████████████████████████████████████████████████████████████████████▌                                                                         | 558/751 [14:52<03:57,  1.23s/it]"
     ]
    },
    {
     "name": "stdout",
     "output_type": "stream",
     "text": [
      "67959\n",
      "31415\n",
      "28343\n",
      "32375\n"
     ]
    },
    {
     "name": "stderr",
     "output_type": "stream",
     "text": [
      " 74%|████████████████████████████████████████████████████████████████████████████████████████████████████████████████████████████████████████████████████████████████████████████████████████████████████████████████████▉                                                                         | 559/751 [14:53<03:44,  1.17s/it]"
     ]
    },
    {
     "name": "stdout",
     "output_type": "stream",
     "text": [
      "60599\n",
      "87543\n",
      "80183\n",
      "82231\n"
     ]
    },
    {
     "name": "stderr",
     "output_type": "stream",
     "text": [
      " 75%|█████████████████████████████████████████████████████████████████████████████████████████████████████████████████████████████████████████████████████████████████████████████████████████████████████████████████████▎                                                                        | 560/751 [14:55<04:14,  1.33s/it]"
     ]
    },
    {
     "name": "stdout",
     "output_type": "stream",
     "text": [
      "84983\n",
      "88183\n",
      "76599\n",
      "82231\n"
     ]
    },
    {
     "name": "stderr",
     "output_type": "stream",
     "text": [
      " 75%|█████████████████████████████████████████████████████████████████████████████████████████████████████████████████████████████████████████████████████████████████████████████████████████████████████████████████████▋                                                                        | 561/751 [14:56<04:38,  1.46s/it]"
     ]
    },
    {
     "name": "stdout",
     "output_type": "stream",
     "text": [
      "80631\n"
     ]
    },
    {
     "name": "stderr",
     "output_type": "stream",
     "text": [
      " 75%|██████████████████████████████████████████████████████████████████████████████████████████████████████████████████████████████████████████████████████████████████████████████████████████████████████████████████████                                                                        | 562/751 [14:57<03:49,  1.21s/it]"
     ]
    },
    {
     "name": "stdout",
     "output_type": "stream",
     "text": [
      "121527\n",
      "88375\n",
      "113591\n",
      "88311\n"
     ]
    },
    {
     "name": "stderr",
     "output_type": "stream",
     "text": [
      " 75%|██████████████████████████████████████████████████████████████████████████████████████████████████████████████████████████████████████████████████████████████████████████████████████████████████████████████████████▍                                                                       | 563/751 [14:59<04:23,  1.40s/it]"
     ]
    },
    {
     "name": "stdout",
     "output_type": "stream",
     "text": [
      "79415\n",
      "43767\n",
      "27959\n",
      "32567\n"
     ]
    },
    {
     "name": "stderr",
     "output_type": "stream",
     "text": [
      " 75%|██████████████████████████████████████████████████████████████████████████████████████████████████████████████████████████████████████████████████████████████████████████████████████████████████████████████████████▊                                                                       | 564/751 [15:00<04:19,  1.39s/it]"
     ]
    },
    {
     "name": "stdout",
     "output_type": "stream",
     "text": [
      "66359\n",
      "44215\n",
      "46199\n",
      "53815\n"
     ]
    },
    {
     "name": "stderr",
     "output_type": "stream",
     "text": [
      " 75%|███████████████████████████████████████████████████████████████████████████████████████████████████████████████████████████████████████████████████████████████████████████████████████████████████████████████████████▏                                                                      | 565/751 [15:02<04:14,  1.37s/it]"
     ]
    },
    {
     "name": "stdout",
     "output_type": "stream",
     "text": [
      "56759\n",
      "88567\n",
      "145783\n",
      "77943\n"
     ]
    },
    {
     "name": "stderr",
     "output_type": "stream",
     "text": [
      " 75%|███████████████████████████████████████████████████████████████████████████████████████████████████████████████████████████████████████████████████████████████████████████████████████████████████████████████████████▌                                                                      | 566/751 [15:03<04:30,  1.46s/it]"
     ]
    },
    {
     "name": "stdout",
     "output_type": "stream",
     "text": [
      "82167\n",
      "42999\n"
     ]
    },
    {
     "name": "stderr",
     "output_type": "stream",
     "text": [
      " 75%|███████████████████████████████████████████████████████████████████████████████████████████████████████████████████████████████████████████████████████████████████████████████████████████████████████████████████████▉                                                                      | 567/751 [15:04<03:44,  1.22s/it]"
     ]
    },
    {
     "name": "stdout",
     "output_type": "stream",
     "text": [
      "30391\n",
      "36983\n",
      "84791\n",
      "85943\n",
      "42807\n"
     ]
    },
    {
     "name": "stderr",
     "output_type": "stream",
     "text": [
      " 76%|████████████████████████████████████████████████████████████████████████████████████████████████████████████████████████████████████████████████████████████████████████████████████████████████████████████████████████▎                                                                     | 568/751 [15:05<03:52,  1.27s/it]"
     ]
    },
    {
     "name": "stdout",
     "output_type": "stream",
     "text": [
      "73399\n",
      "80375\n",
      "41655\n",
      "75127\n"
     ]
    },
    {
     "name": "stderr",
     "output_type": "stream",
     "text": [
      " 76%|████████████████████████████████████████████████████████████████████████████████████████████████████████████████████████████████████████████████████████████████████████████████████████████████████████████████████████▋                                                                     | 569/751 [15:06<03:35,  1.18s/it]"
     ]
    },
    {
     "name": "stdout",
     "output_type": "stream",
     "text": [
      "56759\n",
      "43575\n",
      "43959\n",
      "30775\n"
     ]
    },
    {
     "name": "stderr",
     "output_type": "stream",
     "text": [
      " 76%|█████████████████████████████████████████████████████████████████████████████████████████████████████████████████████████████████████████████████████████████████████████████████████████████████████████████████████████                                                                     | 570/751 [15:07<03:14,  1.07s/it]"
     ]
    },
    {
     "name": "stdout",
     "output_type": "stream",
     "text": [
      "47991\n",
      "88183\n",
      "81207\n",
      "80247\n"
     ]
    },
    {
     "name": "stderr",
     "output_type": "stream",
     "text": [
      " 76%|█████████████████████████████████████████████████████████████████████████████████████████████████████████████████████████████████████████████████████████████████████████████████████████████████████████████████████████▍                                                                    | 571/751 [15:08<03:31,  1.18s/it]"
     ]
    },
    {
     "name": "stdout",
     "output_type": "stream",
     "text": [
      "81975\n",
      "82999\n",
      "83127\n"
     ]
    },
    {
     "name": "stderr",
     "output_type": "stream",
     "text": [
      " 76%|█████████████████████████████████████████████████████████████████████████████████████████████████████████████████████████████████████████████████████████████████████████████████████████████████████████████████████████▊                                                                    | 572/751 [15:10<03:32,  1.19s/it]"
     ]
    },
    {
     "name": "stdout",
     "output_type": "stream",
     "text": [
      "82359\n",
      "78199\n",
      "79159\n",
      "117559\n"
     ]
    },
    {
     "name": "stderr",
     "output_type": "stream",
     "text": [
      " 76%|██████████████████████████████████████████████████████████████████████████████████████████████████████████████████████████████████████████████████████████████████████████████████████████████████████████████████████████▏                                                                   | 573/751 [15:12<04:12,  1.42s/it]"
     ]
    },
    {
     "name": "stdout",
     "output_type": "stream",
     "text": [
      "89399\n",
      "79543\n",
      "96183\n",
      "127415\n"
     ]
    },
    {
     "name": "stderr",
     "output_type": "stream",
     "text": [
      " 76%|██████████████████████████████████████████████████████████████████████████████████████████████████████████████████████████████████████████████████████████████████████████████████████████████████████████████████████████▌                                                                   | 574/751 [15:14<04:55,  1.67s/it]"
     ]
    },
    {
     "name": "stdout",
     "output_type": "stream",
     "text": [
      "101943\n",
      "50359\n",
      "61367\n",
      "62391\n"
     ]
    },
    {
     "name": "stderr",
     "output_type": "stream",
     "text": [
      " 77%|██████████████████████████████████████████████████████████████████████████████████████████████████████████████████████████████████████████████████████████████████████████████████████████████████████████████████████████▉                                                                   | 575/751 [15:16<04:55,  1.68s/it]"
     ]
    },
    {
     "name": "stdout",
     "output_type": "stream",
     "text": [
      "87799\n",
      "31607\n",
      "45815\n",
      "64375\n"
     ]
    },
    {
     "name": "stderr",
     "output_type": "stream",
     "text": [
      " 77%|███████████████████████████████████████████████████████████████████████████████████████████████████████████████████████████████████████████████████████████████████████████████████████████████████████████████████████████▎                                                                  | 576/751 [15:17<04:35,  1.58s/it]"
     ]
    },
    {
     "name": "stdout",
     "output_type": "stream",
     "text": [
      "71415\n",
      "128567\n"
     ]
    },
    {
     "name": "stderr",
     "output_type": "stream",
     "text": [
      " 77%|███████████████████████████████████████████████████████████████████████████████████████████████████████████████████████████████████████████████████████████████████████████████████████████████████████████████████████████▋                                                                  | 577/751 [15:18<04:10,  1.44s/it]"
     ]
    },
    {
     "name": "stdout",
     "output_type": "stream",
     "text": [
      "80759\n"
     ]
    },
    {
     "name": "stderr",
     "output_type": "stream",
     "text": [
      " 77%|████████████████████████████████████████████████████████████████████████████████████████████████████████████████████████████████████████████████████████████████████████████████████████████████████████████████████████████                                                                  | 578/751 [15:19<03:18,  1.15s/it]"
     ]
    },
    {
     "name": "stdout",
     "output_type": "stream",
     "text": [
      "95799\n",
      "91959\n"
     ]
    },
    {
     "name": "stderr",
     "output_type": "stream",
     "text": [
      " 77%|████████████████████████████████████████████████████████████████████████████████████████████████████████████████████████████████████████████████████████████████████████████████████████████████████████████████████████████▍                                                                 | 579/751 [15:19<03:00,  1.05s/it]"
     ]
    },
    {
     "name": "stdout",
     "output_type": "stream",
     "text": [
      "76727\n",
      "38199\n",
      "36599\n"
     ]
    },
    {
     "name": "stderr",
     "output_type": "stream",
     "text": [
      " 77%|████████████████████████████████████████████████████████████████████████████████████████████████████████████████████████████████████████████████████████████████████████████████████████████████████████████████████████████▉                                                                 | 580/751 [15:20<02:59,  1.05s/it]"
     ]
    },
    {
     "name": "stdout",
     "output_type": "stream",
     "text": [
      "74167\n",
      "44215\n",
      "40759\n",
      "40759\n"
     ]
    },
    {
     "name": "stderr",
     "output_type": "stream",
     "text": [
      " 77%|█████████████████████████████████████████████████████████████████████████████████████████████████████████████████████████████████████████████████████████████████████████████████████████████████████████████████████████████▎                                                                | 581/751 [15:22<03:03,  1.08s/it]"
     ]
    },
    {
     "name": "stdout",
     "output_type": "stream",
     "text": [
      "95159\n",
      "46135\n",
      "84727\n",
      "81015\n"
     ]
    },
    {
     "name": "stderr",
     "output_type": "stream",
     "text": [
      " 77%|█████████████████████████████████████████████████████████████████████████████████████████████████████████████████████████████████████████████████████████████████████████████████████████████████████████████████████████████▋                                                                | 582/751 [15:23<03:28,  1.23s/it]"
     ]
    },
    {
     "name": "stdout",
     "output_type": "stream",
     "text": [
      "82615\n",
      "80375\n",
      "79543\n"
     ]
    },
    {
     "name": "stderr",
     "output_type": "stream",
     "text": [
      " 78%|██████████████████████████████████████████████████████████████████████████████████████████████████████████████████████████████████████████████████████████████████████████████████████████████████████████████████████████████                                                                | 583/751 [15:24<03:26,  1.23s/it]"
     ]
    },
    {
     "name": "stdout",
     "output_type": "stream",
     "text": [
      "79543\n",
      "73015\n"
     ]
    },
    {
     "name": "stderr",
     "output_type": "stream",
     "text": [
      " 78%|██████████████████████████████████████████████████████████████████████████████████████████████████████████████████████████████████████████████████████████████████████████████████████████████████████████████████████████████▍                                                               | 584/751 [15:25<03:07,  1.12s/it]"
     ]
    },
    {
     "name": "stdout",
     "output_type": "stream",
     "text": [
      "56375\n",
      "34359\n",
      "32631\n",
      "29111\n"
     ]
    },
    {
     "name": "stderr",
     "output_type": "stream",
     "text": [
      " 78%|██████████████████████████████████████████████████████████████████████████████████████████████████████████████████████████████████████████████████████████████████████████████████████████████████████████████████████████████▊                                                               | 585/751 [15:26<03:01,  1.09s/it]"
     ]
    },
    {
     "name": "stdout",
     "output_type": "stream",
     "text": [
      "49143\n",
      "119991\n",
      "90231\n",
      "110327\n"
     ]
    },
    {
     "name": "stderr",
     "output_type": "stream",
     "text": [
      " 78%|███████████████████████████████████████████████████████████████████████████████████████████████████████████████████████████████████████████████████████████████████████████████████████████████████████████████████████████████▏                                                              | 586/751 [15:29<04:05,  1.49s/it]"
     ]
    },
    {
     "name": "stdout",
     "output_type": "stream",
     "text": [
      "119415\n",
      "50807\n",
      "31991\n"
     ]
    },
    {
     "name": "stderr",
     "output_type": "stream",
     "text": [
      " 78%|███████████████████████████████████████████████████████████████████████████████████████████████████████████████████████████████████████████████████████████████████████████████████████████████████████████████████████████████▌                                                              | 587/751 [15:30<03:38,  1.33s/it]"
     ]
    },
    {
     "name": "stdout",
     "output_type": "stream",
     "text": [
      "75767\n",
      "80631\n",
      "79543\n",
      "119159\n"
     ]
    },
    {
     "name": "stderr",
     "output_type": "stream",
     "text": [
      " 78%|███████████████████████████████████████████████████████████████████████████████████████████████████████████████████████████████████████████████████████████████████████████████████████████████████████████████████████████████▉                                                              | 588/751 [15:32<04:03,  1.49s/it]"
     ]
    },
    {
     "name": "stdout",
     "output_type": "stream",
     "text": [
      "79543\n",
      "82167\n",
      "82615\n"
     ]
    },
    {
     "name": "stderr",
     "output_type": "stream",
     "text": [
      " 78%|████████████████████████████████████████████████████████████████████████████████████████████████████████████████████████████████████████████████████████████████████████████████████████████████████████████████████████████████▎                                                             | 589/751 [15:33<04:01,  1.49s/it]"
     ]
    },
    {
     "name": "stdout",
     "output_type": "stream",
     "text": [
      "87159\n",
      "90359\n",
      "88567\n",
      "76983\n"
     ]
    },
    {
     "name": "stderr",
     "output_type": "stream",
     "text": [
      " 79%|████████████████████████████████████████████████████████████████████████████████████████████████████████████████████████████████████████████████████████████████████████████████████████████████████████████████████████████████▋                                                             | 590/751 [15:35<04:15,  1.59s/it]"
     ]
    },
    {
     "name": "stdout",
     "output_type": "stream",
     "text": [
      "78199\n",
      "43831\n"
     ]
    },
    {
     "name": "stderr",
     "output_type": "stream",
     "text": [
      " 79%|█████████████████████████████████████████████████████████████████████████████████████████████████████████████████████████████████████████████████████████████████████████████████████████████████████████████████████████████████                                                             | 591/751 [15:36<03:34,  1.34s/it]"
     ]
    },
    {
     "name": "stdout",
     "output_type": "stream",
     "text": [
      "82999\n",
      "32759\n",
      "34807\n",
      "38199\n"
     ]
    },
    {
     "name": "stderr",
     "output_type": "stream",
     "text": [
      " 79%|█████████████████████████████████████████████████████████████████████████████████████████████████████████████████████████████████████████████████████████████████████████████████████████████████████████████████████████████████▍                                                            | 592/751 [15:37<03:23,  1.28s/it]"
     ]
    },
    {
     "name": "stdout",
     "output_type": "stream",
     "text": [
      "46775\n",
      "82807\n",
      "80247\n",
      "125559\n"
     ]
    },
    {
     "name": "stderr",
     "output_type": "stream",
     "text": [
      " 79%|█████████████████████████████████████████████████████████████████████████████████████████████████████████████████████████████████████████████████████████████████████████████████████████████████████████████████████████████████▊                                                            | 593/751 [15:39<03:47,  1.44s/it]"
     ]
    },
    {
     "name": "stdout",
     "output_type": "stream",
     "text": [
      "79991\n",
      "88951\n",
      "80183\n",
      "79799\n"
     ]
    },
    {
     "name": "stderr",
     "output_type": "stream",
     "text": [
      " 79%|██████████████████████████████████████████████████████████████████████████████████████████████████████████████████████████████████████████████████████████████████████████████████████████████████████████████████████████████████▏                                                           | 594/751 [15:40<04:02,  1.54s/it]"
     ]
    },
    {
     "name": "stdout",
     "output_type": "stream",
     "text": [
      "90743\n"
     ]
    },
    {
     "name": "stderr",
     "output_type": "stream",
     "text": [
      " 79%|██████████████████████████████████████████████████████████████████████████████████████████████████████████████████████████████████████████████████████████████████████████████████████████████████████████████████████████████████▌                                                           | 595/751 [15:41<03:13,  1.24s/it]"
     ]
    },
    {
     "name": "stdout",
     "output_type": "stream",
     "text": [
      "97975\n",
      "83831\n",
      "85559\n",
      "85943\n"
     ]
    },
    {
     "name": "stderr",
     "output_type": "stream",
     "text": [
      " 79%|██████████████████████████████████████████████████████████████████████████████████████████████████████████████████████████████████████████████████████████████████████████████████████████████████████████████████████████████████▉                                                           | 596/751 [15:42<03:28,  1.35s/it]"
     ]
    },
    {
     "name": "stdout",
     "output_type": "stream",
     "text": [
      "85175\n",
      "82231\n"
     ]
    },
    {
     "name": "stderr",
     "output_type": "stream",
     "text": [
      " 79%|███████████████████████████████████████████████████████████████████████████████████████████████████████████████████████████████████████████████████████████████████████████████████████████████████████████████████████████████████▎                                                          | 597/751 [15:43<03:00,  1.17s/it]"
     ]
    },
    {
     "name": "stdout",
     "output_type": "stream",
     "text": [
      "59959\n",
      "37111\n",
      "32247\n",
      "37943\n"
     ]
    },
    {
     "name": "stderr",
     "output_type": "stream",
     "text": [
      " 80%|███████████████████████████████████████████████████████████████████████████████████████████████████████████████████████████████████████████████████████████████████████████████████████████████████████████████████████████████████▋                                                          | 598/751 [15:45<03:04,  1.21s/it]"
     ]
    },
    {
     "name": "stdout",
     "output_type": "stream",
     "text": [
      "44727\n",
      "84727\n"
     ]
    },
    {
     "name": "stderr",
     "output_type": "stream",
     "text": [
      " 80%|████████████████████████████████████████████████████████████████████████████████████████████████████████████████████████████████████████████████████████████████████████████████████████████████████████████████████████████████████                                                          | 599/751 [15:45<02:50,  1.12s/it]"
     ]
    },
    {
     "name": "stdout",
     "output_type": "stream",
     "text": [
      "80311\n",
      "102327\n"
     ]
    },
    {
     "name": "stderr",
     "output_type": "stream",
     "text": [
      " 80%|████████████████████████████████████████████████████████████████████████████████████████████████████████████████████████████████████████████████████████████████████████████████████████████████████████████████████████████████████▍                                                         | 600/751 [15:46<02:40,  1.06s/it]"
     ]
    },
    {
     "name": "stdout",
     "output_type": "stream",
     "text": [
      "86007\n",
      "138167\n",
      "86391\n",
      "139575\n"
     ]
    },
    {
     "name": "stderr",
     "output_type": "stream",
     "text": [
      " 80%|████████████████████████████████████████████████████████████████████████████████████████████████████████████████████████████████████████████████████████████████████████████████████████████████████████████████████████████████████▉                                                         | 601/751 [15:49<03:36,  1.44s/it]"
     ]
    },
    {
     "name": "stdout",
     "output_type": "stream",
     "text": [
      "79415\n",
      "34999\n",
      "41591\n",
      "49591\n"
     ]
    },
    {
     "name": "stderr",
     "output_type": "stream",
     "text": [
      " 80%|█████████████████████████████████████████████████████████████████████████████████████████████████████████████████████████████████████████████████████████████████████████████████████████████████████████████████████████████████████▎                                                        | 602/751 [15:50<03:37,  1.46s/it]"
     ]
    },
    {
     "name": "stdout",
     "output_type": "stream",
     "text": [
      "91191\n",
      "87159\n"
     ]
    },
    {
     "name": "stderr",
     "output_type": "stream",
     "text": [
      " 80%|█████████████████████████████████████████████████████████████████████████████████████████████████████████████████████████████████████████████████████████████████████████████████████████████████████████████████████████████████████▋                                                        | 603/751 [15:51<03:13,  1.31s/it]"
     ]
    },
    {
     "name": "stdout",
     "output_type": "stream",
     "text": [
      "90359\n",
      "45943\n",
      "92983\n",
      "61559\n"
     ]
    },
    {
     "name": "stderr",
     "output_type": "stream",
     "text": [
      " 80%|██████████████████████████████████████████████████████████████████████████████████████████████████████████████████████████████████████████████████████████████████████████████████████████████████████████████████████████████████████                                                        | 604/751 [15:53<03:29,  1.43s/it]"
     ]
    },
    {
     "name": "stdout",
     "output_type": "stream",
     "text": [
      "110007\n",
      "59959\n",
      "82807\n",
      "63031\n"
     ]
    },
    {
     "name": "stderr",
     "output_type": "stream",
     "text": [
      " 81%|██████████████████████████████████████████████████████████████████████████████████████████████████████████████████████████████████████████████████████████████████████████████████████████████████████████████████████████████████████▍                                                       | 605/751 [15:54<03:35,  1.48s/it]"
     ]
    },
    {
     "name": "stdout",
     "output_type": "stream",
     "text": [
      "83575\n",
      "75127\n",
      "75191\n",
      "73015\n"
     ]
    },
    {
     "name": "stderr",
     "output_type": "stream",
     "text": [
      " 81%|██████████████████████████████████████████████████████████████████████████████████████████████████████████████████████████████████████████████████████████████████████████████████████████████████████████████████████████████████████▊                                                       | 606/751 [15:56<03:36,  1.49s/it]"
     ]
    },
    {
     "name": "stdout",
     "output_type": "stream",
     "text": [
      "53815\n",
      "36215\n",
      "47543\n",
      "51767\n"
     ]
    },
    {
     "name": "stderr",
     "output_type": "stream",
     "text": [
      " 81%|███████████████████████████████████████████████████████████████████████████████████████████████████████████████████████████████████████████████████████████████████████████████████████████████████████████████████████████████████████▏                                                      | 607/751 [15:57<03:28,  1.45s/it]"
     ]
    },
    {
     "name": "stdout",
     "output_type": "stream",
     "text": [
      "72631\n",
      "42615\n",
      "57591\n",
      "46391\n"
     ]
    },
    {
     "name": "stderr",
     "output_type": "stream",
     "text": [
      " 81%|███████████████████████████████████████████████████████████████████████████████████████████████████████████████████████████████████████████████████████████████████████████████████████████████████████████████████████████████████████▌                                                      | 608/751 [15:59<03:25,  1.44s/it]"
     ]
    },
    {
     "name": "stdout",
     "output_type": "stream",
     "text": [
      "68343\n",
      "86327\n",
      "86199\n",
      "84343\n"
     ]
    },
    {
     "name": "stderr",
     "output_type": "stream",
     "text": [
      " 81%|███████████████████████████████████████████████████████████████████████████████████████████████████████████████████████████████████████████████████████████████████████████████████████████████████████████████████████████████████████▉                                                      | 609/751 [16:00<03:35,  1.52s/it]"
     ]
    },
    {
     "name": "stdout",
     "output_type": "stream",
     "text": [
      "88311\n",
      "87799\n"
     ]
    },
    {
     "name": "stderr",
     "output_type": "stream",
     "text": [
      " 81%|████████████████████████████████████████████████████████████████████████████████████████████████████████████████████████████████████████████████████████████████████████████████████████████████████████████████████████████████████████▎                                                     | 610/751 [16:01<03:08,  1.33s/it]"
     ]
    },
    {
     "name": "stdout",
     "output_type": "stream",
     "text": [
      "51959\n",
      "48567\n",
      "36983\n",
      "31991\n"
     ]
    },
    {
     "name": "stderr",
     "output_type": "stream",
     "text": [
      " 81%|████████████████████████████████████████████████████████████████████████████████████████████████████████████████████████████████████████████████████████████████████████████████████████████████████████████████████████████████████████▋                                                     | 611/751 [16:03<03:07,  1.34s/it]"
     ]
    },
    {
     "name": "stdout",
     "output_type": "stream",
     "text": [
      "92727\n",
      "82231\n",
      "101175\n",
      "77815\n"
     ]
    },
    {
     "name": "stderr",
     "output_type": "stream",
     "text": [
      " 81%|█████████████████████████████████████████████████████████████████████████████████████████████████████████████████████████████████████████████████████████████████████████████████████████████████████████████████████████████████████████                                                     | 612/751 [16:05<03:29,  1.51s/it]"
     ]
    },
    {
     "name": "stdout",
     "output_type": "stream",
     "text": [
      "114615\n",
      "58615\n",
      "96375\n",
      "46199\n"
     ]
    },
    {
     "name": "stderr",
     "output_type": "stream",
     "text": [
      " 82%|█████████████████████████████████████████████████████████████████████████████████████████████████████████████████████████████████████████████████████████████████████████████████████████████████████████████████████████████████████████▍                                                    | 613/751 [16:06<03:30,  1.52s/it]"
     ]
    },
    {
     "name": "stdout",
     "output_type": "stream",
     "text": [
      "87927\n",
      "73207\n",
      "79991\n",
      "64759\n"
     ]
    },
    {
     "name": "stderr",
     "output_type": "stream",
     "text": [
      " 82%|█████████████████████████████████████████████████████████████████████████████████████████████████████████████████████████████████████████████████████████████████████████████████████████████████████████████████████████████████████████▊                                                    | 614/751 [16:08<03:23,  1.48s/it]"
     ]
    },
    {
     "name": "stdout",
     "output_type": "stream",
     "text": [
      "65015\n",
      "78199\n",
      "86647\n",
      "78007\n"
     ]
    },
    {
     "name": "stderr",
     "output_type": "stream",
     "text": [
      " 82%|██████████████████████████████████████████████████████████████████████████████████████████████████████████████████████████████████████████████████████████████████████████████████████████████████████████████████████████████████████████▏                                                   | 615/751 [16:10<03:42,  1.64s/it]"
     ]
    },
    {
     "name": "stdout",
     "output_type": "stream",
     "text": [
      "74743\n",
      "100599\n"
     ]
    },
    {
     "name": "stderr",
     "output_type": "stream",
     "text": [
      " 82%|██████████████████████████████████████████████████████████████████████████████████████████████████████████████████████████████████████████████████████████████████████████████████████████████████████████████████████████████████████████▌                                                   | 616/751 [16:10<03:13,  1.43s/it]"
     ]
    },
    {
     "name": "stdout",
     "output_type": "stream",
     "text": [
      "81975\n",
      "79159\n",
      "85431\n",
      "75831\n"
     ]
    },
    {
     "name": "stderr",
     "output_type": "stream",
     "text": [
      " 82%|██████████████████████████████████████████████████████████████████████████████████████████████████████████████████████████████████████████████████████████████████████████████████████████████████████████████████████████████████████████▉                                                   | 617/751 [16:12<03:30,  1.57s/it]"
     ]
    },
    {
     "name": "stdout",
     "output_type": "stream",
     "text": [
      "78327\n",
      "86775\n",
      "84727\n",
      "128567\n"
     ]
    },
    {
     "name": "stderr",
     "output_type": "stream",
     "text": [
      " 82%|███████████████████████████████████████████████████████████████████████████████████████████████████████████████████████████████████████████████████████████████████████████████████████████████████████████████████████████████████████████▎                                                  | 618/751 [16:14<03:39,  1.65s/it]"
     ]
    },
    {
     "name": "stdout",
     "output_type": "stream",
     "text": [
      "83383\n",
      "79991\n",
      "120311\n"
     ]
    },
    {
     "name": "stderr",
     "output_type": "stream",
     "text": [
      " 82%|███████████████████████████████████████████████████████████████████████████████████████████████████████████████████████████████████████████████████████████████████████████████████████████████████████████████████████████████████████████▋                                                  | 619/751 [16:16<03:31,  1.60s/it]"
     ]
    },
    {
     "name": "stdout",
     "output_type": "stream",
     "text": [
      "85815\n",
      "98167\n",
      "79991\n",
      "115575\n"
     ]
    },
    {
     "name": "stderr",
     "output_type": "stream",
     "text": [
      " 83%|████████████████████████████████████████████████████████████████████████████████████████████████████████████████████████████████████████████████████████████████████████████████████████████████████████████████████████████████████████████                                                  | 620/751 [16:18<03:37,  1.66s/it]"
     ]
    },
    {
     "name": "stdout",
     "output_type": "stream",
     "text": [
      "64567\n",
      "99831\n",
      "81847\n"
     ]
    },
    {
     "name": "stderr",
     "output_type": "stream",
     "text": [
      " 83%|████████████████████████████████████████████████████████████████████████████████████████████████████████████████████████████████████████████████████████████████████████████████████████████████████████████████████████████████████████████▍                                                 | 621/751 [16:19<03:28,  1.61s/it]"
     ]
    },
    {
     "name": "stdout",
     "output_type": "stream",
     "text": [
      "108599\n",
      "79799\n",
      "78583\n",
      "76791\n"
     ]
    },
    {
     "name": "stderr",
     "output_type": "stream",
     "text": [
      " 83%|████████████████████████████████████████████████████████████████████████████████████████████████████████████████████████████████████████████████████████████████████████████████████████████████████████████████████████████████████████████▊                                                 | 622/751 [16:21<03:29,  1.62s/it]"
     ]
    },
    {
     "name": "stdout",
     "output_type": "stream",
     "text": [
      "85175\n",
      "75575\n",
      "84727\n",
      "77559\n"
     ]
    },
    {
     "name": "stderr",
     "output_type": "stream",
     "text": [
      " 83%|█████████████████████████████████████████████████████████████████████████████████████████████████████████████████████████████████████████████████████████████████████████████████████████████████████████████████████████████████████████████▎                                                | 623/751 [16:22<03:24,  1.60s/it]"
     ]
    },
    {
     "name": "stdout",
     "output_type": "stream",
     "text": [
      "76727\n"
     ]
    },
    {
     "name": "stderr",
     "output_type": "stream",
     "text": [
      " 83%|█████████████████████████████████████████████████████████████████████████████████████████████████████████████████████████████████████████████████████████████████████████████████████████████████████████████████████████████████████████████▋                                                | 624/751 [16:23<02:44,  1.30s/it]"
     ]
    },
    {
     "name": "stdout",
     "output_type": "stream",
     "text": [
      "108599\n",
      "81399\n",
      "113975\n",
      "77559\n"
     ]
    },
    {
     "name": "stderr",
     "output_type": "stream",
     "text": [
      " 83%|██████████████████████████████████████████████████████████████████████████████████████████████████████████████████████████████████████████████████████████████████████████████████████████████████████████████████████████████████████████████                                                | 625/751 [16:25<03:07,  1.49s/it]"
     ]
    },
    {
     "name": "stdout",
     "output_type": "stream",
     "text": [
      "80375\n"
     ]
    },
    {
     "name": "stderr",
     "output_type": "stream",
     "text": [
      " 83%|██████████████████████████████████████████████████████████████████████████████████████████████████████████████████████████████████████████████████████████████████████████████████████████████████████████████████████████████████████████████▍                                               | 626/751 [16:25<02:26,  1.18s/it]"
     ]
    },
    {
     "name": "stdout",
     "output_type": "stream",
     "text": [
      "85815\n",
      "42743\n",
      "47799\n",
      "74359\n"
     ]
    },
    {
     "name": "stderr",
     "output_type": "stream",
     "text": [
      " 83%|██████████████████████████████████████████████████████████████████████████████████████████████████████████████████████████████████████████████████████████████████████████████████████████████████████████████████████████████████████████████▊                                               | 627/751 [16:27<02:35,  1.25s/it]"
     ]
    },
    {
     "name": "stdout",
     "output_type": "stream",
     "text": [
      "88567\n",
      "75575\n"
     ]
    },
    {
     "name": "stderr",
     "output_type": "stream",
     "text": [
      " 84%|███████████████████████████████████████████████████████████████████████████████████████████████████████████████████████████████████████████████████████████████████████████████████████████████████████████████████████████████████████████████▏                                              | 628/751 [16:28<02:24,  1.17s/it]"
     ]
    },
    {
     "name": "stdout",
     "output_type": "stream",
     "text": [
      "122615\n",
      "83831\n",
      "86967\n",
      "88759\n"
     ]
    },
    {
     "name": "stderr",
     "output_type": "stream",
     "text": [
      " 84%|███████████████████████████████████████████████████████████████████████████████████████████████████████████████████████████████████████████████████████████████████████████████████████████████████████████████████████████████████████████████▌                                              | 629/751 [16:29<02:47,  1.37s/it]"
     ]
    },
    {
     "name": "stdout",
     "output_type": "stream",
     "text": [
      "85047\n",
      "108727\n",
      "89399\n",
      "132407\n"
     ]
    },
    {
     "name": "stderr",
     "output_type": "stream",
     "text": [
      " 84%|███████████████████████████████████████████████████████████████████████████████████████████████████████████████████████████████████████████████████████████████████████████████████████████████████████████████████████████████████████████████▉                                              | 630/751 [16:31<03:04,  1.52s/it]"
     ]
    },
    {
     "name": "stdout",
     "output_type": "stream",
     "text": [
      "87415\n",
      "90743\n",
      "80951\n",
      "78775\n"
     ]
    },
    {
     "name": "stderr",
     "output_type": "stream",
     "text": [
      " 84%|████████████████████████████████████████████████████████████████████████████████████████████████████████████████████████████████████████████████████████████████████████████████████████████████████████████████████████████████████████████████▎                                             | 631/751 [16:33<03:17,  1.64s/it]"
     ]
    },
    {
     "name": "stdout",
     "output_type": "stream",
     "text": [
      "78775\n",
      "34167\n",
      "41975\n",
      "31543\n"
     ]
    },
    {
     "name": "stderr",
     "output_type": "stream",
     "text": [
      " 84%|████████████████████████████████████████████████████████████████████████████████████████████████████████████████████████████████████████████████████████████████████████████████████████████████████████████████████████████████████████████████▋                                             | 632/751 [16:35<03:03,  1.54s/it]"
     ]
    },
    {
     "name": "stdout",
     "output_type": "stream",
     "text": [
      "71415\n",
      "82359\n",
      "79159\n"
     ]
    },
    {
     "name": "stderr",
     "output_type": "stream",
     "text": [
      " 84%|█████████████████████████████████████████████████████████████████████████████████████████████████████████████████████████████████████████████████████████████████████████████████████████████████████████████████████████████████████████████████                                             | 633/751 [16:36<02:50,  1.45s/it]"
     ]
    },
    {
     "name": "stdout",
     "output_type": "stream",
     "text": [
      "79799\n",
      "79159\n"
     ]
    },
    {
     "name": "stderr",
     "output_type": "stream",
     "text": [
      " 84%|█████████████████████████████████████████████████████████████████████████████████████████████████████████████████████████████████████████████████████████████████████████████████████████████████████████████████████████████████████████████████▍                                            | 634/751 [16:37<02:40,  1.37s/it]"
     ]
    },
    {
     "name": "stdout",
     "output_type": "stream",
     "text": [
      "121911\n",
      "80759\n",
      "95159\n",
      "79799\n"
     ]
    },
    {
     "name": "stderr",
     "output_type": "stream",
     "text": [
      " 85%|█████████████████████████████████████████████████████████████████████████████████████████████████████████████████████████████████████████████████████████████████████████████████████████████████████████████████████████████████████████████████▊                                            | 635/751 [16:39<03:04,  1.59s/it]"
     ]
    },
    {
     "name": "stdout",
     "output_type": "stream",
     "text": [
      "79991\n",
      "73591\n",
      "63031\n",
      "60727\n"
     ]
    },
    {
     "name": "stderr",
     "output_type": "stream",
     "text": [
      " 85%|██████████████████████████████████████████████████████████████████████████████████████████████████████████████████████████████████████████████████████████████████████████████████████████████████████████████████████████████████████████████████▏                                           | 636/751 [16:41<03:02,  1.59s/it]"
     ]
    },
    {
     "name": "stdout",
     "output_type": "stream",
     "text": [
      "82231\n",
      "83383\n",
      "82999\n",
      "82359\n"
     ]
    },
    {
     "name": "stderr",
     "output_type": "stream",
     "text": [
      " 85%|██████████████████████████████████████████████████████████████████████████████████████████████████████████████████████████████████████████████████████████████████████████████████████████████████████████████████████████████████████████████████▌                                           | 637/751 [16:43<03:12,  1.68s/it]"
     ]
    },
    {
     "name": "stdout",
     "output_type": "stream",
     "text": [
      "81399\n",
      "82999\n",
      "85815\n",
      "129911\n"
     ]
    },
    {
     "name": "stderr",
     "output_type": "stream",
     "text": [
      " 85%|██████████████████████████████████████████████████████████████████████████████████████████████████████████████████████████████████████████████████████████████████████████████████████████████████████████████████████████████████████████████████▉                                           | 638/751 [16:45<03:26,  1.83s/it]"
     ]
    },
    {
     "name": "stdout",
     "output_type": "stream",
     "text": [
      "118775\n",
      "81143\n",
      "83127\n",
      "93367\n"
     ]
    },
    {
     "name": "stderr",
     "output_type": "stream",
     "text": [
      " 85%|███████████████████████████████████████████████████████████████████████████████████████████████████████████████████████████████████████████████████████████████████████████████████████████████████████████████████████████████████████████████████▎                                          | 639/751 [16:47<03:33,  1.91s/it]"
     ]
    },
    {
     "name": "stdout",
     "output_type": "stream",
     "text": [
      "82359\n",
      "73399\n",
      "93943\n"
     ]
    },
    {
     "name": "stderr",
     "output_type": "stream",
     "text": [
      " 85%|███████████████████████████████████████████████████████████████████████████████████████████████████████████████████████████████████████████████████████████████████████████████████████████████████████████████████████████████████████████████████▋                                          | 640/751 [16:48<03:12,  1.73s/it]"
     ]
    },
    {
     "name": "stdout",
     "output_type": "stream",
     "text": [
      "81591\n",
      "83959\n"
     ]
    },
    {
     "name": "stderr",
     "output_type": "stream",
     "text": [
      " 85%|████████████████████████████████████████████████████████████████████████████████████████████████████████████████████████████████████████████████████████████████████████████████████████████████████████████████████████████████████████████████████                                          | 641/751 [16:49<02:49,  1.54s/it]"
     ]
    },
    {
     "name": "stdout",
     "output_type": "stream",
     "text": [
      "122743\n",
      "81143\n",
      "109175\n",
      "83831\n"
     ]
    },
    {
     "name": "stderr",
     "output_type": "stream",
     "text": [
      " 85%|████████████████████████████████████████████████████████████████████████████████████████████████████████████████████████████████████████████████████████████████████████████████████████████████████████████████████████████████████████████████████▍                                         | 642/751 [16:51<02:57,  1.63s/it]"
     ]
    },
    {
     "name": "stdout",
     "output_type": "stream",
     "text": [
      "79927\n",
      "81207\n",
      "88631\n",
      "96759\n"
     ]
    },
    {
     "name": "stderr",
     "output_type": "stream",
     "text": [
      " 86%|████████████████████████████████████████████████████████████████████████████████████████████████████████████████████████████████████████████████████████████████████████████████████████████████████████████████████████████████████████████████████▊                                         | 643/751 [16:53<02:59,  1.66s/it]"
     ]
    },
    {
     "name": "stdout",
     "output_type": "stream",
     "text": [
      "105527\n",
      "46391\n",
      "40311\n",
      "37431\n"
     ]
    },
    {
     "name": "stderr",
     "output_type": "stream",
     "text": [
      " 86%|█████████████████████████████████████████████████████████████████████████████████████████████████████████████████████████████████████████████████████████████████████████████████████████████████████████████████████████████████████████████████████▎                                        | 644/751 [16:54<02:42,  1.52s/it]"
     ]
    },
    {
     "name": "stdout",
     "output_type": "stream",
     "text": [
      "41783\n",
      "79159\n",
      "79415\n",
      "81207\n"
     ]
    },
    {
     "name": "stderr",
     "output_type": "stream",
     "text": [
      " 86%|█████████████████████████████████████████████████████████████████████████████████████████████████████████████████████████████████████████████████████████████████████████████████████████████████████████████████████████████████████████████████████▋                                        | 645/751 [16:56<02:49,  1.60s/it]"
     ]
    },
    {
     "name": "stdout",
     "output_type": "stream",
     "text": [
      "81143\n",
      "43575\n",
      "47799\n",
      "45111\n"
     ]
    },
    {
     "name": "stderr",
     "output_type": "stream",
     "text": [
      " 86%|██████████████████████████████████████████████████████████████████████████████████████████████████████████████████████████████████████████████████████████████████████████████████████████████████████████████████████████████████████████████████████                                        | 646/751 [16:57<02:41,  1.54s/it]"
     ]
    },
    {
     "name": "stdout",
     "output_type": "stream",
     "text": [
      "72759\n",
      "46583\n",
      "66231\n",
      "59383\n"
     ]
    },
    {
     "name": "stderr",
     "output_type": "stream",
     "text": [
      " 86%|██████████████████████████████████████████████████████████████████████████████████████████████████████████████████████████████████████████████████████████████████████████████████████████████████████████████████████████████████████████████████████▍                                       | 647/751 [16:59<02:43,  1.57s/it]"
     ]
    },
    {
     "name": "stdout",
     "output_type": "stream",
     "text": [
      "99383\n",
      "77943\n",
      "90615\n",
      "79543\n"
     ]
    },
    {
     "name": "stderr",
     "output_type": "stream",
     "text": [
      " 86%|██████████████████████████████████████████████████████████████████████████████████████████████████████████████████████████████████████████████████████████████████████████████████████████████████████████████████████████████████████████████████████▊                                       | 648/751 [17:01<02:47,  1.62s/it]"
     ]
    },
    {
     "name": "stdout",
     "output_type": "stream",
     "text": [
      "81143\n",
      "95799\n",
      "81847\n",
      "110967\n"
     ]
    },
    {
     "name": "stderr",
     "output_type": "stream",
     "text": [
      " 86%|███████████████████████████████████████████████████████████████████████████████████████████████████████████████████████████████████████████████████████████████████████████████████████████████████████████████████████████████████████████████████████▏                                      | 649/751 [17:02<02:54,  1.71s/it]"
     ]
    },
    {
     "name": "stdout",
     "output_type": "stream",
     "text": [
      "82231\n",
      "79159\n",
      "80759\n",
      "80311\n"
     ]
    },
    {
     "name": "stderr",
     "output_type": "stream",
     "text": [
      " 87%|███████████████████████████████████████████████████████████████████████████████████████████████████████████████████████████████████████████████████████████████████████████████████████████████████████████████████████████████████████████████████████▌                                      | 650/751 [17:04<02:48,  1.67s/it]"
     ]
    },
    {
     "name": "stdout",
     "output_type": "stream",
     "text": [
      "81399\n",
      "79159\n",
      "79799\n",
      "80183\n"
     ]
    },
    {
     "name": "stderr",
     "output_type": "stream",
     "text": [
      " 87%|███████████████████████████████████████████████████████████████████████████████████████████████████████████████████████████████████████████████████████████████████████████████████████████████████████████████████████████████████████████████████████▉                                      | 651/751 [17:06<02:43,  1.64s/it]"
     ]
    },
    {
     "name": "stdout",
     "output_type": "stream",
     "text": [
      "79159\n",
      "82167\n",
      "85559\n",
      "118199\n"
     ]
    },
    {
     "name": "stderr",
     "output_type": "stream",
     "text": [
      " 87%|████████████████████████████████████████████████████████████████████████████████████████████████████████████████████████████████████████████████████████████████████████████████████████████████████████████████████████████████████████████████████████▎                                     | 652/751 [17:07<02:49,  1.71s/it]"
     ]
    },
    {
     "name": "stdout",
     "output_type": "stream",
     "text": [
      "80631\n",
      "40631\n",
      "62391\n",
      "37815\n"
     ]
    },
    {
     "name": "stderr",
     "output_type": "stream",
     "text": [
      " 87%|████████████████████████████████████████████████████████████████████████████████████████████████████████████████████████████████████████████████████████████████████████████████████████████████████████████████████████████████████████████████████████▋                                     | 653/751 [17:09<02:42,  1.65s/it]"
     ]
    },
    {
     "name": "stdout",
     "output_type": "stream",
     "text": [
      "83191\n",
      "87031\n",
      "120311\n"
     ]
    },
    {
     "name": "stderr",
     "output_type": "stream",
     "text": [
      " 87%|█████████████████████████████████████████████████████████████████████████████████████████████████████████████████████████████████████████████████████████████████████████████████████████████████████████████████████████████████████████████████████████                                     | 654/751 [17:11<02:36,  1.61s/it]"
     ]
    },
    {
     "name": "stdout",
     "output_type": "stream",
     "text": [
      "79799\n",
      "82743\n",
      "80183\n",
      "77175\n"
     ]
    },
    {
     "name": "stderr",
     "output_type": "stream",
     "text": [
      " 87%|█████████████████████████████████████████████████████████████████████████████████████████████████████████████████████████████████████████████████████████████████████████████████████████████████████████████████████████████████████████████████████████▍                                    | 655/751 [17:12<02:39,  1.66s/it]"
     ]
    },
    {
     "name": "stdout",
     "output_type": "stream",
     "text": [
      "85111\n",
      "79927\n",
      "86391\n"
     ]
    },
    {
     "name": "stderr",
     "output_type": "stream",
     "text": [
      " 87%|█████████████████████████████████████████████████████████████████████████████████████████████████████████████████████████████████████████████████████████████████████████████████████████████████████████████████████████████████████████████████████████▊                                    | 656/751 [17:14<02:33,  1.61s/it]"
     ]
    },
    {
     "name": "stdout",
     "output_type": "stream",
     "text": [
      "77943\n",
      "84407\n",
      "79543\n",
      "126199\n"
     ]
    },
    {
     "name": "stderr",
     "output_type": "stream",
     "text": [
      " 87%|██████████████████████████████████████████████████████████████████████████████████████████████████████████████████████████████████████████████████████████████████████████████████████████████████████████████████████████████████████████████████████████▏                                   | 657/751 [17:16<02:38,  1.69s/it]"
     ]
    },
    {
     "name": "stdout",
     "output_type": "stream",
     "text": [
      "78775\n",
      "85175\n",
      "92215\n",
      "119415\n"
     ]
    },
    {
     "name": "stderr",
     "output_type": "stream",
     "text": [
      " 88%|██████████████████████████████████████████████████████████████████████████████████████████████████████████████████████████████████████████████████████████████████████████████████████████████████████████████████████████████████████████████████████████▌                                   | 658/751 [17:17<02:38,  1.71s/it]"
     ]
    },
    {
     "name": "stdout",
     "output_type": "stream",
     "text": [
      "88183\n",
      "90359\n",
      "82743\n",
      "83127\n"
     ]
    },
    {
     "name": "stderr",
     "output_type": "stream",
     "text": [
      " 88%|██████████████████████████████████████████████████████████████████████████████████████████████████████████████████████████████████████████████████████████████████████████████████████████████████████████████████████████████████████████████████████████▉                                   | 659/751 [17:19<02:36,  1.71s/it]"
     ]
    },
    {
     "name": "stdout",
     "output_type": "stream",
     "text": [
      "76983\n",
      "80759\n"
     ]
    },
    {
     "name": "stderr",
     "output_type": "stream",
     "text": [
      " 88%|███████████████████████████████████████████████████████████████████████████████████████████████████████████████████████████████████████████████████████████████████████████████████████████████████████████████████████████████████████████████████████████▎                                  | 660/751 [17:20<02:13,  1.46s/it]"
     ]
    },
    {
     "name": "stdout",
     "output_type": "stream",
     "text": [
      "112247\n",
      "81591\n",
      "78199\n",
      "75127\n"
     ]
    },
    {
     "name": "stderr",
     "output_type": "stream",
     "text": [
      " 88%|███████████████████████████████████████████████████████████████████████████████████████████████████████████████████████████████████████████████████████████████████████████████████████████████████████████████████████████████████████████████████████████▋                                  | 661/751 [17:22<02:22,  1.59s/it]"
     ]
    },
    {
     "name": "stdout",
     "output_type": "stream",
     "text": [
      "80631\n",
      "80567\n"
     ]
    },
    {
     "name": "stderr",
     "output_type": "stream",
     "text": [
      " 88%|████████████████████████████████████████████████████████████████████████████████████████████████████████████████████████████████████████████████████████████████████████████████████████████████████████████████████████████████████████████████████████████                                  | 662/751 [17:23<02:04,  1.40s/it]"
     ]
    },
    {
     "name": "stdout",
     "output_type": "stream",
     "text": [
      "87031\n",
      "81591\n",
      "81591\n",
      "77367\n"
     ]
    },
    {
     "name": "stderr",
     "output_type": "stream",
     "text": [
      " 88%|████████████████████████████████████████████████████████████████████████████████████████████████████████████████████████████████████████████████████████████████████████████████████████████████████████████████████████████████████████████████████████████▍                                 | 663/751 [17:25<02:12,  1.51s/it]"
     ]
    },
    {
     "name": "stdout",
     "output_type": "stream",
     "text": [
      "78775\n",
      "39543\n",
      "78775\n",
      "84343\n"
     ]
    },
    {
     "name": "stderr",
     "output_type": "stream",
     "text": [
      " 88%|████████████████████████████████████████████████████████████████████████████████████████████████████████████████████████████████████████████████████████████████████████████████████████████████████████████████████████████████████████████████████████████▊                                 | 664/751 [17:26<02:15,  1.55s/it]"
     ]
    },
    {
     "name": "stdout",
     "output_type": "stream",
     "text": [
      "115831\n",
      "95415\n"
     ]
    },
    {
     "name": "stderr",
     "output_type": "stream",
     "text": [
      " 89%|█████████████████████████████████████████████████████████████████████████████████████████████████████████████████████████████████████████████████████████████████████████████████████████████████████████████████████████████████████████████████████████████▏                                | 665/751 [17:27<01:57,  1.37s/it]"
     ]
    },
    {
     "name": "stdout",
     "output_type": "stream",
     "text": [
      "116791\n",
      "66999\n",
      "101175\n",
      "60151\n"
     ]
    },
    {
     "name": "stderr",
     "output_type": "stream",
     "text": [
      " 89%|█████████████████████████████████████████████████████████████████████████████████████████████████████████████████████████████████████████████████████████████████████████████████████████████████████████████████████████████████████████████████████████████▋                                | 666/751 [17:29<01:58,  1.40s/it]"
     ]
    },
    {
     "name": "stdout",
     "output_type": "stream",
     "text": [
      "60343\n",
      "46775\n",
      "67511\n",
      "78775\n"
     ]
    },
    {
     "name": "stderr",
     "output_type": "stream",
     "text": [
      " 89%|██████████████████████████████████████████████████████████████████████████████████████████████████████████████████████████████████████████████████████████████████████████████████████████████████████████████████████████████████████████████████████████████                                | 667/751 [17:31<02:10,  1.55s/it]"
     ]
    },
    {
     "name": "stdout",
     "output_type": "stream",
     "text": [
      "141559\n",
      "93175\n",
      "86775\n",
      "126775\n"
     ]
    },
    {
     "name": "stderr",
     "output_type": "stream",
     "text": [
      " 89%|██████████████████████████████████████████████████████████████████████████████████████████████████████████████████████████████████████████████████████████████████████████████████████████████████████████████████████████████████████████████████████████████▍                               | 668/751 [17:32<02:12,  1.59s/it]"
     ]
    },
    {
     "name": "stdout",
     "output_type": "stream",
     "text": [
      "89015\n",
      "36215\n",
      "36599\n",
      "50231\n"
     ]
    },
    {
     "name": "stderr",
     "output_type": "stream",
     "text": [
      " 89%|██████████████████████████████████████████████████████████████████████████████████████████████████████████████████████████████████████████████████████████████████████████████████████████████████████████████████████████████████████████████████████████████▊                               | 669/751 [17:33<02:01,  1.48s/it]"
     ]
    },
    {
     "name": "stdout",
     "output_type": "stream",
     "text": [
      "71415\n",
      "78583\n",
      "79543\n",
      "79415\n"
     ]
    },
    {
     "name": "stderr",
     "output_type": "stream",
     "text": [
      " 89%|███████████████████████████████████████████████████████████████████████████████████████████████████████████████████████████████████████████████████████████████████████████████████████████████████████████████████████████████████████████████████████████████▏                              | 670/751 [17:35<02:04,  1.53s/it]"
     ]
    },
    {
     "name": "stdout",
     "output_type": "stream",
     "text": [
      "81143\n",
      "48375\n",
      "54775\n",
      "57527\n"
     ]
    },
    {
     "name": "stderr",
     "output_type": "stream",
     "text": [
      " 89%|███████████████████████████████████████████████████████████████████████████████████████████████████████████████████████████████████████████████████████████████████████████████████████████████████████████████████████████████████████████████████████████████▌                              | 671/751 [17:37<02:06,  1.58s/it]"
     ]
    },
    {
     "name": "stdout",
     "output_type": "stream",
     "text": [
      "107383\n",
      "94775\n",
      "100343\n",
      "135159\n"
     ]
    },
    {
     "name": "stderr",
     "output_type": "stream",
     "text": [
      " 89%|███████████████████████████████████████████████████████████████████████████████████████████████████████████████████████████████████████████████████████████████████████████████████████████████████████████████████████████████████████████████████████████████▉                              | 672/751 [17:39<02:14,  1.70s/it]"
     ]
    },
    {
     "name": "stdout",
     "output_type": "stream",
     "text": [
      "79543\n",
      "78327\n",
      "87543\n",
      "83127\n"
     ]
    },
    {
     "name": "stderr",
     "output_type": "stream",
     "text": [
      " 90%|████████████████████████████████████████████████████████████████████████████████████████████████████████████████████████████████████████████████████████████████████████████████████████████████████████████████████████████████████████████████████████████████▎                             | 673/751 [17:41<02:14,  1.72s/it]"
     ]
    },
    {
     "name": "stdout",
     "output_type": "stream",
     "text": [
      "77175\n",
      "58807\n",
      "63991\n",
      "58999\n"
     ]
    },
    {
     "name": "stderr",
     "output_type": "stream",
     "text": [
      " 90%|████████████████████████████████████████████████████████████████████████████████████████████████████████████████████████████████████████████████████████████████████████████████████████████████████████████████████████████████████████████████████████████████▋                             | 674/751 [17:43<02:17,  1.78s/it]"
     ]
    },
    {
     "name": "stdout",
     "output_type": "stream",
     "text": [
      "131575\n",
      "81975\n",
      "81143\n",
      "120759\n"
     ]
    },
    {
     "name": "stderr",
     "output_type": "stream",
     "text": [
      " 90%|█████████████████████████████████████████████████████████████████████████████████████████████████████████████████████████████████████████████████████████████████████████████████████████████████████████████████████████████████████████████████████████████████                             | 675/751 [17:44<02:11,  1.73s/it]"
     ]
    },
    {
     "name": "stdout",
     "output_type": "stream",
     "text": [
      "86199\n",
      "78647\n",
      "84215\n",
      "135543\n"
     ]
    },
    {
     "name": "stderr",
     "output_type": "stream",
     "text": [
      " 90%|█████████████████████████████████████████████████████████████████████████████████████████████████████████████████████████████████████████████████████████████████████████████████████████████████████████████████████████████████████████████████████████████████▍                            | 676/751 [17:46<02:15,  1.81s/it]"
     ]
    },
    {
     "name": "stdout",
     "output_type": "stream",
     "text": [
      "109111\n",
      "90359\n",
      "95991\n"
     ]
    },
    {
     "name": "stderr",
     "output_type": "stream",
     "text": [
      " 90%|█████████████████████████████████████████████████████████████████████████████████████████████████████████████████████████████████████████████████████████████████████████████████████████████████████████████████████████████████████████████████████████████████▊                            | 677/751 [17:47<01:59,  1.61s/it]"
     ]
    },
    {
     "name": "stdout",
     "output_type": "stream",
     "text": [
      "75831\n",
      "78327\n",
      "79415\n",
      "76791\n"
     ]
    },
    {
     "name": "stderr",
     "output_type": "stream",
     "text": [
      " 90%|██████████████████████████████████████████████████████████████████████████████████████████████████████████████████████████████████████████████████████████████████████████████████████████████████████████████████████████████████████████████████████████████████▏                           | 678/751 [17:49<01:59,  1.63s/it]"
     ]
    },
    {
     "name": "stdout",
     "output_type": "stream",
     "text": [
      "81527\n",
      "101943\n",
      "84599\n",
      "123383\n"
     ]
    },
    {
     "name": "stderr",
     "output_type": "stream",
     "text": [
      " 90%|██████████████████████████████████████████████████████████████████████████████████████████████████████████████████████████████████████████████████████████████████████████████████████████████████████████████████████████████████████████████████████████████████▌                           | 679/751 [17:51<02:10,  1.81s/it]"
     ]
    },
    {
     "name": "stdout",
     "output_type": "stream",
     "text": [
      "83575\n",
      "50359\n",
      "40759\n",
      "46583\n"
     ]
    },
    {
     "name": "stderr",
     "output_type": "stream",
     "text": [
      " 91%|██████████████████████████████████████████████████████████████████████████████████████████████████████████████████████████████████████████████████████████████████████████████████████████████████████████████████████████████████████████████████████████████████▉                           | 680/751 [17:52<01:57,  1.66s/it]"
     ]
    },
    {
     "name": "stdout",
     "output_type": "stream",
     "text": [
      "85559\n",
      "77175\n",
      "79415\n",
      "79799\n"
     ]
    },
    {
     "name": "stderr",
     "output_type": "stream",
     "text": [
      " 91%|███████████████████████████████████████████████████████████████████████████████████████████████████████████████████████████████████████████████████████████████████████████████████████████████████████████████████████████████████████████████████████████████████▎                          | 681/751 [17:54<01:57,  1.68s/it]"
     ]
    },
    {
     "name": "stdout",
     "output_type": "stream",
     "text": [
      "80631\n",
      "93559\n"
     ]
    },
    {
     "name": "stderr",
     "output_type": "stream",
     "text": [
      " 91%|███████████████████████████████████████████████████████████████████████████████████████████████████████████████████████████████████████████████████████████████████████████████████████████████████████████████████████████████████████████████████████████████████▋                          | 682/751 [17:55<01:43,  1.49s/it]"
     ]
    },
    {
     "name": "stdout",
     "output_type": "stream",
     "text": [
      "81783\n",
      "79159\n"
     ]
    },
    {
     "name": "stderr",
     "output_type": "stream",
     "text": [
      " 91%|████████████████████████████████████████████████████████████████████████████████████████████████████████████████████████████████████████████████████████████████████████████████████████████████████████████████████████████████████████████████████████████████████                          | 683/751 [17:56<01:31,  1.35s/it]"
     ]
    },
    {
     "name": "stdout",
     "output_type": "stream",
     "text": [
      "92599\n",
      "77047\n"
     ]
    },
    {
     "name": "stderr",
     "output_type": "stream",
     "text": [
      " 91%|████████████████████████████████████████████████████████████████████████████████████████████████████████████████████████████████████████████████████████████████████████████████████████████████████████████████████████████████████████████████████████████████████▍                         | 684/751 [17:57<01:23,  1.25s/it]"
     ]
    },
    {
     "name": "stdout",
     "output_type": "stream",
     "text": [
      "92215\n",
      "78327\n",
      "79799\n",
      "76983\n"
     ]
    },
    {
     "name": "stderr",
     "output_type": "stream",
     "text": [
      " 91%|████████████████████████████████████████████████████████████████████████████████████████████████████████████████████████████████████████████████████████████████████████████████████████████████████████████████████████████████████████████████████████████████████▊                         | 685/751 [17:59<01:34,  1.44s/it]"
     ]
    },
    {
     "name": "stdout",
     "output_type": "stream",
     "text": [
      "79159\n",
      "82615\n",
      "83447\n",
      "126199\n"
     ]
    },
    {
     "name": "stderr",
     "output_type": "stream",
     "text": [
      " 91%|█████████████████████████████████████████████████████████████████████████████████████████████████████████████████████████████████████████████████████████████████████████████████████████████████████████████████████████████████████████████████████████████████████▏                        | 686/751 [18:01<01:43,  1.59s/it]"
     ]
    },
    {
     "name": "stdout",
     "output_type": "stream",
     "text": [
      "86775\n",
      "80631\n",
      "80183\n",
      "79159\n"
     ]
    },
    {
     "name": "stderr",
     "output_type": "stream",
     "text": [
      " 91%|█████████████████████████████████████████████████████████████████████████████████████████████████████████████████████████████████████████████████████████████████████████████████████████████████████████████████████████████████████████████████████████████████████▋                        | 687/751 [18:03<01:42,  1.60s/it]"
     ]
    },
    {
     "name": "stdout",
     "output_type": "stream",
     "text": [
      "78775\n",
      "49399\n",
      "82999\n",
      "85431\n"
     ]
    },
    {
     "name": "stderr",
     "output_type": "stream",
     "text": [
      " 92%|██████████████████████████████████████████████████████████████████████████████████████████████████████████████████████████████████████████████████████████████████████████████████████████████████████████████████████████████████████████████████████████████████████                        | 688/751 [18:04<01:40,  1.60s/it]"
     ]
    },
    {
     "name": "stdout",
     "output_type": "stream",
     "text": [
      "83383\n",
      "98231\n",
      "62775\n",
      "83127\n"
     ]
    },
    {
     "name": "stderr",
     "output_type": "stream",
     "text": [
      " 92%|██████████████████████████████████████████████████████████████████████████████████████████████████████████████████████████████████████████████████████████████████████████████████████████████████████████████████████████████████████████████████████████████████████▍                       | 689/751 [18:06<01:39,  1.61s/it]"
     ]
    },
    {
     "name": "stdout",
     "output_type": "stream",
     "text": [
      "103799\n",
      "38391\n",
      "66167\n",
      "82231\n"
     ]
    },
    {
     "name": "stderr",
     "output_type": "stream",
     "text": [
      " 92%|██████████████████████████████████████████████████████████████████████████████████████████████████████████████████████████████████████████████████████████████████████████████████████████████████████████████████████████████████████████████████████████████████████▊                       | 690/751 [18:08<01:40,  1.65s/it]"
     ]
    },
    {
     "name": "stdout",
     "output_type": "stream",
     "text": [
      "86967\n",
      "83575\n",
      "86775\n"
     ]
    },
    {
     "name": "stderr",
     "output_type": "stream",
     "text": [
      " 92%|███████████████████████████████████████████████████████████████████████████████████████████████████████████████████████████████████████████████████████████████████████████████████████████████████████████████████████████████████████████████████████████████████████▏                      | 691/751 [18:09<01:38,  1.64s/it]"
     ]
    },
    {
     "name": "stdout",
     "output_type": "stream",
     "text": [
      "117559\n",
      "68983\n",
      "51767\n"
     ]
    },
    {
     "name": "stderr",
     "output_type": "stream",
     "text": [
      " 92%|███████████████████████████████████████████████████████████████████████████████████████████████████████████████████████████████████████████████████████████████████████████████████████████████████████████████████████████████████████████████████████████████████████▌                      | 692/751 [18:10<01:27,  1.48s/it]"
     ]
    },
    {
     "name": "stdout",
     "output_type": "stream",
     "text": [
      "85559\n",
      "127991\n",
      "87991\n",
      "69943\n"
     ]
    },
    {
     "name": "stderr",
     "output_type": "stream",
     "text": [
      " 92%|███████████████████████████████████████████████████████████████████████████████████████████████████████████████████████████████████████████████████████████████████████████████████████████████████████████████████████████████████████████████████████████████████████▉                      | 693/751 [18:12<01:33,  1.62s/it]"
     ]
    },
    {
     "name": "stdout",
     "output_type": "stream",
     "text": [
      "60983\n",
      "88759\n",
      "98359\n"
     ]
    },
    {
     "name": "stderr",
     "output_type": "stream",
     "text": [
      " 92%|████████████████████████████████████████████████████████████████████████████████████████████████████████████████████████████████████████████████████████████████████████████████████████████████████████████████████████████████████████████████████████████████████████▎                     | 694/751 [18:14<01:29,  1.57s/it]"
     ]
    },
    {
     "name": "stdout",
     "output_type": "stream",
     "text": [
      "109559\n",
      "77111\n",
      "81399\n",
      "91959\n"
     ]
    },
    {
     "name": "stderr",
     "output_type": "stream",
     "text": [
      " 93%|████████████████████████████████████████████████████████████████████████████████████████████████████████████████████████████████████████████████████████████████████████████████████████████████████████████████████████████████████████████████████████████████████████▋                     | 695/751 [18:15<01:26,  1.55s/it]"
     ]
    },
    {
     "name": "stdout",
     "output_type": "stream",
     "text": [
      "79159\n",
      "56631\n",
      "36983\n",
      "41975\n"
     ]
    },
    {
     "name": "stderr",
     "output_type": "stream",
     "text": [
      " 93%|█████████████████████████████████████████████████████████████████████████████████████████████████████████████████████████████████████████████████████████████████████████████████████████████████████████████████████████████████████████████████████████████████████████                     | 696/751 [18:16<01:18,  1.43s/it]"
     ]
    },
    {
     "name": "stdout",
     "output_type": "stream",
     "text": [
      "61559\n",
      "85559\n",
      "87031\n",
      "123831\n"
     ]
    },
    {
     "name": "stderr",
     "output_type": "stream",
     "text": [
      " 93%|█████████████████████████████████████████████████████████████████████████████████████████████████████████████████████████████████████████████████████████████████████████████████████████████████████████████████████████████████████████████████████████████████████████▍                    | 697/751 [18:18<01:23,  1.55s/it]"
     ]
    },
    {
     "name": "stdout",
     "output_type": "stream",
     "text": [
      "94327\n",
      "97207\n",
      "74359\n",
      "73143\n"
     ]
    },
    {
     "name": "stderr",
     "output_type": "stream",
     "text": [
      " 93%|█████████████████████████████████████████████████████████████████████████████████████████████████████████████████████████████████████████████████████████████████████████████████████████████████████████████████████████████████████████████████████████████████████████▊                    | 698/751 [18:20<01:28,  1.67s/it]"
     ]
    },
    {
     "name": "stdout",
     "output_type": "stream",
     "text": [
      "117175\n",
      "87415\n",
      "83959\n",
      "131127\n"
     ]
    },
    {
     "name": "stderr",
     "output_type": "stream",
     "text": [
      " 93%|██████████████████████████████████████████████████████████████████████████████████████████████████████████████████████████████████████████████████████████████████████████████████████████████████████████████████████████████████████████████████████████████████████████▏                   | 699/751 [18:22<01:33,  1.80s/it]"
     ]
    },
    {
     "name": "stdout",
     "output_type": "stream",
     "text": [
      "97783\n",
      "79415\n",
      "79159\n"
     ]
    },
    {
     "name": "stderr",
     "output_type": "stream",
     "text": [
      " 93%|██████████████████████████████████████████████████████████████████████████████████████████████████████████████████████████████████████████████████████████████████████████████████████████████████████████████████████████████████████████████████████████████████████████▌                   | 700/751 [18:24<01:24,  1.65s/it]"
     ]
    },
    {
     "name": "stdout",
     "output_type": "stream",
     "text": [
      "77047\n",
      "78391\n",
      "81143\n",
      "102711\n"
     ]
    },
    {
     "name": "stderr",
     "output_type": "stream",
     "text": [
      " 93%|██████████████████████████████████████████████████████████████████████████████████████████████████████████████████████████████████████████████████████████████████████████████████████████████████████████████████████████████████████████████████████████████████████████▉                   | 701/751 [18:26<01:25,  1.72s/it]"
     ]
    },
    {
     "name": "stdout",
     "output_type": "stream",
     "text": [
      "81015\n",
      "79543\n"
     ]
    },
    {
     "name": "stderr",
     "output_type": "stream",
     "text": [
      " 93%|███████████████████████████████████████████████████████████████████████████████████████████████████████████████████████████████████████████████████████████████████████████████████████████████████████████████████████████████████████████████████████████████████████████▎                  | 702/751 [18:26<01:09,  1.43s/it]"
     ]
    },
    {
     "name": "stdout",
     "output_type": "stream",
     "text": [
      "81015\n",
      "60343\n",
      "77047\n",
      "97143\n"
     ]
    },
    {
     "name": "stderr",
     "output_type": "stream",
     "text": [
      " 94%|███████████████████████████████████████████████████████████████████████████████████████████████████████████████████████████████████████████████████████████████████████████████████████████████████████████████████████████████████████████████████████████████████████████▋                  | 703/751 [18:28<01:12,  1.50s/it]"
     ]
    },
    {
     "name": "stdout",
     "output_type": "stream",
     "text": [
      "64631\n",
      "79927\n",
      "79543\n"
     ]
    },
    {
     "name": "stderr",
     "output_type": "stream",
     "text": [
      " 94%|████████████████████████████████████████████████████████████████████████████████████████████████████████████████████████████████████████████████████████████████████████████████████████████████████████████████████████████████████████████████████████████████████████████                  | 704/751 [18:29<01:10,  1.49s/it]"
     ]
    },
    {
     "name": "stdout",
     "output_type": "stream",
     "text": [
      "90999\n",
      "79031\n",
      "79159\n",
      "80567\n"
     ]
    },
    {
     "name": "stderr",
     "output_type": "stream",
     "text": [
      " 94%|████████████████████████████████████████████████████████████████████████████████████████████████████████████████████████████████████████████████████████████████████████████████████████████████████████████████████████████████████████████████████████████████████████████▍                 | 705/751 [18:31<01:11,  1.55s/it]"
     ]
    },
    {
     "name": "stdout",
     "output_type": "stream",
     "text": [
      "79031\n",
      "86007\n",
      "99959\n",
      "119415\n"
     ]
    },
    {
     "name": "stderr",
     "output_type": "stream",
     "text": [
      " 94%|████████████████████████████████████████████████████████████████████████████████████████████████████████████████████████████████████████████████████████████████████████████████████████████████████████████████████████████████████████████████████████████████████████████▊                 | 706/751 [18:33<01:15,  1.68s/it]"
     ]
    },
    {
     "name": "stdout",
     "output_type": "stream",
     "text": [
      "90359\n",
      "85559\n",
      "81591\n",
      "117943\n"
     ]
    },
    {
     "name": "stderr",
     "output_type": "stream",
     "text": [
      " 94%|█████████████████████████████████████████████████████████████████████████████████████████████████████████████████████████████████████████████████████████████████████████████████████████████████████████████████████████████████████████████████████████████████████████████▏                | 707/751 [18:35<01:14,  1.69s/it]"
     ]
    },
    {
     "name": "stdout",
     "output_type": "stream",
     "text": [
      "82615\n",
      "56631\n",
      "57975\n",
      "55543\n"
     ]
    },
    {
     "name": "stderr",
     "output_type": "stream",
     "text": [
      " 94%|█████████████████████████████████████████████████████████████████████████████████████████████████████████████████████████████████████████████████████████████████████████████████████████████████████████████████████████████████████████████████████████████████████████████▌                | 708/751 [18:36<01:10,  1.63s/it]"
     ]
    },
    {
     "name": "stdout",
     "output_type": "stream",
     "text": [
      "94583\n",
      "89847\n",
      "81911\n",
      "81143\n"
     ]
    },
    {
     "name": "stderr",
     "output_type": "stream",
     "text": [
      " 94%|██████████████████████████████████████████████████████████████████████████████████████████████████████████████████████████████████████████████████████████████████████████████████████████████████████████████████████████████████████████████████████████████████████████████                | 709/751 [18:38<01:07,  1.60s/it]"
     ]
    },
    {
     "name": "stdout",
     "output_type": "stream",
     "text": [
      "81399\n",
      "91575\n",
      "51575\n",
      "76343\n"
     ]
    },
    {
     "name": "stderr",
     "output_type": "stream",
     "text": [
      " 95%|██████████████████████████████████████████████████████████████████████████████████████████████████████████████████████████████████████████████████████████████████████████████████████████████████████████████████████████████████████████████████████████████████████████████▍               | 710/751 [18:40<01:08,  1.68s/it]"
     ]
    },
    {
     "name": "stdout",
     "output_type": "stream",
     "text": [
      "80759\n",
      "72311\n"
     ]
    },
    {
     "name": "stderr",
     "output_type": "stream",
     "text": [
      " 95%|██████████████████████████████████████████████████████████████████████████████████████████████████████████████████████████████████████████████████████████████████████████████████████████████████████████████████████████████████████████████████████████████████████████████▊               | 711/751 [18:41<00:57,  1.44s/it]"
     ]
    },
    {
     "name": "stdout",
     "output_type": "stream",
     "text": [
      "95991\n",
      "75191\n",
      "108727\n",
      "71927\n"
     ]
    },
    {
     "name": "stderr",
     "output_type": "stream",
     "text": [
      " 95%|███████████████████████████████████████████████████████████████████████████████████████████████████████████████████████████████████████████████████████████████████████████████████████████████████████████████████████████████████████████████████████████████████████████████▏              | 712/751 [18:42<00:59,  1.52s/it]"
     ]
    },
    {
     "name": "stdout",
     "output_type": "stream",
     "text": [
      "134775\n"
     ]
    },
    {
     "name": "stderr",
     "output_type": "stream",
     "text": [
      " 95%|███████████████████████████████████████████████████████████████████████████████████████████████████████████████████████████████████████████████████████████████████████████████████████████████████████████████████████████████████████████████████████████████████████████████▌              | 713/751 [18:43<00:45,  1.21s/it]"
     ]
    },
    {
     "name": "stdout",
     "output_type": "stream",
     "text": [
      "93175\n",
      "98359\n",
      "80759\n",
      "103607\n"
     ]
    },
    {
     "name": "stderr",
     "output_type": "stream",
     "text": [
      " 95%|███████████████████████████████████████████████████████████████████████████████████████████████████████████████████████████████████████████████████████████████████████████████████████████████████████████████████████████████████████████████████████████████████████████████▉              | 714/751 [18:45<00:52,  1.41s/it]"
     ]
    },
    {
     "name": "stdout",
     "output_type": "stream",
     "text": [
      "77431\n",
      "85047\n"
     ]
    },
    {
     "name": "stderr",
     "output_type": "stream",
     "text": [
      " 95%|████████████████████████████████████████████████████████████████████████████████████████████████████████████████████████████████████████████████████████████████████████████████████████████████████████████████████████████████████████████████████████████████████████████████▎             | 715/751 [18:45<00:43,  1.22s/it]"
     ]
    },
    {
     "name": "stdout",
     "output_type": "stream",
     "text": [
      "78583\n",
      "79415\n",
      "79415\n",
      "79927\n"
     ]
    },
    {
     "name": "stderr",
     "output_type": "stream",
     "text": [
      " 95%|████████████████████████████████████████████████████████████████████████████████████████████████████████████████████████████████████████████████████████████████████████████████████████████████████████████████████████████████████████████████████████████████████████████████▋             | 716/751 [18:47<00:47,  1.34s/it]"
     ]
    },
    {
     "name": "stdout",
     "output_type": "stream",
     "text": [
      "77815\n"
     ]
    },
    {
     "name": "stderr",
     "output_type": "stream",
     "text": [
      " 95%|█████████████████████████████████████████████████████████████████████████████████████████████████████████████████████████████████████████████████████████████████████████████████████████████████████████████████████████████████████████████████████████████████████████████████             | 717/751 [18:48<00:37,  1.09s/it]"
     ]
    },
    {
     "name": "stdout",
     "output_type": "stream",
     "text": [
      "83127\n",
      "80375\n",
      "84215\n",
      "79927\n"
     ]
    },
    {
     "name": "stderr",
     "output_type": "stream",
     "text": [
      " 96%|█████████████████████████████████████████████████████████████████████████████████████████████████████████████████████████████████████████████████████████████████████████████████████████████████████████████████████████████████████████████████████████████████████████████████▍            | 718/751 [18:49<00:41,  1.26s/it]"
     ]
    },
    {
     "name": "stdout",
     "output_type": "stream",
     "text": [
      "79159\n",
      "51575\n",
      "58359\n",
      "71543\n"
     ]
    },
    {
     "name": "stderr",
     "output_type": "stream",
     "text": [
      " 96%|█████████████████████████████████████████████████████████████████████████████████████████████████████████████████████████████████████████████████████████████████████████████████████████████████████████████████████████████████████████████████████████████████████████████████▊            | 719/751 [18:51<00:41,  1.29s/it]"
     ]
    },
    {
     "name": "stdout",
     "output_type": "stream",
     "text": [
      "101111\n",
      "85815\n",
      "81975\n",
      "124151\n"
     ]
    },
    {
     "name": "stderr",
     "output_type": "stream",
     "text": [
      " 96%|██████████████████████████████████████████████████████████████████████████████████████████████████████████████████████████████████████████████████████████████████████████████████████████████████████████████████████████████████████████████████████████████████████████████████▏           | 720/751 [18:52<00:45,  1.47s/it]"
     ]
    },
    {
     "name": "stdout",
     "output_type": "stream",
     "text": [
      "84727\n",
      "80631\n",
      "90615\n",
      "63991\n"
     ]
    },
    {
     "name": "stderr",
     "output_type": "stream",
     "text": [
      " 96%|██████████████████████████████████████████████████████████████████████████████████████████████████████████████████████████████████████████████████████████████████████████████████████████████████████████████████████████████████████████████████████████████████████████████████▌           | 721/751 [18:54<00:44,  1.50s/it]"
     ]
    },
    {
     "name": "stdout",
     "output_type": "stream",
     "text": [
      "79607\n",
      "110775\n",
      "85751\n"
     ]
    },
    {
     "name": "stderr",
     "output_type": "stream",
     "text": [
      " 96%|██████████████████████████████████████████████████████████████████████████████████████████████████████████████████████████████████████████████████████████████████████████████████████████████████████████████████████████████████████████████████████████████████████████████████▉           | 722/751 [18:55<00:41,  1.45s/it]"
     ]
    },
    {
     "name": "stdout",
     "output_type": "stream",
     "text": [
      "80183\n",
      "85815\n",
      "92791\n",
      "121143\n"
     ]
    },
    {
     "name": "stderr",
     "output_type": "stream",
     "text": [
      " 96%|███████████████████████████████████████████████████████████████████████████████████████████████████████████████████████████████████████████████████████████████████████████████████████████████████████████████████████████████████████████████████████████████████████████████████▎          | 723/751 [18:58<00:46,  1.67s/it]"
     ]
    },
    {
     "name": "stdout",
     "output_type": "stream",
     "text": [
      "79799\n",
      "45559\n",
      "58359\n",
      "55031\n"
     ]
    },
    {
     "name": "stderr",
     "output_type": "stream",
     "text": [
      " 96%|███████████████████████████████████████████████████████████████████████████████████████████████████████████████████████████████████████████████████████████████████████████████████████████████████████████████████████████████████████████████████████████████████████████████████▋          | 724/751 [18:59<00:44,  1.66s/it]"
     ]
    },
    {
     "name": "stdout",
     "output_type": "stream",
     "text": [
      "128375\n",
      "45559\n",
      "79415\n",
      "72759\n"
     ]
    },
    {
     "name": "stderr",
     "output_type": "stream",
     "text": [
      " 97%|████████████████████████████████████████████████████████████████████████████████████████████████████████████████████████████████████████████████████████████████████████████████████████████████████████████████████████████████████████████████████████████████████████████████████          | 725/751 [19:01<00:43,  1.67s/it]"
     ]
    },
    {
     "name": "stdout",
     "output_type": "stream",
     "text": [
      "80311\n",
      "74743\n"
     ]
    },
    {
     "name": "stderr",
     "output_type": "stream",
     "text": [
      " 97%|████████████████████████████████████████████████████████████████████████████████████████████████████████████████████████████████████████████████████████████████████████████████████████████████████████████████████████████████████████████████████████████████████████████████████▍         | 726/751 [19:02<00:36,  1.47s/it]"
     ]
    },
    {
     "name": "stdout",
     "output_type": "stream",
     "text": [
      "113143\n",
      "61175\n",
      "48759\n",
      "49911\n"
     ]
    },
    {
     "name": "stderr",
     "output_type": "stream",
     "text": [
      " 97%|████████████████████████████████████████████████████████████████████████████████████████████████████████████████████████████████████████████████████████████████████████████████████████████████████████████████████████████████████████████████████████████████████████████████████▊         | 727/751 [19:03<00:33,  1.40s/it]"
     ]
    },
    {
     "name": "stdout",
     "output_type": "stream",
     "text": [
      "76215\n",
      "79351\n",
      "78775\n",
      "85111\n"
     ]
    },
    {
     "name": "stderr",
     "output_type": "stream",
     "text": [
      " 97%|█████████████████████████████████████████████████████████████████████████████████████████████████████████████████████████████████████████████████████████████████████████████████████████████████████████████████████████████████████████████████████████████████████████████████████▏        | 728/751 [19:05<00:34,  1.50s/it]"
     ]
    },
    {
     "name": "stdout",
     "output_type": "stream",
     "text": [
      "92215\n",
      "76215\n",
      "75383\n",
      "80631\n"
     ]
    },
    {
     "name": "stderr",
     "output_type": "stream",
     "text": [
      " 97%|█████████████████████████████████████████████████████████████████████████████████████████████████████████████████████████████████████████████████████████████████████████████████████████████████████████████████████████████████████████████████████████████████████████████████████▌        | 729/751 [19:07<00:34,  1.56s/it]"
     ]
    },
    {
     "name": "stdout",
     "output_type": "stream",
     "text": [
      "81911\n",
      "86775\n",
      "108407\n"
     ]
    },
    {
     "name": "stderr",
     "output_type": "stream",
     "text": [
      " 97%|██████████████████████████████████████████████████████████████████████████████████████████████████████████████████████████████████████████████████████████████████████████████████████████████████████████████████████████████████████████████████████████████████████████████████████        | 730/751 [19:08<00:31,  1.51s/it]"
     ]
    },
    {
     "name": "stdout",
     "output_type": "stream",
     "text": [
      "76599\n",
      "55991\n",
      "48375\n",
      "82167\n"
     ]
    },
    {
     "name": "stderr",
     "output_type": "stream",
     "text": [
      " 97%|██████████████████████████████████████████████████████████████████████████████████████████████████████████████████████████████████████████████████████████████████████████████████████████████████████████████████████████████████████████████████████████████████████████████████████▍       | 731/751 [19:10<00:30,  1.53s/it]"
     ]
    },
    {
     "name": "stdout",
     "output_type": "stream",
     "text": [
      "115191\n",
      "78583\n",
      "80631\n",
      "80183\n"
     ]
    },
    {
     "name": "stderr",
     "output_type": "stream",
     "text": [
      " 97%|██████████████████████████████████████████████████████████████████████████████████████████████████████████████████████████████████████████████████████████████████████████████████████████████████████████████████████████████████████████████████████████████████████████████████████▊       | 732/751 [19:11<00:29,  1.58s/it]"
     ]
    },
    {
     "name": "stdout",
     "output_type": "stream",
     "text": [
      "84407\n"
     ]
    },
    {
     "name": "stderr",
     "output_type": "stream",
     "text": [
      " 98%|███████████████████████████████████████████████████████████████████████████████████████████████████████████████████████████████████████████████████████████████████████████████████████████████████████████████████████████████████████████████████████████████████████████████████████▏      | 733/751 [19:12<00:22,  1.26s/it]"
     ]
    },
    {
     "name": "stdout",
     "output_type": "stream",
     "text": [
      "87543\n",
      "83575\n",
      "85751\n",
      "79415\n"
     ]
    },
    {
     "name": "stderr",
     "output_type": "stream",
     "text": [
      " 98%|███████████████████████████████████████████████████████████████████████████████████████████████████████████████████████████████████████████████████████████████████████████████████████████████████████████████████████████████████████████████████████████████████████████████████████▌      | 734/751 [19:14<00:24,  1.42s/it]"
     ]
    },
    {
     "name": "stdout",
     "output_type": "stream",
     "text": [
      "77943\n",
      "91767\n"
     ]
    },
    {
     "name": "stderr",
     "output_type": "stream",
     "text": [
      " 98%|███████████████████████████████████████████████████████████████████████████████████████████████████████████████████████████████████████████████████████████████████████████████████████████████████████████████████████████████████████████████████████████████████████████████████████▉      | 735/751 [19:14<00:20,  1.25s/it]"
     ]
    },
    {
     "name": "stdout",
     "output_type": "stream",
     "text": [
      "80375\n"
     ]
    },
    {
     "name": "stderr",
     "output_type": "stream",
     "text": [
      " 98%|████████████████████████████████████████████████████████████████████████████████████████████████████████████████████████████████████████████████████████████████████████████████████████████████████████████████████████████████████████████████████████████████████████████████████████▎     | 736/751 [19:15<00:14,  1.03it/s]"
     ]
    },
    {
     "name": "stdout",
     "output_type": "stream",
     "text": [
      "44791\n"
     ]
    },
    {
     "name": "stderr",
     "output_type": "stream",
     "text": [
      " 98%|████████████████████████████████████████████████████████████████████████████████████████████████████████████████████████████████████████████████████████████████████████████████████████████████████████████████████████████████████████████████████████████████████████████████████████▋     | 737/751 [19:15<00:11,  1.24it/s]"
     ]
    },
    {
     "name": "stdout",
     "output_type": "stream",
     "text": [
      "79159\n",
      "84599\n",
      "81783\n",
      "117815\n"
     ]
    },
    {
     "name": "stderr",
     "output_type": "stream",
     "text": [
      " 98%|█████████████████████████████████████████████████████████████████████████████████████████████████████████████████████████████████████████████████████████████████████████████████████████████████████████████████████████████████████████████████████████████████████████████████████████     | 738/751 [19:17<00:14,  1.10s/it]"
     ]
    },
    {
     "name": "stdout",
     "output_type": "stream",
     "text": [
      "79991\n",
      "44151\n",
      "48183\n",
      "37559\n"
     ]
    },
    {
     "name": "stderr",
     "output_type": "stream",
     "text": [
      " 98%|█████████████████████████████████████████████████████████████████████████████████████████████████████████████████████████████████████████████████████████████████████████████████████████████████████████████████████████████████████████████████████████████████████████████████████████▍    | 739/751 [19:18<00:13,  1.15s/it]"
     ]
    },
    {
     "name": "stdout",
     "output_type": "stream",
     "text": [
      "91959\n",
      "95415\n",
      "80375\n",
      "79159\n"
     ]
    },
    {
     "name": "stderr",
     "output_type": "stream",
     "text": [
      " 99%|█████████████████████████████████████████████████████████████████████████████████████████████████████████████████████████████████████████████████████████████████████████████████████████████████████████████████████████████████████████████████████████████████████████████████████████▊    | 740/751 [19:20<00:13,  1.24s/it]"
     ]
    },
    {
     "name": "stdout",
     "output_type": "stream",
     "text": [
      "79159\n",
      "68727\n",
      "57143\n",
      "59959\n"
     ]
    },
    {
     "name": "stderr",
     "output_type": "stream",
     "text": [
      " 99%|██████████████████████████████████████████████████████████████████████████████████████████████████████████████████████████████████████████████████████████████████████████████████████████████████████████████████████████████████████████████████████████████████████████████████████████▏   | 741/751 [19:21<00:12,  1.24s/it]"
     ]
    },
    {
     "name": "stdout",
     "output_type": "stream",
     "text": [
      "85943\n",
      "78775\n"
     ]
    },
    {
     "name": "stderr",
     "output_type": "stream",
     "text": [
      " 99%|██████████████████████████████████████████████████████████████████████████████████████████████████████████████████████████████████████████████████████████████████████████████████████████████████████████████████████████████████████████████████████████████████████████████████████████▌   | 742/751 [19:22<00:09,  1.06s/it]"
     ]
    },
    {
     "name": "stdout",
     "output_type": "stream",
     "text": [
      "81143\n",
      "77559\n",
      "75383\n",
      "78775\n"
     ]
    },
    {
     "name": "stderr",
     "output_type": "stream",
     "text": [
      " 99%|██████████████████████████████████████████████████████████████████████████████████████████████████████████████████████████████████████████████████████████████████████████████████████████████████████████████████████████████████████████████████████████████████████████████████████████▉   | 743/751 [19:23<00:09,  1.15s/it]"
     ]
    },
    {
     "name": "stdout",
     "output_type": "stream",
     "text": [
      "80375\n",
      "87159\n",
      "98999\n"
     ]
    },
    {
     "name": "stderr",
     "output_type": "stream",
     "text": [
      " 99%|███████████████████████████████████████████████████████████████████████████████████████████████████████████████████████████████████████████████████████████████████████████████████████████████████████████████████████████████████████████████████████████████████████████████████████████▎  | 744/751 [19:24<00:08,  1.16s/it]"
     ]
    },
    {
     "name": "stdout",
     "output_type": "stream",
     "text": [
      "128375\n",
      "69111\n"
     ]
    },
    {
     "name": "stderr",
     "output_type": "stream",
     "text": [
      " 99%|███████████████████████████████████████████████████████████████████████████████████████████████████████████████████████████████████████████████████████████████████████████████████████████████████████████████████████████████████████████████████████████████████████████████████████████▋  | 745/751 [19:25<00:05,  1.05it/s]"
     ]
    },
    {
     "name": "stdout",
     "output_type": "stream",
     "text": [
      "70199\n",
      "83127\n",
      "82615\n",
      "120183\n"
     ]
    },
    {
     "name": "stderr",
     "output_type": "stream",
     "text": [
      " 99%|████████████████████████████████████████████████████████████████████████████████████████████████████████████████████████████████████████████████████████████████████████████████████████████████████████████████████████████████████████████████████████████████████████████████████████████  | 746/751 [19:26<00:05,  1.16s/it]"
     ]
    },
    {
     "name": "stdout",
     "output_type": "stream",
     "text": [
      "94007\n",
      "77047\n",
      "85943\n",
      "78967\n"
     ]
    },
    {
     "name": "stderr",
     "output_type": "stream",
     "text": [
      " 99%|████████████████████████████████████████████████████████████████████████████████████████████████████████████████████████████████████████████████████████████████████████████████████████████████████████████████████████████████████████████████████████████████████████████████████████████▍ | 747/751 [19:28<00:05,  1.26s/it]"
     ]
    },
    {
     "name": "stdout",
     "output_type": "stream",
     "text": [
      "81015\n",
      "78775\n",
      "81975\n",
      "78647\n"
     ]
    },
    {
     "name": "stderr",
     "output_type": "stream",
     "text": [
      "100%|████████████████████████████████████████████████████████████████████████████████████████████████████████████████████████████████████████████████████████████████████████████████████████████████████████████████████████████████████████████████████████████████████████████████████████████▊ | 748/751 [19:29<00:03,  1.28s/it]"
     ]
    },
    {
     "name": "stdout",
     "output_type": "stream",
     "text": [
      "79927\n",
      "74807\n",
      "111799\n",
      "78967\n"
     ]
    },
    {
     "name": "stderr",
     "output_type": "stream",
     "text": [
      "100%|█████████████████████████████████████████████████████████████████████████████████████████████████████████████████████████████████████████████████████████████████████████████████████████████████████████████████████████████████████████████████████████████████████████████████████████████▏| 749/751 [19:30<00:02,  1.33s/it]"
     ]
    },
    {
     "name": "stdout",
     "output_type": "stream",
     "text": [
      "78583\n",
      "54775\n"
     ]
    },
    {
     "name": "stderr",
     "output_type": "stream",
     "text": [
      "100%|█████████████████████████████████████████████████████████████████████████████████████████████████████████████████████████████████████████████████████████████████████████████████████████████████████████████████████████████████████████████████████████████████████████████████████████████▌| 750/751 [19:31<00:01,  1.12s/it]"
     ]
    },
    {
     "name": "stdout",
     "output_type": "stream",
     "text": [
      "73015\n",
      "79351\n",
      "79415\n"
     ]
    },
    {
     "name": "stderr",
     "output_type": "stream",
     "text": [
      "100%|██████████████████████████████████████████████████████████████████████████████████████████████████████████████████████████████████████████████████████████████████████████████████████████████████████████████████████████████████████████████████████████████████████████████████████████████| 751/751 [19:32<00:00,  1.56s/it]"
     ]
    },
    {
     "name": "stdout",
     "output_type": "stream",
     "text": [
      "78583\n",
      "melspec:  120 313\n",
      "cqt:  1 1\n",
      "stft:  1 1\n"
     ]
    },
    {
     "name": "stderr",
     "output_type": "stream",
     "text": [
      "\n"
     ]
    },
    {
     "name": "stdout",
     "output_type": "stream",
     "text": [
      "interval:  130\n"
     ]
    }
   ],
   "source": [
    "features_trn, mel_input_shape, cqt_input_shape,stft_input_shape,interval_input_shape = get_features_3lb_all_ord(train_folder, patient_files_trn, **params_feature)"
   ]
  },
  {
   "cell_type": "code",
   "execution_count": 72,
   "id": "dc08d126",
   "metadata": {
    "scrolled": true
   },
   "outputs": [
    {
     "name": "stderr",
     "output_type": "stream",
     "text": [
      "  0%|                                                                                                                                                                                                                                                                                                        | 0/191 [00:00<?, ?it/s]"
     ]
    },
    {
     "name": "stdout",
     "output_type": "stream",
     "text": [
      "46967\n",
      "79159\n",
      "72631\n"
     ]
    },
    {
     "name": "stderr",
     "output_type": "stream",
     "text": [
      "  1%|█▌                                                                                                                                                                                                                                                                                              | 1/191 [00:01<04:38,  1.47s/it]"
     ]
    },
    {
     "name": "stdout",
     "output_type": "stream",
     "text": [
      "61111\n",
      "57975\n"
     ]
    },
    {
     "name": "stderr",
     "output_type": "stream",
     "text": [
      "  1%|███                                                                                                                                                                                                                                                                                             | 2/191 [00:02<03:18,  1.05s/it]"
     ]
    },
    {
     "name": "stdout",
     "output_type": "stream",
     "text": [
      "74743\n",
      "84727\n",
      "86967\n",
      "118199\n"
     ]
    },
    {
     "name": "stderr",
     "output_type": "stream",
     "text": [
      "  2%|████▌                                                                                                                                                                                                                                                                                           | 3/191 [00:04<04:21,  1.39s/it]"
     ]
    },
    {
     "name": "stdout",
     "output_type": "stream",
     "text": [
      "81911\n",
      "121783\n"
     ]
    },
    {
     "name": "stderr",
     "output_type": "stream",
     "text": [
      "  2%|██████                                                                                                                                                                                                                                                                                          | 4/191 [00:05<04:02,  1.30s/it]"
     ]
    },
    {
     "name": "stdout",
     "output_type": "stream",
     "text": [
      "121975\n",
      "113207\n",
      "108983\n"
     ]
    },
    {
     "name": "stderr",
     "output_type": "stream",
     "text": [
      "  3%|███████▌                                                                                                                                                                                                                                                                                        | 5/191 [00:06<04:19,  1.40s/it]"
     ]
    },
    {
     "name": "stdout",
     "output_type": "stream",
     "text": [
      "119799\n"
     ]
    },
    {
     "name": "stderr",
     "output_type": "stream",
     "text": [
      "  3%|█████████                                                                                                                                                                                                                                                                                       | 6/191 [00:07<03:39,  1.19s/it]"
     ]
    },
    {
     "name": "stdout",
     "output_type": "stream",
     "text": [
      "175543\n",
      "126583\n",
      "118199\n",
      "121591\n"
     ]
    },
    {
     "name": "stderr",
     "output_type": "stream",
     "text": [
      "  4%|██████████▌                                                                                                                                                                                                                                                                                     | 7/191 [00:10<04:57,  1.62s/it]"
     ]
    },
    {
     "name": "stdout",
     "output_type": "stream",
     "text": [
      "123575\n",
      "60023\n",
      "58359\n",
      "65975\n"
     ]
    },
    {
     "name": "stderr",
     "output_type": "stream",
     "text": [
      "  4%|████████████                                                                                                                                                                                                                                                                                    | 8/191 [00:11<04:38,  1.52s/it]"
     ]
    },
    {
     "name": "stdout",
     "output_type": "stream",
     "text": [
      "62327\n",
      "129015\n",
      "116599\n",
      "117559\n"
     ]
    },
    {
     "name": "stderr",
     "output_type": "stream",
     "text": [
      "  5%|█████████████▌                                                                                                                                                                                                                                                                                  | 9/191 [00:13<05:18,  1.75s/it]"
     ]
    },
    {
     "name": "stdout",
     "output_type": "stream",
     "text": [
      "129591\n",
      "118775\n",
      "116599\n",
      "122359\n"
     ]
    },
    {
     "name": "stderr",
     "output_type": "stream",
     "text": [
      "  5%|███████████████                                                                                                                                                                                                                                                                                | 10/191 [00:15<05:19,  1.76s/it]"
     ]
    },
    {
     "name": "stdout",
     "output_type": "stream",
     "text": [
      "118327\n",
      "120951\n",
      "123383\n",
      "120567\n"
     ]
    },
    {
     "name": "stderr",
     "output_type": "stream",
     "text": [
      "  6%|████████████████▌                                                                                                                                                                                                                                                                              | 11/191 [00:17<05:32,  1.85s/it]"
     ]
    },
    {
     "name": "stdout",
     "output_type": "stream",
     "text": [
      "121143\n",
      "125943\n"
     ]
    },
    {
     "name": "stderr",
     "output_type": "stream",
     "text": [
      "  6%|██████████████████                                                                                                                                                                                                                                                                             | 12/191 [00:18<04:48,  1.61s/it]"
     ]
    },
    {
     "name": "stdout",
     "output_type": "stream",
     "text": [
      "125559\n",
      "100599\n",
      "61687\n"
     ]
    },
    {
     "name": "stderr",
     "output_type": "stream",
     "text": [
      "  7%|███████████████████▌                                                                                                                                                                                                                                                                           | 13/191 [00:19<04:16,  1.44s/it]"
     ]
    },
    {
     "name": "stdout",
     "output_type": "stream",
     "text": [
      "85687\n",
      "126711\n",
      "110199\n",
      "117111\n"
     ]
    },
    {
     "name": "stderr",
     "output_type": "stream",
     "text": [
      "  7%|█████████████████████                                                                                                                                                                                                                                                                          | 14/191 [00:21<04:59,  1.69s/it]"
     ]
    },
    {
     "name": "stdout",
     "output_type": "stream",
     "text": [
      "125175\n",
      "125559\n"
     ]
    },
    {
     "name": "stderr",
     "output_type": "stream",
     "text": [
      "  8%|██████████████████████▌                                                                                                                                                                                                                                                                        | 15/191 [00:22<04:22,  1.49s/it]"
     ]
    },
    {
     "name": "stdout",
     "output_type": "stream",
     "text": [
      "123767\n",
      "81207\n",
      "97591\n",
      "91383\n"
     ]
    },
    {
     "name": "stderr",
     "output_type": "stream",
     "text": [
      "  8%|████████████████████████                                                                                                                                                                                                                                                                       | 16/191 [00:24<04:35,  1.57s/it]"
     ]
    },
    {
     "name": "stdout",
     "output_type": "stream",
     "text": [
      "96759\n",
      "69111\n",
      "58231\n",
      "69559\n",
      "59383\n"
     ]
    },
    {
     "name": "stderr",
     "output_type": "stream",
     "text": [
      "  9%|█████████████████████████▌                                                                                                                                                                                                                                                                     | 17/191 [00:26<04:35,  1.58s/it]"
     ]
    },
    {
     "name": "stdout",
     "output_type": "stream",
     "text": [
      "83959\n"
     ]
    },
    {
     "name": "stderr",
     "output_type": "stream",
     "text": [
      "  9%|███████████████████████████                                                                                                                                                                                                                                                                    | 18/191 [00:26<03:27,  1.20s/it]"
     ]
    },
    {
     "name": "stdout",
     "output_type": "stream",
     "text": [
      "59127\n",
      "84791\n",
      "62199\n",
      "66999\n"
     ]
    },
    {
     "name": "stderr",
     "output_type": "stream",
     "text": [
      " 10%|████████████████████████████▌                                                                                                                                                                                                                                                                  | 19/191 [00:27<03:26,  1.20s/it]"
     ]
    },
    {
     "name": "stdout",
     "output_type": "stream",
     "text": [
      "76599\n",
      "69431\n",
      "58615\n",
      "51383\n"
     ]
    },
    {
     "name": "stderr",
     "output_type": "stream",
     "text": [
      " 10%|██████████████████████████████                                                                                                                                                                                                                                                                 | 20/191 [00:28<03:16,  1.15s/it]"
     ]
    },
    {
     "name": "stdout",
     "output_type": "stream",
     "text": [
      "72375\n",
      "131959\n"
     ]
    },
    {
     "name": "stderr",
     "output_type": "stream",
     "text": [
      " 11%|███████████████████████████████▌                                                                                                                                                                                                                                                               | 21/191 [00:29<03:14,  1.14s/it]"
     ]
    },
    {
     "name": "stdout",
     "output_type": "stream",
     "text": [
      "121527\n"
     ]
    },
    {
     "name": "stderr",
     "output_type": "stream",
     "text": [
      " 12%|█████████████████████████████████                                                                                                                                                                                                                                                              | 22/191 [00:30<02:33,  1.10it/s]"
     ]
    },
    {
     "name": "stdout",
     "output_type": "stream",
     "text": [
      "87031\n",
      "136375\n"
     ]
    },
    {
     "name": "stderr",
     "output_type": "stream",
     "text": [
      " 12%|██████████████████████████████████▌                                                                                                                                                                                                                                                            | 23/191 [00:31<02:43,  1.03it/s]"
     ]
    },
    {
     "name": "stdout",
     "output_type": "stream",
     "text": [
      "80183\n",
      "117815\n",
      "120247\n"
     ]
    },
    {
     "name": "stderr",
     "output_type": "stream",
     "text": [
      " 13%|████████████████████████████████████                                                                                                                                                                                                                                                           | 24/191 [00:33<03:18,  1.19s/it]"
     ]
    },
    {
     "name": "stdout",
     "output_type": "stream",
     "text": [
      "124343\n",
      "86007\n",
      "99127\n",
      "107959\n"
     ]
    },
    {
     "name": "stderr",
     "output_type": "stream",
     "text": [
      " 13%|█████████████████████████████████████▌                                                                                                                                                                                                                                                         | 25/191 [00:35<04:16,  1.55s/it]"
     ]
    },
    {
     "name": "stdout",
     "output_type": "stream",
     "text": [
      "116791\n",
      "122231\n",
      "125943\n"
     ]
    },
    {
     "name": "stderr",
     "output_type": "stream",
     "text": [
      " 14%|███████████████████████████████████████                                                                                                                                                                                                                                                        | 26/191 [00:37<04:30,  1.64s/it]"
     ]
    },
    {
     "name": "stdout",
     "output_type": "stream",
     "text": [
      "124727\n",
      "113591\n"
     ]
    },
    {
     "name": "stderr",
     "output_type": "stream",
     "text": [
      " 14%|████████████████████████████████████████▌                                                                                                                                                                                                                                                      | 27/191 [00:38<04:08,  1.52s/it]"
     ]
    },
    {
     "name": "stdout",
     "output_type": "stream",
     "text": [
      "151351\n",
      "104759\n",
      "107127\n"
     ]
    },
    {
     "name": "stderr",
     "output_type": "stream",
     "text": [
      " 15%|██████████████████████████████████████████                                                                                                                                                                                                                                                     | 28/191 [00:39<03:57,  1.46s/it]"
     ]
    },
    {
     "name": "stdout",
     "output_type": "stream",
     "text": [
      "97527\n",
      "123831\n",
      "121143\n"
     ]
    },
    {
     "name": "stderr",
     "output_type": "stream",
     "text": [
      " 15%|███████████████████████████████████████████▌                                                                                                                                                                                                                                                   | 29/191 [00:41<03:48,  1.41s/it]"
     ]
    },
    {
     "name": "stdout",
     "output_type": "stream",
     "text": [
      "122359\n",
      "113015\n",
      "114743\n",
      "112375\n"
     ]
    },
    {
     "name": "stderr",
     "output_type": "stream",
     "text": [
      " 16%|█████████████████████████████████████████████                                                                                                                                                                                                                                                  | 30/191 [00:42<04:04,  1.52s/it]"
     ]
    },
    {
     "name": "stdout",
     "output_type": "stream",
     "text": [
      "117175\n",
      "79799\n",
      "116983\n"
     ]
    },
    {
     "name": "stderr",
     "output_type": "stream",
     "text": [
      " 16%|██████████████████████████████████████████████▌                                                                                                                                                                                                                                                | 31/191 [00:44<03:56,  1.48s/it]"
     ]
    },
    {
     "name": "stdout",
     "output_type": "stream",
     "text": [
      "116791\n",
      "107383\n"
     ]
    },
    {
     "name": "stderr",
     "output_type": "stream",
     "text": [
      " 17%|████████████████████████████████████████████████                                                                                                                                                                                                                                               | 32/191 [00:45<03:42,  1.40s/it]"
     ]
    },
    {
     "name": "stdout",
     "output_type": "stream",
     "text": [
      "110199\n"
     ]
    },
    {
     "name": "stderr",
     "output_type": "stream",
     "text": [
      " 17%|█████████████████████████████████████████████████▌                                                                                                                                                                                                                                             | 33/191 [00:46<03:13,  1.23s/it]"
     ]
    },
    {
     "name": "stdout",
     "output_type": "stream",
     "text": [
      "143351\n",
      "121399\n",
      "121975\n"
     ]
    },
    {
     "name": "stderr",
     "output_type": "stream",
     "text": [
      " 18%|███████████████████████████████████████████████████                                                                                                                                                                                                                                            | 34/191 [00:47<03:21,  1.28s/it]"
     ]
    },
    {
     "name": "stdout",
     "output_type": "stream",
     "text": [
      "109751\n",
      "119927\n",
      "134007\n"
     ]
    },
    {
     "name": "stderr",
     "output_type": "stream",
     "text": [
      " 18%|████████████████████████████████████████████████████▌                                                                                                                                                                                                                                          | 35/191 [00:49<03:30,  1.35s/it]"
     ]
    },
    {
     "name": "stdout",
     "output_type": "stream",
     "text": [
      "123447\n",
      "123511\n",
      "28791\n"
     ]
    },
    {
     "name": "stderr",
     "output_type": "stream",
     "text": [
      " 19%|██████████████████████████████████████████████████████                                                                                                                                                                                                                                         | 36/191 [00:50<03:23,  1.31s/it]"
     ]
    },
    {
     "name": "stdout",
     "output_type": "stream",
     "text": [
      "124983\n",
      "47031\n",
      "86199\n"
     ]
    },
    {
     "name": "stderr",
     "output_type": "stream",
     "text": [
      " 19%|███████████████████████████████████████████████████████▌                                                                                                                                                                                                                                       | 37/191 [00:51<03:06,  1.21s/it]"
     ]
    },
    {
     "name": "stdout",
     "output_type": "stream",
     "text": [
      "90615\n",
      "122167\n",
      "125111\n",
      "114999\n",
      "67575\n"
     ]
    },
    {
     "name": "stderr",
     "output_type": "stream",
     "text": [
      " 20%|█████████████████████████████████████████████████████████                                                                                                                                                                                                                                      | 38/191 [00:53<03:49,  1.50s/it]"
     ]
    },
    {
     "name": "stdout",
     "output_type": "stream",
     "text": [
      "111159\n",
      "120759\n",
      "116791\n",
      "116983\n"
     ]
    },
    {
     "name": "stderr",
     "output_type": "stream",
     "text": [
      " 20%|██████████████████████████████████████████████████████████▌                                                                                                                                                                                                                                    | 39/191 [00:55<04:00,  1.58s/it]"
     ]
    },
    {
     "name": "stdout",
     "output_type": "stream",
     "text": [
      "113975\n",
      "121143\n"
     ]
    },
    {
     "name": "stderr",
     "output_type": "stream",
     "text": [
      " 21%|████████████████████████████████████████████████████████████                                                                                                                                                                                                                                   | 40/191 [00:56<03:45,  1.49s/it]"
     ]
    },
    {
     "name": "stdout",
     "output_type": "stream",
     "text": [
      "125367\n",
      "91831\n",
      "66743\n",
      "67383\n"
     ]
    },
    {
     "name": "stderr",
     "output_type": "stream",
     "text": [
      " 21%|█████████████████████████████████████████████████████████████▌                                                                                                                                                                                                                                 | 41/191 [00:58<03:51,  1.54s/it]"
     ]
    },
    {
     "name": "stdout",
     "output_type": "stream",
     "text": [
      "96183\n",
      "140343\n",
      "64375\n"
     ]
    },
    {
     "name": "stderr",
     "output_type": "stream",
     "text": [
      " 22%|███████████████████████████████████████████████████████████████                                                                                                                                                                                                                                | 42/191 [01:00<03:55,  1.58s/it]"
     ]
    },
    {
     "name": "stdout",
     "output_type": "stream",
     "text": [
      "121975\n",
      "62007\n",
      "74231\n"
     ]
    },
    {
     "name": "stderr",
     "output_type": "stream",
     "text": [
      " 23%|████████████████████████████████████████████████████████████████▌                                                                                                                                                                                                                              | 43/191 [01:01<03:34,  1.45s/it]"
     ]
    },
    {
     "name": "stdout",
     "output_type": "stream",
     "text": [
      "121783\n",
      "125559\n"
     ]
    },
    {
     "name": "stderr",
     "output_type": "stream",
     "text": [
      " 23%|██████████████████████████████████████████████████████████████████                                                                                                                                                                                                                             | 44/191 [01:02<03:22,  1.38s/it]"
     ]
    },
    {
     "name": "stdout",
     "output_type": "stream",
     "text": [
      "134199\n",
      "121143\n",
      "113847\n",
      "117559\n"
     ]
    },
    {
     "name": "stderr",
     "output_type": "stream",
     "text": [
      " 24%|███████████████████████████████████████████████████████████████████▌                                                                                                                                                                                                                           | 45/191 [01:04<03:54,  1.61s/it]"
     ]
    },
    {
     "name": "stdout",
     "output_type": "stream",
     "text": [
      "116983\n",
      "109367\n",
      "111991\n",
      "113527\n"
     ]
    },
    {
     "name": "stderr",
     "output_type": "stream",
     "text": [
      " 24%|█████████████████████████████████████████████████████████████████████                                                                                                                                                                                                                          | 46/191 [01:06<04:04,  1.69s/it]"
     ]
    },
    {
     "name": "stdout",
     "output_type": "stream",
     "text": [
      "116599\n",
      "113399\n",
      "102711\n",
      "120631\n"
     ]
    },
    {
     "name": "stderr",
     "output_type": "stream",
     "text": [
      " 25%|██████████████████████████████████████████████████████████████████████▌                                                                                                                                                                                                                        | 47/191 [01:08<04:10,  1.74s/it]"
     ]
    },
    {
     "name": "stdout",
     "output_type": "stream",
     "text": [
      "118967\n",
      "124727\n",
      "125943\n",
      "122359\n"
     ]
    },
    {
     "name": "stderr",
     "output_type": "stream",
     "text": [
      " 25%|████████████████████████████████████████████████████████████████████████▏                                                                                                                                                                                                                      | 48/191 [01:10<04:13,  1.77s/it]"
     ]
    },
    {
     "name": "stdout",
     "output_type": "stream",
     "text": [
      "119159\n",
      "123511\n"
     ]
    },
    {
     "name": "stderr",
     "output_type": "stream",
     "text": [
      " 26%|█████████████████████████████████████████████████████████████████████████▋                                                                                                                                                                                                                     | 49/191 [01:10<03:31,  1.49s/it]"
     ]
    },
    {
     "name": "stdout",
     "output_type": "stream",
     "text": [
      "119415\n",
      "89783\n"
     ]
    },
    {
     "name": "stderr",
     "output_type": "stream",
     "text": [
      " 26%|███████████████████████████████████████████████████████████████████████████▏                                                                                                                                                                                                                   | 50/191 [01:11<03:07,  1.33s/it]"
     ]
    },
    {
     "name": "stdout",
     "output_type": "stream",
     "text": [
      "135159\n",
      "80759\n"
     ]
    },
    {
     "name": "stderr",
     "output_type": "stream",
     "text": [
      " 27%|████████████████████████████████████████████████████████████████████████████▋                                                                                                                                                                                                                  | 51/191 [01:12<02:39,  1.14s/it]"
     ]
    },
    {
     "name": "stdout",
     "output_type": "stream",
     "text": [
      "78967\n",
      "20599\n",
      "113975\n",
      "108215\n",
      "114359\n"
     ]
    },
    {
     "name": "stderr",
     "output_type": "stream",
     "text": [
      " 27%|██████████████████████████████████████████████████████████████████████████████▏                                                                                                                                                                                                                | 52/191 [01:14<03:06,  1.34s/it]"
     ]
    },
    {
     "name": "stdout",
     "output_type": "stream",
     "text": [
      "112951\n",
      "119543\n"
     ]
    },
    {
     "name": "stderr",
     "output_type": "stream",
     "text": [
      " 28%|███████████████████████████████████████████████████████████████████████████████▋                                                                                                                                                                                                               | 53/191 [01:15<03:01,  1.31s/it]"
     ]
    },
    {
     "name": "stdout",
     "output_type": "stream",
     "text": [
      "124343\n",
      "147831\n",
      "123127\n",
      "122551\n"
     ]
    },
    {
     "name": "stderr",
     "output_type": "stream",
     "text": [
      " 28%|█████████████████████████████████████████████████████████████████████████████████▏                                                                                                                                                                                                             | 54/191 [01:18<03:47,  1.66s/it]"
     ]
    },
    {
     "name": "stdout",
     "output_type": "stream",
     "text": [
      "122359\n",
      "121399\n",
      "122743\n",
      "121399\n"
     ]
    },
    {
     "name": "stderr",
     "output_type": "stream",
     "text": [
      " 29%|██████████████████████████████████████████████████████████████████████████████████▋                                                                                                                                                                                                            | 55/191 [01:20<04:10,  1.84s/it]"
     ]
    },
    {
     "name": "stdout",
     "output_type": "stream",
     "text": [
      "118775\n",
      "121527\n",
      "118007\n",
      "117815\n"
     ]
    },
    {
     "name": "stderr",
     "output_type": "stream",
     "text": [
      " 29%|████████████████████████████████████████████████████████████████████████████████████▏                                                                                                                                                                                                          | 56/191 [01:22<04:05,  1.82s/it]"
     ]
    },
    {
     "name": "stdout",
     "output_type": "stream",
     "text": [
      "126647\n",
      "138551\n"
     ]
    },
    {
     "name": "stderr",
     "output_type": "stream",
     "text": [
      " 30%|█████████████████████████████████████████████████████████████████████████████████████▋                                                                                                                                                                                                         | 57/191 [01:23<03:28,  1.56s/it]"
     ]
    },
    {
     "name": "stdout",
     "output_type": "stream",
     "text": [
      "126327\n"
     ]
    },
    {
     "name": "stderr",
     "output_type": "stream",
     "text": [
      " 30%|███████████████████████████████████████████████████████████████████████████████████████▏                                                                                                                                                                                                       | 58/191 [01:23<02:43,  1.23s/it]"
     ]
    },
    {
     "name": "stdout",
     "output_type": "stream",
     "text": [
      "129143\n",
      "115383\n",
      "149815\n"
     ]
    },
    {
     "name": "stderr",
     "output_type": "stream",
     "text": [
      " 31%|████████████████████████████████████████████████████████████████████████████████████████▋                                                                                                                                                                                                      | 59/191 [01:25<02:53,  1.32s/it]"
     ]
    },
    {
     "name": "stdout",
     "output_type": "stream",
     "text": [
      "118391\n",
      "123383\n"
     ]
    },
    {
     "name": "stderr",
     "output_type": "stream",
     "text": [
      " 31%|██████████████████████████████████████████████████████████████████████████████████████████▏                                                                                                                                                                                                    | 60/191 [01:26<02:39,  1.22s/it]"
     ]
    },
    {
     "name": "stdout",
     "output_type": "stream",
     "text": [
      "120375\n",
      "119799\n"
     ]
    },
    {
     "name": "stderr",
     "output_type": "stream",
     "text": [
      " 32%|███████████████████████████████████████████████████████████████████████████████████████████▋                                                                                                                                                                                                   | 61/191 [01:27<02:33,  1.18s/it]"
     ]
    },
    {
     "name": "stdout",
     "output_type": "stream",
     "text": [
      "121591\n",
      "122359\n",
      "116727\n",
      "120823\n",
      "140343\n"
     ]
    },
    {
     "name": "stderr",
     "output_type": "stream",
     "text": [
      " 32%|█████████████████████████████████████████████████████████████████████████████████████████████▏                                                                                                                                                                                                 | 62/191 [01:30<03:41,  1.71s/it]"
     ]
    },
    {
     "name": "stdout",
     "output_type": "stream",
     "text": [
      "123959\n",
      "132599\n",
      "128183\n",
      "121847\n"
     ]
    },
    {
     "name": "stderr",
     "output_type": "stream",
     "text": [
      " 33%|██████████████████████████████████████████████████████████████████████████████████████████████▋                                                                                                                                                                                                | 63/191 [01:32<03:52,  1.82s/it]"
     ]
    },
    {
     "name": "stdout",
     "output_type": "stream",
     "text": [
      "123511\n",
      "113975\n"
     ]
    },
    {
     "name": "stderr",
     "output_type": "stream",
     "text": [
      " 34%|████████████████████████████████████████████████████████████████████████████████████████████████▏                                                                                                                                                                                              | 64/191 [01:33<03:28,  1.64s/it]"
     ]
    },
    {
     "name": "stdout",
     "output_type": "stream",
     "text": [
      "150775\n"
     ]
    },
    {
     "name": "stderr",
     "output_type": "stream",
     "text": [
      " 34%|█████████████████████████████████████████████████████████████████████████████████████████████████▋                                                                                                                                                                                             | 65/191 [01:33<02:42,  1.29s/it]"
     ]
    },
    {
     "name": "stdout",
     "output_type": "stream",
     "text": [
      "91831\n",
      "134583\n",
      "122615\n"
     ]
    },
    {
     "name": "stderr",
     "output_type": "stream",
     "text": [
      " 35%|███████████████████████████████████████████████████████████████████████████████████████████████████▏                                                                                                                                                                                           | 66/191 [01:35<03:00,  1.44s/it]"
     ]
    },
    {
     "name": "stdout",
     "output_type": "stream",
     "text": [
      "121399\n",
      "120631\n",
      "123959\n",
      "115575\n"
     ]
    },
    {
     "name": "stderr",
     "output_type": "stream",
     "text": [
      " 35%|████████████████████████████████████████████████████████████████████████████████████████████████████▋                                                                                                                                                                                          | 67/191 [01:37<03:29,  1.69s/it]"
     ]
    },
    {
     "name": "stdout",
     "output_type": "stream",
     "text": [
      "122551\n",
      "121591\n",
      "123767\n",
      "123127\n"
     ]
    },
    {
     "name": "stderr",
     "output_type": "stream",
     "text": [
      " 36%|██████████████████████████████████████████████████████████████████████████████████████████████████████▏                                                                                                                                                                                        | 68/191 [01:40<03:46,  1.84s/it]"
     ]
    },
    {
     "name": "stdout",
     "output_type": "stream",
     "text": [
      "126967\n",
      "123959\n",
      "123959\n",
      "130999\n"
     ]
    },
    {
     "name": "stderr",
     "output_type": "stream",
     "text": [
      " 36%|███████████████████████████████████████████████████████████████████████████████████████████████████████▋                                                                                                                                                                                       | 69/191 [01:42<04:07,  2.03s/it]"
     ]
    },
    {
     "name": "stdout",
     "output_type": "stream",
     "text": [
      "123191\n",
      "258039\n",
      "248951\n",
      "235575\n",
      "234743\n"
     ]
    },
    {
     "name": "stderr",
     "output_type": "stream",
     "text": [
      " 37%|█████████████████████████████████████████████████████████████████████████████████████████████████████████▏                                                                                                                                                                                     | 70/191 [01:47<05:40,  2.81s/it]"
     ]
    },
    {
     "name": "stdout",
     "output_type": "stream",
     "text": [
      "121399\n",
      "89143\n",
      "121207\n"
     ]
    },
    {
     "name": "stderr",
     "output_type": "stream",
     "text": [
      " 37%|██████████████████████████████████████████████████████████████████████████████████████████████████████████▋                                                                                                                                                                                    | 71/191 [01:48<04:53,  2.44s/it]"
     ]
    },
    {
     "name": "stdout",
     "output_type": "stream",
     "text": [
      "203959\n",
      "106935\n",
      "27063\n",
      "117175\n"
     ]
    },
    {
     "name": "stderr",
     "output_type": "stream",
     "text": [
      " 38%|████████████████████████████████████████████████████████████████████████████████████████████████████████████▏                                                                                                                                                                                  | 72/191 [01:50<04:13,  2.13s/it]"
     ]
    },
    {
     "name": "stdout",
     "output_type": "stream",
     "text": [
      "124343\n",
      "102327\n",
      "103607\n",
      "110391\n"
     ]
    },
    {
     "name": "stderr",
     "output_type": "stream",
     "text": [
      " 38%|█████████████████████████████████████████████████████████████████████████████████████████████████████████████▋                                                                                                                                                                                 | 73/191 [01:52<04:05,  2.08s/it]"
     ]
    },
    {
     "name": "stdout",
     "output_type": "stream",
     "text": [
      "111991\n",
      "116599\n",
      "118775\n",
      "118647\n"
     ]
    },
    {
     "name": "stderr",
     "output_type": "stream",
     "text": [
      " 39%|███████████████████████████████████████████████████████████████████████████████████████████████████████████████▏                                                                                                                                                                               | 74/191 [01:54<04:05,  2.10s/it]"
     ]
    },
    {
     "name": "stdout",
     "output_type": "stream",
     "text": [
      "117559\n",
      "121015\n",
      "117431\n"
     ]
    },
    {
     "name": "stderr",
     "output_type": "stream",
     "text": [
      " 39%|████████████████████████████████████████████████████████████████████████████████████████████████████████████████▋                                                                                                                                                                              | 75/191 [01:55<03:47,  1.96s/it]"
     ]
    },
    {
     "name": "stdout",
     "output_type": "stream",
     "text": [
      "122807\n",
      "116215\n",
      "117559\n",
      "118583\n"
     ]
    },
    {
     "name": "stderr",
     "output_type": "stream",
     "text": [
      " 40%|██████████████████████████████████████████████████████████████████████████████████████████████████████████████████▏                                                                                                                                                                            | 76/191 [01:58<03:47,  1.98s/it]"
     ]
    },
    {
     "name": "stdout",
     "output_type": "stream",
     "text": [
      "119607\n",
      "119607\n",
      "115831\n",
      "119415\n"
     ]
    },
    {
     "name": "stderr",
     "output_type": "stream",
     "text": [
      " 40%|███████████████████████████████████████████████████████████████████████████████████████████████████████████████████▋                                                                                                                                                                           | 77/191 [02:00<03:50,  2.03s/it]"
     ]
    },
    {
     "name": "stdout",
     "output_type": "stream",
     "text": [
      "124343\n",
      "116983\n",
      "117431\n",
      "117943\n"
     ]
    },
    {
     "name": "stderr",
     "output_type": "stream",
     "text": [
      " 41%|█████████████████████████████████████████████████████████████████████████████████████████████████████████████████████▏                                                                                                                                                                         | 78/191 [02:02<03:57,  2.10s/it]"
     ]
    },
    {
     "name": "stdout",
     "output_type": "stream",
     "text": [
      "116983\n"
     ]
    },
    {
     "name": "stderr",
     "output_type": "stream",
     "text": [
      " 41%|██████████████████████████████████████████████████████████████████████████████████████████████████████████████████████▋                                                                                                                                                                        | 79/191 [02:02<02:55,  1.56s/it]"
     ]
    },
    {
     "name": "stdout",
     "output_type": "stream",
     "text": [
      "85815\n",
      "93175\n"
     ]
    },
    {
     "name": "stderr",
     "output_type": "stream",
     "text": [
      " 42%|████████████████████████████████████████████████████████████████████████████████████████████████████████████████████████▏                                                                                                                                                                      | 80/191 [02:04<02:45,  1.49s/it]"
     ]
    },
    {
     "name": "stdout",
     "output_type": "stream",
     "text": [
      "126583\n",
      "47159\n",
      "33975\n"
     ]
    },
    {
     "name": "stderr",
     "output_type": "stream",
     "text": [
      " 42%|█████████████████████████████████████████████████████████████████████████████████████████████████████████████████████████▋                                                                                                                                                                     | 81/191 [02:04<02:24,  1.32s/it]"
     ]
    },
    {
     "name": "stdout",
     "output_type": "stream",
     "text": [
      "36407\n",
      "43831\n",
      "92599\n",
      "82167\n",
      "79543\n"
     ]
    },
    {
     "name": "stderr",
     "output_type": "stream",
     "text": [
      " 43%|███████████████████████████████████████████████████████████████████████████████████████████████████████████████████████████▏                                                                                                                                                                   | 82/191 [02:06<02:30,  1.39s/it]"
     ]
    },
    {
     "name": "stdout",
     "output_type": "stream",
     "text": [
      "80247\n",
      "84983\n",
      "92727\n",
      "125559\n"
     ]
    },
    {
     "name": "stderr",
     "output_type": "stream",
     "text": [
      " 43%|████████████████████████████████████████████████████████████████████████████████████████████████████████████████████████████▋                                                                                                                                                                  | 83/191 [02:08<02:47,  1.55s/it]"
     ]
    },
    {
     "name": "stdout",
     "output_type": "stream",
     "text": [
      "86583\n",
      "66743\n",
      "62647\n",
      "81015\n"
     ]
    },
    {
     "name": "stderr",
     "output_type": "stream",
     "text": [
      " 44%|██████████████████████████████████████████████████████████████████████████████████████████████████████████████████████████████▏                                                                                                                                                                | 84/191 [02:10<02:48,  1.58s/it]"
     ]
    },
    {
     "name": "stdout",
     "output_type": "stream",
     "text": [
      "68343\n"
     ]
    },
    {
     "name": "stderr",
     "output_type": "stream",
     "text": [
      " 45%|███████████████████████████████████████████████████████████████████████████████████████████████████████████████████████████████▋                                                                                                                                                               | 85/191 [02:10<02:16,  1.29s/it]"
     ]
    },
    {
     "name": "stdout",
     "output_type": "stream",
     "text": [
      "94711\n",
      "67127\n",
      "46967\n"
     ]
    },
    {
     "name": "stderr",
     "output_type": "stream",
     "text": [
      " 45%|█████████████████████████████████████████████████████████████████████████████████████████████████████████████████████████████████▏                                                                                                                                                             | 86/191 [02:11<02:02,  1.17s/it]"
     ]
    },
    {
     "name": "stdout",
     "output_type": "stream",
     "text": [
      "56759\n",
      "68151\n",
      "75127\n",
      "72375\n"
     ]
    },
    {
     "name": "stderr",
     "output_type": "stream",
     "text": [
      " 46%|██████████████████████████████████████████████████████████████████████████████████████████████████████████████████████████████████▋                                                                                                                                                            | 87/191 [02:13<02:10,  1.25s/it]"
     ]
    },
    {
     "name": "stdout",
     "output_type": "stream",
     "text": [
      "77175\n",
      "49911\n",
      "49847\n",
      "41783\n"
     ]
    },
    {
     "name": "stderr",
     "output_type": "stream",
     "text": [
      " 46%|████████████████████████████████████████████████████████████████████████████████████████████████████████████████████████████████████▏                                                                                                                                                          | 88/191 [02:14<02:08,  1.25s/it]"
     ]
    },
    {
     "name": "stdout",
     "output_type": "stream",
     "text": [
      "63991\n",
      "82615\n",
      "81783\n",
      "119415\n"
     ]
    },
    {
     "name": "stderr",
     "output_type": "stream",
     "text": [
      " 47%|█████████████████████████████████████████████████████████████████████████████████████████████████████████████████████████████████████▋                                                                                                                                                         | 89/191 [02:16<02:25,  1.42s/it]"
     ]
    },
    {
     "name": "stdout",
     "output_type": "stream",
     "text": [
      "90999\n",
      "86775\n"
     ]
    },
    {
     "name": "stderr",
     "output_type": "stream",
     "text": [
      " 47%|███████████████████████████████████████████████████████████████████████████████████████████████████████████████████████████████████████▏                                                                                                                                                       | 90/191 [02:16<02:06,  1.25s/it]"
     ]
    },
    {
     "name": "stdout",
     "output_type": "stream",
     "text": [
      "87159\n",
      "81399\n",
      "80759\n",
      "81527\n"
     ]
    },
    {
     "name": "stderr",
     "output_type": "stream",
     "text": [
      " 48%|████████████████████████████████████████████████████████████████████████████████████████████████████████████████████████████████████████▋                                                                                                                                                      | 91/191 [02:18<02:09,  1.30s/it]"
     ]
    },
    {
     "name": "stdout",
     "output_type": "stream",
     "text": [
      "78967\n",
      "84983\n",
      "83575\n"
     ]
    },
    {
     "name": "stderr",
     "output_type": "stream",
     "text": [
      " 48%|██████████████████████████████████████████████████████████████████████████████████████████████████████████████████████████████████████████▏                                                                                                                                                    | 92/191 [02:19<02:01,  1.23s/it]"
     ]
    },
    {
     "name": "stdout",
     "output_type": "stream",
     "text": [
      "79415\n",
      "86711\n",
      "69175\n",
      "84727\n"
     ]
    },
    {
     "name": "stderr",
     "output_type": "stream",
     "text": [
      " 49%|███████████████████████████████████████████████████████████████████████████████████████████████████████████████████████████████████████████▋                                                                                                                                                   | 93/191 [02:20<02:09,  1.32s/it]"
     ]
    },
    {
     "name": "stdout",
     "output_type": "stream",
     "text": [
      "102711\n",
      "55031\n",
      "34743\n",
      "32759\n"
     ]
    },
    {
     "name": "stderr",
     "output_type": "stream",
     "text": [
      " 49%|█████████████████████████████████████████████████████████████████████████████████████████████████████████████████████████████████████████████▏                                                                                                                                                 | 94/191 [02:21<01:48,  1.12s/it]"
     ]
    },
    {
     "name": "stdout",
     "output_type": "stream",
     "text": [
      "53431\n",
      "89975\n",
      "99959\n",
      "138167\n"
     ]
    },
    {
     "name": "stderr",
     "output_type": "stream",
     "text": [
      " 50%|██████████████████████████████████████████████████████████████████████████████████████████████████████████████████████████████████████████████▋                                                                                                                                                | 95/191 [02:23<02:04,  1.29s/it]"
     ]
    },
    {
     "name": "stdout",
     "output_type": "stream",
     "text": [
      "82359\n",
      "57591\n",
      "49911\n",
      "50231\n"
     ]
    },
    {
     "name": "stderr",
     "output_type": "stream",
     "text": [
      " 50%|████████████████████████████████████████████████████████████████████████████████████████████████████████████████████████████████████████████████▎                                                                                                                                              | 96/191 [02:24<02:00,  1.27s/it]"
     ]
    },
    {
     "name": "stdout",
     "output_type": "stream",
     "text": [
      "66231\n",
      "33143\n",
      "37367\n"
     ]
    },
    {
     "name": "stderr",
     "output_type": "stream",
     "text": [
      " 51%|█████████████████████████████████████████████████████████████████████████████████████████████████████████████████████████████████████████████████▊                                                                                                                                             | 97/191 [02:25<01:46,  1.13s/it]"
     ]
    },
    {
     "name": "stdout",
     "output_type": "stream",
     "text": [
      "49399\n",
      "39159\n",
      "40759\n",
      "54775\n",
      "40567\n"
     ]
    },
    {
     "name": "stderr",
     "output_type": "stream",
     "text": [
      " 51%|███████████████████████████████████████████████████████████████████████████████████████████████████████████████████████████████████████████████████▎                                                                                                                                           | 98/191 [02:26<01:43,  1.12s/it]"
     ]
    },
    {
     "name": "stdout",
     "output_type": "stream",
     "text": [
      "113591\n",
      "97527\n",
      "102391\n",
      "79159\n"
     ]
    },
    {
     "name": "stderr",
     "output_type": "stream",
     "text": [
      " 52%|████████████████████████████████████████████████████████████████████████████████████████████████████████████████████████████████████████████████████▊                                                                                                                                          | 99/191 [02:27<01:51,  1.22s/it]"
     ]
    },
    {
     "name": "stdout",
     "output_type": "stream",
     "text": [
      "90743\n",
      "56759\n",
      "71159\n"
     ]
    },
    {
     "name": "stderr",
     "output_type": "stream",
     "text": [
      " 52%|█████████████████████████████████████████████████████████████████████████████████████████████████████████████████████████████████████████████████████▋                                                                                                                                        | 100/191 [02:28<01:43,  1.14s/it]"
     ]
    },
    {
     "name": "stdout",
     "output_type": "stream",
     "text": [
      "95991\n",
      "74999\n",
      "77943\n",
      "79351\n"
     ]
    },
    {
     "name": "stderr",
     "output_type": "stream",
     "text": [
      " 53%|███████████████████████████████████████████████████████████████████████████████████████████████████████████████████████████████████████████████████████▏                                                                                                                                      | 101/191 [02:30<01:53,  1.26s/it]"
     ]
    },
    {
     "name": "stdout",
     "output_type": "stream",
     "text": [
      "79159\n",
      "79159\n",
      "93431\n",
      "92791\n"
     ]
    },
    {
     "name": "stderr",
     "output_type": "stream",
     "text": [
      " 53%|████████████████████████████████████████████████████████████████████████████████████████████████████████████████████████████████████████████████████████▋                                                                                                                                     | 102/191 [02:31<01:59,  1.34s/it]"
     ]
    },
    {
     "name": "stdout",
     "output_type": "stream",
     "text": [
      "87927\n",
      "85559\n",
      "89399\n",
      "118711\n"
     ]
    },
    {
     "name": "stderr",
     "output_type": "stream",
     "text": [
      " 54%|██████████████████████████████████████████████████████████████████████████████████████████████████████████████████████████████████████████████████████████▏                                                                                                                                   | 103/191 [02:33<02:10,  1.48s/it]"
     ]
    },
    {
     "name": "stdout",
     "output_type": "stream",
     "text": [
      "83831\n",
      "28343\n",
      "33783\n",
      "41591\n"
     ]
    },
    {
     "name": "stderr",
     "output_type": "stream",
     "text": [
      " 54%|███████████████████████████████████████████████████████████████████████████████████████████████████████████████████████████████████████████████████████████▋                                                                                                                                  | 104/191 [02:34<01:57,  1.35s/it]"
     ]
    },
    {
     "name": "stdout",
     "output_type": "stream",
     "text": [
      "63159\n",
      "81911\n",
      "95543\n",
      "84791\n"
     ]
    },
    {
     "name": "stderr",
     "output_type": "stream",
     "text": [
      " 55%|█████████████████████████████████████████████████████████████████████████████████████████████████████████████████████████████████████████████████████████████▏                                                                                                                                | 105/191 [02:36<02:11,  1.53s/it]"
     ]
    },
    {
     "name": "stdout",
     "output_type": "stream",
     "text": [
      "81015\n",
      "105143\n",
      "99127\n",
      "98743\n"
     ]
    },
    {
     "name": "stderr",
     "output_type": "stream",
     "text": [
      " 55%|██████████████████████████████████████████████████████████████████████████████████████████████████████████████████████████████████████████████████████████████▋                                                                                                                               | 106/191 [02:38<02:16,  1.61s/it]"
     ]
    },
    {
     "name": "stdout",
     "output_type": "stream",
     "text": [
      "84599\n",
      "37815\n",
      "69367\n",
      "48375\n"
     ]
    },
    {
     "name": "stderr",
     "output_type": "stream",
     "text": [
      " 56%|████████████████████████████████████████████████████████████████████████████████████████████████████████████████████████████████████████████████████████████████▏                                                                                                                             | 107/191 [02:39<02:04,  1.49s/it]"
     ]
    },
    {
     "name": "stdout",
     "output_type": "stream",
     "text": [
      "85943\n",
      "79031\n"
     ]
    },
    {
     "name": "stderr",
     "output_type": "stream",
     "text": [
      " 57%|█████████████████████████████████████████████████████████████████████████████████████████████████████████████████████████████████████████████████████████████████▋                                                                                                                            | 108/191 [02:40<01:45,  1.27s/it]"
     ]
    },
    {
     "name": "stdout",
     "output_type": "stream",
     "text": [
      "108215\n",
      "63415\n",
      "51191\n",
      "55799\n"
     ]
    },
    {
     "name": "stderr",
     "output_type": "stream",
     "text": [
      " 57%|███████████████████████████████████████████████████████████████████████████████████████████████████████████████████████████████████████████████████████████████████▏                                                                                                                          | 109/191 [02:41<01:43,  1.26s/it]"
     ]
    },
    {
     "name": "stdout",
     "output_type": "stream",
     "text": [
      "69175\n",
      "55927\n",
      "39991\n",
      "40375\n"
     ]
    },
    {
     "name": "stderr",
     "output_type": "stream",
     "text": [
      " 58%|████████████████████████████████████████████████████████████████████████████████████████████████████████████████████████████████████████████████████████████████████▋                                                                                                                         | 110/191 [02:42<01:32,  1.15s/it]"
     ]
    },
    {
     "name": "stdout",
     "output_type": "stream",
     "text": [
      "65783\n",
      "82615\n",
      "74999\n",
      "78583\n"
     ]
    },
    {
     "name": "stderr",
     "output_type": "stream",
     "text": [
      " 58%|██████████████████████████████████████████████████████████████████████████████████████████████████████████████████████████████████████████████████████████████████████▏                                                                                                                       | 111/191 [02:43<01:33,  1.17s/it]"
     ]
    },
    {
     "name": "stdout",
     "output_type": "stream",
     "text": [
      "63927\n"
     ]
    },
    {
     "name": "stderr",
     "output_type": "stream",
     "text": [
      " 59%|███████████████████████████████████████████████████████████████████████████████████████████████████████████████████████████████████████████████████████████████████████▋                                                                                                                      | 112/191 [02:44<01:12,  1.09it/s]"
     ]
    },
    {
     "name": "stdout",
     "output_type": "stream",
     "text": [
      "78327\n",
      "63543\n",
      "62775\n",
      "58615\n"
     ]
    },
    {
     "name": "stderr",
     "output_type": "stream",
     "text": [
      " 59%|█████████████████████████████████████████████████████████████████████████████████████████████████████████████████████████████████████████████████████████████████████████▏                                                                                                                    | 113/191 [02:45<01:15,  1.03it/s]"
     ]
    },
    {
     "name": "stdout",
     "output_type": "stream",
     "text": [
      "61367\n",
      "98551\n"
     ]
    },
    {
     "name": "stderr",
     "output_type": "stream",
     "text": [
      " 60%|██████████████████████████████████████████████████████████████████████████████████████████████████████████████████████████████████████████████████████████████████████████▋                                                                                                                   | 114/191 [02:46<01:13,  1.04it/s]"
     ]
    },
    {
     "name": "stdout",
     "output_type": "stream",
     "text": [
      "116215\n",
      "62327\n",
      "41399\n",
      "63607\n"
     ]
    },
    {
     "name": "stderr",
     "output_type": "stream",
     "text": [
      " 60%|████████████████████████████████████████████████████████████████████████████████████████████████████████████████████████████████████████████████████████████████████████████▏                                                                                                                 | 115/191 [02:47<01:14,  1.02it/s]"
     ]
    },
    {
     "name": "stdout",
     "output_type": "stream",
     "text": [
      "64759\n"
     ]
    },
    {
     "name": "stderr",
     "output_type": "stream",
     "text": [
      " 61%|█████████████████████████████████████████████████████████████████████████████████████████████████████████████████████████████████████████████████████████████████████████████▋                                                                                                                | 116/191 [02:47<00:58,  1.28it/s]"
     ]
    },
    {
     "name": "stdout",
     "output_type": "stream",
     "text": [
      "62327\n",
      "72183\n",
      "67831\n",
      "66231\n"
     ]
    },
    {
     "name": "stderr",
     "output_type": "stream",
     "text": [
      " 61%|███████████████████████████████████████████████████████████████████████████████████████████████████████████████████████████████████████████████████████████████████████████████▏                                                                                                              | 117/191 [02:48<01:06,  1.11it/s]"
     ]
    },
    {
     "name": "stdout",
     "output_type": "stream",
     "text": [
      "70391\n",
      "84791\n",
      "81143\n",
      "86199\n"
     ]
    },
    {
     "name": "stderr",
     "output_type": "stream",
     "text": [
      " 62%|████████████████████████████████████████████████████████████████████████████████████████████████████████████████████████████████████████████████████████████████████████████████▋                                                                                                             | 118/191 [02:49<01:14,  1.01s/it]"
     ]
    },
    {
     "name": "stdout",
     "output_type": "stream",
     "text": [
      "84727\n",
      "48759\n",
      "47159\n",
      "48887\n"
     ]
    },
    {
     "name": "stderr",
     "output_type": "stream",
     "text": [
      " 62%|██████████████████████████████████████████████████████████████████████████████████████████████████████████████████████████████████████████████████████████████████████████████████▏                                                                                                           | 119/191 [02:51<01:17,  1.07s/it]"
     ]
    },
    {
     "name": "stdout",
     "output_type": "stream",
     "text": [
      "79159\n",
      "95799\n",
      "78775\n",
      "123383\n"
     ]
    },
    {
     "name": "stderr",
     "output_type": "stream",
     "text": [
      " 63%|███████████████████████████████████████████████████████████████████████████████████████████████████████████████████████████████████████████████████████████████████████████████████▋                                                                                                          | 120/191 [02:52<01:23,  1.18s/it]"
     ]
    },
    {
     "name": "stdout",
     "output_type": "stream",
     "text": [
      "82615\n",
      "79159\n",
      "80567\n"
     ]
    },
    {
     "name": "stderr",
     "output_type": "stream",
     "text": [
      " 63%|█████████████████████████████████████████████████████████████████████████████████████████████████████████████████████████████████████████████████████████████████████████████████████▏                                                                                                        | 121/191 [02:53<01:19,  1.13s/it]"
     ]
    },
    {
     "name": "stdout",
     "output_type": "stream",
     "text": [
      "92343\n",
      "38199\n",
      "37175\n",
      "33143\n"
     ]
    },
    {
     "name": "stderr",
     "output_type": "stream",
     "text": [
      " 64%|██████████████████████████████████████████████████████████████████████████████████████████████████████████████████████████████████████████████████████████████████████████████████████▋                                                                                                       | 122/191 [02:54<01:11,  1.04s/it]"
     ]
    },
    {
     "name": "stdout",
     "output_type": "stream",
     "text": [
      "59127\n",
      "74615\n"
     ]
    },
    {
     "name": "stderr",
     "output_type": "stream",
     "text": [
      " 64%|████████████████████████████████████████████████████████████████████████████████████████████████████████████████████████████████████████████████████████████████████████████████████████▏                                                                                                     | 123/191 [02:55<01:04,  1.06it/s]"
     ]
    },
    {
     "name": "stdout",
     "output_type": "stream",
     "text": [
      "89143\n",
      "77559\n",
      "72759\n",
      "78647\n"
     ]
    },
    {
     "name": "stderr",
     "output_type": "stream",
     "text": [
      " 65%|█████████████████████████████████████████████████████████████████████████████████████████████████████████████████████████████████████████████████████████████████████████████████████████▋                                                                                                    | 124/191 [02:56<01:11,  1.07s/it]"
     ]
    },
    {
     "name": "stdout",
     "output_type": "stream",
     "text": [
      "63543\n",
      "74999\n",
      "74743\n",
      "79543\n"
     ]
    },
    {
     "name": "stderr",
     "output_type": "stream",
     "text": [
      " 65%|███████████████████████████████████████████████████████████████████████████████████████████████████████████████████████████████████████████████████████████████████████████████████████████▏                                                                                                  | 125/191 [02:57<01:13,  1.12s/it]"
     ]
    },
    {
     "name": "stdout",
     "output_type": "stream",
     "text": [
      "79927\n",
      "85175\n",
      "87543\n",
      "79415\n"
     ]
    },
    {
     "name": "stderr",
     "output_type": "stream",
     "text": [
      " 66%|████████████████████████████████████████████████████████████████████████████████████████████████████████████████████████████████████████████████████████████████████████████████████████████▋                                                                                                 | 126/191 [02:59<01:21,  1.25s/it]"
     ]
    },
    {
     "name": "stdout",
     "output_type": "stream",
     "text": [
      "83767\n",
      "37175\n"
     ]
    },
    {
     "name": "stderr",
     "output_type": "stream",
     "text": [
      " 66%|██████████████████████████████████████████████████████████████████████████████████████████████████████████████████████████████████████████████████████████████████████████████████████████████▏                                                                                               | 127/191 [02:59<01:06,  1.03s/it]"
     ]
    },
    {
     "name": "stdout",
     "output_type": "stream",
     "text": [
      "54007\n",
      "108791\n",
      "83575\n",
      "117367\n"
     ]
    },
    {
     "name": "stderr",
     "output_type": "stream",
     "text": [
      " 67%|███████████████████████████████████████████████████████████████████████████████████████████████████████████████████████████████████████████████████████████████████████████████████████████████▋                                                                                              | 128/191 [03:01<01:24,  1.33s/it]"
     ]
    },
    {
     "name": "stdout",
     "output_type": "stream",
     "text": [
      "78967\n",
      "80183\n",
      "123959\n"
     ]
    },
    {
     "name": "stderr",
     "output_type": "stream",
     "text": [
      " 68%|█████████████████████████████████████████████████████████████████████████████████████████████████████████████████████████████████████████████████████████████████████████████████████████████████▏                                                                                            | 129/191 [03:03<01:22,  1.34s/it]"
     ]
    },
    {
     "name": "stdout",
     "output_type": "stream",
     "text": [
      "78199\n",
      "57143\n",
      "76983\n",
      "53175\n"
     ]
    },
    {
     "name": "stderr",
     "output_type": "stream",
     "text": [
      " 68%|██████████████████████████████████████████████████████████████████████████████████████████████████████████████████████████████████████████████████████████████████████████████████████████████████▋                                                                                           | 130/191 [03:04<01:28,  1.46s/it]"
     ]
    },
    {
     "name": "stdout",
     "output_type": "stream",
     "text": [
      "69367\n",
      "94583\n"
     ]
    },
    {
     "name": "stderr",
     "output_type": "stream",
     "text": [
      " 69%|████████████████████████████████████████████████████████████████████████████████████████████████████████████████████████████████████████████████████████████████████████████████████████████████████▏                                                                                         | 131/191 [03:05<01:12,  1.21s/it]"
     ]
    },
    {
     "name": "stdout",
     "output_type": "stream",
     "text": [
      "69559\n",
      "79799\n",
      "84215\n",
      "117815\n"
     ]
    },
    {
     "name": "stderr",
     "output_type": "stream",
     "text": [
      " 69%|█████████████████████████████████████████████████████████████████████████████████████████████████████████████████████████████████████████████████████████████████████████████████████████████████████▋                                                                                        | 132/191 [03:07<01:18,  1.34s/it]"
     ]
    },
    {
     "name": "stdout",
     "output_type": "stream",
     "text": [
      "80375\n",
      "42807\n",
      "43575\n",
      "38327\n"
     ]
    },
    {
     "name": "stderr",
     "output_type": "stream",
     "text": [
      " 70%|███████████████████████████████████████████████████████████████████████████████████████████████████████████████████████████████████████████████████████████████████████████████████████████████████████▏                                                                                      | 133/191 [03:08<01:10,  1.21s/it]"
     ]
    },
    {
     "name": "stdout",
     "output_type": "stream",
     "text": [
      "92727\n",
      "81399\n",
      "77431\n",
      "83191\n"
     ]
    },
    {
     "name": "stderr",
     "output_type": "stream",
     "text": [
      " 70%|████████████████████████████████████████████████████████████████████████████████████████████████████████████████████████████████████████████████████████████████████████████████████████████████████████▋                                                                                     | 134/191 [03:09<01:09,  1.23s/it]"
     ]
    },
    {
     "name": "stdout",
     "output_type": "stream",
     "text": [
      "81399\n",
      "89143\n"
     ]
    },
    {
     "name": "stderr",
     "output_type": "stream",
     "text": [
      " 71%|██████████████████████████████████████████████████████████████████████████████████████████████████████████████████████████████████████████████████████████████████████████████████████████████████████████▏                                                                                   | 135/191 [03:10<00:59,  1.07s/it]"
     ]
    },
    {
     "name": "stdout",
     "output_type": "stream",
     "text": [
      "92343\n",
      "81783\n",
      "100727\n",
      "88183\n"
     ]
    },
    {
     "name": "stderr",
     "output_type": "stream",
     "text": [
      " 71%|███████████████████████████████████████████████████████████████████████████████████████████████████████████████████████████████████████████████████████████████████████████████████████████████████████████▋                                                                                  | 136/191 [03:11<01:08,  1.24s/it]"
     ]
    },
    {
     "name": "stdout",
     "output_type": "stream",
     "text": [
      "83831\n",
      "121143\n"
     ]
    },
    {
     "name": "stderr",
     "output_type": "stream",
     "text": [
      " 72%|█████████████████████████████████████████████████████████████████████████████████████████████████████████████████████████████████████████████████████████████████████████████████████████████████████████████▏                                                                                | 137/191 [03:12<01:03,  1.18s/it]"
     ]
    },
    {
     "name": "stdout",
     "output_type": "stream",
     "text": [
      "79415\n",
      "79799\n",
      "82999\n",
      "81143\n"
     ]
    },
    {
     "name": "stderr",
     "output_type": "stream",
     "text": [
      " 72%|██████████████████████████████████████████████████████████████████████████████████████████████████████████████████████████████████████████████████████████████████████████████████████████████████████████████▋                                                                               | 138/191 [03:14<01:16,  1.44s/it]"
     ]
    },
    {
     "name": "stdout",
     "output_type": "stream",
     "text": [
      "95159\n",
      "41143\n",
      "53815\n",
      "69943\n"
     ]
    },
    {
     "name": "stderr",
     "output_type": "stream",
     "text": [
      " 73%|████████████████████████████████████████████████████████████████████████████████████████████████████████████████████████████████████████████████████████████████████████████████████████████████████████████████▏                                                                             | 139/191 [03:16<01:12,  1.39s/it]"
     ]
    },
    {
     "name": "stdout",
     "output_type": "stream",
     "text": [
      "52791\n",
      "30711\n",
      "36791\n",
      "35959\n"
     ]
    },
    {
     "name": "stderr",
     "output_type": "stream",
     "text": [
      " 73%|█████████████████████████████████████████████████████████████████████████████████████████████████████████████████████████████████████████████████████████████████████████████████████████████████████████████████▋                                                                            | 140/191 [03:17<01:05,  1.29s/it]"
     ]
    },
    {
     "name": "stdout",
     "output_type": "stream",
     "text": [
      "81399\n",
      "81591\n",
      "83959\n",
      "81143\n"
     ]
    },
    {
     "name": "stderr",
     "output_type": "stream",
     "text": [
      " 74%|███████████████████████████████████████████████████████████████████████████████████████████████████████████████████████████████████████████████████████████████████████████████████████████████████████████████████▏                                                                          | 141/191 [03:18<01:08,  1.37s/it]"
     ]
    },
    {
     "name": "stdout",
     "output_type": "stream",
     "text": [
      "81015\n",
      "81015\n",
      "86391\n"
     ]
    },
    {
     "name": "stderr",
     "output_type": "stream",
     "text": [
      " 74%|████████████████████████████████████████████████████████████████████████████████████████████████████████████████████████████████████████████████████████████████████████████████████████████████████████████████████▋                                                                         | 142/191 [03:20<01:06,  1.35s/it]"
     ]
    },
    {
     "name": "stdout",
     "output_type": "stream",
     "text": [
      "122807\n",
      "91383\n",
      "81527\n",
      "100791\n"
     ]
    },
    {
     "name": "stderr",
     "output_type": "stream",
     "text": [
      " 75%|██████████████████████████████████████████████████████████████████████████████████████████████████████████████████████████████████████████████████████████████████████████████████████████████████████████████████████▏                                                                       | 143/191 [03:21<01:09,  1.45s/it]"
     ]
    },
    {
     "name": "stdout",
     "output_type": "stream",
     "text": [
      "95159\n",
      "91383\n",
      "85367\n",
      "93431\n"
     ]
    },
    {
     "name": "stderr",
     "output_type": "stream",
     "text": [
      " 75%|███████████████████████████████████████████████████████████████████████████████████████████████████████████████████████████████████████████████████████████████████████████████████████████████████████████████████████▌                                                                      | 144/191 [03:23<01:12,  1.55s/it]"
     ]
    },
    {
     "name": "stdout",
     "output_type": "stream",
     "text": [
      "84791\n",
      "67575\n",
      "61175\n",
      "77943\n"
     ]
    },
    {
     "name": "stderr",
     "output_type": "stream",
     "text": [
      " 76%|█████████████████████████████████████████████████████████████████████████████████████████████████████████████████████████████████████████████████████████████████████████████████████████████████████████████████████████                                                                     | 145/191 [03:24<01:10,  1.53s/it]"
     ]
    },
    {
     "name": "stdout",
     "output_type": "stream",
     "text": [
      "87159\n",
      "80375\n",
      "80759\n",
      "117175\n"
     ]
    },
    {
     "name": "stderr",
     "output_type": "stream",
     "text": [
      " 76%|██████████████████████████████████████████████████████████████████████████████████████████████████████████████████████████████████████████████████████████████████████████████████████████████████████████████████████████▌                                                                   | 146/191 [03:26<01:12,  1.62s/it]"
     ]
    },
    {
     "name": "stdout",
     "output_type": "stream",
     "text": [
      "81527\n",
      "87927\n",
      "77943\n",
      "79415\n"
     ]
    },
    {
     "name": "stderr",
     "output_type": "stream",
     "text": [
      " 77%|████████████████████████████████████████████████████████████████████████████████████████████████████████████████████████████████████████████████████████████████████████████████████████████████████████████████████████████                                                                  | 147/191 [03:28<01:13,  1.67s/it]"
     ]
    },
    {
     "name": "stdout",
     "output_type": "stream",
     "text": [
      "79351\n",
      "50167\n",
      "52215\n",
      "58231\n"
     ]
    },
    {
     "name": "stderr",
     "output_type": "stream",
     "text": [
      " 77%|█████████████████████████████████████████████████████████████████████████████████████████████████████████████████████████████████████████████████████████████████████████████████████████████████████████████████████████████▌                                                                | 148/191 [03:29<01:06,  1.54s/it]"
     ]
    },
    {
     "name": "stdout",
     "output_type": "stream",
     "text": [
      "57975\n",
      "58551\n",
      "45943\n",
      "53559\n"
     ]
    },
    {
     "name": "stderr",
     "output_type": "stream",
     "text": [
      " 78%|███████████████████████████████████████████████████████████████████████████████████████████████████████████████████████████████████████████████████████████████████████████████████████████████████████████████████████████████                                                               | 149/191 [03:31<01:01,  1.47s/it]"
     ]
    },
    {
     "name": "stdout",
     "output_type": "stream",
     "text": [
      "68791\n",
      "84343\n",
      "89143\n",
      "80311\n"
     ]
    },
    {
     "name": "stderr",
     "output_type": "stream",
     "text": [
      " 79%|████████████████████████████████████████████████████████████████████████████████████████████████████████████████████████████████████████████████████████████████████████████████████████████████████████████████████████████████▌                                                             | 150/191 [03:32<01:01,  1.51s/it]"
     ]
    },
    {
     "name": "stdout",
     "output_type": "stream",
     "text": [
      "80375\n",
      "81143\n",
      "82231\n",
      "80631\n"
     ]
    },
    {
     "name": "stderr",
     "output_type": "stream",
     "text": [
      " 79%|██████████████████████████████████████████████████████████████████████████████████████████████████████████████████████████████████████████████████████████████████████████████████████████████████████████████████████████████████                                                            | 151/191 [03:34<00:59,  1.48s/it]"
     ]
    },
    {
     "name": "stdout",
     "output_type": "stream",
     "text": [
      "81847\n",
      "92727\n",
      "118391\n"
     ]
    },
    {
     "name": "stderr",
     "output_type": "stream",
     "text": [
      " 80%|███████████████████████████████████████████████████████████████████████████████████████████████████████████████████████████████████████████████████████████████████████████████████████████████████████████████████████████████████▌                                                          | 152/191 [03:35<00:54,  1.38s/it]"
     ]
    },
    {
     "name": "stdout",
     "output_type": "stream",
     "text": [
      "76983\n",
      "29559\n",
      "30199\n",
      "45367\n"
     ]
    },
    {
     "name": "stderr",
     "output_type": "stream",
     "text": [
      " 80%|█████████████████████████████████████████████████████████████████████████████████████████████████████████████████████████████████████████████████████████████████████████████████████████████████████████████████████████████████████                                                         | 153/191 [03:36<00:47,  1.25s/it]"
     ]
    },
    {
     "name": "stdout",
     "output_type": "stream",
     "text": [
      "52599\n",
      "74359\n",
      "115831\n",
      "90743\n"
     ]
    },
    {
     "name": "stderr",
     "output_type": "stream",
     "text": [
      " 81%|██████████████████████████████████████████████████████████████████████████████████████████████████████████████████████████████████████████████████████████████████████████████████████████████████████████████████████████████████████▌                                                       | 154/191 [03:37<00:51,  1.39s/it]"
     ]
    },
    {
     "name": "stdout",
     "output_type": "stream",
     "text": [
      "80567\n",
      "83447\n"
     ]
    },
    {
     "name": "stderr",
     "output_type": "stream",
     "text": [
      " 81%|████████████████████████████████████████████████████████████████████████████████████████████████████████████████████████████████████████████████████████████████████████████████████████████████████████████████████████████████████████                                                      | 155/191 [03:38<00:42,  1.18s/it]"
     ]
    },
    {
     "name": "stdout",
     "output_type": "stream",
     "text": [
      "90167\n",
      "85559\n",
      "85175\n"
     ]
    },
    {
     "name": "stderr",
     "output_type": "stream",
     "text": [
      " 82%|█████████████████████████████████████████████████████████████████████████████████████████████████████████████████████████████████████████████████████████████████████████████████████████████████████████████████████████████████████████▌                                                    | 156/191 [03:40<00:43,  1.24s/it]"
     ]
    },
    {
     "name": "stdout",
     "output_type": "stream",
     "text": [
      "121975\n",
      "86263\n"
     ]
    },
    {
     "name": "stderr",
     "output_type": "stream",
     "text": [
      " 82%|███████████████████████████████████████████████████████████████████████████████████████████████████████████████████████████████████████████████████████████████████████████████████████████████████████████████████████████████████████████                                                   | 157/191 [03:40<00:38,  1.12s/it]"
     ]
    },
    {
     "name": "stdout",
     "output_type": "stream",
     "text": [
      "91447\n",
      "37559\n",
      "47543\n",
      "58551\n"
     ]
    },
    {
     "name": "stderr",
     "output_type": "stream",
     "text": [
      " 83%|████████████████████████████████████████████████████████████████████████████████████████████████████████████████████████████████████████████████████████████████████████████████████████████████████████████████████████████████████████████▌                                                 | 158/191 [03:42<00:37,  1.13s/it]"
     ]
    },
    {
     "name": "stdout",
     "output_type": "stream",
     "text": [
      "58743\n",
      "35959\n",
      "62775\n",
      "63543\n"
     ]
    },
    {
     "name": "stderr",
     "output_type": "stream",
     "text": [
      " 83%|██████████████████████████████████████████████████████████████████████████████████████████████████████████████████████████████████████████████████████████████████████████████████████████████████████████████████████████████████████████████                                                | 159/191 [03:43<00:36,  1.14s/it]"
     ]
    },
    {
     "name": "stdout",
     "output_type": "stream",
     "text": [
      "77559\n",
      "95543\n",
      "99959\n",
      "117815\n"
     ]
    },
    {
     "name": "stderr",
     "output_type": "stream",
     "text": [
      " 84%|███████████████████████████████████████████████████████████████████████████████████████████████████████████████████████████████████████████████████████████████████████████████████████████████████████████████████████████████████████████████▌                                              | 160/191 [03:45<00:42,  1.37s/it]"
     ]
    },
    {
     "name": "stdout",
     "output_type": "stream",
     "text": [
      "82359\n",
      "81143\n",
      "78775\n",
      "89143\n"
     ]
    },
    {
     "name": "stderr",
     "output_type": "stream",
     "text": [
      " 84%|█████████████████████████████████████████████████████████████████████████████████████████████████████████████████████████████████████████████████████████████████████████████████████████████████████████████████████████████████████████████████                                             | 161/191 [03:46<00:42,  1.42s/it]"
     ]
    },
    {
     "name": "stdout",
     "output_type": "stream",
     "text": [
      "82999\n",
      "80247\n",
      "79799\n",
      "81591\n"
     ]
    },
    {
     "name": "stderr",
     "output_type": "stream",
     "text": [
      " 85%|██████████████████████████████████████████████████████████████████████████████████████████████████████████████████████████████████████████████████████████████████████████████████████████████████████████████████████████████████████████████████▌                                           | 162/191 [03:48<00:42,  1.46s/it]"
     ]
    },
    {
     "name": "stdout",
     "output_type": "stream",
     "text": [
      "92215\n",
      "79159\n",
      "93943\n",
      "80375\n"
     ]
    },
    {
     "name": "stderr",
     "output_type": "stream",
     "text": [
      " 85%|████████████████████████████████████████████████████████████████████████████████████████████████████████████████████████████████████████████████████████████████████████████████████████████████████████████████████████████████████████████████████                                          | 163/191 [03:50<00:44,  1.59s/it]"
     ]
    },
    {
     "name": "stdout",
     "output_type": "stream",
     "text": [
      "79991\n",
      "44727\n",
      "53815\n",
      "61943\n"
     ]
    },
    {
     "name": "stderr",
     "output_type": "stream",
     "text": [
      " 86%|█████████████████████████████████████████████████████████████████████████████████████████████████████████████████████████████████████████████████████████████████████████████████████████████████████████████████████████████████████████████████████▌                                        | 164/191 [03:51<00:42,  1.58s/it]"
     ]
    },
    {
     "name": "stdout",
     "output_type": "stream",
     "text": [
      "101815\n",
      "80247\n",
      "113783\n",
      "80375\n"
     ]
    },
    {
     "name": "stderr",
     "output_type": "stream",
     "text": [
      " 86%|███████████████████████████████████████████████████████████████████████████████████████████████████████████████████████████████████████████████████████████████████████████████████████████████████████████████████████████████████████████████████████                                       | 165/191 [03:53<00:43,  1.67s/it]"
     ]
    },
    {
     "name": "stdout",
     "output_type": "stream",
     "text": [
      "90359\n",
      "45175\n",
      "63799\n"
     ]
    },
    {
     "name": "stderr",
     "output_type": "stream",
     "text": [
      " 87%|████████████████████████████████████████████████████████████████████████████████████████████████████████████████████████████████████████████████████████████████████████████████████████████████████████████████████████████████████████████████████████▌                                     | 166/191 [03:54<00:35,  1.41s/it]"
     ]
    },
    {
     "name": "stdout",
     "output_type": "stream",
     "text": [
      "44599\n",
      "125431\n"
     ]
    },
    {
     "name": "stderr",
     "output_type": "stream",
     "text": [
      " 87%|██████████████████████████████████████████████████████████████████████████████████████████████████████████████████████████████████████████████████████████████████████████████████████████████████████████████████████████████████████████████████████████                                    | 167/191 [03:55<00:31,  1.32s/it]"
     ]
    },
    {
     "name": "stdout",
     "output_type": "stream",
     "text": [
      "92599\n"
     ]
    },
    {
     "name": "stderr",
     "output_type": "stream",
     "text": [
      " 88%|███████████████████████████████████████████████████████████████████████████████████████████████████████████████████████████████████████████████████████████████████████████████████████████████████████████████████████████████████████████████████████████▌                                  | 168/191 [03:55<00:24,  1.07s/it]"
     ]
    },
    {
     "name": "stdout",
     "output_type": "stream",
     "text": [
      "97143\n",
      "77815\n",
      "81847\n",
      "80567\n"
     ]
    },
    {
     "name": "stderr",
     "output_type": "stream",
     "text": [
      " 88%|█████████████████████████████████████████████████████████████████████████████████████████████████████████████████████████████████████████████████████████████████████████████████████████████████████████████████████████████████████████████████████████████                                 | 169/191 [03:57<00:27,  1.23s/it]"
     ]
    },
    {
     "name": "stdout",
     "output_type": "stream",
     "text": [
      "81143\n"
     ]
    },
    {
     "name": "stderr",
     "output_type": "stream",
     "text": [
      " 89%|██████████████████████████████████████████████████████████████████████████████████████████████████████████████████████████████████████████████████████████████████████████████████████████████████████████████████████████████████████████████████████████████▌                               | 170/191 [03:57<00:20,  1.02it/s]"
     ]
    },
    {
     "name": "stdout",
     "output_type": "stream",
     "text": [
      "63927\n",
      "83383\n",
      "87351\n",
      "119607\n"
     ]
    },
    {
     "name": "stderr",
     "output_type": "stream",
     "text": [
      " 90%|████████████████████████████████████████████████████████████████████████████████████████████████████████████████████████████████████████████████████████████████████████████████████████████████████████████████████████████████████████████████████████████████                              | 171/191 [03:59<00:23,  1.17s/it]"
     ]
    },
    {
     "name": "stdout",
     "output_type": "stream",
     "text": [
      "95991\n",
      "77943\n"
     ]
    },
    {
     "name": "stderr",
     "output_type": "stream",
     "text": [
      " 90%|█████████████████████████████████████████████████████████████████████████████████████████████████████████████████████████████████████████████████████████████████████████████████████████████████████████████████████████████████████████████████████████████████▌                            | 172/191 [04:00<00:19,  1.02s/it]"
     ]
    },
    {
     "name": "stdout",
     "output_type": "stream",
     "text": [
      "98231\n",
      "84343\n",
      "100215\n",
      "80183\n"
     ]
    },
    {
     "name": "stderr",
     "output_type": "stream",
     "text": [
      " 91%|███████████████████████████████████████████████████████████████████████████████████████████████████████████████████████████████████████████████████████████████████████████████████████████████████████████████████████████████████████████████████████████████████                           | 173/191 [04:01<00:19,  1.08s/it]"
     ]
    },
    {
     "name": "stdout",
     "output_type": "stream",
     "text": [
      "80375\n",
      "86775\n"
     ]
    },
    {
     "name": "stderr",
     "output_type": "stream",
     "text": [
      " 91%|████████████████████████████████████████████████████████████████████████████████████████████████████████████████████████████████████████████████████████████████████████████████████████████████████████████████████████████████████████████████████████████████████▌                         | 174/191 [04:02<00:17,  1.01s/it]"
     ]
    },
    {
     "name": "stdout",
     "output_type": "stream",
     "text": [
      "95159\n",
      "93751\n"
     ]
    },
    {
     "name": "stderr",
     "output_type": "stream",
     "text": [
      " 92%|██████████████████████████████████████████████████████████████████████████████████████████████████████████████████████████████████████████████████████████████████████████████████████████████████████████████████████████████████████████████████████████████████████                        | 175/191 [04:03<00:15,  1.03it/s]"
     ]
    },
    {
     "name": "stdout",
     "output_type": "stream",
     "text": [
      "80375\n",
      "76343\n",
      "86583\n",
      "78583\n"
     ]
    },
    {
     "name": "stderr",
     "output_type": "stream",
     "text": [
      " 92%|███████████████████████████████████████████████████████████████████████████████████████████████████████████████████████████████████████████████████████████████████████████████████████████████████████████████████████████████████████████████████████████████████████▌                      | 176/191 [04:04<00:16,  1.10s/it]"
     ]
    },
    {
     "name": "stdout",
     "output_type": "stream",
     "text": [
      "77175\n",
      "79159\n",
      "92727\n",
      "78199\n"
     ]
    },
    {
     "name": "stderr",
     "output_type": "stream",
     "text": [
      " 93%|█████████████████████████████████████████████████████████████████████████████████████████████████████████████████████████████████████████████████████████████████████████████████████████████████████████████████████████████████████████████████████████████████████████                     | 177/191 [04:05<00:16,  1.18s/it]"
     ]
    },
    {
     "name": "stdout",
     "output_type": "stream",
     "text": [
      "77047\n",
      "77815\n",
      "81975\n",
      "78007\n"
     ]
    },
    {
     "name": "stderr",
     "output_type": "stream",
     "text": [
      " 93%|██████████████████████████████████████████████████████████████████████████████████████████████████████████████████████████████████████████████████████████████████████████████████████████████████████████████████████████████████████████████████████████████████████████▌                   | 178/191 [04:07<00:16,  1.24s/it]"
     ]
    },
    {
     "name": "stdout",
     "output_type": "stream",
     "text": [
      "79159\n",
      "49015\n",
      "80759\n",
      "47415\n"
     ]
    },
    {
     "name": "stderr",
     "output_type": "stream",
     "text": [
      " 94%|████████████████████████████████████████████████████████████████████████████████████████████████████████████████████████████████████████████████████████████████████████████████████████████████████████████████████████████████████████████████████████████████████████████                  | 179/191 [04:08<00:15,  1.30s/it]"
     ]
    },
    {
     "name": "stdout",
     "output_type": "stream",
     "text": [
      "123959\n"
     ]
    },
    {
     "name": "stderr",
     "output_type": "stream",
     "text": [
      " 94%|█████████████████████████████████████████████████████████████████████████████████████████████████████████████████████████████████████████████████████████████████████████████████████████████████████████████████████████████████████████████████████████████████████████████▌                | 180/191 [04:09<00:11,  1.03s/it]"
     ]
    },
    {
     "name": "stdout",
     "output_type": "stream",
     "text": [
      "71927\n",
      "68215\n",
      "76343\n",
      "74999\n"
     ]
    },
    {
     "name": "stderr",
     "output_type": "stream",
     "text": [
      " 95%|███████████████████████████████████████████████████████████████████████████████████████████████████████████████████████████████████████████████████████████████████████████████████████████████████████████████████████████████████████████████████████████████████████████████               | 181/191 [04:10<00:11,  1.18s/it]"
     ]
    },
    {
     "name": "stdout",
     "output_type": "stream",
     "text": [
      "80375\n",
      "72567\n",
      "51959\n",
      "51959\n"
     ]
    },
    {
     "name": "stderr",
     "output_type": "stream",
     "text": [
      " 95%|████████████████████████████████████████████████████████████████████████████████████████████████████████████████████████████████████████████████████████████████████████████████████████████████████████████████████████████████████████████████████████████████████████████████▌             | 182/191 [04:12<00:11,  1.23s/it]"
     ]
    },
    {
     "name": "stdout",
     "output_type": "stream",
     "text": [
      "95607\n",
      "89783\n",
      "79799\n",
      "125559\n"
     ]
    },
    {
     "name": "stderr",
     "output_type": "stream",
     "text": [
      " 96%|██████████████████████████████████████████████████████████████████████████████████████████████████████████████████████████████████████████████████████████████████████████████████████████████████████████████████████████████████████████████████████████████████████████████████            | 183/191 [04:13<00:11,  1.45s/it]"
     ]
    },
    {
     "name": "stdout",
     "output_type": "stream",
     "text": [
      "97911\n",
      "38583\n",
      "54199\n",
      "67831\n"
     ]
    },
    {
     "name": "stderr",
     "output_type": "stream",
     "text": [
      " 96%|███████████████████████████████████████████████████████████████████████████████████████████████████████████████████████████████████████████████████████████████████████████████████████████████████████████████████████████████████████████████████████████████████████████████████▌          | 184/191 [04:15<00:10,  1.45s/it]"
     ]
    },
    {
     "name": "stdout",
     "output_type": "stream",
     "text": [
      "87543\n",
      "78775\n",
      "79927\n",
      "81527\n"
     ]
    },
    {
     "name": "stderr",
     "output_type": "stream",
     "text": [
      " 97%|█████████████████████████████████████████████████████████████████████████████████████████████████████████████████████████████████████████████████████████████████████████████████████████████████████████████████████████████████████████████████████████████████████████████████████         | 185/191 [04:16<00:08,  1.46s/it]"
     ]
    },
    {
     "name": "stdout",
     "output_type": "stream",
     "text": [
      "76599\n",
      "91831\n"
     ]
    },
    {
     "name": "stderr",
     "output_type": "stream",
     "text": [
      " 97%|██████████████████████████████████████████████████████████████████████████████████████████████████████████████████████████████████████████████████████████████████████████████████████████████████████████████████████████████████████████████████████████████████████████████████████▌       | 186/191 [04:18<00:06,  1.35s/it]"
     ]
    },
    {
     "name": "stdout",
     "output_type": "stream",
     "text": [
      "93111\n",
      "81143\n",
      "79159\n",
      "129975\n"
     ]
    },
    {
     "name": "stderr",
     "output_type": "stream",
     "text": [
      " 98%|████████████████████████████████████████████████████████████████████████████████████████████████████████████████████████████████████████████████████████████████████████████████████████████████████████████████████████████████████████████████████████████████████████████████████████      | 187/191 [04:19<00:05,  1.41s/it]"
     ]
    },
    {
     "name": "stdout",
     "output_type": "stream",
     "text": [
      "86199\n",
      "85047\n"
     ]
    },
    {
     "name": "stderr",
     "output_type": "stream",
     "text": [
      " 98%|█████████████████████████████████████████████████████████████████████████████████████████████████████████████████████████████████████████████████████████████████████████████████████████████████████████████████████████████████████████████████████████████████████████████████████████▌    | 188/191 [04:20<00:03,  1.20s/it]"
     ]
    },
    {
     "name": "stdout",
     "output_type": "stream",
     "text": [
      "81783\n",
      "82551\n",
      "87927\n",
      "117175\n"
     ]
    },
    {
     "name": "stderr",
     "output_type": "stream",
     "text": [
      " 99%|███████████████████████████████████████████████████████████████████████████████████████████████████████████████████████████████████████████████████████████████████████████████████████████████████████████████████████████████████████████████████████████████████████████████████████████   | 189/191 [04:21<00:02,  1.26s/it]"
     ]
    },
    {
     "name": "stdout",
     "output_type": "stream",
     "text": [
      "79799\n",
      "92599\n",
      "79543\n",
      "82999\n"
     ]
    },
    {
     "name": "stderr",
     "output_type": "stream",
     "text": [
      " 99%|████████████████████████████████████████████████████████████████████████████████████████████████████████████████████████████████████████████████████████████████████████████████████████████████████████████████████████████████████████████████████████████████████████████████████████████▌ | 190/191 [04:23<00:01,  1.35s/it]"
     ]
    },
    {
     "name": "stdout",
     "output_type": "stream",
     "text": [
      "77559\n"
     ]
    },
    {
     "name": "stderr",
     "output_type": "stream",
     "text": [
      "100%|██████████████████████████████████████████████████████████████████████████████████████████████████████████████████████████████████████████████████████████████████████████████████████████████████████████████████████████████████████████████████████████████████████████████████████████████| 191/191 [04:23<00:00,  1.38s/it]"
     ]
    },
    {
     "name": "stdout",
     "output_type": "stream",
     "text": [
      "79991\n",
      "melspec:  120 313\n",
      "cqt:  1 1\n",
      "stft:  1 1\n",
      "interval:  130\n"
     ]
    },
    {
     "name": "stderr",
     "output_type": "stream",
     "text": [
      "\n"
     ]
    }
   ],
   "source": [
    "features_test, mel_input_shape, cqt_input_shape,stft_input_shape,interval_input_shape = get_features_3lb_all_ord(test_folder, patient_files_test, **params_feature)"
   ]
  },
  {
   "cell_type": "code",
   "execution_count": 74,
   "id": "e9141628",
   "metadata": {},
   "outputs": [],
   "source": [
    "# save feature to pickle\n",
    "import pickle\n",
    "with open('/Data/jk_paper/JK_paper/features_trn_pi_develop.pkl','wb') as f:\n",
    "    pickle.dump((features_trn, mel_input_shape, cqt_input_shape,stft_input_shape,interval_input_shape) ,f)\n",
    "\n",
    "with open('/Data/jk_paper/JK_paper/features_test_pi_develop.pkl','wb') as f:\n",
    "    pickle.dump((features_test, mel_input_shape, cqt_input_shape,stft_input_shape,interval_input_shape),f)\n",
    "    pickle.dump((features_trn, mel_input_shape, cqt_input_shape,stft_input_shape,interval_input_shape) ,f)\n",
    "\n"
   ]
  },
  {
   "cell_type": "code",
   "execution_count": 11,
   "id": "e10d945d",
   "metadata": {},
   "outputs": [],
   "source": [
    "with open('/Data/jk_paper/JK_paper/features_trn_pi_develop.pkl', 'rb') as f:\n",
    "    data1 = pickle.load(f)\n",
    "\n",
    "with open('/Data/jk_paper/JK_paper/features_test_pi_develop.pkl', 'rb') as f:\n",
    "    data2 = pickle.load(f)"
   ]
  },
  {
   "cell_type": "code",
   "execution_count": 12,
   "id": "7a078415",
   "metadata": {},
   "outputs": [
    {
     "name": "stderr",
     "output_type": "stream",
     "text": [
      "/tmp/ipykernel_44785/3238672630.py:1: VisibleDeprecationWarning: Creating an ndarray from ragged nested sequences (which is a list-or-tuple of lists-or-tuples-or ndarrays with different lengths or shapes) is deprecated. If you meant to do this, you must specify 'dtype=object' when creating the ndarray.\n",
      "  np.array(data1).shape\n"
     ]
    },
    {
     "data": {
      "text/plain": [
       "(5,)"
      ]
     },
     "execution_count": 12,
     "metadata": {},
     "output_type": "execute_result"
    }
   ],
   "source": [
    "np.array(data1).shape"
   ]
  },
  {
   "cell_type": "code",
   "execution_count": 82,
   "id": "785254d4",
   "metadata": {},
   "outputs": [
    {
     "name": "stderr",
     "output_type": "stream",
     "text": [
      "/tmp/ipykernel_2448666/2796701488.py:1: VisibleDeprecationWarning: Creating an ndarray from ragged nested sequences (which is a list-or-tuple of lists-or-tuples-or ndarrays with different lengths or shapes) is deprecated. If you meant to do this, you must specify 'dtype=object' when creating the ndarray.\n",
      "  np.array(data2).shape\n"
     ]
    },
    {
     "data": {
      "text/plain": [
       "(5,)"
      ]
     },
     "execution_count": 82,
     "metadata": {},
     "output_type": "execute_result"
    }
   ],
   "source": [
    "np.array(data2).shape"
   ]
  },
  {
   "cell_type": "code",
   "execution_count": 83,
   "id": "cbf396ad",
   "metadata": {},
   "outputs": [
    {
     "data": {
      "text/plain": [
       "({'id': array(['2530', '2530', '2530', ..., '85349', '85349', '85349'],\n",
       "        dtype='<U5'),\n",
       "  'age': array([[0, 0, 1, 0, 0, 0],\n",
       "         [0, 0, 1, 0, 0, 0],\n",
       "         [0, 0, 1, 0, 0, 0],\n",
       "         ...,\n",
       "         [0, 0, 0, 0, 0, 1],\n",
       "         [0, 0, 0, 0, 0, 1],\n",
       "         [0, 0, 0, 0, 0, 1]]),\n",
       "  'sex': array([[1, 0],\n",
       "         [1, 0],\n",
       "         [1, 0],\n",
       "         ...,\n",
       "         [1, 0],\n",
       "         [1, 0],\n",
       "         [1, 0]]),\n",
       "  'hw': array([[ 98.   ,  15.9  ],\n",
       "         [ 98.   ,  15.9  ],\n",
       "         [ 98.   ,  15.9  ],\n",
       "         ...,\n",
       "         [110.846,  23.767],\n",
       "         [110.846,  23.767],\n",
       "         [110.846,  23.767]]),\n",
       "  'preg': array([False, False, False, ...,  True,  True,  True]),\n",
       "  'loc': array([[1., 0., 0., 0., 0.],\n",
       "         [0., 0., 1., 0., 0.],\n",
       "         [0., 0., 0., 1., 0.],\n",
       "         ...,\n",
       "         [1., 0., 0., 0., 0.],\n",
       "         [0., 0., 1., 0., 0.],\n",
       "         [0., 0., 0., 1., 0.]]),\n",
       "  'mel1': array([[[[-15.12594986],\n",
       "           [-14.65352917],\n",
       "           [-14.39900875],\n",
       "           ...,\n",
       "           [ -8.60621357],\n",
       "           [ -8.93592072],\n",
       "           [ -8.77223015]],\n",
       "  \n",
       "          [[-10.56965446],\n",
       "           [-13.46643257],\n",
       "           [ -9.42702198],\n",
       "           ...,\n",
       "           [ -8.97393703],\n",
       "           [-14.96098995],\n",
       "           [ -2.31938028]],\n",
       "  \n",
       "          [[ -7.38689995],\n",
       "           [-10.26155472],\n",
       "           [-13.31231499],\n",
       "           ...,\n",
       "           [-15.15819168],\n",
       "           [-12.62127781],\n",
       "           [ -5.62352371]],\n",
       "  \n",
       "          ...,\n",
       "  \n",
       "          [[-51.09925079],\n",
       "           [-60.08057404],\n",
       "           [-55.80835724],\n",
       "           ...,\n",
       "           [-45.37825012],\n",
       "           [-49.44011307],\n",
       "           [-51.51710892]],\n",
       "  \n",
       "          [[-49.40127563],\n",
       "           [-59.03009033],\n",
       "           [-60.08057404],\n",
       "           ...,\n",
       "           [-46.29138565],\n",
       "           [-58.40640259],\n",
       "           [-56.086483  ]],\n",
       "  \n",
       "          [[-50.34918976],\n",
       "           [-60.08057404],\n",
       "           [-60.08057404],\n",
       "           ...,\n",
       "           [-53.51706696],\n",
       "           [-55.55088043],\n",
       "           [-59.34677505]]],\n",
       "  \n",
       "  \n",
       "         [[[ -1.90067698],\n",
       "           [ -9.22702257],\n",
       "           [-10.22435537],\n",
       "           ...,\n",
       "           [-15.3590908 ],\n",
       "           [-12.19832255],\n",
       "           [-11.98655412]],\n",
       "  \n",
       "          [[ -4.01255471],\n",
       "           [ -4.29327998],\n",
       "           [ -8.67754694],\n",
       "           ...,\n",
       "           [ -0.44924895],\n",
       "           [ -8.79860044],\n",
       "           [ -4.9939627 ]],\n",
       "  \n",
       "          [[ -1.53407166],\n",
       "           [ -2.10058225],\n",
       "           [ -8.06389142],\n",
       "           ...,\n",
       "           [  0.49558157],\n",
       "           [ -1.17078395],\n",
       "           [ -5.79713989]],\n",
       "  \n",
       "          ...,\n",
       "  \n",
       "          [[-38.14068486],\n",
       "           [-62.11140466],\n",
       "           [-62.82804704],\n",
       "           ...,\n",
       "           [-61.04424197],\n",
       "           [-62.82804704],\n",
       "           [-49.19502384]],\n",
       "  \n",
       "          [[-38.14600918],\n",
       "           [-62.65823034],\n",
       "           [-59.6735765 ],\n",
       "           ...,\n",
       "           [-60.84197212],\n",
       "           [-62.82804704],\n",
       "           [-51.09626592]],\n",
       "  \n",
       "          [[-37.88663424],\n",
       "           [-62.82804704],\n",
       "           [-62.82804704],\n",
       "           ...,\n",
       "           [-60.66260418],\n",
       "           [-62.5742097 ],\n",
       "           [-51.92788381]]],\n",
       "  \n",
       "  \n",
       "         [[[ -1.41026361],\n",
       "           [-11.06802055],\n",
       "           [-10.78365364],\n",
       "           ...,\n",
       "           [-17.30436445],\n",
       "           [-14.80534801],\n",
       "           [-16.33802052]],\n",
       "  \n",
       "          [[ -1.41362368],\n",
       "           [ -4.46222677],\n",
       "           [-10.37827033],\n",
       "           ...,\n",
       "           [ -6.78731322],\n",
       "           [ -5.29492159],\n",
       "           [-16.88412978]],\n",
       "  \n",
       "          [[ -4.97290131],\n",
       "           [ -2.91298214],\n",
       "           [-12.01463785],\n",
       "           ...,\n",
       "           [ -6.2881757 ],\n",
       "           [ -1.73122686],\n",
       "           [-24.24822596]],\n",
       "  \n",
       "          ...,\n",
       "  \n",
       "          [[-37.33565604],\n",
       "           [-55.29244544],\n",
       "           [-56.80720755],\n",
       "           ...,\n",
       "           [-61.00797755],\n",
       "           [-60.65827639],\n",
       "           [-55.96566573]],\n",
       "  \n",
       "          [[-37.40473098],\n",
       "           [-53.02836707],\n",
       "           [-55.43610936],\n",
       "           ...,\n",
       "           [-63.03803739],\n",
       "           [-56.61984212],\n",
       "           [-61.60182374]],\n",
       "  \n",
       "          [[-37.8941128 ],\n",
       "           [-52.84580418],\n",
       "           [-58.18272779],\n",
       "           ...,\n",
       "           [-64.15895375],\n",
       "           [-59.716374  ],\n",
       "           [-60.50666717]]],\n",
       "  \n",
       "  \n",
       "         ...,\n",
       "  \n",
       "  \n",
       "         [[[-16.14960135],\n",
       "           [-18.7540464 ],\n",
       "           [-20.84530097],\n",
       "           ...,\n",
       "           [-14.78096226],\n",
       "           [-18.75220182],\n",
       "           [-19.89924355]],\n",
       "  \n",
       "          [[-10.98121325],\n",
       "           [-16.48793562],\n",
       "           [-13.39742462],\n",
       "           ...,\n",
       "           [-11.81953767],\n",
       "           [-16.49406827],\n",
       "           [-13.97192277]],\n",
       "  \n",
       "          [[ -9.44282811],\n",
       "           [-17.37371434],\n",
       "           [-17.96815328],\n",
       "           ...,\n",
       "           [ -4.95331777],\n",
       "           [-17.40986432],\n",
       "           [-17.9305055 ]],\n",
       "  \n",
       "          ...,\n",
       "  \n",
       "          [[-51.60237224],\n",
       "           [-39.59532736],\n",
       "           [-33.91219451],\n",
       "           ...,\n",
       "           [-42.45148953],\n",
       "           [-39.46978879],\n",
       "           [-34.49061018]],\n",
       "  \n",
       "          [[-47.09322059],\n",
       "           [-42.77812954],\n",
       "           [-33.96772419],\n",
       "           ...,\n",
       "           [-41.54408965],\n",
       "           [-42.66664657],\n",
       "           [-33.5140241 ]],\n",
       "  \n",
       "          [[-51.44299218],\n",
       "           [-39.26255899],\n",
       "           [-31.89733817],\n",
       "           ...,\n",
       "           [-43.60765195],\n",
       "           [-39.17466716],\n",
       "           [-32.05940828]]],\n",
       "  \n",
       "  \n",
       "         [[[ -9.0042258 ],\n",
       "           [-11.25296394],\n",
       "           [-13.21284338],\n",
       "           ...,\n",
       "           [ -4.52394187],\n",
       "           [ -7.56016079],\n",
       "           [-11.87575143]],\n",
       "  \n",
       "          [[ -5.69535889],\n",
       "           [ -8.17357856],\n",
       "           [ -9.29960224],\n",
       "           ...,\n",
       "           [ -2.77248656],\n",
       "           [ -6.51035855],\n",
       "           [-10.33947735]],\n",
       "  \n",
       "          [[ -6.93680466],\n",
       "           [ -7.12652179],\n",
       "           [ -9.14069314],\n",
       "           ...,\n",
       "           [ -4.21189097],\n",
       "           [ -8.8793984 ],\n",
       "           [-13.65813036]],\n",
       "  \n",
       "          ...,\n",
       "  \n",
       "          [[-29.57277001],\n",
       "           [-52.10072628],\n",
       "           [-48.16715487],\n",
       "           ...,\n",
       "           [-31.38316585],\n",
       "           [-45.25276586],\n",
       "           [-48.05074657]],\n",
       "  \n",
       "          [[-29.93313822],\n",
       "           [-52.3227917 ],\n",
       "           [-51.52051748],\n",
       "           ...,\n",
       "           [-31.02588116],\n",
       "           [-46.216388  ],\n",
       "           [-52.18887843]],\n",
       "  \n",
       "          [[-30.13842235],\n",
       "           [-56.34251596],\n",
       "           [-52.17515735],\n",
       "           ...,\n",
       "           [-31.49503785],\n",
       "           [-47.07253201],\n",
       "           [-51.08512232]]],\n",
       "  \n",
       "  \n",
       "         [[[-16.09051378],\n",
       "           [-13.42694527],\n",
       "           [-15.25985538],\n",
       "           ...,\n",
       "           [-19.33574238],\n",
       "           [-25.0179146 ],\n",
       "           [-18.86703822]],\n",
       "  \n",
       "          [[-19.78055389],\n",
       "           [-13.92452466],\n",
       "           [ -9.66445939],\n",
       "           ...,\n",
       "           [-12.40624482],\n",
       "           [-20.2036109 ],\n",
       "           [-13.0258491 ]],\n",
       "  \n",
       "          [[-21.09787014],\n",
       "           [-14.33797312],\n",
       "           [ -8.95191987],\n",
       "           ...,\n",
       "           [-15.73635822],\n",
       "           [-12.48785336],\n",
       "           [-14.3781202 ]],\n",
       "  \n",
       "          ...,\n",
       "  \n",
       "          [[-27.52711034],\n",
       "           [-47.34181047],\n",
       "           [-48.03050048],\n",
       "           ...,\n",
       "           [-46.2879869 ],\n",
       "           [-45.2075984 ],\n",
       "           [-47.65442324]],\n",
       "  \n",
       "          [[-27.73436062],\n",
       "           [-47.17113854],\n",
       "           [-52.8865994 ],\n",
       "           ...,\n",
       "           [-47.709652  ],\n",
       "           [-51.81786775],\n",
       "           [-53.26915692]],\n",
       "  \n",
       "          [[-28.05545261],\n",
       "           [-50.06466345],\n",
       "           [-57.53341089],\n",
       "           ...,\n",
       "           [-50.44851861],\n",
       "           [-51.94556294],\n",
       "           [-46.89899723]]]]),\n",
       "  'cqt1': array([[[[0.]]],\n",
       "  \n",
       "  \n",
       "         [[[0.]]],\n",
       "  \n",
       "  \n",
       "         [[[0.]]],\n",
       "  \n",
       "  \n",
       "         ...,\n",
       "  \n",
       "  \n",
       "         [[[0.]]],\n",
       "  \n",
       "  \n",
       "         [[[0.]]],\n",
       "  \n",
       "  \n",
       "         [[[0.]]]]),\n",
       "  'stft1': array([[[[0.]]],\n",
       "  \n",
       "  \n",
       "         [[[0.]]],\n",
       "  \n",
       "  \n",
       "         [[[0.]]],\n",
       "  \n",
       "  \n",
       "         ...,\n",
       "  \n",
       "  \n",
       "         [[[0.]]],\n",
       "  \n",
       "  \n",
       "         [[[0.]]],\n",
       "  \n",
       "  \n",
       "         [[[0.]]]]),\n",
       "  'interval': array([[[0.],\n",
       "          [0.],\n",
       "          [0.],\n",
       "          ...,\n",
       "          [0.],\n",
       "          [0.],\n",
       "          [0.]],\n",
       "  \n",
       "         [[0.],\n",
       "          [0.],\n",
       "          [0.],\n",
       "          ...,\n",
       "          [0.],\n",
       "          [0.],\n",
       "          [0.]],\n",
       "  \n",
       "         [[0.],\n",
       "          [0.],\n",
       "          [0.],\n",
       "          ...,\n",
       "          [0.],\n",
       "          [0.],\n",
       "          [0.]],\n",
       "  \n",
       "         ...,\n",
       "  \n",
       "         [[0.],\n",
       "          [0.],\n",
       "          [0.],\n",
       "          ...,\n",
       "          [0.],\n",
       "          [0.],\n",
       "          [0.]],\n",
       "  \n",
       "         [[0.],\n",
       "          [0.],\n",
       "          [0.],\n",
       "          ...,\n",
       "          [0.],\n",
       "          [0.],\n",
       "          [0.]],\n",
       "  \n",
       "         [[0.],\n",
       "          [0.],\n",
       "          [0.],\n",
       "          ...,\n",
       "          [0.],\n",
       "          [0.],\n",
       "          [0.]]], dtype=float32),\n",
       "  'interval_mean': array([[0.],\n",
       "         [0.],\n",
       "         [0.],\n",
       "         ...,\n",
       "         [0.],\n",
       "         [0.],\n",
       "         [0.]]),\n",
       "  'mm_labels': array([[0., 1.],\n",
       "         [0., 1.],\n",
       "         [0., 1.],\n",
       "         ...,\n",
       "         [0., 1.],\n",
       "         [0., 1.],\n",
       "         [0., 1.]]),\n",
       "  'out_labels': array([[1, 0],\n",
       "         [1, 0],\n",
       "         [1, 0],\n",
       "         ...,\n",
       "         [0, 1],\n",
       "         [0, 1],\n",
       "         [0, 1]]),\n",
       "  'partial_raw': array([], dtype=float64)},\n",
       " (120, 313, 1),\n",
       " (1, 1, 1),\n",
       " (1, 1, 1),\n",
       " (130, 1))"
      ]
     },
     "execution_count": 83,
     "metadata": {},
     "output_type": "execute_result"
    }
   ],
   "source": [
    "data1"
   ]
  },
  {
   "cell_type": "code",
   "execution_count": 84,
   "id": "2fa90707",
   "metadata": {},
   "outputs": [
    {
     "data": {
      "text/plain": [
       "({'id': array(['33151', '33151', '33151', '33151', '38337', '38337', '40798',\n",
       "         '40798', '40798', '40798', '49558', '49558', '49572', '49572',\n",
       "         '49572', '49607', '49628', '49628', '49628', '49628', '49641',\n",
       "         '49641', '49641', '49641', '49653', '49653', '49653', '49653',\n",
       "         '49683', '49683', '49683', '49683', '49691', '49691', '49691',\n",
       "         '49691', '49761', '49761', '49824', '49824', '49824', '49829',\n",
       "         '49829', '49829', '49829', '49832', '49832', '49896', '49896',\n",
       "         '49896', '49896', '49952', '49952', '49952', '49952', '49952',\n",
       "         '49978', '49980', '49980', '49980', '49980', '49983', '49983',\n",
       "         '49983', '49983', '50006', '50006', '50012', '50026', '50026',\n",
       "         '50047', '50047', '50047', '50049', '50049', '50049', '50049',\n",
       "         '50067', '50067', '50067', '50075', '50075', '50079', '50079',\n",
       "         '50079', '50086', '50086', '50086', '50104', '50104', '50104',\n",
       "         '50104', '50105', '50105', '50105', '50143', '50143', '50145',\n",
       "         '50155', '50155', '50155', '50164', '50164', '50164', '50165',\n",
       "         '50165', '50165', '50168', '50168', '50168', '50210', '50210',\n",
       "         '50210', '50210', '50210', '50213', '50213', '50213', '50213',\n",
       "         '50214', '50214', '50218', '50218', '50218', '50218', '50219',\n",
       "         '50219', '50219', '50249', '50249', '50249', '50255', '50255',\n",
       "         '50260', '50260', '50260', '50260', '50275', '50275', '50275',\n",
       "         '50275', '50289', '50289', '50289', '50289', '50299', '50299',\n",
       "         '50299', '50299', '50330', '50330', '50341', '50341', '50342',\n",
       "         '50342', '50348', '50348', '50348', '50348', '50348', '50375',\n",
       "         '50375', '50386', '50386', '50386', '50386', '50619', '50619',\n",
       "         '50619', '50619', '50624', '50624', '50624', '50624', '50631',\n",
       "         '50631', '50640', '50641', '50641', '50641', '50643', '50643',\n",
       "         '50644', '50644', '50656', '50656', '50656', '50656', '50656',\n",
       "         '50659', '50659', '50659', '50659', '50664', '50664', '50671',\n",
       "         '50685', '50685', '50685', '50693', '50693', '50693', '50693',\n",
       "         '50699', '50699', '50699', '50699', '50708', '50708', '50708',\n",
       "         '50708', '50734', '50734', '50734', '50734', '50734', '50737',\n",
       "         '50737', '50737', '50743', '50743', '50743', '50743', '50757',\n",
       "         '50757', '50757', '50757', '50770', '50770', '50770', '50770',\n",
       "         '50774', '50774', '50774', '50781', '50781', '50781', '50781',\n",
       "         '50800', '50800', '50800', '50800', '50815', '50815', '50815',\n",
       "         '50815', '51064', '59536', '59536', '61117', '61117', '61117',\n",
       "         '61117', '68255', '68255', '68255', '68255', '68306', '68306',\n",
       "         '68306', '68306', '68327', '68327', '68327', '68327', '68330',\n",
       "         '68404', '68404', '68404', '68406', '68406', '68406', '68406',\n",
       "         '68423', '68423', '68423', '68423', '68432', '68432', '68432',\n",
       "         '68432', '68435', '68435', '68436', '68436', '68436', '68436',\n",
       "         '68449', '68449', '68449', '68460', '68460', '68460', '68460',\n",
       "         '68484', '68484', '68484', '68484', '68545', '68545', '68545',\n",
       "         '68545', '68682', '68682', '68682', '68682', '68698', '68698',\n",
       "         '68698', '68698', '68738', '68738', '68738', '68738', '68796',\n",
       "         '68796', '68796', '68796', '68887', '68887', '68887', '68952',\n",
       "         '68952', '68952', '68952', '69060', '69060', '69060', '69060',\n",
       "         '69068', '69068', '69068', '69068', '69112', '69112', '69112',\n",
       "         '69112', '69125', '69125', '69125', '69125', '69144', '69144',\n",
       "         '69144', '69144', '69147', '69147', '69147', '69147', '70280',\n",
       "         '70280', '73316', '73316', '73316', '73316', '73497', '73497',\n",
       "         '73497', '73497', '74417', '74417', '74417', '74417', '81035',\n",
       "         '84692', '84692', '84692', '84692', '84708', '84708', '84711',\n",
       "         '84711', '84711', '84711', '84720', '84733', '84733', '84733',\n",
       "         '84733', '84734', '84734', '84734', '84734', '84743', '84743',\n",
       "         '84743', '84743', '84758', '84758', '84758', '84758', '84760',\n",
       "         '84760', '84760', '84813', '84813', '84813', '84813', '84814',\n",
       "         '84814', '84822', '84822', '84822', '84822', '84826', '84826',\n",
       "         '84826', '84826', '84829', '84829', '84829', '84829', '84840',\n",
       "         '84840', '84852', '84852', '84852', '84852', '84855', '84855',\n",
       "         '84855', '84856', '84856', '84856', '84856', '84857', '84857',\n",
       "         '84865', '84865', '84865', '84865', '84874', '84874', '84874',\n",
       "         '84874', '84879', '84879', '84879', '84879', '84893', '84893',\n",
       "         '84896', '84896', '84896', '84896', '84900', '84900', '84917',\n",
       "         '84917', '84917', '84917', '84920', '84920', '84920', '84920',\n",
       "         '84923', '84923', '84923', '84923', '84931', '84931', '84931',\n",
       "         '84931', '84952', '84952', '84952', '84961', '84961', '84961',\n",
       "         '84961', '84973', '84973', '84973', '84973', '84974', '84974',\n",
       "         '84974', '84974', '84978', '84978', '84978', '84978', '84982',\n",
       "         '84982', '84982', '84982', '84986', '84986', '84986', '84986',\n",
       "         '84990', '84990', '84990', '84990', '84993', '84993', '84993',\n",
       "         '84993', '85024', '85024', '85024', '85024', '85043', '85043',\n",
       "         '85043', '85069', '85069', '85069', '85069', '85079', '85079',\n",
       "         '85079', '85079', '85081', '85081', '85084', '85084', '85084',\n",
       "         '85100', '85100', '85108', '85108', '85108', '85108', '85115',\n",
       "         '85115', '85115', '85115', '85118', '85118', '85118', '85118',\n",
       "         '85121', '85121', '85121', '85121', '85128', '85128', '85128',\n",
       "         '85128', '85132', '85132', '85132', '85132', '85133', '85133',\n",
       "         '85133', '85133', '85134', '85134', '85134', '85134', '85140',\n",
       "         '85140', '85140', '85144', '85144', '85145', '85152', '85152',\n",
       "         '85152', '85152', '85155', '85162', '85162', '85162', '85162',\n",
       "         '85165', '85165', '85166', '85166', '85166', '85166', '85167',\n",
       "         '85167', '85181', '85181', '85184', '85184', '85184', '85184',\n",
       "         '85216', '85216', '85216', '85216', '85219', '85219', '85219',\n",
       "         '85219', '85225', '85225', '85225', '85225', '85242', '85247',\n",
       "         '85247', '85247', '85247', '85261', '85261', '85261', '85261',\n",
       "         '85279', '85279', '85279', '85279', '85282', '85282', '85282',\n",
       "         '85282', '85288', '85288', '85288', '85288', '85294', '85294',\n",
       "         '85305', '85305', '85305', '85305', '85306', '85306', '85329',\n",
       "         '85329', '85329', '85329', '85338', '85338', '85338', '85338',\n",
       "         '85339'], dtype='<U5'),\n",
       "  'age': array([[0, 0, 1, 0, 0, 0],\n",
       "         [0, 0, 1, 0, 0, 0],\n",
       "         [0, 0, 1, 0, 0, 0],\n",
       "         ...,\n",
       "         [0, 0, 0, 0, 0, 1],\n",
       "         [0, 0, 0, 0, 0, 1],\n",
       "         [0, 1, 0, 0, 0, 0]]),\n",
       "  'sex': array([[1, 0],\n",
       "         [1, 0],\n",
       "         [1, 0],\n",
       "         ...,\n",
       "         [1, 0],\n",
       "         [1, 0],\n",
       "         [1, 0]]),\n",
       "  'hw': array([[141.   ,  30.9  ],\n",
       "         [141.   ,  30.9  ],\n",
       "         [141.   ,  30.9  ],\n",
       "         ...,\n",
       "         [110.846,  23.767],\n",
       "         [110.846,  23.767],\n",
       "         [110.846,  23.767]]),\n",
       "  'preg': array([False, False, False, False, False, False, False, False, False,\n",
       "         False, False, False, False, False, False, False, False, False,\n",
       "         False, False, False, False, False, False, False, False, False,\n",
       "         False, False, False, False, False, False, False, False, False,\n",
       "         False, False, False, False, False, False, False, False, False,\n",
       "         False, False, False, False, False, False,  True,  True,  True,\n",
       "          True,  True, False, False, False, False, False, False, False,\n",
       "         False, False, False, False, False, False, False, False, False,\n",
       "         False, False, False, False, False, False, False, False, False,\n",
       "         False, False, False, False,  True,  True,  True, False, False,\n",
       "         False, False, False, False, False, False, False, False, False,\n",
       "         False, False, False, False, False, False, False, False, False,\n",
       "         False, False, False, False, False, False, False, False, False,\n",
       "         False, False, False, False, False, False, False, False, False,\n",
       "         False, False, False, False, False, False, False, False, False,\n",
       "         False, False, False, False, False, False, False, False, False,\n",
       "         False,  True,  True,  True,  True, False, False, False, False,\n",
       "         False, False, False, False, False, False, False, False, False,\n",
       "         False, False, False, False, False, False, False, False, False,\n",
       "         False, False, False, False, False, False, False, False, False,\n",
       "         False, False, False, False, False, False, False, False, False,\n",
       "         False, False, False, False, False, False, False, False, False,\n",
       "         False, False, False, False, False, False, False, False, False,\n",
       "         False, False, False, False, False, False, False, False, False,\n",
       "          True,  True,  True, False, False, False, False, False, False,\n",
       "         False, False, False, False, False, False, False, False, False,\n",
       "         False, False, False, False, False, False, False, False, False,\n",
       "         False, False, False, False, False, False, False, False, False,\n",
       "         False, False, False, False, False, False, False, False, False,\n",
       "         False, False, False, False, False, False, False, False, False,\n",
       "         False, False, False, False, False, False, False, False, False,\n",
       "         False, False, False, False, False, False, False, False, False,\n",
       "         False, False, False, False, False, False, False, False, False,\n",
       "         False, False, False, False, False, False, False, False, False,\n",
       "         False, False, False, False, False, False, False, False, False,\n",
       "         False, False, False, False, False, False, False, False, False,\n",
       "         False, False, False, False, False, False, False, False, False,\n",
       "         False, False, False, False, False, False, False, False, False,\n",
       "         False, False, False, False, False, False, False, False, False,\n",
       "         False, False, False, False, False, False, False, False, False,\n",
       "         False, False, False, False, False, False, False, False, False,\n",
       "         False, False, False, False, False, False, False, False, False,\n",
       "         False,  True,  True,  True,  True, False, False, False, False,\n",
       "         False, False, False, False, False, False, False, False, False,\n",
       "         False, False, False, False, False, False, False, False, False,\n",
       "         False, False, False, False, False, False, False, False, False,\n",
       "         False, False, False, False, False, False, False, False, False,\n",
       "         False, False, False, False, False, False, False, False, False,\n",
       "         False, False, False, False, False, False, False, False, False,\n",
       "         False, False, False, False, False, False, False, False, False,\n",
       "         False, False, False, False, False, False, False, False, False,\n",
       "         False, False, False, False,  True,  True,  True, False, False,\n",
       "         False, False, False, False, False, False, False, False, False,\n",
       "         False, False, False, False, False, False, False, False, False,\n",
       "         False, False, False, False, False, False, False, False, False,\n",
       "         False, False, False, False, False, False, False, False, False,\n",
       "         False, False, False, False, False, False, False, False, False,\n",
       "         False, False,  True,  True,  True,  True,  True, False, False,\n",
       "         False, False, False, False, False, False, False, False, False,\n",
       "         False, False, False, False, False, False, False, False, False,\n",
       "         False, False, False, False, False, False, False, False, False,\n",
       "         False, False, False, False, False, False, False, False, False,\n",
       "         False, False, False, False, False, False, False, False, False,\n",
       "         False, False, False, False, False, False,  True,  True,  True,\n",
       "          True, False, False, False, False, False, False, False, False,\n",
       "         False, False, False, False, False, False, False, False, False,\n",
       "         False, False, False, False, False, False, False, False, False,\n",
       "         False, False, False, False, False, False, False, False, False,\n",
       "         False, False, False, False, False, False, False, False, False,\n",
       "         False, False, False, False, False,  True,  True,  True,  True,\n",
       "         False]),\n",
       "  'loc': array([[1., 0., 0., 0., 0.],\n",
       "         [0., 0., 1., 0., 0.],\n",
       "         [0., 0., 0., 1., 0.],\n",
       "         ...,\n",
       "         [0., 0., 0., 1., 0.],\n",
       "         [0., 1., 0., 0., 0.],\n",
       "         [0., 1., 0., 0., 0.]]),\n",
       "  'mel1': array([[[[-25.21499492],\n",
       "           [-15.8126043 ],\n",
       "           [-14.89369325],\n",
       "           ...,\n",
       "           [ -9.31774228],\n",
       "           [-11.28045934],\n",
       "           [-17.40017508]],\n",
       "  \n",
       "          [[-18.8703177 ],\n",
       "           [ -8.35538702],\n",
       "           [-15.31875175],\n",
       "           ...,\n",
       "           [ -8.01136421],\n",
       "           [ -1.99382386],\n",
       "           [-10.15031463]],\n",
       "  \n",
       "          [[-18.19148415],\n",
       "           [-10.37033903],\n",
       "           [ -8.82970581],\n",
       "           ...,\n",
       "           [ -5.47348152],\n",
       "           [  0.90335056],\n",
       "           [-11.09620561]],\n",
       "  \n",
       "          ...,\n",
       "  \n",
       "          [[-55.07614044],\n",
       "           [-57.14853696],\n",
       "           [-60.30449632],\n",
       "           ...,\n",
       "           [-63.51181323],\n",
       "           [-58.97274854],\n",
       "           [-60.82331256]],\n",
       "  \n",
       "          [[-55.28614966],\n",
       "           [-59.49535342],\n",
       "           [-59.0300067 ],\n",
       "           ...,\n",
       "           [-65.20787027],\n",
       "           [-65.67389001],\n",
       "           [-61.07023301]],\n",
       "  \n",
       "          [[-56.31459243],\n",
       "           [-62.55726522],\n",
       "           [-63.0341363 ],\n",
       "           ...,\n",
       "           [-61.53798996],\n",
       "           [-65.74195357],\n",
       "           [-63.33947832]]],\n",
       "  \n",
       "  \n",
       "         [[[ -7.039924  ],\n",
       "           [-25.75873092],\n",
       "           [-13.64707057],\n",
       "           ...,\n",
       "           [-20.97495785],\n",
       "           [-14.05212561],\n",
       "           [-11.83591371]],\n",
       "  \n",
       "          [[ -4.50354602],\n",
       "           [-20.10689063],\n",
       "           [-20.56907347],\n",
       "           ...,\n",
       "           [-14.45467356],\n",
       "           [-20.64611415],\n",
       "           [-15.07212839]],\n",
       "  \n",
       "          [[ -4.82340983],\n",
       "           [-16.56148925],\n",
       "           [-23.19436122],\n",
       "           ...,\n",
       "           [-10.40192524],\n",
       "           [-24.07452153],\n",
       "           [-12.53236965]],\n",
       "  \n",
       "          ...,\n",
       "  \n",
       "          [[-34.73634665],\n",
       "           [-61.13171633],\n",
       "           [-62.85180335],\n",
       "           ...,\n",
       "           [-50.96688109],\n",
       "           [-62.07273605],\n",
       "           [-57.35276998]],\n",
       "  \n",
       "          [[-35.45909835],\n",
       "           [-64.01743775],\n",
       "           [-58.68433809],\n",
       "           ...,\n",
       "           [-52.27247981],\n",
       "           [-59.5352413 ],\n",
       "           [-57.08087861]],\n",
       "  \n",
       "          [[-35.69104144],\n",
       "           [-61.58995476],\n",
       "           [-61.25030413],\n",
       "           ...,\n",
       "           [-52.02289887],\n",
       "           [-60.90174277],\n",
       "           [-56.03580382]]],\n",
       "  \n",
       "  \n",
       "         [[[  4.52362226],\n",
       "           [ -8.65095877],\n",
       "           [ -9.80992128],\n",
       "           ...,\n",
       "           [ -7.35392856],\n",
       "           [-16.00372036],\n",
       "           [-19.7174638 ]],\n",
       "  \n",
       "          [[  4.93342303],\n",
       "           [ -8.10133434],\n",
       "           [ -5.06914709],\n",
       "           ...,\n",
       "           [ -1.93006216],\n",
       "           [-18.57864711],\n",
       "           [-16.10869751]],\n",
       "  \n",
       "          [[  4.14618113],\n",
       "           [ -7.03130794],\n",
       "           [ -4.81543576],\n",
       "           ...,\n",
       "           [  5.20720763],\n",
       "           [-12.74800382],\n",
       "           [-21.11559369]],\n",
       "  \n",
       "          ...,\n",
       "  \n",
       "          [[-27.7457109 ],\n",
       "           [-52.26008582],\n",
       "           [-50.89364525],\n",
       "           ...,\n",
       "           [-53.20687153],\n",
       "           [-59.90805095],\n",
       "           [-54.03753721]],\n",
       "  \n",
       "          [[-27.72090377],\n",
       "           [-56.45908992],\n",
       "           [-52.73147876],\n",
       "           ...,\n",
       "           [-55.5447091 ],\n",
       "           [-58.02379982],\n",
       "           [-56.73690611]],\n",
       "  \n",
       "          [[-28.20996417],\n",
       "           [-51.53366978],\n",
       "           [-53.47580024],\n",
       "           ...,\n",
       "           [-57.38173883],\n",
       "           [-62.29422635],\n",
       "           [-54.19963313]]],\n",
       "  \n",
       "  \n",
       "         ...,\n",
       "  \n",
       "  \n",
       "         [[[-19.04280472],\n",
       "           [-20.38740158],\n",
       "           [-22.34614372],\n",
       "           ...,\n",
       "           [-26.73331833],\n",
       "           [-32.85724258],\n",
       "           [-29.48091507]],\n",
       "  \n",
       "          [[-21.39039612],\n",
       "           [-16.14853096],\n",
       "           [-23.10217667],\n",
       "           ...,\n",
       "           [-27.12044525],\n",
       "           [-33.35666275],\n",
       "           [-27.23989868]],\n",
       "  \n",
       "          [[-19.346632  ],\n",
       "           [-15.01817513],\n",
       "           [-26.62765312],\n",
       "           ...,\n",
       "           [-28.86489868],\n",
       "           [-34.66595459],\n",
       "           [-27.04520798]],\n",
       "  \n",
       "          ...,\n",
       "  \n",
       "          [[-31.51904678],\n",
       "           [-33.09088898],\n",
       "           [-40.72832108],\n",
       "           ...,\n",
       "           [-64.80953979],\n",
       "           [-61.54733276],\n",
       "           [-56.87405396]],\n",
       "  \n",
       "          [[-33.57725525],\n",
       "           [-31.45498276],\n",
       "           [-40.94293213],\n",
       "           ...,\n",
       "           [-66.75134277],\n",
       "           [-59.24417496],\n",
       "           [-56.26132584]],\n",
       "  \n",
       "          [[-33.29803848],\n",
       "           [-33.01805496],\n",
       "           [-43.28119659],\n",
       "           ...,\n",
       "           [-64.77125549],\n",
       "           [-63.66820908],\n",
       "           [-61.77713013]]],\n",
       "  \n",
       "  \n",
       "         [[[-18.57007826],\n",
       "           [-18.44910558],\n",
       "           [ -3.6018663 ],\n",
       "           ...,\n",
       "           [-22.41262178],\n",
       "           [-16.79589379],\n",
       "           [-29.87362724]],\n",
       "  \n",
       "          [[-22.25474864],\n",
       "           [ -8.79947489],\n",
       "           [ -1.85481221],\n",
       "           ...,\n",
       "           [-20.55936593],\n",
       "           [ -9.83808754],\n",
       "           [-25.85447369]],\n",
       "  \n",
       "          [[-21.28804702],\n",
       "           [ -1.55345199],\n",
       "           [  0.82704721],\n",
       "           ...,\n",
       "           [-19.66027259],\n",
       "           [ -8.43915686],\n",
       "           [-19.00340625]],\n",
       "  \n",
       "          ...,\n",
       "  \n",
       "          [[-44.96223072],\n",
       "           [-40.8672605 ],\n",
       "           [-25.11161091],\n",
       "           ...,\n",
       "           [-41.19875428],\n",
       "           [-39.32161582],\n",
       "           [-45.22867145]],\n",
       "  \n",
       "          [[-43.54906211],\n",
       "           [-37.47850251],\n",
       "           [-29.15292447],\n",
       "           ...,\n",
       "           [-41.41485858],\n",
       "           [-37.71167174],\n",
       "           [-49.52030391]],\n",
       "  \n",
       "          [[-44.01210643],\n",
       "           [-40.24552165],\n",
       "           [-29.78828633],\n",
       "           ...,\n",
       "           [-40.93555735],\n",
       "           [-36.49877776],\n",
       "           [-46.41557975]]],\n",
       "  \n",
       "  \n",
       "         [[[-13.79971949],\n",
       "           [-22.78908586],\n",
       "           [-13.1292901 ],\n",
       "           ...,\n",
       "           [  2.12241792],\n",
       "           [ -7.0814407 ],\n",
       "           [  1.59321198]],\n",
       "  \n",
       "          [[-11.53712682],\n",
       "           [-25.57220589],\n",
       "           [-18.8543905 ],\n",
       "           ...,\n",
       "           [  8.43334265],\n",
       "           [-10.77252048],\n",
       "           [  8.30937856]],\n",
       "  \n",
       "          [[-12.15065885],\n",
       "           [-26.71558526],\n",
       "           [-26.22749381],\n",
       "           ...,\n",
       "           [ 12.41287135],\n",
       "           [-12.64699733],\n",
       "           [ 11.59263859]],\n",
       "  \n",
       "          ...,\n",
       "  \n",
       "          [[-25.364508  ],\n",
       "           [-28.44735684],\n",
       "           [-45.71125589],\n",
       "           ...,\n",
       "           [-18.8507841 ],\n",
       "           [ -8.39983305],\n",
       "           [-12.84768471]],\n",
       "  \n",
       "          [[-33.32512547],\n",
       "           [-32.37022879],\n",
       "           [-51.65336294],\n",
       "           ...,\n",
       "           [-18.37814597],\n",
       "           [ -8.30856779],\n",
       "           [ -8.83742359]],\n",
       "  \n",
       "          [[-31.62724897],\n",
       "           [-35.55866948],\n",
       "           [-51.94588846],\n",
       "           ...,\n",
       "           [-17.36191883],\n",
       "           [-11.16027442],\n",
       "           [-12.11400725]]]]),\n",
       "  'cqt1': array([[[[0.]]],\n",
       "  \n",
       "  \n",
       "         [[[0.]]],\n",
       "  \n",
       "  \n",
       "         [[[0.]]],\n",
       "  \n",
       "  \n",
       "         [[[0.]]],\n",
       "  \n",
       "  \n",
       "         [[[0.]]],\n",
       "  \n",
       "  \n",
       "         [[[0.]]],\n",
       "  \n",
       "  \n",
       "         [[[0.]]],\n",
       "  \n",
       "  \n",
       "         [[[0.]]],\n",
       "  \n",
       "  \n",
       "         [[[0.]]],\n",
       "  \n",
       "  \n",
       "         [[[0.]]],\n",
       "  \n",
       "  \n",
       "         [[[0.]]],\n",
       "  \n",
       "  \n",
       "         [[[0.]]],\n",
       "  \n",
       "  \n",
       "         [[[0.]]],\n",
       "  \n",
       "  \n",
       "         [[[0.]]],\n",
       "  \n",
       "  \n",
       "         [[[0.]]],\n",
       "  \n",
       "  \n",
       "         [[[0.]]],\n",
       "  \n",
       "  \n",
       "         [[[0.]]],\n",
       "  \n",
       "  \n",
       "         [[[0.]]],\n",
       "  \n",
       "  \n",
       "         [[[0.]]],\n",
       "  \n",
       "  \n",
       "         [[[0.]]],\n",
       "  \n",
       "  \n",
       "         [[[0.]]],\n",
       "  \n",
       "  \n",
       "         [[[0.]]],\n",
       "  \n",
       "  \n",
       "         [[[0.]]],\n",
       "  \n",
       "  \n",
       "         [[[0.]]],\n",
       "  \n",
       "  \n",
       "         [[[0.]]],\n",
       "  \n",
       "  \n",
       "         [[[0.]]],\n",
       "  \n",
       "  \n",
       "         [[[0.]]],\n",
       "  \n",
       "  \n",
       "         [[[0.]]],\n",
       "  \n",
       "  \n",
       "         [[[0.]]],\n",
       "  \n",
       "  \n",
       "         [[[0.]]],\n",
       "  \n",
       "  \n",
       "         [[[0.]]],\n",
       "  \n",
       "  \n",
       "         [[[0.]]],\n",
       "  \n",
       "  \n",
       "         [[[0.]]],\n",
       "  \n",
       "  \n",
       "         [[[0.]]],\n",
       "  \n",
       "  \n",
       "         [[[0.]]],\n",
       "  \n",
       "  \n",
       "         [[[0.]]],\n",
       "  \n",
       "  \n",
       "         [[[0.]]],\n",
       "  \n",
       "  \n",
       "         [[[0.]]],\n",
       "  \n",
       "  \n",
       "         [[[0.]]],\n",
       "  \n",
       "  \n",
       "         [[[0.]]],\n",
       "  \n",
       "  \n",
       "         [[[0.]]],\n",
       "  \n",
       "  \n",
       "         [[[0.]]],\n",
       "  \n",
       "  \n",
       "         [[[0.]]],\n",
       "  \n",
       "  \n",
       "         [[[0.]]],\n",
       "  \n",
       "  \n",
       "         [[[0.]]],\n",
       "  \n",
       "  \n",
       "         [[[0.]]],\n",
       "  \n",
       "  \n",
       "         [[[0.]]],\n",
       "  \n",
       "  \n",
       "         [[[0.]]],\n",
       "  \n",
       "  \n",
       "         [[[0.]]],\n",
       "  \n",
       "  \n",
       "         [[[0.]]],\n",
       "  \n",
       "  \n",
       "         [[[0.]]],\n",
       "  \n",
       "  \n",
       "         [[[0.]]],\n",
       "  \n",
       "  \n",
       "         [[[0.]]],\n",
       "  \n",
       "  \n",
       "         [[[0.]]],\n",
       "  \n",
       "  \n",
       "         [[[0.]]],\n",
       "  \n",
       "  \n",
       "         [[[0.]]],\n",
       "  \n",
       "  \n",
       "         [[[0.]]],\n",
       "  \n",
       "  \n",
       "         [[[0.]]],\n",
       "  \n",
       "  \n",
       "         [[[0.]]],\n",
       "  \n",
       "  \n",
       "         [[[0.]]],\n",
       "  \n",
       "  \n",
       "         [[[0.]]],\n",
       "  \n",
       "  \n",
       "         [[[0.]]],\n",
       "  \n",
       "  \n",
       "         [[[0.]]],\n",
       "  \n",
       "  \n",
       "         [[[0.]]],\n",
       "  \n",
       "  \n",
       "         [[[0.]]],\n",
       "  \n",
       "  \n",
       "         [[[0.]]],\n",
       "  \n",
       "  \n",
       "         [[[0.]]],\n",
       "  \n",
       "  \n",
       "         [[[0.]]],\n",
       "  \n",
       "  \n",
       "         [[[0.]]],\n",
       "  \n",
       "  \n",
       "         [[[0.]]],\n",
       "  \n",
       "  \n",
       "         [[[0.]]],\n",
       "  \n",
       "  \n",
       "         [[[0.]]],\n",
       "  \n",
       "  \n",
       "         [[[0.]]],\n",
       "  \n",
       "  \n",
       "         [[[0.]]],\n",
       "  \n",
       "  \n",
       "         [[[0.]]],\n",
       "  \n",
       "  \n",
       "         [[[0.]]],\n",
       "  \n",
       "  \n",
       "         [[[0.]]],\n",
       "  \n",
       "  \n",
       "         [[[0.]]],\n",
       "  \n",
       "  \n",
       "         [[[0.]]],\n",
       "  \n",
       "  \n",
       "         [[[0.]]],\n",
       "  \n",
       "  \n",
       "         [[[0.]]],\n",
       "  \n",
       "  \n",
       "         [[[0.]]],\n",
       "  \n",
       "  \n",
       "         [[[0.]]],\n",
       "  \n",
       "  \n",
       "         [[[0.]]],\n",
       "  \n",
       "  \n",
       "         [[[0.]]],\n",
       "  \n",
       "  \n",
       "         [[[0.]]],\n",
       "  \n",
       "  \n",
       "         [[[0.]]],\n",
       "  \n",
       "  \n",
       "         [[[0.]]],\n",
       "  \n",
       "  \n",
       "         [[[0.]]],\n",
       "  \n",
       "  \n",
       "         [[[0.]]],\n",
       "  \n",
       "  \n",
       "         [[[0.]]],\n",
       "  \n",
       "  \n",
       "         [[[0.]]],\n",
       "  \n",
       "  \n",
       "         [[[0.]]],\n",
       "  \n",
       "  \n",
       "         [[[0.]]],\n",
       "  \n",
       "  \n",
       "         [[[0.]]],\n",
       "  \n",
       "  \n",
       "         [[[0.]]],\n",
       "  \n",
       "  \n",
       "         [[[0.]]],\n",
       "  \n",
       "  \n",
       "         [[[0.]]],\n",
       "  \n",
       "  \n",
       "         [[[0.]]],\n",
       "  \n",
       "  \n",
       "         [[[0.]]],\n",
       "  \n",
       "  \n",
       "         [[[0.]]],\n",
       "  \n",
       "  \n",
       "         [[[0.]]],\n",
       "  \n",
       "  \n",
       "         [[[0.]]],\n",
       "  \n",
       "  \n",
       "         [[[0.]]],\n",
       "  \n",
       "  \n",
       "         [[[0.]]],\n",
       "  \n",
       "  \n",
       "         [[[0.]]],\n",
       "  \n",
       "  \n",
       "         [[[0.]]],\n",
       "  \n",
       "  \n",
       "         [[[0.]]],\n",
       "  \n",
       "  \n",
       "         [[[0.]]],\n",
       "  \n",
       "  \n",
       "         [[[0.]]],\n",
       "  \n",
       "  \n",
       "         [[[0.]]],\n",
       "  \n",
       "  \n",
       "         [[[0.]]],\n",
       "  \n",
       "  \n",
       "         [[[0.]]],\n",
       "  \n",
       "  \n",
       "         [[[0.]]],\n",
       "  \n",
       "  \n",
       "         [[[0.]]],\n",
       "  \n",
       "  \n",
       "         [[[0.]]],\n",
       "  \n",
       "  \n",
       "         [[[0.]]],\n",
       "  \n",
       "  \n",
       "         [[[0.]]],\n",
       "  \n",
       "  \n",
       "         [[[0.]]],\n",
       "  \n",
       "  \n",
       "         [[[0.]]],\n",
       "  \n",
       "  \n",
       "         [[[0.]]],\n",
       "  \n",
       "  \n",
       "         [[[0.]]],\n",
       "  \n",
       "  \n",
       "         [[[0.]]],\n",
       "  \n",
       "  \n",
       "         [[[0.]]],\n",
       "  \n",
       "  \n",
       "         [[[0.]]],\n",
       "  \n",
       "  \n",
       "         [[[0.]]],\n",
       "  \n",
       "  \n",
       "         [[[0.]]],\n",
       "  \n",
       "  \n",
       "         [[[0.]]],\n",
       "  \n",
       "  \n",
       "         [[[0.]]],\n",
       "  \n",
       "  \n",
       "         [[[0.]]],\n",
       "  \n",
       "  \n",
       "         [[[0.]]],\n",
       "  \n",
       "  \n",
       "         [[[0.]]],\n",
       "  \n",
       "  \n",
       "         [[[0.]]],\n",
       "  \n",
       "  \n",
       "         [[[0.]]],\n",
       "  \n",
       "  \n",
       "         [[[0.]]],\n",
       "  \n",
       "  \n",
       "         [[[0.]]],\n",
       "  \n",
       "  \n",
       "         [[[0.]]],\n",
       "  \n",
       "  \n",
       "         [[[0.]]],\n",
       "  \n",
       "  \n",
       "         [[[0.]]],\n",
       "  \n",
       "  \n",
       "         [[[0.]]],\n",
       "  \n",
       "  \n",
       "         [[[0.]]],\n",
       "  \n",
       "  \n",
       "         [[[0.]]],\n",
       "  \n",
       "  \n",
       "         [[[0.]]],\n",
       "  \n",
       "  \n",
       "         [[[0.]]],\n",
       "  \n",
       "  \n",
       "         [[[0.]]],\n",
       "  \n",
       "  \n",
       "         [[[0.]]],\n",
       "  \n",
       "  \n",
       "         [[[0.]]],\n",
       "  \n",
       "  \n",
       "         [[[0.]]],\n",
       "  \n",
       "  \n",
       "         [[[0.]]],\n",
       "  \n",
       "  \n",
       "         [[[0.]]],\n",
       "  \n",
       "  \n",
       "         [[[0.]]],\n",
       "  \n",
       "  \n",
       "         [[[0.]]],\n",
       "  \n",
       "  \n",
       "         [[[0.]]],\n",
       "  \n",
       "  \n",
       "         [[[0.]]],\n",
       "  \n",
       "  \n",
       "         [[[0.]]],\n",
       "  \n",
       "  \n",
       "         [[[0.]]],\n",
       "  \n",
       "  \n",
       "         [[[0.]]],\n",
       "  \n",
       "  \n",
       "         [[[0.]]],\n",
       "  \n",
       "  \n",
       "         [[[0.]]],\n",
       "  \n",
       "  \n",
       "         [[[0.]]],\n",
       "  \n",
       "  \n",
       "         [[[0.]]],\n",
       "  \n",
       "  \n",
       "         [[[0.]]],\n",
       "  \n",
       "  \n",
       "         [[[0.]]],\n",
       "  \n",
       "  \n",
       "         [[[0.]]],\n",
       "  \n",
       "  \n",
       "         [[[0.]]],\n",
       "  \n",
       "  \n",
       "         [[[0.]]],\n",
       "  \n",
       "  \n",
       "         [[[0.]]],\n",
       "  \n",
       "  \n",
       "         [[[0.]]],\n",
       "  \n",
       "  \n",
       "         [[[0.]]],\n",
       "  \n",
       "  \n",
       "         [[[0.]]],\n",
       "  \n",
       "  \n",
       "         [[[0.]]],\n",
       "  \n",
       "  \n",
       "         [[[0.]]],\n",
       "  \n",
       "  \n",
       "         [[[0.]]],\n",
       "  \n",
       "  \n",
       "         [[[0.]]],\n",
       "  \n",
       "  \n",
       "         [[[0.]]],\n",
       "  \n",
       "  \n",
       "         [[[0.]]],\n",
       "  \n",
       "  \n",
       "         [[[0.]]],\n",
       "  \n",
       "  \n",
       "         [[[0.]]],\n",
       "  \n",
       "  \n",
       "         [[[0.]]],\n",
       "  \n",
       "  \n",
       "         [[[0.]]],\n",
       "  \n",
       "  \n",
       "         [[[0.]]],\n",
       "  \n",
       "  \n",
       "         [[[0.]]],\n",
       "  \n",
       "  \n",
       "         [[[0.]]],\n",
       "  \n",
       "  \n",
       "         [[[0.]]],\n",
       "  \n",
       "  \n",
       "         [[[0.]]],\n",
       "  \n",
       "  \n",
       "         [[[0.]]],\n",
       "  \n",
       "  \n",
       "         [[[0.]]],\n",
       "  \n",
       "  \n",
       "         [[[0.]]],\n",
       "  \n",
       "  \n",
       "         [[[0.]]],\n",
       "  \n",
       "  \n",
       "         [[[0.]]],\n",
       "  \n",
       "  \n",
       "         [[[0.]]],\n",
       "  \n",
       "  \n",
       "         [[[0.]]],\n",
       "  \n",
       "  \n",
       "         [[[0.]]],\n",
       "  \n",
       "  \n",
       "         [[[0.]]],\n",
       "  \n",
       "  \n",
       "         [[[0.]]],\n",
       "  \n",
       "  \n",
       "         [[[0.]]],\n",
       "  \n",
       "  \n",
       "         [[[0.]]],\n",
       "  \n",
       "  \n",
       "         [[[0.]]],\n",
       "  \n",
       "  \n",
       "         [[[0.]]],\n",
       "  \n",
       "  \n",
       "         [[[0.]]],\n",
       "  \n",
       "  \n",
       "         [[[0.]]],\n",
       "  \n",
       "  \n",
       "         [[[0.]]],\n",
       "  \n",
       "  \n",
       "         [[[0.]]],\n",
       "  \n",
       "  \n",
       "         [[[0.]]],\n",
       "  \n",
       "  \n",
       "         [[[0.]]],\n",
       "  \n",
       "  \n",
       "         [[[0.]]],\n",
       "  \n",
       "  \n",
       "         [[[0.]]],\n",
       "  \n",
       "  \n",
       "         [[[0.]]],\n",
       "  \n",
       "  \n",
       "         [[[0.]]],\n",
       "  \n",
       "  \n",
       "         [[[0.]]],\n",
       "  \n",
       "  \n",
       "         [[[0.]]],\n",
       "  \n",
       "  \n",
       "         [[[0.]]],\n",
       "  \n",
       "  \n",
       "         [[[0.]]],\n",
       "  \n",
       "  \n",
       "         [[[0.]]],\n",
       "  \n",
       "  \n",
       "         [[[0.]]],\n",
       "  \n",
       "  \n",
       "         [[[0.]]],\n",
       "  \n",
       "  \n",
       "         [[[0.]]],\n",
       "  \n",
       "  \n",
       "         [[[0.]]],\n",
       "  \n",
       "  \n",
       "         [[[0.]]],\n",
       "  \n",
       "  \n",
       "         [[[0.]]],\n",
       "  \n",
       "  \n",
       "         [[[0.]]],\n",
       "  \n",
       "  \n",
       "         [[[0.]]],\n",
       "  \n",
       "  \n",
       "         [[[0.]]],\n",
       "  \n",
       "  \n",
       "         [[[0.]]],\n",
       "  \n",
       "  \n",
       "         [[[0.]]],\n",
       "  \n",
       "  \n",
       "         [[[0.]]],\n",
       "  \n",
       "  \n",
       "         [[[0.]]],\n",
       "  \n",
       "  \n",
       "         [[[0.]]],\n",
       "  \n",
       "  \n",
       "         [[[0.]]],\n",
       "  \n",
       "  \n",
       "         [[[0.]]],\n",
       "  \n",
       "  \n",
       "         [[[0.]]],\n",
       "  \n",
       "  \n",
       "         [[[0.]]],\n",
       "  \n",
       "  \n",
       "         [[[0.]]],\n",
       "  \n",
       "  \n",
       "         [[[0.]]],\n",
       "  \n",
       "  \n",
       "         [[[0.]]],\n",
       "  \n",
       "  \n",
       "         [[[0.]]],\n",
       "  \n",
       "  \n",
       "         [[[0.]]],\n",
       "  \n",
       "  \n",
       "         [[[0.]]],\n",
       "  \n",
       "  \n",
       "         [[[0.]]],\n",
       "  \n",
       "  \n",
       "         [[[0.]]],\n",
       "  \n",
       "  \n",
       "         [[[0.]]],\n",
       "  \n",
       "  \n",
       "         [[[0.]]],\n",
       "  \n",
       "  \n",
       "         [[[0.]]],\n",
       "  \n",
       "  \n",
       "         [[[0.]]],\n",
       "  \n",
       "  \n",
       "         [[[0.]]],\n",
       "  \n",
       "  \n",
       "         [[[0.]]],\n",
       "  \n",
       "  \n",
       "         [[[0.]]],\n",
       "  \n",
       "  \n",
       "         [[[0.]]],\n",
       "  \n",
       "  \n",
       "         [[[0.]]],\n",
       "  \n",
       "  \n",
       "         [[[0.]]],\n",
       "  \n",
       "  \n",
       "         [[[0.]]],\n",
       "  \n",
       "  \n",
       "         [[[0.]]],\n",
       "  \n",
       "  \n",
       "         [[[0.]]],\n",
       "  \n",
       "  \n",
       "         [[[0.]]],\n",
       "  \n",
       "  \n",
       "         [[[0.]]],\n",
       "  \n",
       "  \n",
       "         [[[0.]]],\n",
       "  \n",
       "  \n",
       "         [[[0.]]],\n",
       "  \n",
       "  \n",
       "         [[[0.]]],\n",
       "  \n",
       "  \n",
       "         [[[0.]]],\n",
       "  \n",
       "  \n",
       "         [[[0.]]],\n",
       "  \n",
       "  \n",
       "         [[[0.]]],\n",
       "  \n",
       "  \n",
       "         [[[0.]]],\n",
       "  \n",
       "  \n",
       "         [[[0.]]],\n",
       "  \n",
       "  \n",
       "         [[[0.]]],\n",
       "  \n",
       "  \n",
       "         [[[0.]]],\n",
       "  \n",
       "  \n",
       "         [[[0.]]],\n",
       "  \n",
       "  \n",
       "         [[[0.]]],\n",
       "  \n",
       "  \n",
       "         [[[0.]]],\n",
       "  \n",
       "  \n",
       "         [[[0.]]],\n",
       "  \n",
       "  \n",
       "         [[[0.]]],\n",
       "  \n",
       "  \n",
       "         [[[0.]]],\n",
       "  \n",
       "  \n",
       "         [[[0.]]],\n",
       "  \n",
       "  \n",
       "         [[[0.]]],\n",
       "  \n",
       "  \n",
       "         [[[0.]]],\n",
       "  \n",
       "  \n",
       "         [[[0.]]],\n",
       "  \n",
       "  \n",
       "         [[[0.]]],\n",
       "  \n",
       "  \n",
       "         [[[0.]]],\n",
       "  \n",
       "  \n",
       "         [[[0.]]],\n",
       "  \n",
       "  \n",
       "         [[[0.]]],\n",
       "  \n",
       "  \n",
       "         [[[0.]]],\n",
       "  \n",
       "  \n",
       "         [[[0.]]],\n",
       "  \n",
       "  \n",
       "         [[[0.]]],\n",
       "  \n",
       "  \n",
       "         [[[0.]]],\n",
       "  \n",
       "  \n",
       "         [[[0.]]],\n",
       "  \n",
       "  \n",
       "         [[[0.]]],\n",
       "  \n",
       "  \n",
       "         [[[0.]]],\n",
       "  \n",
       "  \n",
       "         [[[0.]]],\n",
       "  \n",
       "  \n",
       "         [[[0.]]],\n",
       "  \n",
       "  \n",
       "         [[[0.]]],\n",
       "  \n",
       "  \n",
       "         [[[0.]]],\n",
       "  \n",
       "  \n",
       "         [[[0.]]],\n",
       "  \n",
       "  \n",
       "         [[[0.]]],\n",
       "  \n",
       "  \n",
       "         [[[0.]]],\n",
       "  \n",
       "  \n",
       "         [[[0.]]],\n",
       "  \n",
       "  \n",
       "         [[[0.]]],\n",
       "  \n",
       "  \n",
       "         [[[0.]]],\n",
       "  \n",
       "  \n",
       "         [[[0.]]],\n",
       "  \n",
       "  \n",
       "         [[[0.]]],\n",
       "  \n",
       "  \n",
       "         [[[0.]]],\n",
       "  \n",
       "  \n",
       "         [[[0.]]],\n",
       "  \n",
       "  \n",
       "         [[[0.]]],\n",
       "  \n",
       "  \n",
       "         [[[0.]]],\n",
       "  \n",
       "  \n",
       "         [[[0.]]],\n",
       "  \n",
       "  \n",
       "         [[[0.]]],\n",
       "  \n",
       "  \n",
       "         [[[0.]]],\n",
       "  \n",
       "  \n",
       "         [[[0.]]],\n",
       "  \n",
       "  \n",
       "         [[[0.]]],\n",
       "  \n",
       "  \n",
       "         [[[0.]]],\n",
       "  \n",
       "  \n",
       "         [[[0.]]],\n",
       "  \n",
       "  \n",
       "         [[[0.]]],\n",
       "  \n",
       "  \n",
       "         [[[0.]]],\n",
       "  \n",
       "  \n",
       "         [[[0.]]],\n",
       "  \n",
       "  \n",
       "         [[[0.]]],\n",
       "  \n",
       "  \n",
       "         [[[0.]]],\n",
       "  \n",
       "  \n",
       "         [[[0.]]],\n",
       "  \n",
       "  \n",
       "         [[[0.]]],\n",
       "  \n",
       "  \n",
       "         [[[0.]]],\n",
       "  \n",
       "  \n",
       "         [[[0.]]],\n",
       "  \n",
       "  \n",
       "         [[[0.]]],\n",
       "  \n",
       "  \n",
       "         [[[0.]]],\n",
       "  \n",
       "  \n",
       "         [[[0.]]],\n",
       "  \n",
       "  \n",
       "         [[[0.]]],\n",
       "  \n",
       "  \n",
       "         [[[0.]]],\n",
       "  \n",
       "  \n",
       "         [[[0.]]],\n",
       "  \n",
       "  \n",
       "         [[[0.]]],\n",
       "  \n",
       "  \n",
       "         [[[0.]]],\n",
       "  \n",
       "  \n",
       "         [[[0.]]],\n",
       "  \n",
       "  \n",
       "         [[[0.]]],\n",
       "  \n",
       "  \n",
       "         [[[0.]]],\n",
       "  \n",
       "  \n",
       "         [[[0.]]],\n",
       "  \n",
       "  \n",
       "         [[[0.]]],\n",
       "  \n",
       "  \n",
       "         [[[0.]]],\n",
       "  \n",
       "  \n",
       "         [[[0.]]],\n",
       "  \n",
       "  \n",
       "         [[[0.]]],\n",
       "  \n",
       "  \n",
       "         [[[0.]]],\n",
       "  \n",
       "  \n",
       "         [[[0.]]],\n",
       "  \n",
       "  \n",
       "         [[[0.]]],\n",
       "  \n",
       "  \n",
       "         [[[0.]]],\n",
       "  \n",
       "  \n",
       "         [[[0.]]],\n",
       "  \n",
       "  \n",
       "         [[[0.]]],\n",
       "  \n",
       "  \n",
       "         [[[0.]]],\n",
       "  \n",
       "  \n",
       "         [[[0.]]],\n",
       "  \n",
       "  \n",
       "         [[[0.]]],\n",
       "  \n",
       "  \n",
       "         [[[0.]]],\n",
       "  \n",
       "  \n",
       "         [[[0.]]],\n",
       "  \n",
       "  \n",
       "         [[[0.]]],\n",
       "  \n",
       "  \n",
       "         [[[0.]]],\n",
       "  \n",
       "  \n",
       "         [[[0.]]],\n",
       "  \n",
       "  \n",
       "         [[[0.]]],\n",
       "  \n",
       "  \n",
       "         [[[0.]]],\n",
       "  \n",
       "  \n",
       "         [[[0.]]],\n",
       "  \n",
       "  \n",
       "         [[[0.]]],\n",
       "  \n",
       "  \n",
       "         [[[0.]]],\n",
       "  \n",
       "  \n",
       "         [[[0.]]],\n",
       "  \n",
       "  \n",
       "         [[[0.]]],\n",
       "  \n",
       "  \n",
       "         [[[0.]]],\n",
       "  \n",
       "  \n",
       "         [[[0.]]],\n",
       "  \n",
       "  \n",
       "         [[[0.]]],\n",
       "  \n",
       "  \n",
       "         [[[0.]]],\n",
       "  \n",
       "  \n",
       "         [[[0.]]],\n",
       "  \n",
       "  \n",
       "         [[[0.]]],\n",
       "  \n",
       "  \n",
       "         [[[0.]]],\n",
       "  \n",
       "  \n",
       "         [[[0.]]],\n",
       "  \n",
       "  \n",
       "         [[[0.]]],\n",
       "  \n",
       "  \n",
       "         [[[0.]]],\n",
       "  \n",
       "  \n",
       "         [[[0.]]],\n",
       "  \n",
       "  \n",
       "         [[[0.]]],\n",
       "  \n",
       "  \n",
       "         [[[0.]]],\n",
       "  \n",
       "  \n",
       "         [[[0.]]],\n",
       "  \n",
       "  \n",
       "         [[[0.]]],\n",
       "  \n",
       "  \n",
       "         [[[0.]]],\n",
       "  \n",
       "  \n",
       "         [[[0.]]],\n",
       "  \n",
       "  \n",
       "         [[[0.]]],\n",
       "  \n",
       "  \n",
       "         [[[0.]]],\n",
       "  \n",
       "  \n",
       "         [[[0.]]],\n",
       "  \n",
       "  \n",
       "         [[[0.]]],\n",
       "  \n",
       "  \n",
       "         [[[0.]]],\n",
       "  \n",
       "  \n",
       "         [[[0.]]],\n",
       "  \n",
       "  \n",
       "         [[[0.]]],\n",
       "  \n",
       "  \n",
       "         [[[0.]]],\n",
       "  \n",
       "  \n",
       "         [[[0.]]],\n",
       "  \n",
       "  \n",
       "         [[[0.]]],\n",
       "  \n",
       "  \n",
       "         [[[0.]]],\n",
       "  \n",
       "  \n",
       "         [[[0.]]],\n",
       "  \n",
       "  \n",
       "         [[[0.]]],\n",
       "  \n",
       "  \n",
       "         [[[0.]]],\n",
       "  \n",
       "  \n",
       "         [[[0.]]],\n",
       "  \n",
       "  \n",
       "         [[[0.]]],\n",
       "  \n",
       "  \n",
       "         [[[0.]]],\n",
       "  \n",
       "  \n",
       "         [[[0.]]],\n",
       "  \n",
       "  \n",
       "         [[[0.]]],\n",
       "  \n",
       "  \n",
       "         [[[0.]]],\n",
       "  \n",
       "  \n",
       "         [[[0.]]],\n",
       "  \n",
       "  \n",
       "         [[[0.]]],\n",
       "  \n",
       "  \n",
       "         [[[0.]]],\n",
       "  \n",
       "  \n",
       "         [[[0.]]],\n",
       "  \n",
       "  \n",
       "         [[[0.]]],\n",
       "  \n",
       "  \n",
       "         [[[0.]]],\n",
       "  \n",
       "  \n",
       "         [[[0.]]],\n",
       "  \n",
       "  \n",
       "         [[[0.]]],\n",
       "  \n",
       "  \n",
       "         [[[0.]]],\n",
       "  \n",
       "  \n",
       "         [[[0.]]],\n",
       "  \n",
       "  \n",
       "         [[[0.]]],\n",
       "  \n",
       "  \n",
       "         [[[0.]]],\n",
       "  \n",
       "  \n",
       "         [[[0.]]],\n",
       "  \n",
       "  \n",
       "         [[[0.]]],\n",
       "  \n",
       "  \n",
       "         [[[0.]]],\n",
       "  \n",
       "  \n",
       "         [[[0.]]],\n",
       "  \n",
       "  \n",
       "         [[[0.]]],\n",
       "  \n",
       "  \n",
       "         [[[0.]]],\n",
       "  \n",
       "  \n",
       "         [[[0.]]],\n",
       "  \n",
       "  \n",
       "         [[[0.]]],\n",
       "  \n",
       "  \n",
       "         [[[0.]]],\n",
       "  \n",
       "  \n",
       "         [[[0.]]],\n",
       "  \n",
       "  \n",
       "         [[[0.]]],\n",
       "  \n",
       "  \n",
       "         [[[0.]]],\n",
       "  \n",
       "  \n",
       "         [[[0.]]],\n",
       "  \n",
       "  \n",
       "         [[[0.]]],\n",
       "  \n",
       "  \n",
       "         [[[0.]]],\n",
       "  \n",
       "  \n",
       "         [[[0.]]],\n",
       "  \n",
       "  \n",
       "         [[[0.]]],\n",
       "  \n",
       "  \n",
       "         [[[0.]]],\n",
       "  \n",
       "  \n",
       "         [[[0.]]],\n",
       "  \n",
       "  \n",
       "         [[[0.]]],\n",
       "  \n",
       "  \n",
       "         [[[0.]]],\n",
       "  \n",
       "  \n",
       "         [[[0.]]],\n",
       "  \n",
       "  \n",
       "         [[[0.]]],\n",
       "  \n",
       "  \n",
       "         [[[0.]]],\n",
       "  \n",
       "  \n",
       "         [[[0.]]],\n",
       "  \n",
       "  \n",
       "         [[[0.]]],\n",
       "  \n",
       "  \n",
       "         [[[0.]]],\n",
       "  \n",
       "  \n",
       "         [[[0.]]],\n",
       "  \n",
       "  \n",
       "         [[[0.]]],\n",
       "  \n",
       "  \n",
       "         [[[0.]]],\n",
       "  \n",
       "  \n",
       "         [[[0.]]],\n",
       "  \n",
       "  \n",
       "         [[[0.]]],\n",
       "  \n",
       "  \n",
       "         [[[0.]]],\n",
       "  \n",
       "  \n",
       "         [[[0.]]],\n",
       "  \n",
       "  \n",
       "         [[[0.]]],\n",
       "  \n",
       "  \n",
       "         [[[0.]]],\n",
       "  \n",
       "  \n",
       "         [[[0.]]],\n",
       "  \n",
       "  \n",
       "         [[[0.]]],\n",
       "  \n",
       "  \n",
       "         [[[0.]]],\n",
       "  \n",
       "  \n",
       "         [[[0.]]],\n",
       "  \n",
       "  \n",
       "         [[[0.]]],\n",
       "  \n",
       "  \n",
       "         [[[0.]]],\n",
       "  \n",
       "  \n",
       "         [[[0.]]],\n",
       "  \n",
       "  \n",
       "         [[[0.]]],\n",
       "  \n",
       "  \n",
       "         [[[0.]]],\n",
       "  \n",
       "  \n",
       "         [[[0.]]],\n",
       "  \n",
       "  \n",
       "         [[[0.]]],\n",
       "  \n",
       "  \n",
       "         [[[0.]]],\n",
       "  \n",
       "  \n",
       "         [[[0.]]],\n",
       "  \n",
       "  \n",
       "         [[[0.]]],\n",
       "  \n",
       "  \n",
       "         [[[0.]]],\n",
       "  \n",
       "  \n",
       "         [[[0.]]],\n",
       "  \n",
       "  \n",
       "         [[[0.]]],\n",
       "  \n",
       "  \n",
       "         [[[0.]]],\n",
       "  \n",
       "  \n",
       "         [[[0.]]],\n",
       "  \n",
       "  \n",
       "         [[[0.]]],\n",
       "  \n",
       "  \n",
       "         [[[0.]]],\n",
       "  \n",
       "  \n",
       "         [[[0.]]],\n",
       "  \n",
       "  \n",
       "         [[[0.]]],\n",
       "  \n",
       "  \n",
       "         [[[0.]]],\n",
       "  \n",
       "  \n",
       "         [[[0.]]],\n",
       "  \n",
       "  \n",
       "         [[[0.]]],\n",
       "  \n",
       "  \n",
       "         [[[0.]]],\n",
       "  \n",
       "  \n",
       "         [[[0.]]],\n",
       "  \n",
       "  \n",
       "         [[[0.]]],\n",
       "  \n",
       "  \n",
       "         [[[0.]]],\n",
       "  \n",
       "  \n",
       "         [[[0.]]],\n",
       "  \n",
       "  \n",
       "         [[[0.]]],\n",
       "  \n",
       "  \n",
       "         [[[0.]]],\n",
       "  \n",
       "  \n",
       "         [[[0.]]],\n",
       "  \n",
       "  \n",
       "         [[[0.]]],\n",
       "  \n",
       "  \n",
       "         [[[0.]]],\n",
       "  \n",
       "  \n",
       "         [[[0.]]],\n",
       "  \n",
       "  \n",
       "         [[[0.]]],\n",
       "  \n",
       "  \n",
       "         [[[0.]]],\n",
       "  \n",
       "  \n",
       "         [[[0.]]],\n",
       "  \n",
       "  \n",
       "         [[[0.]]],\n",
       "  \n",
       "  \n",
       "         [[[0.]]],\n",
       "  \n",
       "  \n",
       "         [[[0.]]],\n",
       "  \n",
       "  \n",
       "         [[[0.]]],\n",
       "  \n",
       "  \n",
       "         [[[0.]]],\n",
       "  \n",
       "  \n",
       "         [[[0.]]],\n",
       "  \n",
       "  \n",
       "         [[[0.]]],\n",
       "  \n",
       "  \n",
       "         [[[0.]]],\n",
       "  \n",
       "  \n",
       "         [[[0.]]],\n",
       "  \n",
       "  \n",
       "         [[[0.]]],\n",
       "  \n",
       "  \n",
       "         [[[0.]]],\n",
       "  \n",
       "  \n",
       "         [[[0.]]],\n",
       "  \n",
       "  \n",
       "         [[[0.]]],\n",
       "  \n",
       "  \n",
       "         [[[0.]]],\n",
       "  \n",
       "  \n",
       "         [[[0.]]],\n",
       "  \n",
       "  \n",
       "         [[[0.]]],\n",
       "  \n",
       "  \n",
       "         [[[0.]]],\n",
       "  \n",
       "  \n",
       "         [[[0.]]],\n",
       "  \n",
       "  \n",
       "         [[[0.]]],\n",
       "  \n",
       "  \n",
       "         [[[0.]]],\n",
       "  \n",
       "  \n",
       "         [[[0.]]],\n",
       "  \n",
       "  \n",
       "         [[[0.]]],\n",
       "  \n",
       "  \n",
       "         [[[0.]]],\n",
       "  \n",
       "  \n",
       "         [[[0.]]],\n",
       "  \n",
       "  \n",
       "         [[[0.]]],\n",
       "  \n",
       "  \n",
       "         [[[0.]]],\n",
       "  \n",
       "  \n",
       "         [[[0.]]],\n",
       "  \n",
       "  \n",
       "         [[[0.]]],\n",
       "  \n",
       "  \n",
       "         [[[0.]]],\n",
       "  \n",
       "  \n",
       "         [[[0.]]],\n",
       "  \n",
       "  \n",
       "         [[[0.]]],\n",
       "  \n",
       "  \n",
       "         [[[0.]]],\n",
       "  \n",
       "  \n",
       "         [[[0.]]],\n",
       "  \n",
       "  \n",
       "         [[[0.]]],\n",
       "  \n",
       "  \n",
       "         [[[0.]]],\n",
       "  \n",
       "  \n",
       "         [[[0.]]],\n",
       "  \n",
       "  \n",
       "         [[[0.]]],\n",
       "  \n",
       "  \n",
       "         [[[0.]]],\n",
       "  \n",
       "  \n",
       "         [[[0.]]],\n",
       "  \n",
       "  \n",
       "         [[[0.]]],\n",
       "  \n",
       "  \n",
       "         [[[0.]]],\n",
       "  \n",
       "  \n",
       "         [[[0.]]],\n",
       "  \n",
       "  \n",
       "         [[[0.]]],\n",
       "  \n",
       "  \n",
       "         [[[0.]]],\n",
       "  \n",
       "  \n",
       "         [[[0.]]],\n",
       "  \n",
       "  \n",
       "         [[[0.]]],\n",
       "  \n",
       "  \n",
       "         [[[0.]]],\n",
       "  \n",
       "  \n",
       "         [[[0.]]],\n",
       "  \n",
       "  \n",
       "         [[[0.]]],\n",
       "  \n",
       "  \n",
       "         [[[0.]]],\n",
       "  \n",
       "  \n",
       "         [[[0.]]],\n",
       "  \n",
       "  \n",
       "         [[[0.]]],\n",
       "  \n",
       "  \n",
       "         [[[0.]]],\n",
       "  \n",
       "  \n",
       "         [[[0.]]],\n",
       "  \n",
       "  \n",
       "         [[[0.]]],\n",
       "  \n",
       "  \n",
       "         [[[0.]]],\n",
       "  \n",
       "  \n",
       "         [[[0.]]],\n",
       "  \n",
       "  \n",
       "         [[[0.]]],\n",
       "  \n",
       "  \n",
       "         [[[0.]]],\n",
       "  \n",
       "  \n",
       "         [[[0.]]],\n",
       "  \n",
       "  \n",
       "         [[[0.]]],\n",
       "  \n",
       "  \n",
       "         [[[0.]]],\n",
       "  \n",
       "  \n",
       "         [[[0.]]],\n",
       "  \n",
       "  \n",
       "         [[[0.]]],\n",
       "  \n",
       "  \n",
       "         [[[0.]]],\n",
       "  \n",
       "  \n",
       "         [[[0.]]],\n",
       "  \n",
       "  \n",
       "         [[[0.]]],\n",
       "  \n",
       "  \n",
       "         [[[0.]]],\n",
       "  \n",
       "  \n",
       "         [[[0.]]],\n",
       "  \n",
       "  \n",
       "         [[[0.]]],\n",
       "  \n",
       "  \n",
       "         [[[0.]]],\n",
       "  \n",
       "  \n",
       "         [[[0.]]],\n",
       "  \n",
       "  \n",
       "         [[[0.]]],\n",
       "  \n",
       "  \n",
       "         [[[0.]]],\n",
       "  \n",
       "  \n",
       "         [[[0.]]],\n",
       "  \n",
       "  \n",
       "         [[[0.]]],\n",
       "  \n",
       "  \n",
       "         [[[0.]]],\n",
       "  \n",
       "  \n",
       "         [[[0.]]],\n",
       "  \n",
       "  \n",
       "         [[[0.]]],\n",
       "  \n",
       "  \n",
       "         [[[0.]]],\n",
       "  \n",
       "  \n",
       "         [[[0.]]],\n",
       "  \n",
       "  \n",
       "         [[[0.]]],\n",
       "  \n",
       "  \n",
       "         [[[0.]]],\n",
       "  \n",
       "  \n",
       "         [[[0.]]],\n",
       "  \n",
       "  \n",
       "         [[[0.]]],\n",
       "  \n",
       "  \n",
       "         [[[0.]]],\n",
       "  \n",
       "  \n",
       "         [[[0.]]],\n",
       "  \n",
       "  \n",
       "         [[[0.]]],\n",
       "  \n",
       "  \n",
       "         [[[0.]]],\n",
       "  \n",
       "  \n",
       "         [[[0.]]],\n",
       "  \n",
       "  \n",
       "         [[[0.]]],\n",
       "  \n",
       "  \n",
       "         [[[0.]]],\n",
       "  \n",
       "  \n",
       "         [[[0.]]],\n",
       "  \n",
       "  \n",
       "         [[[0.]]],\n",
       "  \n",
       "  \n",
       "         [[[0.]]],\n",
       "  \n",
       "  \n",
       "         [[[0.]]],\n",
       "  \n",
       "  \n",
       "         [[[0.]]],\n",
       "  \n",
       "  \n",
       "         [[[0.]]],\n",
       "  \n",
       "  \n",
       "         [[[0.]]],\n",
       "  \n",
       "  \n",
       "         [[[0.]]],\n",
       "  \n",
       "  \n",
       "         [[[0.]]],\n",
       "  \n",
       "  \n",
       "         [[[0.]]],\n",
       "  \n",
       "  \n",
       "         [[[0.]]],\n",
       "  \n",
       "  \n",
       "         [[[0.]]],\n",
       "  \n",
       "  \n",
       "         [[[0.]]],\n",
       "  \n",
       "  \n",
       "         [[[0.]]],\n",
       "  \n",
       "  \n",
       "         [[[0.]]],\n",
       "  \n",
       "  \n",
       "         [[[0.]]],\n",
       "  \n",
       "  \n",
       "         [[[0.]]],\n",
       "  \n",
       "  \n",
       "         [[[0.]]],\n",
       "  \n",
       "  \n",
       "         [[[0.]]],\n",
       "  \n",
       "  \n",
       "         [[[0.]]],\n",
       "  \n",
       "  \n",
       "         [[[0.]]],\n",
       "  \n",
       "  \n",
       "         [[[0.]]],\n",
       "  \n",
       "  \n",
       "         [[[0.]]],\n",
       "  \n",
       "  \n",
       "         [[[0.]]],\n",
       "  \n",
       "  \n",
       "         [[[0.]]],\n",
       "  \n",
       "  \n",
       "         [[[0.]]],\n",
       "  \n",
       "  \n",
       "         [[[0.]]],\n",
       "  \n",
       "  \n",
       "         [[[0.]]],\n",
       "  \n",
       "  \n",
       "         [[[0.]]],\n",
       "  \n",
       "  \n",
       "         [[[0.]]],\n",
       "  \n",
       "  \n",
       "         [[[0.]]],\n",
       "  \n",
       "  \n",
       "         [[[0.]]],\n",
       "  \n",
       "  \n",
       "         [[[0.]]],\n",
       "  \n",
       "  \n",
       "         [[[0.]]],\n",
       "  \n",
       "  \n",
       "         [[[0.]]],\n",
       "  \n",
       "  \n",
       "         [[[0.]]],\n",
       "  \n",
       "  \n",
       "         [[[0.]]],\n",
       "  \n",
       "  \n",
       "         [[[0.]]],\n",
       "  \n",
       "  \n",
       "         [[[0.]]],\n",
       "  \n",
       "  \n",
       "         [[[0.]]],\n",
       "  \n",
       "  \n",
       "         [[[0.]]],\n",
       "  \n",
       "  \n",
       "         [[[0.]]],\n",
       "  \n",
       "  \n",
       "         [[[0.]]],\n",
       "  \n",
       "  \n",
       "         [[[0.]]],\n",
       "  \n",
       "  \n",
       "         [[[0.]]],\n",
       "  \n",
       "  \n",
       "         [[[0.]]],\n",
       "  \n",
       "  \n",
       "         [[[0.]]],\n",
       "  \n",
       "  \n",
       "         [[[0.]]],\n",
       "  \n",
       "  \n",
       "         [[[0.]]],\n",
       "  \n",
       "  \n",
       "         [[[0.]]],\n",
       "  \n",
       "  \n",
       "         [[[0.]]],\n",
       "  \n",
       "  \n",
       "         [[[0.]]],\n",
       "  \n",
       "  \n",
       "         [[[0.]]],\n",
       "  \n",
       "  \n",
       "         [[[0.]]],\n",
       "  \n",
       "  \n",
       "         [[[0.]]],\n",
       "  \n",
       "  \n",
       "         [[[0.]]],\n",
       "  \n",
       "  \n",
       "         [[[0.]]],\n",
       "  \n",
       "  \n",
       "         [[[0.]]],\n",
       "  \n",
       "  \n",
       "         [[[0.]]]]),\n",
       "  'stft1': array([[[[0.]]],\n",
       "  \n",
       "  \n",
       "         [[[0.]]],\n",
       "  \n",
       "  \n",
       "         [[[0.]]],\n",
       "  \n",
       "  \n",
       "         [[[0.]]],\n",
       "  \n",
       "  \n",
       "         [[[0.]]],\n",
       "  \n",
       "  \n",
       "         [[[0.]]],\n",
       "  \n",
       "  \n",
       "         [[[0.]]],\n",
       "  \n",
       "  \n",
       "         [[[0.]]],\n",
       "  \n",
       "  \n",
       "         [[[0.]]],\n",
       "  \n",
       "  \n",
       "         [[[0.]]],\n",
       "  \n",
       "  \n",
       "         [[[0.]]],\n",
       "  \n",
       "  \n",
       "         [[[0.]]],\n",
       "  \n",
       "  \n",
       "         [[[0.]]],\n",
       "  \n",
       "  \n",
       "         [[[0.]]],\n",
       "  \n",
       "  \n",
       "         [[[0.]]],\n",
       "  \n",
       "  \n",
       "         [[[0.]]],\n",
       "  \n",
       "  \n",
       "         [[[0.]]],\n",
       "  \n",
       "  \n",
       "         [[[0.]]],\n",
       "  \n",
       "  \n",
       "         [[[0.]]],\n",
       "  \n",
       "  \n",
       "         [[[0.]]],\n",
       "  \n",
       "  \n",
       "         [[[0.]]],\n",
       "  \n",
       "  \n",
       "         [[[0.]]],\n",
       "  \n",
       "  \n",
       "         [[[0.]]],\n",
       "  \n",
       "  \n",
       "         [[[0.]]],\n",
       "  \n",
       "  \n",
       "         [[[0.]]],\n",
       "  \n",
       "  \n",
       "         [[[0.]]],\n",
       "  \n",
       "  \n",
       "         [[[0.]]],\n",
       "  \n",
       "  \n",
       "         [[[0.]]],\n",
       "  \n",
       "  \n",
       "         [[[0.]]],\n",
       "  \n",
       "  \n",
       "         [[[0.]]],\n",
       "  \n",
       "  \n",
       "         [[[0.]]],\n",
       "  \n",
       "  \n",
       "         [[[0.]]],\n",
       "  \n",
       "  \n",
       "         [[[0.]]],\n",
       "  \n",
       "  \n",
       "         [[[0.]]],\n",
       "  \n",
       "  \n",
       "         [[[0.]]],\n",
       "  \n",
       "  \n",
       "         [[[0.]]],\n",
       "  \n",
       "  \n",
       "         [[[0.]]],\n",
       "  \n",
       "  \n",
       "         [[[0.]]],\n",
       "  \n",
       "  \n",
       "         [[[0.]]],\n",
       "  \n",
       "  \n",
       "         [[[0.]]],\n",
       "  \n",
       "  \n",
       "         [[[0.]]],\n",
       "  \n",
       "  \n",
       "         [[[0.]]],\n",
       "  \n",
       "  \n",
       "         [[[0.]]],\n",
       "  \n",
       "  \n",
       "         [[[0.]]],\n",
       "  \n",
       "  \n",
       "         [[[0.]]],\n",
       "  \n",
       "  \n",
       "         [[[0.]]],\n",
       "  \n",
       "  \n",
       "         [[[0.]]],\n",
       "  \n",
       "  \n",
       "         [[[0.]]],\n",
       "  \n",
       "  \n",
       "         [[[0.]]],\n",
       "  \n",
       "  \n",
       "         [[[0.]]],\n",
       "  \n",
       "  \n",
       "         [[[0.]]],\n",
       "  \n",
       "  \n",
       "         [[[0.]]],\n",
       "  \n",
       "  \n",
       "         [[[0.]]],\n",
       "  \n",
       "  \n",
       "         [[[0.]]],\n",
       "  \n",
       "  \n",
       "         [[[0.]]],\n",
       "  \n",
       "  \n",
       "         [[[0.]]],\n",
       "  \n",
       "  \n",
       "         [[[0.]]],\n",
       "  \n",
       "  \n",
       "         [[[0.]]],\n",
       "  \n",
       "  \n",
       "         [[[0.]]],\n",
       "  \n",
       "  \n",
       "         [[[0.]]],\n",
       "  \n",
       "  \n",
       "         [[[0.]]],\n",
       "  \n",
       "  \n",
       "         [[[0.]]],\n",
       "  \n",
       "  \n",
       "         [[[0.]]],\n",
       "  \n",
       "  \n",
       "         [[[0.]]],\n",
       "  \n",
       "  \n",
       "         [[[0.]]],\n",
       "  \n",
       "  \n",
       "         [[[0.]]],\n",
       "  \n",
       "  \n",
       "         [[[0.]]],\n",
       "  \n",
       "  \n",
       "         [[[0.]]],\n",
       "  \n",
       "  \n",
       "         [[[0.]]],\n",
       "  \n",
       "  \n",
       "         [[[0.]]],\n",
       "  \n",
       "  \n",
       "         [[[0.]]],\n",
       "  \n",
       "  \n",
       "         [[[0.]]],\n",
       "  \n",
       "  \n",
       "         [[[0.]]],\n",
       "  \n",
       "  \n",
       "         [[[0.]]],\n",
       "  \n",
       "  \n",
       "         [[[0.]]],\n",
       "  \n",
       "  \n",
       "         [[[0.]]],\n",
       "  \n",
       "  \n",
       "         [[[0.]]],\n",
       "  \n",
       "  \n",
       "         [[[0.]]],\n",
       "  \n",
       "  \n",
       "         [[[0.]]],\n",
       "  \n",
       "  \n",
       "         [[[0.]]],\n",
       "  \n",
       "  \n",
       "         [[[0.]]],\n",
       "  \n",
       "  \n",
       "         [[[0.]]],\n",
       "  \n",
       "  \n",
       "         [[[0.]]],\n",
       "  \n",
       "  \n",
       "         [[[0.]]],\n",
       "  \n",
       "  \n",
       "         [[[0.]]],\n",
       "  \n",
       "  \n",
       "         [[[0.]]],\n",
       "  \n",
       "  \n",
       "         [[[0.]]],\n",
       "  \n",
       "  \n",
       "         [[[0.]]],\n",
       "  \n",
       "  \n",
       "         [[[0.]]],\n",
       "  \n",
       "  \n",
       "         [[[0.]]],\n",
       "  \n",
       "  \n",
       "         [[[0.]]],\n",
       "  \n",
       "  \n",
       "         [[[0.]]],\n",
       "  \n",
       "  \n",
       "         [[[0.]]],\n",
       "  \n",
       "  \n",
       "         [[[0.]]],\n",
       "  \n",
       "  \n",
       "         [[[0.]]],\n",
       "  \n",
       "  \n",
       "         [[[0.]]],\n",
       "  \n",
       "  \n",
       "         [[[0.]]],\n",
       "  \n",
       "  \n",
       "         [[[0.]]],\n",
       "  \n",
       "  \n",
       "         [[[0.]]],\n",
       "  \n",
       "  \n",
       "         [[[0.]]],\n",
       "  \n",
       "  \n",
       "         [[[0.]]],\n",
       "  \n",
       "  \n",
       "         [[[0.]]],\n",
       "  \n",
       "  \n",
       "         [[[0.]]],\n",
       "  \n",
       "  \n",
       "         [[[0.]]],\n",
       "  \n",
       "  \n",
       "         [[[0.]]],\n",
       "  \n",
       "  \n",
       "         [[[0.]]],\n",
       "  \n",
       "  \n",
       "         [[[0.]]],\n",
       "  \n",
       "  \n",
       "         [[[0.]]],\n",
       "  \n",
       "  \n",
       "         [[[0.]]],\n",
       "  \n",
       "  \n",
       "         [[[0.]]],\n",
       "  \n",
       "  \n",
       "         [[[0.]]],\n",
       "  \n",
       "  \n",
       "         [[[0.]]],\n",
       "  \n",
       "  \n",
       "         [[[0.]]],\n",
       "  \n",
       "  \n",
       "         [[[0.]]],\n",
       "  \n",
       "  \n",
       "         [[[0.]]],\n",
       "  \n",
       "  \n",
       "         [[[0.]]],\n",
       "  \n",
       "  \n",
       "         [[[0.]]],\n",
       "  \n",
       "  \n",
       "         [[[0.]]],\n",
       "  \n",
       "  \n",
       "         [[[0.]]],\n",
       "  \n",
       "  \n",
       "         [[[0.]]],\n",
       "  \n",
       "  \n",
       "         [[[0.]]],\n",
       "  \n",
       "  \n",
       "         [[[0.]]],\n",
       "  \n",
       "  \n",
       "         [[[0.]]],\n",
       "  \n",
       "  \n",
       "         [[[0.]]],\n",
       "  \n",
       "  \n",
       "         [[[0.]]],\n",
       "  \n",
       "  \n",
       "         [[[0.]]],\n",
       "  \n",
       "  \n",
       "         [[[0.]]],\n",
       "  \n",
       "  \n",
       "         [[[0.]]],\n",
       "  \n",
       "  \n",
       "         [[[0.]]],\n",
       "  \n",
       "  \n",
       "         [[[0.]]],\n",
       "  \n",
       "  \n",
       "         [[[0.]]],\n",
       "  \n",
       "  \n",
       "         [[[0.]]],\n",
       "  \n",
       "  \n",
       "         [[[0.]]],\n",
       "  \n",
       "  \n",
       "         [[[0.]]],\n",
       "  \n",
       "  \n",
       "         [[[0.]]],\n",
       "  \n",
       "  \n",
       "         [[[0.]]],\n",
       "  \n",
       "  \n",
       "         [[[0.]]],\n",
       "  \n",
       "  \n",
       "         [[[0.]]],\n",
       "  \n",
       "  \n",
       "         [[[0.]]],\n",
       "  \n",
       "  \n",
       "         [[[0.]]],\n",
       "  \n",
       "  \n",
       "         [[[0.]]],\n",
       "  \n",
       "  \n",
       "         [[[0.]]],\n",
       "  \n",
       "  \n",
       "         [[[0.]]],\n",
       "  \n",
       "  \n",
       "         [[[0.]]],\n",
       "  \n",
       "  \n",
       "         [[[0.]]],\n",
       "  \n",
       "  \n",
       "         [[[0.]]],\n",
       "  \n",
       "  \n",
       "         [[[0.]]],\n",
       "  \n",
       "  \n",
       "         [[[0.]]],\n",
       "  \n",
       "  \n",
       "         [[[0.]]],\n",
       "  \n",
       "  \n",
       "         [[[0.]]],\n",
       "  \n",
       "  \n",
       "         [[[0.]]],\n",
       "  \n",
       "  \n",
       "         [[[0.]]],\n",
       "  \n",
       "  \n",
       "         [[[0.]]],\n",
       "  \n",
       "  \n",
       "         [[[0.]]],\n",
       "  \n",
       "  \n",
       "         [[[0.]]],\n",
       "  \n",
       "  \n",
       "         [[[0.]]],\n",
       "  \n",
       "  \n",
       "         [[[0.]]],\n",
       "  \n",
       "  \n",
       "         [[[0.]]],\n",
       "  \n",
       "  \n",
       "         [[[0.]]],\n",
       "  \n",
       "  \n",
       "         [[[0.]]],\n",
       "  \n",
       "  \n",
       "         [[[0.]]],\n",
       "  \n",
       "  \n",
       "         [[[0.]]],\n",
       "  \n",
       "  \n",
       "         [[[0.]]],\n",
       "  \n",
       "  \n",
       "         [[[0.]]],\n",
       "  \n",
       "  \n",
       "         [[[0.]]],\n",
       "  \n",
       "  \n",
       "         [[[0.]]],\n",
       "  \n",
       "  \n",
       "         [[[0.]]],\n",
       "  \n",
       "  \n",
       "         [[[0.]]],\n",
       "  \n",
       "  \n",
       "         [[[0.]]],\n",
       "  \n",
       "  \n",
       "         [[[0.]]],\n",
       "  \n",
       "  \n",
       "         [[[0.]]],\n",
       "  \n",
       "  \n",
       "         [[[0.]]],\n",
       "  \n",
       "  \n",
       "         [[[0.]]],\n",
       "  \n",
       "  \n",
       "         [[[0.]]],\n",
       "  \n",
       "  \n",
       "         [[[0.]]],\n",
       "  \n",
       "  \n",
       "         [[[0.]]],\n",
       "  \n",
       "  \n",
       "         [[[0.]]],\n",
       "  \n",
       "  \n",
       "         [[[0.]]],\n",
       "  \n",
       "  \n",
       "         [[[0.]]],\n",
       "  \n",
       "  \n",
       "         [[[0.]]],\n",
       "  \n",
       "  \n",
       "         [[[0.]]],\n",
       "  \n",
       "  \n",
       "         [[[0.]]],\n",
       "  \n",
       "  \n",
       "         [[[0.]]],\n",
       "  \n",
       "  \n",
       "         [[[0.]]],\n",
       "  \n",
       "  \n",
       "         [[[0.]]],\n",
       "  \n",
       "  \n",
       "         [[[0.]]],\n",
       "  \n",
       "  \n",
       "         [[[0.]]],\n",
       "  \n",
       "  \n",
       "         [[[0.]]],\n",
       "  \n",
       "  \n",
       "         [[[0.]]],\n",
       "  \n",
       "  \n",
       "         [[[0.]]],\n",
       "  \n",
       "  \n",
       "         [[[0.]]],\n",
       "  \n",
       "  \n",
       "         [[[0.]]],\n",
       "  \n",
       "  \n",
       "         [[[0.]]],\n",
       "  \n",
       "  \n",
       "         [[[0.]]],\n",
       "  \n",
       "  \n",
       "         [[[0.]]],\n",
       "  \n",
       "  \n",
       "         [[[0.]]],\n",
       "  \n",
       "  \n",
       "         [[[0.]]],\n",
       "  \n",
       "  \n",
       "         [[[0.]]],\n",
       "  \n",
       "  \n",
       "         [[[0.]]],\n",
       "  \n",
       "  \n",
       "         [[[0.]]],\n",
       "  \n",
       "  \n",
       "         [[[0.]]],\n",
       "  \n",
       "  \n",
       "         [[[0.]]],\n",
       "  \n",
       "  \n",
       "         [[[0.]]],\n",
       "  \n",
       "  \n",
       "         [[[0.]]],\n",
       "  \n",
       "  \n",
       "         [[[0.]]],\n",
       "  \n",
       "  \n",
       "         [[[0.]]],\n",
       "  \n",
       "  \n",
       "         [[[0.]]],\n",
       "  \n",
       "  \n",
       "         [[[0.]]],\n",
       "  \n",
       "  \n",
       "         [[[0.]]],\n",
       "  \n",
       "  \n",
       "         [[[0.]]],\n",
       "  \n",
       "  \n",
       "         [[[0.]]],\n",
       "  \n",
       "  \n",
       "         [[[0.]]],\n",
       "  \n",
       "  \n",
       "         [[[0.]]],\n",
       "  \n",
       "  \n",
       "         [[[0.]]],\n",
       "  \n",
       "  \n",
       "         [[[0.]]],\n",
       "  \n",
       "  \n",
       "         [[[0.]]],\n",
       "  \n",
       "  \n",
       "         [[[0.]]],\n",
       "  \n",
       "  \n",
       "         [[[0.]]],\n",
       "  \n",
       "  \n",
       "         [[[0.]]],\n",
       "  \n",
       "  \n",
       "         [[[0.]]],\n",
       "  \n",
       "  \n",
       "         [[[0.]]],\n",
       "  \n",
       "  \n",
       "         [[[0.]]],\n",
       "  \n",
       "  \n",
       "         [[[0.]]],\n",
       "  \n",
       "  \n",
       "         [[[0.]]],\n",
       "  \n",
       "  \n",
       "         [[[0.]]],\n",
       "  \n",
       "  \n",
       "         [[[0.]]],\n",
       "  \n",
       "  \n",
       "         [[[0.]]],\n",
       "  \n",
       "  \n",
       "         [[[0.]]],\n",
       "  \n",
       "  \n",
       "         [[[0.]]],\n",
       "  \n",
       "  \n",
       "         [[[0.]]],\n",
       "  \n",
       "  \n",
       "         [[[0.]]],\n",
       "  \n",
       "  \n",
       "         [[[0.]]],\n",
       "  \n",
       "  \n",
       "         [[[0.]]],\n",
       "  \n",
       "  \n",
       "         [[[0.]]],\n",
       "  \n",
       "  \n",
       "         [[[0.]]],\n",
       "  \n",
       "  \n",
       "         [[[0.]]],\n",
       "  \n",
       "  \n",
       "         [[[0.]]],\n",
       "  \n",
       "  \n",
       "         [[[0.]]],\n",
       "  \n",
       "  \n",
       "         [[[0.]]],\n",
       "  \n",
       "  \n",
       "         [[[0.]]],\n",
       "  \n",
       "  \n",
       "         [[[0.]]],\n",
       "  \n",
       "  \n",
       "         [[[0.]]],\n",
       "  \n",
       "  \n",
       "         [[[0.]]],\n",
       "  \n",
       "  \n",
       "         [[[0.]]],\n",
       "  \n",
       "  \n",
       "         [[[0.]]],\n",
       "  \n",
       "  \n",
       "         [[[0.]]],\n",
       "  \n",
       "  \n",
       "         [[[0.]]],\n",
       "  \n",
       "  \n",
       "         [[[0.]]],\n",
       "  \n",
       "  \n",
       "         [[[0.]]],\n",
       "  \n",
       "  \n",
       "         [[[0.]]],\n",
       "  \n",
       "  \n",
       "         [[[0.]]],\n",
       "  \n",
       "  \n",
       "         [[[0.]]],\n",
       "  \n",
       "  \n",
       "         [[[0.]]],\n",
       "  \n",
       "  \n",
       "         [[[0.]]],\n",
       "  \n",
       "  \n",
       "         [[[0.]]],\n",
       "  \n",
       "  \n",
       "         [[[0.]]],\n",
       "  \n",
       "  \n",
       "         [[[0.]]],\n",
       "  \n",
       "  \n",
       "         [[[0.]]],\n",
       "  \n",
       "  \n",
       "         [[[0.]]],\n",
       "  \n",
       "  \n",
       "         [[[0.]]],\n",
       "  \n",
       "  \n",
       "         [[[0.]]],\n",
       "  \n",
       "  \n",
       "         [[[0.]]],\n",
       "  \n",
       "  \n",
       "         [[[0.]]],\n",
       "  \n",
       "  \n",
       "         [[[0.]]],\n",
       "  \n",
       "  \n",
       "         [[[0.]]],\n",
       "  \n",
       "  \n",
       "         [[[0.]]],\n",
       "  \n",
       "  \n",
       "         [[[0.]]],\n",
       "  \n",
       "  \n",
       "         [[[0.]]],\n",
       "  \n",
       "  \n",
       "         [[[0.]]],\n",
       "  \n",
       "  \n",
       "         [[[0.]]],\n",
       "  \n",
       "  \n",
       "         [[[0.]]],\n",
       "  \n",
       "  \n",
       "         [[[0.]]],\n",
       "  \n",
       "  \n",
       "         [[[0.]]],\n",
       "  \n",
       "  \n",
       "         [[[0.]]],\n",
       "  \n",
       "  \n",
       "         [[[0.]]],\n",
       "  \n",
       "  \n",
       "         [[[0.]]],\n",
       "  \n",
       "  \n",
       "         [[[0.]]],\n",
       "  \n",
       "  \n",
       "         [[[0.]]],\n",
       "  \n",
       "  \n",
       "         [[[0.]]],\n",
       "  \n",
       "  \n",
       "         [[[0.]]],\n",
       "  \n",
       "  \n",
       "         [[[0.]]],\n",
       "  \n",
       "  \n",
       "         [[[0.]]],\n",
       "  \n",
       "  \n",
       "         [[[0.]]],\n",
       "  \n",
       "  \n",
       "         [[[0.]]],\n",
       "  \n",
       "  \n",
       "         [[[0.]]],\n",
       "  \n",
       "  \n",
       "         [[[0.]]],\n",
       "  \n",
       "  \n",
       "         [[[0.]]],\n",
       "  \n",
       "  \n",
       "         [[[0.]]],\n",
       "  \n",
       "  \n",
       "         [[[0.]]],\n",
       "  \n",
       "  \n",
       "         [[[0.]]],\n",
       "  \n",
       "  \n",
       "         [[[0.]]],\n",
       "  \n",
       "  \n",
       "         [[[0.]]],\n",
       "  \n",
       "  \n",
       "         [[[0.]]],\n",
       "  \n",
       "  \n",
       "         [[[0.]]],\n",
       "  \n",
       "  \n",
       "         [[[0.]]],\n",
       "  \n",
       "  \n",
       "         [[[0.]]],\n",
       "  \n",
       "  \n",
       "         [[[0.]]],\n",
       "  \n",
       "  \n",
       "         [[[0.]]],\n",
       "  \n",
       "  \n",
       "         [[[0.]]],\n",
       "  \n",
       "  \n",
       "         [[[0.]]],\n",
       "  \n",
       "  \n",
       "         [[[0.]]],\n",
       "  \n",
       "  \n",
       "         [[[0.]]],\n",
       "  \n",
       "  \n",
       "         [[[0.]]],\n",
       "  \n",
       "  \n",
       "         [[[0.]]],\n",
       "  \n",
       "  \n",
       "         [[[0.]]],\n",
       "  \n",
       "  \n",
       "         [[[0.]]],\n",
       "  \n",
       "  \n",
       "         [[[0.]]],\n",
       "  \n",
       "  \n",
       "         [[[0.]]],\n",
       "  \n",
       "  \n",
       "         [[[0.]]],\n",
       "  \n",
       "  \n",
       "         [[[0.]]],\n",
       "  \n",
       "  \n",
       "         [[[0.]]],\n",
       "  \n",
       "  \n",
       "         [[[0.]]],\n",
       "  \n",
       "  \n",
       "         [[[0.]]],\n",
       "  \n",
       "  \n",
       "         [[[0.]]],\n",
       "  \n",
       "  \n",
       "         [[[0.]]],\n",
       "  \n",
       "  \n",
       "         [[[0.]]],\n",
       "  \n",
       "  \n",
       "         [[[0.]]],\n",
       "  \n",
       "  \n",
       "         [[[0.]]],\n",
       "  \n",
       "  \n",
       "         [[[0.]]],\n",
       "  \n",
       "  \n",
       "         [[[0.]]],\n",
       "  \n",
       "  \n",
       "         [[[0.]]],\n",
       "  \n",
       "  \n",
       "         [[[0.]]],\n",
       "  \n",
       "  \n",
       "         [[[0.]]],\n",
       "  \n",
       "  \n",
       "         [[[0.]]],\n",
       "  \n",
       "  \n",
       "         [[[0.]]],\n",
       "  \n",
       "  \n",
       "         [[[0.]]],\n",
       "  \n",
       "  \n",
       "         [[[0.]]],\n",
       "  \n",
       "  \n",
       "         [[[0.]]],\n",
       "  \n",
       "  \n",
       "         [[[0.]]],\n",
       "  \n",
       "  \n",
       "         [[[0.]]],\n",
       "  \n",
       "  \n",
       "         [[[0.]]],\n",
       "  \n",
       "  \n",
       "         [[[0.]]],\n",
       "  \n",
       "  \n",
       "         [[[0.]]],\n",
       "  \n",
       "  \n",
       "         [[[0.]]],\n",
       "  \n",
       "  \n",
       "         [[[0.]]],\n",
       "  \n",
       "  \n",
       "         [[[0.]]],\n",
       "  \n",
       "  \n",
       "         [[[0.]]],\n",
       "  \n",
       "  \n",
       "         [[[0.]]],\n",
       "  \n",
       "  \n",
       "         [[[0.]]],\n",
       "  \n",
       "  \n",
       "         [[[0.]]],\n",
       "  \n",
       "  \n",
       "         [[[0.]]],\n",
       "  \n",
       "  \n",
       "         [[[0.]]],\n",
       "  \n",
       "  \n",
       "         [[[0.]]],\n",
       "  \n",
       "  \n",
       "         [[[0.]]],\n",
       "  \n",
       "  \n",
       "         [[[0.]]],\n",
       "  \n",
       "  \n",
       "         [[[0.]]],\n",
       "  \n",
       "  \n",
       "         [[[0.]]],\n",
       "  \n",
       "  \n",
       "         [[[0.]]],\n",
       "  \n",
       "  \n",
       "         [[[0.]]],\n",
       "  \n",
       "  \n",
       "         [[[0.]]],\n",
       "  \n",
       "  \n",
       "         [[[0.]]],\n",
       "  \n",
       "  \n",
       "         [[[0.]]],\n",
       "  \n",
       "  \n",
       "         [[[0.]]],\n",
       "  \n",
       "  \n",
       "         [[[0.]]],\n",
       "  \n",
       "  \n",
       "         [[[0.]]],\n",
       "  \n",
       "  \n",
       "         [[[0.]]],\n",
       "  \n",
       "  \n",
       "         [[[0.]]],\n",
       "  \n",
       "  \n",
       "         [[[0.]]],\n",
       "  \n",
       "  \n",
       "         [[[0.]]],\n",
       "  \n",
       "  \n",
       "         [[[0.]]],\n",
       "  \n",
       "  \n",
       "         [[[0.]]],\n",
       "  \n",
       "  \n",
       "         [[[0.]]],\n",
       "  \n",
       "  \n",
       "         [[[0.]]],\n",
       "  \n",
       "  \n",
       "         [[[0.]]],\n",
       "  \n",
       "  \n",
       "         [[[0.]]],\n",
       "  \n",
       "  \n",
       "         [[[0.]]],\n",
       "  \n",
       "  \n",
       "         [[[0.]]],\n",
       "  \n",
       "  \n",
       "         [[[0.]]],\n",
       "  \n",
       "  \n",
       "         [[[0.]]],\n",
       "  \n",
       "  \n",
       "         [[[0.]]],\n",
       "  \n",
       "  \n",
       "         [[[0.]]],\n",
       "  \n",
       "  \n",
       "         [[[0.]]],\n",
       "  \n",
       "  \n",
       "         [[[0.]]],\n",
       "  \n",
       "  \n",
       "         [[[0.]]],\n",
       "  \n",
       "  \n",
       "         [[[0.]]],\n",
       "  \n",
       "  \n",
       "         [[[0.]]],\n",
       "  \n",
       "  \n",
       "         [[[0.]]],\n",
       "  \n",
       "  \n",
       "         [[[0.]]],\n",
       "  \n",
       "  \n",
       "         [[[0.]]],\n",
       "  \n",
       "  \n",
       "         [[[0.]]],\n",
       "  \n",
       "  \n",
       "         [[[0.]]],\n",
       "  \n",
       "  \n",
       "         [[[0.]]],\n",
       "  \n",
       "  \n",
       "         [[[0.]]],\n",
       "  \n",
       "  \n",
       "         [[[0.]]],\n",
       "  \n",
       "  \n",
       "         [[[0.]]],\n",
       "  \n",
       "  \n",
       "         [[[0.]]],\n",
       "  \n",
       "  \n",
       "         [[[0.]]],\n",
       "  \n",
       "  \n",
       "         [[[0.]]],\n",
       "  \n",
       "  \n",
       "         [[[0.]]],\n",
       "  \n",
       "  \n",
       "         [[[0.]]],\n",
       "  \n",
       "  \n",
       "         [[[0.]]],\n",
       "  \n",
       "  \n",
       "         [[[0.]]],\n",
       "  \n",
       "  \n",
       "         [[[0.]]],\n",
       "  \n",
       "  \n",
       "         [[[0.]]],\n",
       "  \n",
       "  \n",
       "         [[[0.]]],\n",
       "  \n",
       "  \n",
       "         [[[0.]]],\n",
       "  \n",
       "  \n",
       "         [[[0.]]],\n",
       "  \n",
       "  \n",
       "         [[[0.]]],\n",
       "  \n",
       "  \n",
       "         [[[0.]]],\n",
       "  \n",
       "  \n",
       "         [[[0.]]],\n",
       "  \n",
       "  \n",
       "         [[[0.]]],\n",
       "  \n",
       "  \n",
       "         [[[0.]]],\n",
       "  \n",
       "  \n",
       "         [[[0.]]],\n",
       "  \n",
       "  \n",
       "         [[[0.]]],\n",
       "  \n",
       "  \n",
       "         [[[0.]]],\n",
       "  \n",
       "  \n",
       "         [[[0.]]],\n",
       "  \n",
       "  \n",
       "         [[[0.]]],\n",
       "  \n",
       "  \n",
       "         [[[0.]]],\n",
       "  \n",
       "  \n",
       "         [[[0.]]],\n",
       "  \n",
       "  \n",
       "         [[[0.]]],\n",
       "  \n",
       "  \n",
       "         [[[0.]]],\n",
       "  \n",
       "  \n",
       "         [[[0.]]],\n",
       "  \n",
       "  \n",
       "         [[[0.]]],\n",
       "  \n",
       "  \n",
       "         [[[0.]]],\n",
       "  \n",
       "  \n",
       "         [[[0.]]],\n",
       "  \n",
       "  \n",
       "         [[[0.]]],\n",
       "  \n",
       "  \n",
       "         [[[0.]]],\n",
       "  \n",
       "  \n",
       "         [[[0.]]],\n",
       "  \n",
       "  \n",
       "         [[[0.]]],\n",
       "  \n",
       "  \n",
       "         [[[0.]]],\n",
       "  \n",
       "  \n",
       "         [[[0.]]],\n",
       "  \n",
       "  \n",
       "         [[[0.]]],\n",
       "  \n",
       "  \n",
       "         [[[0.]]],\n",
       "  \n",
       "  \n",
       "         [[[0.]]],\n",
       "  \n",
       "  \n",
       "         [[[0.]]],\n",
       "  \n",
       "  \n",
       "         [[[0.]]],\n",
       "  \n",
       "  \n",
       "         [[[0.]]],\n",
       "  \n",
       "  \n",
       "         [[[0.]]],\n",
       "  \n",
       "  \n",
       "         [[[0.]]],\n",
       "  \n",
       "  \n",
       "         [[[0.]]],\n",
       "  \n",
       "  \n",
       "         [[[0.]]],\n",
       "  \n",
       "  \n",
       "         [[[0.]]],\n",
       "  \n",
       "  \n",
       "         [[[0.]]],\n",
       "  \n",
       "  \n",
       "         [[[0.]]],\n",
       "  \n",
       "  \n",
       "         [[[0.]]],\n",
       "  \n",
       "  \n",
       "         [[[0.]]],\n",
       "  \n",
       "  \n",
       "         [[[0.]]],\n",
       "  \n",
       "  \n",
       "         [[[0.]]],\n",
       "  \n",
       "  \n",
       "         [[[0.]]],\n",
       "  \n",
       "  \n",
       "         [[[0.]]],\n",
       "  \n",
       "  \n",
       "         [[[0.]]],\n",
       "  \n",
       "  \n",
       "         [[[0.]]],\n",
       "  \n",
       "  \n",
       "         [[[0.]]],\n",
       "  \n",
       "  \n",
       "         [[[0.]]],\n",
       "  \n",
       "  \n",
       "         [[[0.]]],\n",
       "  \n",
       "  \n",
       "         [[[0.]]],\n",
       "  \n",
       "  \n",
       "         [[[0.]]],\n",
       "  \n",
       "  \n",
       "         [[[0.]]],\n",
       "  \n",
       "  \n",
       "         [[[0.]]],\n",
       "  \n",
       "  \n",
       "         [[[0.]]],\n",
       "  \n",
       "  \n",
       "         [[[0.]]],\n",
       "  \n",
       "  \n",
       "         [[[0.]]],\n",
       "  \n",
       "  \n",
       "         [[[0.]]],\n",
       "  \n",
       "  \n",
       "         [[[0.]]],\n",
       "  \n",
       "  \n",
       "         [[[0.]]],\n",
       "  \n",
       "  \n",
       "         [[[0.]]],\n",
       "  \n",
       "  \n",
       "         [[[0.]]],\n",
       "  \n",
       "  \n",
       "         [[[0.]]],\n",
       "  \n",
       "  \n",
       "         [[[0.]]],\n",
       "  \n",
       "  \n",
       "         [[[0.]]],\n",
       "  \n",
       "  \n",
       "         [[[0.]]],\n",
       "  \n",
       "  \n",
       "         [[[0.]]],\n",
       "  \n",
       "  \n",
       "         [[[0.]]],\n",
       "  \n",
       "  \n",
       "         [[[0.]]],\n",
       "  \n",
       "  \n",
       "         [[[0.]]],\n",
       "  \n",
       "  \n",
       "         [[[0.]]],\n",
       "  \n",
       "  \n",
       "         [[[0.]]],\n",
       "  \n",
       "  \n",
       "         [[[0.]]],\n",
       "  \n",
       "  \n",
       "         [[[0.]]],\n",
       "  \n",
       "  \n",
       "         [[[0.]]],\n",
       "  \n",
       "  \n",
       "         [[[0.]]],\n",
       "  \n",
       "  \n",
       "         [[[0.]]],\n",
       "  \n",
       "  \n",
       "         [[[0.]]],\n",
       "  \n",
       "  \n",
       "         [[[0.]]],\n",
       "  \n",
       "  \n",
       "         [[[0.]]],\n",
       "  \n",
       "  \n",
       "         [[[0.]]],\n",
       "  \n",
       "  \n",
       "         [[[0.]]],\n",
       "  \n",
       "  \n",
       "         [[[0.]]],\n",
       "  \n",
       "  \n",
       "         [[[0.]]],\n",
       "  \n",
       "  \n",
       "         [[[0.]]],\n",
       "  \n",
       "  \n",
       "         [[[0.]]],\n",
       "  \n",
       "  \n",
       "         [[[0.]]],\n",
       "  \n",
       "  \n",
       "         [[[0.]]],\n",
       "  \n",
       "  \n",
       "         [[[0.]]],\n",
       "  \n",
       "  \n",
       "         [[[0.]]],\n",
       "  \n",
       "  \n",
       "         [[[0.]]],\n",
       "  \n",
       "  \n",
       "         [[[0.]]],\n",
       "  \n",
       "  \n",
       "         [[[0.]]],\n",
       "  \n",
       "  \n",
       "         [[[0.]]],\n",
       "  \n",
       "  \n",
       "         [[[0.]]],\n",
       "  \n",
       "  \n",
       "         [[[0.]]],\n",
       "  \n",
       "  \n",
       "         [[[0.]]],\n",
       "  \n",
       "  \n",
       "         [[[0.]]],\n",
       "  \n",
       "  \n",
       "         [[[0.]]],\n",
       "  \n",
       "  \n",
       "         [[[0.]]],\n",
       "  \n",
       "  \n",
       "         [[[0.]]],\n",
       "  \n",
       "  \n",
       "         [[[0.]]],\n",
       "  \n",
       "  \n",
       "         [[[0.]]],\n",
       "  \n",
       "  \n",
       "         [[[0.]]],\n",
       "  \n",
       "  \n",
       "         [[[0.]]],\n",
       "  \n",
       "  \n",
       "         [[[0.]]],\n",
       "  \n",
       "  \n",
       "         [[[0.]]],\n",
       "  \n",
       "  \n",
       "         [[[0.]]],\n",
       "  \n",
       "  \n",
       "         [[[0.]]],\n",
       "  \n",
       "  \n",
       "         [[[0.]]],\n",
       "  \n",
       "  \n",
       "         [[[0.]]],\n",
       "  \n",
       "  \n",
       "         [[[0.]]],\n",
       "  \n",
       "  \n",
       "         [[[0.]]],\n",
       "  \n",
       "  \n",
       "         [[[0.]]],\n",
       "  \n",
       "  \n",
       "         [[[0.]]],\n",
       "  \n",
       "  \n",
       "         [[[0.]]],\n",
       "  \n",
       "  \n",
       "         [[[0.]]],\n",
       "  \n",
       "  \n",
       "         [[[0.]]],\n",
       "  \n",
       "  \n",
       "         [[[0.]]],\n",
       "  \n",
       "  \n",
       "         [[[0.]]],\n",
       "  \n",
       "  \n",
       "         [[[0.]]],\n",
       "  \n",
       "  \n",
       "         [[[0.]]],\n",
       "  \n",
       "  \n",
       "         [[[0.]]],\n",
       "  \n",
       "  \n",
       "         [[[0.]]],\n",
       "  \n",
       "  \n",
       "         [[[0.]]],\n",
       "  \n",
       "  \n",
       "         [[[0.]]],\n",
       "  \n",
       "  \n",
       "         [[[0.]]],\n",
       "  \n",
       "  \n",
       "         [[[0.]]],\n",
       "  \n",
       "  \n",
       "         [[[0.]]],\n",
       "  \n",
       "  \n",
       "         [[[0.]]],\n",
       "  \n",
       "  \n",
       "         [[[0.]]],\n",
       "  \n",
       "  \n",
       "         [[[0.]]],\n",
       "  \n",
       "  \n",
       "         [[[0.]]],\n",
       "  \n",
       "  \n",
       "         [[[0.]]],\n",
       "  \n",
       "  \n",
       "         [[[0.]]],\n",
       "  \n",
       "  \n",
       "         [[[0.]]],\n",
       "  \n",
       "  \n",
       "         [[[0.]]],\n",
       "  \n",
       "  \n",
       "         [[[0.]]],\n",
       "  \n",
       "  \n",
       "         [[[0.]]],\n",
       "  \n",
       "  \n",
       "         [[[0.]]],\n",
       "  \n",
       "  \n",
       "         [[[0.]]],\n",
       "  \n",
       "  \n",
       "         [[[0.]]],\n",
       "  \n",
       "  \n",
       "         [[[0.]]],\n",
       "  \n",
       "  \n",
       "         [[[0.]]],\n",
       "  \n",
       "  \n",
       "         [[[0.]]],\n",
       "  \n",
       "  \n",
       "         [[[0.]]],\n",
       "  \n",
       "  \n",
       "         [[[0.]]],\n",
       "  \n",
       "  \n",
       "         [[[0.]]],\n",
       "  \n",
       "  \n",
       "         [[[0.]]],\n",
       "  \n",
       "  \n",
       "         [[[0.]]],\n",
       "  \n",
       "  \n",
       "         [[[0.]]],\n",
       "  \n",
       "  \n",
       "         [[[0.]]],\n",
       "  \n",
       "  \n",
       "         [[[0.]]],\n",
       "  \n",
       "  \n",
       "         [[[0.]]],\n",
       "  \n",
       "  \n",
       "         [[[0.]]],\n",
       "  \n",
       "  \n",
       "         [[[0.]]],\n",
       "  \n",
       "  \n",
       "         [[[0.]]],\n",
       "  \n",
       "  \n",
       "         [[[0.]]],\n",
       "  \n",
       "  \n",
       "         [[[0.]]],\n",
       "  \n",
       "  \n",
       "         [[[0.]]],\n",
       "  \n",
       "  \n",
       "         [[[0.]]],\n",
       "  \n",
       "  \n",
       "         [[[0.]]],\n",
       "  \n",
       "  \n",
       "         [[[0.]]],\n",
       "  \n",
       "  \n",
       "         [[[0.]]],\n",
       "  \n",
       "  \n",
       "         [[[0.]]],\n",
       "  \n",
       "  \n",
       "         [[[0.]]],\n",
       "  \n",
       "  \n",
       "         [[[0.]]],\n",
       "  \n",
       "  \n",
       "         [[[0.]]],\n",
       "  \n",
       "  \n",
       "         [[[0.]]],\n",
       "  \n",
       "  \n",
       "         [[[0.]]],\n",
       "  \n",
       "  \n",
       "         [[[0.]]],\n",
       "  \n",
       "  \n",
       "         [[[0.]]],\n",
       "  \n",
       "  \n",
       "         [[[0.]]],\n",
       "  \n",
       "  \n",
       "         [[[0.]]],\n",
       "  \n",
       "  \n",
       "         [[[0.]]],\n",
       "  \n",
       "  \n",
       "         [[[0.]]],\n",
       "  \n",
       "  \n",
       "         [[[0.]]],\n",
       "  \n",
       "  \n",
       "         [[[0.]]],\n",
       "  \n",
       "  \n",
       "         [[[0.]]],\n",
       "  \n",
       "  \n",
       "         [[[0.]]],\n",
       "  \n",
       "  \n",
       "         [[[0.]]],\n",
       "  \n",
       "  \n",
       "         [[[0.]]],\n",
       "  \n",
       "  \n",
       "         [[[0.]]],\n",
       "  \n",
       "  \n",
       "         [[[0.]]],\n",
       "  \n",
       "  \n",
       "         [[[0.]]],\n",
       "  \n",
       "  \n",
       "         [[[0.]]],\n",
       "  \n",
       "  \n",
       "         [[[0.]]],\n",
       "  \n",
       "  \n",
       "         [[[0.]]],\n",
       "  \n",
       "  \n",
       "         [[[0.]]],\n",
       "  \n",
       "  \n",
       "         [[[0.]]],\n",
       "  \n",
       "  \n",
       "         [[[0.]]],\n",
       "  \n",
       "  \n",
       "         [[[0.]]],\n",
       "  \n",
       "  \n",
       "         [[[0.]]],\n",
       "  \n",
       "  \n",
       "         [[[0.]]],\n",
       "  \n",
       "  \n",
       "         [[[0.]]],\n",
       "  \n",
       "  \n",
       "         [[[0.]]],\n",
       "  \n",
       "  \n",
       "         [[[0.]]],\n",
       "  \n",
       "  \n",
       "         [[[0.]]],\n",
       "  \n",
       "  \n",
       "         [[[0.]]],\n",
       "  \n",
       "  \n",
       "         [[[0.]]],\n",
       "  \n",
       "  \n",
       "         [[[0.]]],\n",
       "  \n",
       "  \n",
       "         [[[0.]]],\n",
       "  \n",
       "  \n",
       "         [[[0.]]],\n",
       "  \n",
       "  \n",
       "         [[[0.]]],\n",
       "  \n",
       "  \n",
       "         [[[0.]]],\n",
       "  \n",
       "  \n",
       "         [[[0.]]],\n",
       "  \n",
       "  \n",
       "         [[[0.]]],\n",
       "  \n",
       "  \n",
       "         [[[0.]]],\n",
       "  \n",
       "  \n",
       "         [[[0.]]],\n",
       "  \n",
       "  \n",
       "         [[[0.]]],\n",
       "  \n",
       "  \n",
       "         [[[0.]]],\n",
       "  \n",
       "  \n",
       "         [[[0.]]],\n",
       "  \n",
       "  \n",
       "         [[[0.]]],\n",
       "  \n",
       "  \n",
       "         [[[0.]]],\n",
       "  \n",
       "  \n",
       "         [[[0.]]],\n",
       "  \n",
       "  \n",
       "         [[[0.]]],\n",
       "  \n",
       "  \n",
       "         [[[0.]]],\n",
       "  \n",
       "  \n",
       "         [[[0.]]],\n",
       "  \n",
       "  \n",
       "         [[[0.]]],\n",
       "  \n",
       "  \n",
       "         [[[0.]]],\n",
       "  \n",
       "  \n",
       "         [[[0.]]],\n",
       "  \n",
       "  \n",
       "         [[[0.]]],\n",
       "  \n",
       "  \n",
       "         [[[0.]]],\n",
       "  \n",
       "  \n",
       "         [[[0.]]],\n",
       "  \n",
       "  \n",
       "         [[[0.]]],\n",
       "  \n",
       "  \n",
       "         [[[0.]]],\n",
       "  \n",
       "  \n",
       "         [[[0.]]],\n",
       "  \n",
       "  \n",
       "         [[[0.]]],\n",
       "  \n",
       "  \n",
       "         [[[0.]]],\n",
       "  \n",
       "  \n",
       "         [[[0.]]],\n",
       "  \n",
       "  \n",
       "         [[[0.]]],\n",
       "  \n",
       "  \n",
       "         [[[0.]]],\n",
       "  \n",
       "  \n",
       "         [[[0.]]],\n",
       "  \n",
       "  \n",
       "         [[[0.]]],\n",
       "  \n",
       "  \n",
       "         [[[0.]]],\n",
       "  \n",
       "  \n",
       "         [[[0.]]]]),\n",
       "  'interval': array([[[0.],\n",
       "          [0.],\n",
       "          [0.],\n",
       "          ...,\n",
       "          [0.],\n",
       "          [0.],\n",
       "          [0.]],\n",
       "  \n",
       "         [[0.],\n",
       "          [0.],\n",
       "          [0.],\n",
       "          ...,\n",
       "          [0.],\n",
       "          [0.],\n",
       "          [0.]],\n",
       "  \n",
       "         [[0.],\n",
       "          [0.],\n",
       "          [0.],\n",
       "          ...,\n",
       "          [0.],\n",
       "          [0.],\n",
       "          [0.]],\n",
       "  \n",
       "         ...,\n",
       "  \n",
       "         [[0.],\n",
       "          [0.],\n",
       "          [0.],\n",
       "          ...,\n",
       "          [0.],\n",
       "          [0.],\n",
       "          [0.]],\n",
       "  \n",
       "         [[0.],\n",
       "          [0.],\n",
       "          [0.],\n",
       "          ...,\n",
       "          [0.],\n",
       "          [0.],\n",
       "          [0.]],\n",
       "  \n",
       "         [[0.],\n",
       "          [0.],\n",
       "          [0.],\n",
       "          ...,\n",
       "          [0.],\n",
       "          [0.],\n",
       "          [0.]]], dtype=float32),\n",
       "  'interval_mean': array([[0.],\n",
       "         [0.],\n",
       "         [0.],\n",
       "         [0.],\n",
       "         [0.],\n",
       "         [0.],\n",
       "         [0.],\n",
       "         [0.],\n",
       "         [0.],\n",
       "         [0.],\n",
       "         [0.],\n",
       "         [0.],\n",
       "         [0.],\n",
       "         [0.],\n",
       "         [0.],\n",
       "         [0.],\n",
       "         [0.],\n",
       "         [0.],\n",
       "         [0.],\n",
       "         [0.],\n",
       "         [0.],\n",
       "         [0.],\n",
       "         [0.],\n",
       "         [0.],\n",
       "         [0.],\n",
       "         [0.],\n",
       "         [0.],\n",
       "         [0.],\n",
       "         [0.],\n",
       "         [0.],\n",
       "         [0.],\n",
       "         [0.],\n",
       "         [0.],\n",
       "         [0.],\n",
       "         [0.],\n",
       "         [0.],\n",
       "         [0.],\n",
       "         [0.],\n",
       "         [0.],\n",
       "         [0.],\n",
       "         [0.],\n",
       "         [0.],\n",
       "         [0.],\n",
       "         [0.],\n",
       "         [0.],\n",
       "         [0.],\n",
       "         [0.],\n",
       "         [0.],\n",
       "         [0.],\n",
       "         [0.],\n",
       "         [0.],\n",
       "         [0.],\n",
       "         [0.],\n",
       "         [0.],\n",
       "         [0.],\n",
       "         [0.],\n",
       "         [0.],\n",
       "         [0.],\n",
       "         [0.],\n",
       "         [0.],\n",
       "         [0.],\n",
       "         [0.],\n",
       "         [0.],\n",
       "         [0.],\n",
       "         [0.],\n",
       "         [0.],\n",
       "         [0.],\n",
       "         [0.],\n",
       "         [0.],\n",
       "         [0.],\n",
       "         [0.],\n",
       "         [0.],\n",
       "         [0.],\n",
       "         [0.],\n",
       "         [0.],\n",
       "         [0.],\n",
       "         [0.],\n",
       "         [0.],\n",
       "         [0.],\n",
       "         [0.],\n",
       "         [0.],\n",
       "         [0.],\n",
       "         [0.],\n",
       "         [0.],\n",
       "         [0.],\n",
       "         [0.],\n",
       "         [0.],\n",
       "         [0.],\n",
       "         [0.],\n",
       "         [0.],\n",
       "         [0.],\n",
       "         [0.],\n",
       "         [0.],\n",
       "         [0.],\n",
       "         [0.],\n",
       "         [0.],\n",
       "         [0.],\n",
       "         [0.],\n",
       "         [0.],\n",
       "         [0.],\n",
       "         [0.],\n",
       "         [0.],\n",
       "         [0.],\n",
       "         [0.],\n",
       "         [0.],\n",
       "         [0.],\n",
       "         [0.],\n",
       "         [0.],\n",
       "         [0.],\n",
       "         [0.],\n",
       "         [0.],\n",
       "         [0.],\n",
       "         [0.],\n",
       "         [0.],\n",
       "         [0.],\n",
       "         [0.],\n",
       "         [0.],\n",
       "         [0.],\n",
       "         [0.],\n",
       "         [0.],\n",
       "         [0.],\n",
       "         [0.],\n",
       "         [0.],\n",
       "         [0.],\n",
       "         [0.],\n",
       "         [0.],\n",
       "         [0.],\n",
       "         [0.],\n",
       "         [0.],\n",
       "         [0.],\n",
       "         [0.],\n",
       "         [0.],\n",
       "         [0.],\n",
       "         [0.],\n",
       "         [0.],\n",
       "         [0.],\n",
       "         [0.],\n",
       "         [0.],\n",
       "         [0.],\n",
       "         [0.],\n",
       "         [0.],\n",
       "         [0.],\n",
       "         [0.],\n",
       "         [0.],\n",
       "         [0.],\n",
       "         [0.],\n",
       "         [0.],\n",
       "         [0.],\n",
       "         [0.],\n",
       "         [0.],\n",
       "         [0.],\n",
       "         [0.],\n",
       "         [0.],\n",
       "         [0.],\n",
       "         [0.],\n",
       "         [0.],\n",
       "         [0.],\n",
       "         [0.],\n",
       "         [0.],\n",
       "         [0.],\n",
       "         [0.],\n",
       "         [0.],\n",
       "         [0.],\n",
       "         [0.],\n",
       "         [0.],\n",
       "         [0.],\n",
       "         [0.],\n",
       "         [0.],\n",
       "         [0.],\n",
       "         [0.],\n",
       "         [0.],\n",
       "         [0.],\n",
       "         [0.],\n",
       "         [0.],\n",
       "         [0.],\n",
       "         [0.],\n",
       "         [0.],\n",
       "         [0.],\n",
       "         [0.],\n",
       "         [0.],\n",
       "         [0.],\n",
       "         [0.],\n",
       "         [0.],\n",
       "         [0.],\n",
       "         [0.],\n",
       "         [0.],\n",
       "         [0.],\n",
       "         [0.],\n",
       "         [0.],\n",
       "         [0.],\n",
       "         [0.],\n",
       "         [0.],\n",
       "         [0.],\n",
       "         [0.],\n",
       "         [0.],\n",
       "         [0.],\n",
       "         [0.],\n",
       "         [0.],\n",
       "         [0.],\n",
       "         [0.],\n",
       "         [0.],\n",
       "         [0.],\n",
       "         [0.],\n",
       "         [0.],\n",
       "         [0.],\n",
       "         [0.],\n",
       "         [0.],\n",
       "         [0.],\n",
       "         [0.],\n",
       "         [0.],\n",
       "         [0.],\n",
       "         [0.],\n",
       "         [0.],\n",
       "         [0.],\n",
       "         [0.],\n",
       "         [0.],\n",
       "         [0.],\n",
       "         [0.],\n",
       "         [0.],\n",
       "         [0.],\n",
       "         [0.],\n",
       "         [0.],\n",
       "         [0.],\n",
       "         [0.],\n",
       "         [0.],\n",
       "         [0.],\n",
       "         [0.],\n",
       "         [0.],\n",
       "         [0.],\n",
       "         [0.],\n",
       "         [0.],\n",
       "         [0.],\n",
       "         [0.],\n",
       "         [0.],\n",
       "         [0.],\n",
       "         [0.],\n",
       "         [0.],\n",
       "         [0.],\n",
       "         [0.],\n",
       "         [0.],\n",
       "         [0.],\n",
       "         [0.],\n",
       "         [0.],\n",
       "         [0.],\n",
       "         [0.],\n",
       "         [0.],\n",
       "         [0.],\n",
       "         [0.],\n",
       "         [0.],\n",
       "         [0.],\n",
       "         [0.],\n",
       "         [0.],\n",
       "         [0.],\n",
       "         [0.],\n",
       "         [0.],\n",
       "         [0.],\n",
       "         [0.],\n",
       "         [0.],\n",
       "         [0.],\n",
       "         [0.],\n",
       "         [0.],\n",
       "         [0.],\n",
       "         [0.],\n",
       "         [0.],\n",
       "         [0.],\n",
       "         [0.],\n",
       "         [0.],\n",
       "         [0.],\n",
       "         [0.],\n",
       "         [0.],\n",
       "         [0.],\n",
       "         [0.],\n",
       "         [0.],\n",
       "         [0.],\n",
       "         [0.],\n",
       "         [0.],\n",
       "         [0.],\n",
       "         [0.],\n",
       "         [0.],\n",
       "         [0.],\n",
       "         [0.],\n",
       "         [0.],\n",
       "         [0.],\n",
       "         [0.],\n",
       "         [0.],\n",
       "         [0.],\n",
       "         [0.],\n",
       "         [0.],\n",
       "         [0.],\n",
       "         [0.],\n",
       "         [0.],\n",
       "         [0.],\n",
       "         [0.],\n",
       "         [0.],\n",
       "         [0.],\n",
       "         [0.],\n",
       "         [0.],\n",
       "         [0.],\n",
       "         [0.],\n",
       "         [0.],\n",
       "         [0.],\n",
       "         [0.],\n",
       "         [0.],\n",
       "         [0.],\n",
       "         [0.],\n",
       "         [0.],\n",
       "         [0.],\n",
       "         [0.],\n",
       "         [0.],\n",
       "         [0.],\n",
       "         [0.],\n",
       "         [0.],\n",
       "         [0.],\n",
       "         [0.],\n",
       "         [0.],\n",
       "         [0.],\n",
       "         [0.],\n",
       "         [0.],\n",
       "         [0.],\n",
       "         [0.],\n",
       "         [0.],\n",
       "         [0.],\n",
       "         [0.],\n",
       "         [0.],\n",
       "         [0.],\n",
       "         [0.],\n",
       "         [0.],\n",
       "         [0.],\n",
       "         [0.],\n",
       "         [0.],\n",
       "         [0.],\n",
       "         [0.],\n",
       "         [0.],\n",
       "         [0.],\n",
       "         [0.],\n",
       "         [0.],\n",
       "         [0.],\n",
       "         [0.],\n",
       "         [0.],\n",
       "         [0.],\n",
       "         [0.],\n",
       "         [0.],\n",
       "         [0.],\n",
       "         [0.],\n",
       "         [0.],\n",
       "         [0.],\n",
       "         [0.],\n",
       "         [0.],\n",
       "         [0.],\n",
       "         [0.],\n",
       "         [0.],\n",
       "         [0.],\n",
       "         [0.],\n",
       "         [0.],\n",
       "         [0.],\n",
       "         [0.],\n",
       "         [0.],\n",
       "         [0.],\n",
       "         [0.],\n",
       "         [0.],\n",
       "         [0.],\n",
       "         [0.],\n",
       "         [0.],\n",
       "         [0.],\n",
       "         [0.],\n",
       "         [0.],\n",
       "         [0.],\n",
       "         [0.],\n",
       "         [0.],\n",
       "         [0.],\n",
       "         [0.],\n",
       "         [0.],\n",
       "         [0.],\n",
       "         [0.],\n",
       "         [0.],\n",
       "         [0.],\n",
       "         [0.],\n",
       "         [0.],\n",
       "         [0.],\n",
       "         [0.],\n",
       "         [0.],\n",
       "         [0.],\n",
       "         [0.],\n",
       "         [0.],\n",
       "         [0.],\n",
       "         [0.],\n",
       "         [0.],\n",
       "         [0.],\n",
       "         [0.],\n",
       "         [0.],\n",
       "         [0.],\n",
       "         [0.],\n",
       "         [0.],\n",
       "         [0.],\n",
       "         [0.],\n",
       "         [0.],\n",
       "         [0.],\n",
       "         [0.],\n",
       "         [0.],\n",
       "         [0.],\n",
       "         [0.],\n",
       "         [0.],\n",
       "         [0.],\n",
       "         [0.],\n",
       "         [0.],\n",
       "         [0.],\n",
       "         [0.],\n",
       "         [0.],\n",
       "         [0.],\n",
       "         [0.],\n",
       "         [0.],\n",
       "         [0.],\n",
       "         [0.],\n",
       "         [0.],\n",
       "         [0.],\n",
       "         [0.],\n",
       "         [0.],\n",
       "         [0.],\n",
       "         [0.],\n",
       "         [0.],\n",
       "         [0.],\n",
       "         [0.],\n",
       "         [0.],\n",
       "         [0.],\n",
       "         [0.],\n",
       "         [0.],\n",
       "         [0.],\n",
       "         [0.],\n",
       "         [0.],\n",
       "         [0.],\n",
       "         [0.],\n",
       "         [0.],\n",
       "         [0.],\n",
       "         [0.],\n",
       "         [0.],\n",
       "         [0.],\n",
       "         [0.],\n",
       "         [0.],\n",
       "         [0.],\n",
       "         [0.],\n",
       "         [0.],\n",
       "         [0.],\n",
       "         [0.],\n",
       "         [0.],\n",
       "         [0.],\n",
       "         [0.],\n",
       "         [0.],\n",
       "         [0.],\n",
       "         [0.],\n",
       "         [0.],\n",
       "         [0.],\n",
       "         [0.],\n",
       "         [0.],\n",
       "         [0.],\n",
       "         [0.],\n",
       "         [0.],\n",
       "         [0.],\n",
       "         [0.],\n",
       "         [0.],\n",
       "         [0.],\n",
       "         [0.],\n",
       "         [0.],\n",
       "         [0.],\n",
       "         [0.],\n",
       "         [0.],\n",
       "         [0.],\n",
       "         [0.],\n",
       "         [0.],\n",
       "         [0.],\n",
       "         [0.],\n",
       "         [0.],\n",
       "         [0.],\n",
       "         [0.],\n",
       "         [0.],\n",
       "         [0.],\n",
       "         [0.],\n",
       "         [0.],\n",
       "         [0.],\n",
       "         [0.],\n",
       "         [0.],\n",
       "         [0.],\n",
       "         [0.],\n",
       "         [0.],\n",
       "         [0.],\n",
       "         [0.],\n",
       "         [0.],\n",
       "         [0.],\n",
       "         [0.],\n",
       "         [0.],\n",
       "         [0.],\n",
       "         [0.],\n",
       "         [0.],\n",
       "         [0.],\n",
       "         [0.],\n",
       "         [0.],\n",
       "         [0.],\n",
       "         [0.],\n",
       "         [0.],\n",
       "         [0.],\n",
       "         [0.],\n",
       "         [0.],\n",
       "         [0.],\n",
       "         [0.],\n",
       "         [0.],\n",
       "         [0.],\n",
       "         [0.],\n",
       "         [0.],\n",
       "         [0.],\n",
       "         [0.],\n",
       "         [0.],\n",
       "         [0.],\n",
       "         [0.],\n",
       "         [0.],\n",
       "         [0.],\n",
       "         [0.],\n",
       "         [0.],\n",
       "         [0.],\n",
       "         [0.],\n",
       "         [0.],\n",
       "         [0.],\n",
       "         [0.],\n",
       "         [0.],\n",
       "         [0.],\n",
       "         [0.],\n",
       "         [0.],\n",
       "         [0.],\n",
       "         [0.],\n",
       "         [0.],\n",
       "         [0.],\n",
       "         [0.],\n",
       "         [0.],\n",
       "         [0.],\n",
       "         [0.],\n",
       "         [0.],\n",
       "         [0.],\n",
       "         [0.],\n",
       "         [0.],\n",
       "         [0.],\n",
       "         [0.],\n",
       "         [0.],\n",
       "         [0.],\n",
       "         [0.],\n",
       "         [0.],\n",
       "         [0.],\n",
       "         [0.],\n",
       "         [0.],\n",
       "         [0.],\n",
       "         [0.],\n",
       "         [0.],\n",
       "         [0.],\n",
       "         [0.],\n",
       "         [0.],\n",
       "         [0.],\n",
       "         [0.],\n",
       "         [0.],\n",
       "         [0.],\n",
       "         [0.],\n",
       "         [0.],\n",
       "         [0.],\n",
       "         [0.],\n",
       "         [0.],\n",
       "         [0.],\n",
       "         [0.],\n",
       "         [0.],\n",
       "         [0.],\n",
       "         [0.],\n",
       "         [0.],\n",
       "         [0.],\n",
       "         [0.],\n",
       "         [0.],\n",
       "         [0.],\n",
       "         [0.],\n",
       "         [0.],\n",
       "         [0.],\n",
       "         [0.],\n",
       "         [0.],\n",
       "         [0.],\n",
       "         [0.],\n",
       "         [0.],\n",
       "         [0.],\n",
       "         [0.],\n",
       "         [0.],\n",
       "         [0.],\n",
       "         [0.],\n",
       "         [0.],\n",
       "         [0.],\n",
       "         [0.],\n",
       "         [0.],\n",
       "         [0.],\n",
       "         [0.],\n",
       "         [0.],\n",
       "         [0.],\n",
       "         [0.],\n",
       "         [0.],\n",
       "         [0.],\n",
       "         [0.],\n",
       "         [0.],\n",
       "         [0.],\n",
       "         [0.],\n",
       "         [0.],\n",
       "         [0.],\n",
       "         [0.],\n",
       "         [0.],\n",
       "         [0.],\n",
       "         [0.],\n",
       "         [0.],\n",
       "         [0.],\n",
       "         [0.],\n",
       "         [0.],\n",
       "         [0.],\n",
       "         [0.],\n",
       "         [0.],\n",
       "         [0.],\n",
       "         [0.],\n",
       "         [0.],\n",
       "         [0.],\n",
       "         [0.],\n",
       "         [0.],\n",
       "         [0.],\n",
       "         [0.],\n",
       "         [0.],\n",
       "         [0.],\n",
       "         [0.],\n",
       "         [0.],\n",
       "         [0.],\n",
       "         [0.],\n",
       "         [0.],\n",
       "         [0.],\n",
       "         [0.],\n",
       "         [0.],\n",
       "         [0.]]),\n",
       "  'mm_labels': array([[0.8, 0.2],\n",
       "         [0.8, 0.2],\n",
       "         [1. , 0. ],\n",
       "         ...,\n",
       "         [0. , 1. ],\n",
       "         [0. , 1. ],\n",
       "         [1. , 0. ]]),\n",
       "  'out_labels': array([[1, 0],\n",
       "         [1, 0],\n",
       "         [1, 0],\n",
       "         ...,\n",
       "         [0, 1],\n",
       "         [0, 1],\n",
       "         [0, 1]]),\n",
       "  'partial_raw': array([], dtype=float64)},\n",
       " (120, 313, 1),\n",
       " (1, 1, 1),\n",
       " (1, 1, 1),\n",
       " (130, 1))"
      ]
     },
     "execution_count": 84,
     "metadata": {},
     "output_type": "execute_result"
    }
   ],
   "source": [
    "data2"
   ]
  },
  {
   "cell_type": "code",
   "execution_count": 85,
   "id": "12c3b600",
   "metadata": {},
   "outputs": [],
   "source": [
    "features_trn, mel_input_shape, cqt_input_shape,stft_input_shape,interval_input_shape=data1\n",
    "features_test, mel_input_shape, cqt_input_shape,stft_input_shape,interval_input_shape=data2 "
   ]
  },
  {
   "cell_type": "code",
   "execution_count": 86,
   "id": "827621fc",
   "metadata": {},
   "outputs": [
    {
     "data": {
      "text/plain": [
       "{'id': array(['2530', '2530', '2530', ..., '85349', '85349', '85349'],\n",
       "       dtype='<U5'),\n",
       " 'age': array([[0, 0, 1, 0, 0, 0],\n",
       "        [0, 0, 1, 0, 0, 0],\n",
       "        [0, 0, 1, 0, 0, 0],\n",
       "        ...,\n",
       "        [0, 0, 0, 0, 0, 1],\n",
       "        [0, 0, 0, 0, 0, 1],\n",
       "        [0, 0, 0, 0, 0, 1]]),\n",
       " 'sex': array([[1, 0],\n",
       "        [1, 0],\n",
       "        [1, 0],\n",
       "        ...,\n",
       "        [1, 0],\n",
       "        [1, 0],\n",
       "        [1, 0]]),\n",
       " 'hw': array([[ 98.   ,  15.9  ],\n",
       "        [ 98.   ,  15.9  ],\n",
       "        [ 98.   ,  15.9  ],\n",
       "        ...,\n",
       "        [110.846,  23.767],\n",
       "        [110.846,  23.767],\n",
       "        [110.846,  23.767]]),\n",
       " 'preg': array([False, False, False, ...,  True,  True,  True]),\n",
       " 'loc': array([[1., 0., 0., 0., 0.],\n",
       "        [0., 0., 1., 0., 0.],\n",
       "        [0., 0., 0., 1., 0.],\n",
       "        ...,\n",
       "        [1., 0., 0., 0., 0.],\n",
       "        [0., 0., 1., 0., 0.],\n",
       "        [0., 0., 0., 1., 0.]]),\n",
       " 'mel1': array([[[[-15.12594986],\n",
       "          [-14.65352917],\n",
       "          [-14.39900875],\n",
       "          ...,\n",
       "          [ -8.60621357],\n",
       "          [ -8.93592072],\n",
       "          [ -8.77223015]],\n",
       " \n",
       "         [[-10.56965446],\n",
       "          [-13.46643257],\n",
       "          [ -9.42702198],\n",
       "          ...,\n",
       "          [ -8.97393703],\n",
       "          [-14.96098995],\n",
       "          [ -2.31938028]],\n",
       " \n",
       "         [[ -7.38689995],\n",
       "          [-10.26155472],\n",
       "          [-13.31231499],\n",
       "          ...,\n",
       "          [-15.15819168],\n",
       "          [-12.62127781],\n",
       "          [ -5.62352371]],\n",
       " \n",
       "         ...,\n",
       " \n",
       "         [[-51.09925079],\n",
       "          [-60.08057404],\n",
       "          [-55.80835724],\n",
       "          ...,\n",
       "          [-45.37825012],\n",
       "          [-49.44011307],\n",
       "          [-51.51710892]],\n",
       " \n",
       "         [[-49.40127563],\n",
       "          [-59.03009033],\n",
       "          [-60.08057404],\n",
       "          ...,\n",
       "          [-46.29138565],\n",
       "          [-58.40640259],\n",
       "          [-56.086483  ]],\n",
       " \n",
       "         [[-50.34918976],\n",
       "          [-60.08057404],\n",
       "          [-60.08057404],\n",
       "          ...,\n",
       "          [-53.51706696],\n",
       "          [-55.55088043],\n",
       "          [-59.34677505]]],\n",
       " \n",
       " \n",
       "        [[[ -1.90067698],\n",
       "          [ -9.22702257],\n",
       "          [-10.22435537],\n",
       "          ...,\n",
       "          [-15.3590908 ],\n",
       "          [-12.19832255],\n",
       "          [-11.98655412]],\n",
       " \n",
       "         [[ -4.01255471],\n",
       "          [ -4.29327998],\n",
       "          [ -8.67754694],\n",
       "          ...,\n",
       "          [ -0.44924895],\n",
       "          [ -8.79860044],\n",
       "          [ -4.9939627 ]],\n",
       " \n",
       "         [[ -1.53407166],\n",
       "          [ -2.10058225],\n",
       "          [ -8.06389142],\n",
       "          ...,\n",
       "          [  0.49558157],\n",
       "          [ -1.17078395],\n",
       "          [ -5.79713989]],\n",
       " \n",
       "         ...,\n",
       " \n",
       "         [[-38.14068486],\n",
       "          [-62.11140466],\n",
       "          [-62.82804704],\n",
       "          ...,\n",
       "          [-61.04424197],\n",
       "          [-62.82804704],\n",
       "          [-49.19502384]],\n",
       " \n",
       "         [[-38.14600918],\n",
       "          [-62.65823034],\n",
       "          [-59.6735765 ],\n",
       "          ...,\n",
       "          [-60.84197212],\n",
       "          [-62.82804704],\n",
       "          [-51.09626592]],\n",
       " \n",
       "         [[-37.88663424],\n",
       "          [-62.82804704],\n",
       "          [-62.82804704],\n",
       "          ...,\n",
       "          [-60.66260418],\n",
       "          [-62.5742097 ],\n",
       "          [-51.92788381]]],\n",
       " \n",
       " \n",
       "        [[[ -1.41026361],\n",
       "          [-11.06802055],\n",
       "          [-10.78365364],\n",
       "          ...,\n",
       "          [-17.30436445],\n",
       "          [-14.80534801],\n",
       "          [-16.33802052]],\n",
       " \n",
       "         [[ -1.41362368],\n",
       "          [ -4.46222677],\n",
       "          [-10.37827033],\n",
       "          ...,\n",
       "          [ -6.78731322],\n",
       "          [ -5.29492159],\n",
       "          [-16.88412978]],\n",
       " \n",
       "         [[ -4.97290131],\n",
       "          [ -2.91298214],\n",
       "          [-12.01463785],\n",
       "          ...,\n",
       "          [ -6.2881757 ],\n",
       "          [ -1.73122686],\n",
       "          [-24.24822596]],\n",
       " \n",
       "         ...,\n",
       " \n",
       "         [[-37.33565604],\n",
       "          [-55.29244544],\n",
       "          [-56.80720755],\n",
       "          ...,\n",
       "          [-61.00797755],\n",
       "          [-60.65827639],\n",
       "          [-55.96566573]],\n",
       " \n",
       "         [[-37.40473098],\n",
       "          [-53.02836707],\n",
       "          [-55.43610936],\n",
       "          ...,\n",
       "          [-63.03803739],\n",
       "          [-56.61984212],\n",
       "          [-61.60182374]],\n",
       " \n",
       "         [[-37.8941128 ],\n",
       "          [-52.84580418],\n",
       "          [-58.18272779],\n",
       "          ...,\n",
       "          [-64.15895375],\n",
       "          [-59.716374  ],\n",
       "          [-60.50666717]]],\n",
       " \n",
       " \n",
       "        ...,\n",
       " \n",
       " \n",
       "        [[[-16.14960135],\n",
       "          [-18.7540464 ],\n",
       "          [-20.84530097],\n",
       "          ...,\n",
       "          [-14.78096226],\n",
       "          [-18.75220182],\n",
       "          [-19.89924355]],\n",
       " \n",
       "         [[-10.98121325],\n",
       "          [-16.48793562],\n",
       "          [-13.39742462],\n",
       "          ...,\n",
       "          [-11.81953767],\n",
       "          [-16.49406827],\n",
       "          [-13.97192277]],\n",
       " \n",
       "         [[ -9.44282811],\n",
       "          [-17.37371434],\n",
       "          [-17.96815328],\n",
       "          ...,\n",
       "          [ -4.95331777],\n",
       "          [-17.40986432],\n",
       "          [-17.9305055 ]],\n",
       " \n",
       "         ...,\n",
       " \n",
       "         [[-51.60237224],\n",
       "          [-39.59532736],\n",
       "          [-33.91219451],\n",
       "          ...,\n",
       "          [-42.45148953],\n",
       "          [-39.46978879],\n",
       "          [-34.49061018]],\n",
       " \n",
       "         [[-47.09322059],\n",
       "          [-42.77812954],\n",
       "          [-33.96772419],\n",
       "          ...,\n",
       "          [-41.54408965],\n",
       "          [-42.66664657],\n",
       "          [-33.5140241 ]],\n",
       " \n",
       "         [[-51.44299218],\n",
       "          [-39.26255899],\n",
       "          [-31.89733817],\n",
       "          ...,\n",
       "          [-43.60765195],\n",
       "          [-39.17466716],\n",
       "          [-32.05940828]]],\n",
       " \n",
       " \n",
       "        [[[ -9.0042258 ],\n",
       "          [-11.25296394],\n",
       "          [-13.21284338],\n",
       "          ...,\n",
       "          [ -4.52394187],\n",
       "          [ -7.56016079],\n",
       "          [-11.87575143]],\n",
       " \n",
       "         [[ -5.69535889],\n",
       "          [ -8.17357856],\n",
       "          [ -9.29960224],\n",
       "          ...,\n",
       "          [ -2.77248656],\n",
       "          [ -6.51035855],\n",
       "          [-10.33947735]],\n",
       " \n",
       "         [[ -6.93680466],\n",
       "          [ -7.12652179],\n",
       "          [ -9.14069314],\n",
       "          ...,\n",
       "          [ -4.21189097],\n",
       "          [ -8.8793984 ],\n",
       "          [-13.65813036]],\n",
       " \n",
       "         ...,\n",
       " \n",
       "         [[-29.57277001],\n",
       "          [-52.10072628],\n",
       "          [-48.16715487],\n",
       "          ...,\n",
       "          [-31.38316585],\n",
       "          [-45.25276586],\n",
       "          [-48.05074657]],\n",
       " \n",
       "         [[-29.93313822],\n",
       "          [-52.3227917 ],\n",
       "          [-51.52051748],\n",
       "          ...,\n",
       "          [-31.02588116],\n",
       "          [-46.216388  ],\n",
       "          [-52.18887843]],\n",
       " \n",
       "         [[-30.13842235],\n",
       "          [-56.34251596],\n",
       "          [-52.17515735],\n",
       "          ...,\n",
       "          [-31.49503785],\n",
       "          [-47.07253201],\n",
       "          [-51.08512232]]],\n",
       " \n",
       " \n",
       "        [[[-16.09051378],\n",
       "          [-13.42694527],\n",
       "          [-15.25985538],\n",
       "          ...,\n",
       "          [-19.33574238],\n",
       "          [-25.0179146 ],\n",
       "          [-18.86703822]],\n",
       " \n",
       "         [[-19.78055389],\n",
       "          [-13.92452466],\n",
       "          [ -9.66445939],\n",
       "          ...,\n",
       "          [-12.40624482],\n",
       "          [-20.2036109 ],\n",
       "          [-13.0258491 ]],\n",
       " \n",
       "         [[-21.09787014],\n",
       "          [-14.33797312],\n",
       "          [ -8.95191987],\n",
       "          ...,\n",
       "          [-15.73635822],\n",
       "          [-12.48785336],\n",
       "          [-14.3781202 ]],\n",
       " \n",
       "         ...,\n",
       " \n",
       "         [[-27.52711034],\n",
       "          [-47.34181047],\n",
       "          [-48.03050048],\n",
       "          ...,\n",
       "          [-46.2879869 ],\n",
       "          [-45.2075984 ],\n",
       "          [-47.65442324]],\n",
       " \n",
       "         [[-27.73436062],\n",
       "          [-47.17113854],\n",
       "          [-52.8865994 ],\n",
       "          ...,\n",
       "          [-47.709652  ],\n",
       "          [-51.81786775],\n",
       "          [-53.26915692]],\n",
       " \n",
       "         [[-28.05545261],\n",
       "          [-50.06466345],\n",
       "          [-57.53341089],\n",
       "          ...,\n",
       "          [-50.44851861],\n",
       "          [-51.94556294],\n",
       "          [-46.89899723]]]]),\n",
       " 'cqt1': array([[[[0.]]],\n",
       " \n",
       " \n",
       "        [[[0.]]],\n",
       " \n",
       " \n",
       "        [[[0.]]],\n",
       " \n",
       " \n",
       "        ...,\n",
       " \n",
       " \n",
       "        [[[0.]]],\n",
       " \n",
       " \n",
       "        [[[0.]]],\n",
       " \n",
       " \n",
       "        [[[0.]]]]),\n",
       " 'stft1': array([[[[0.]]],\n",
       " \n",
       " \n",
       "        [[[0.]]],\n",
       " \n",
       " \n",
       "        [[[0.]]],\n",
       " \n",
       " \n",
       "        ...,\n",
       " \n",
       " \n",
       "        [[[0.]]],\n",
       " \n",
       " \n",
       "        [[[0.]]],\n",
       " \n",
       " \n",
       "        [[[0.]]]]),\n",
       " 'interval': array([[[0.],\n",
       "         [0.],\n",
       "         [0.],\n",
       "         ...,\n",
       "         [0.],\n",
       "         [0.],\n",
       "         [0.]],\n",
       " \n",
       "        [[0.],\n",
       "         [0.],\n",
       "         [0.],\n",
       "         ...,\n",
       "         [0.],\n",
       "         [0.],\n",
       "         [0.]],\n",
       " \n",
       "        [[0.],\n",
       "         [0.],\n",
       "         [0.],\n",
       "         ...,\n",
       "         [0.],\n",
       "         [0.],\n",
       "         [0.]],\n",
       " \n",
       "        ...,\n",
       " \n",
       "        [[0.],\n",
       "         [0.],\n",
       "         [0.],\n",
       "         ...,\n",
       "         [0.],\n",
       "         [0.],\n",
       "         [0.]],\n",
       " \n",
       "        [[0.],\n",
       "         [0.],\n",
       "         [0.],\n",
       "         ...,\n",
       "         [0.],\n",
       "         [0.],\n",
       "         [0.]],\n",
       " \n",
       "        [[0.],\n",
       "         [0.],\n",
       "         [0.],\n",
       "         ...,\n",
       "         [0.],\n",
       "         [0.],\n",
       "         [0.]]], dtype=float32),\n",
       " 'interval_mean': array([[0.],\n",
       "        [0.],\n",
       "        [0.],\n",
       "        ...,\n",
       "        [0.],\n",
       "        [0.],\n",
       "        [0.]]),\n",
       " 'mm_labels': array([[0., 1.],\n",
       "        [0., 1.],\n",
       "        [0., 1.],\n",
       "        ...,\n",
       "        [0., 1.],\n",
       "        [0., 1.],\n",
       "        [0., 1.]]),\n",
       " 'out_labels': array([[1, 0],\n",
       "        [1, 0],\n",
       "        [1, 0],\n",
       "        ...,\n",
       "        [0, 1],\n",
       "        [0, 1],\n",
       "        [0, 1]]),\n",
       " 'partial_raw': array([], dtype=float64)}"
      ]
     },
     "execution_count": 86,
     "metadata": {},
     "output_type": "execute_result"
    }
   ],
   "source": [
    "features_trn"
   ]
  },
  {
   "cell_type": "code",
   "execution_count": 87,
   "id": "ea93a8f0",
   "metadata": {},
   "outputs": [
    {
     "data": {
      "text/plain": [
       "{'id': array(['33151', '33151', '33151', '33151', '38337', '38337', '40798',\n",
       "        '40798', '40798', '40798', '49558', '49558', '49572', '49572',\n",
       "        '49572', '49607', '49628', '49628', '49628', '49628', '49641',\n",
       "        '49641', '49641', '49641', '49653', '49653', '49653', '49653',\n",
       "        '49683', '49683', '49683', '49683', '49691', '49691', '49691',\n",
       "        '49691', '49761', '49761', '49824', '49824', '49824', '49829',\n",
       "        '49829', '49829', '49829', '49832', '49832', '49896', '49896',\n",
       "        '49896', '49896', '49952', '49952', '49952', '49952', '49952',\n",
       "        '49978', '49980', '49980', '49980', '49980', '49983', '49983',\n",
       "        '49983', '49983', '50006', '50006', '50012', '50026', '50026',\n",
       "        '50047', '50047', '50047', '50049', '50049', '50049', '50049',\n",
       "        '50067', '50067', '50067', '50075', '50075', '50079', '50079',\n",
       "        '50079', '50086', '50086', '50086', '50104', '50104', '50104',\n",
       "        '50104', '50105', '50105', '50105', '50143', '50143', '50145',\n",
       "        '50155', '50155', '50155', '50164', '50164', '50164', '50165',\n",
       "        '50165', '50165', '50168', '50168', '50168', '50210', '50210',\n",
       "        '50210', '50210', '50210', '50213', '50213', '50213', '50213',\n",
       "        '50214', '50214', '50218', '50218', '50218', '50218', '50219',\n",
       "        '50219', '50219', '50249', '50249', '50249', '50255', '50255',\n",
       "        '50260', '50260', '50260', '50260', '50275', '50275', '50275',\n",
       "        '50275', '50289', '50289', '50289', '50289', '50299', '50299',\n",
       "        '50299', '50299', '50330', '50330', '50341', '50341', '50342',\n",
       "        '50342', '50348', '50348', '50348', '50348', '50348', '50375',\n",
       "        '50375', '50386', '50386', '50386', '50386', '50619', '50619',\n",
       "        '50619', '50619', '50624', '50624', '50624', '50624', '50631',\n",
       "        '50631', '50640', '50641', '50641', '50641', '50643', '50643',\n",
       "        '50644', '50644', '50656', '50656', '50656', '50656', '50656',\n",
       "        '50659', '50659', '50659', '50659', '50664', '50664', '50671',\n",
       "        '50685', '50685', '50685', '50693', '50693', '50693', '50693',\n",
       "        '50699', '50699', '50699', '50699', '50708', '50708', '50708',\n",
       "        '50708', '50734', '50734', '50734', '50734', '50734', '50737',\n",
       "        '50737', '50737', '50743', '50743', '50743', '50743', '50757',\n",
       "        '50757', '50757', '50757', '50770', '50770', '50770', '50770',\n",
       "        '50774', '50774', '50774', '50781', '50781', '50781', '50781',\n",
       "        '50800', '50800', '50800', '50800', '50815', '50815', '50815',\n",
       "        '50815', '51064', '59536', '59536', '61117', '61117', '61117',\n",
       "        '61117', '68255', '68255', '68255', '68255', '68306', '68306',\n",
       "        '68306', '68306', '68327', '68327', '68327', '68327', '68330',\n",
       "        '68404', '68404', '68404', '68406', '68406', '68406', '68406',\n",
       "        '68423', '68423', '68423', '68423', '68432', '68432', '68432',\n",
       "        '68432', '68435', '68435', '68436', '68436', '68436', '68436',\n",
       "        '68449', '68449', '68449', '68460', '68460', '68460', '68460',\n",
       "        '68484', '68484', '68484', '68484', '68545', '68545', '68545',\n",
       "        '68545', '68682', '68682', '68682', '68682', '68698', '68698',\n",
       "        '68698', '68698', '68738', '68738', '68738', '68738', '68796',\n",
       "        '68796', '68796', '68796', '68887', '68887', '68887', '68952',\n",
       "        '68952', '68952', '68952', '69060', '69060', '69060', '69060',\n",
       "        '69068', '69068', '69068', '69068', '69112', '69112', '69112',\n",
       "        '69112', '69125', '69125', '69125', '69125', '69144', '69144',\n",
       "        '69144', '69144', '69147', '69147', '69147', '69147', '70280',\n",
       "        '70280', '73316', '73316', '73316', '73316', '73497', '73497',\n",
       "        '73497', '73497', '74417', '74417', '74417', '74417', '81035',\n",
       "        '84692', '84692', '84692', '84692', '84708', '84708', '84711',\n",
       "        '84711', '84711', '84711', '84720', '84733', '84733', '84733',\n",
       "        '84733', '84734', '84734', '84734', '84734', '84743', '84743',\n",
       "        '84743', '84743', '84758', '84758', '84758', '84758', '84760',\n",
       "        '84760', '84760', '84813', '84813', '84813', '84813', '84814',\n",
       "        '84814', '84822', '84822', '84822', '84822', '84826', '84826',\n",
       "        '84826', '84826', '84829', '84829', '84829', '84829', '84840',\n",
       "        '84840', '84852', '84852', '84852', '84852', '84855', '84855',\n",
       "        '84855', '84856', '84856', '84856', '84856', '84857', '84857',\n",
       "        '84865', '84865', '84865', '84865', '84874', '84874', '84874',\n",
       "        '84874', '84879', '84879', '84879', '84879', '84893', '84893',\n",
       "        '84896', '84896', '84896', '84896', '84900', '84900', '84917',\n",
       "        '84917', '84917', '84917', '84920', '84920', '84920', '84920',\n",
       "        '84923', '84923', '84923', '84923', '84931', '84931', '84931',\n",
       "        '84931', '84952', '84952', '84952', '84961', '84961', '84961',\n",
       "        '84961', '84973', '84973', '84973', '84973', '84974', '84974',\n",
       "        '84974', '84974', '84978', '84978', '84978', '84978', '84982',\n",
       "        '84982', '84982', '84982', '84986', '84986', '84986', '84986',\n",
       "        '84990', '84990', '84990', '84990', '84993', '84993', '84993',\n",
       "        '84993', '85024', '85024', '85024', '85024', '85043', '85043',\n",
       "        '85043', '85069', '85069', '85069', '85069', '85079', '85079',\n",
       "        '85079', '85079', '85081', '85081', '85084', '85084', '85084',\n",
       "        '85100', '85100', '85108', '85108', '85108', '85108', '85115',\n",
       "        '85115', '85115', '85115', '85118', '85118', '85118', '85118',\n",
       "        '85121', '85121', '85121', '85121', '85128', '85128', '85128',\n",
       "        '85128', '85132', '85132', '85132', '85132', '85133', '85133',\n",
       "        '85133', '85133', '85134', '85134', '85134', '85134', '85140',\n",
       "        '85140', '85140', '85144', '85144', '85145', '85152', '85152',\n",
       "        '85152', '85152', '85155', '85162', '85162', '85162', '85162',\n",
       "        '85165', '85165', '85166', '85166', '85166', '85166', '85167',\n",
       "        '85167', '85181', '85181', '85184', '85184', '85184', '85184',\n",
       "        '85216', '85216', '85216', '85216', '85219', '85219', '85219',\n",
       "        '85219', '85225', '85225', '85225', '85225', '85242', '85247',\n",
       "        '85247', '85247', '85247', '85261', '85261', '85261', '85261',\n",
       "        '85279', '85279', '85279', '85279', '85282', '85282', '85282',\n",
       "        '85282', '85288', '85288', '85288', '85288', '85294', '85294',\n",
       "        '85305', '85305', '85305', '85305', '85306', '85306', '85329',\n",
       "        '85329', '85329', '85329', '85338', '85338', '85338', '85338',\n",
       "        '85339'], dtype='<U5'),\n",
       " 'age': array([[0, 0, 1, 0, 0, 0],\n",
       "        [0, 0, 1, 0, 0, 0],\n",
       "        [0, 0, 1, 0, 0, 0],\n",
       "        ...,\n",
       "        [0, 0, 0, 0, 0, 1],\n",
       "        [0, 0, 0, 0, 0, 1],\n",
       "        [0, 1, 0, 0, 0, 0]]),\n",
       " 'sex': array([[1, 0],\n",
       "        [1, 0],\n",
       "        [1, 0],\n",
       "        ...,\n",
       "        [1, 0],\n",
       "        [1, 0],\n",
       "        [1, 0]]),\n",
       " 'hw': array([[141.   ,  30.9  ],\n",
       "        [141.   ,  30.9  ],\n",
       "        [141.   ,  30.9  ],\n",
       "        ...,\n",
       "        [110.846,  23.767],\n",
       "        [110.846,  23.767],\n",
       "        [110.846,  23.767]]),\n",
       " 'preg': array([False, False, False, False, False, False, False, False, False,\n",
       "        False, False, False, False, False, False, False, False, False,\n",
       "        False, False, False, False, False, False, False, False, False,\n",
       "        False, False, False, False, False, False, False, False, False,\n",
       "        False, False, False, False, False, False, False, False, False,\n",
       "        False, False, False, False, False, False,  True,  True,  True,\n",
       "         True,  True, False, False, False, False, False, False, False,\n",
       "        False, False, False, False, False, False, False, False, False,\n",
       "        False, False, False, False, False, False, False, False, False,\n",
       "        False, False, False, False,  True,  True,  True, False, False,\n",
       "        False, False, False, False, False, False, False, False, False,\n",
       "        False, False, False, False, False, False, False, False, False,\n",
       "        False, False, False, False, False, False, False, False, False,\n",
       "        False, False, False, False, False, False, False, False, False,\n",
       "        False, False, False, False, False, False, False, False, False,\n",
       "        False, False, False, False, False, False, False, False, False,\n",
       "        False,  True,  True,  True,  True, False, False, False, False,\n",
       "        False, False, False, False, False, False, False, False, False,\n",
       "        False, False, False, False, False, False, False, False, False,\n",
       "        False, False, False, False, False, False, False, False, False,\n",
       "        False, False, False, False, False, False, False, False, False,\n",
       "        False, False, False, False, False, False, False, False, False,\n",
       "        False, False, False, False, False, False, False, False, False,\n",
       "        False, False, False, False, False, False, False, False, False,\n",
       "         True,  True,  True, False, False, False, False, False, False,\n",
       "        False, False, False, False, False, False, False, False, False,\n",
       "        False, False, False, False, False, False, False, False, False,\n",
       "        False, False, False, False, False, False, False, False, False,\n",
       "        False, False, False, False, False, False, False, False, False,\n",
       "        False, False, False, False, False, False, False, False, False,\n",
       "        False, False, False, False, False, False, False, False, False,\n",
       "        False, False, False, False, False, False, False, False, False,\n",
       "        False, False, False, False, False, False, False, False, False,\n",
       "        False, False, False, False, False, False, False, False, False,\n",
       "        False, False, False, False, False, False, False, False, False,\n",
       "        False, False, False, False, False, False, False, False, False,\n",
       "        False, False, False, False, False, False, False, False, False,\n",
       "        False, False, False, False, False, False, False, False, False,\n",
       "        False, False, False, False, False, False, False, False, False,\n",
       "        False, False, False, False, False, False, False, False, False,\n",
       "        False, False, False, False, False, False, False, False, False,\n",
       "        False, False, False, False, False, False, False, False, False,\n",
       "        False,  True,  True,  True,  True, False, False, False, False,\n",
       "        False, False, False, False, False, False, False, False, False,\n",
       "        False, False, False, False, False, False, False, False, False,\n",
       "        False, False, False, False, False, False, False, False, False,\n",
       "        False, False, False, False, False, False, False, False, False,\n",
       "        False, False, False, False, False, False, False, False, False,\n",
       "        False, False, False, False, False, False, False, False, False,\n",
       "        False, False, False, False, False, False, False, False, False,\n",
       "        False, False, False, False, False, False, False, False, False,\n",
       "        False, False, False, False,  True,  True,  True, False, False,\n",
       "        False, False, False, False, False, False, False, False, False,\n",
       "        False, False, False, False, False, False, False, False, False,\n",
       "        False, False, False, False, False, False, False, False, False,\n",
       "        False, False, False, False, False, False, False, False, False,\n",
       "        False, False, False, False, False, False, False, False, False,\n",
       "        False, False,  True,  True,  True,  True,  True, False, False,\n",
       "        False, False, False, False, False, False, False, False, False,\n",
       "        False, False, False, False, False, False, False, False, False,\n",
       "        False, False, False, False, False, False, False, False, False,\n",
       "        False, False, False, False, False, False, False, False, False,\n",
       "        False, False, False, False, False, False, False, False, False,\n",
       "        False, False, False, False, False, False,  True,  True,  True,\n",
       "         True, False, False, False, False, False, False, False, False,\n",
       "        False, False, False, False, False, False, False, False, False,\n",
       "        False, False, False, False, False, False, False, False, False,\n",
       "        False, False, False, False, False, False, False, False, False,\n",
       "        False, False, False, False, False, False, False, False, False,\n",
       "        False, False, False, False, False,  True,  True,  True,  True,\n",
       "        False]),\n",
       " 'loc': array([[1., 0., 0., 0., 0.],\n",
       "        [0., 0., 1., 0., 0.],\n",
       "        [0., 0., 0., 1., 0.],\n",
       "        ...,\n",
       "        [0., 0., 0., 1., 0.],\n",
       "        [0., 1., 0., 0., 0.],\n",
       "        [0., 1., 0., 0., 0.]]),\n",
       " 'mel1': array([[[[-25.21499492],\n",
       "          [-15.8126043 ],\n",
       "          [-14.89369325],\n",
       "          ...,\n",
       "          [ -9.31774228],\n",
       "          [-11.28045934],\n",
       "          [-17.40017508]],\n",
       " \n",
       "         [[-18.8703177 ],\n",
       "          [ -8.35538702],\n",
       "          [-15.31875175],\n",
       "          ...,\n",
       "          [ -8.01136421],\n",
       "          [ -1.99382386],\n",
       "          [-10.15031463]],\n",
       " \n",
       "         [[-18.19148415],\n",
       "          [-10.37033903],\n",
       "          [ -8.82970581],\n",
       "          ...,\n",
       "          [ -5.47348152],\n",
       "          [  0.90335056],\n",
       "          [-11.09620561]],\n",
       " \n",
       "         ...,\n",
       " \n",
       "         [[-55.07614044],\n",
       "          [-57.14853696],\n",
       "          [-60.30449632],\n",
       "          ...,\n",
       "          [-63.51181323],\n",
       "          [-58.97274854],\n",
       "          [-60.82331256]],\n",
       " \n",
       "         [[-55.28614966],\n",
       "          [-59.49535342],\n",
       "          [-59.0300067 ],\n",
       "          ...,\n",
       "          [-65.20787027],\n",
       "          [-65.67389001],\n",
       "          [-61.07023301]],\n",
       " \n",
       "         [[-56.31459243],\n",
       "          [-62.55726522],\n",
       "          [-63.0341363 ],\n",
       "          ...,\n",
       "          [-61.53798996],\n",
       "          [-65.74195357],\n",
       "          [-63.33947832]]],\n",
       " \n",
       " \n",
       "        [[[ -7.039924  ],\n",
       "          [-25.75873092],\n",
       "          [-13.64707057],\n",
       "          ...,\n",
       "          [-20.97495785],\n",
       "          [-14.05212561],\n",
       "          [-11.83591371]],\n",
       " \n",
       "         [[ -4.50354602],\n",
       "          [-20.10689063],\n",
       "          [-20.56907347],\n",
       "          ...,\n",
       "          [-14.45467356],\n",
       "          [-20.64611415],\n",
       "          [-15.07212839]],\n",
       " \n",
       "         [[ -4.82340983],\n",
       "          [-16.56148925],\n",
       "          [-23.19436122],\n",
       "          ...,\n",
       "          [-10.40192524],\n",
       "          [-24.07452153],\n",
       "          [-12.53236965]],\n",
       " \n",
       "         ...,\n",
       " \n",
       "         [[-34.73634665],\n",
       "          [-61.13171633],\n",
       "          [-62.85180335],\n",
       "          ...,\n",
       "          [-50.96688109],\n",
       "          [-62.07273605],\n",
       "          [-57.35276998]],\n",
       " \n",
       "         [[-35.45909835],\n",
       "          [-64.01743775],\n",
       "          [-58.68433809],\n",
       "          ...,\n",
       "          [-52.27247981],\n",
       "          [-59.5352413 ],\n",
       "          [-57.08087861]],\n",
       " \n",
       "         [[-35.69104144],\n",
       "          [-61.58995476],\n",
       "          [-61.25030413],\n",
       "          ...,\n",
       "          [-52.02289887],\n",
       "          [-60.90174277],\n",
       "          [-56.03580382]]],\n",
       " \n",
       " \n",
       "        [[[  4.52362226],\n",
       "          [ -8.65095877],\n",
       "          [ -9.80992128],\n",
       "          ...,\n",
       "          [ -7.35392856],\n",
       "          [-16.00372036],\n",
       "          [-19.7174638 ]],\n",
       " \n",
       "         [[  4.93342303],\n",
       "          [ -8.10133434],\n",
       "          [ -5.06914709],\n",
       "          ...,\n",
       "          [ -1.93006216],\n",
       "          [-18.57864711],\n",
       "          [-16.10869751]],\n",
       " \n",
       "         [[  4.14618113],\n",
       "          [ -7.03130794],\n",
       "          [ -4.81543576],\n",
       "          ...,\n",
       "          [  5.20720763],\n",
       "          [-12.74800382],\n",
       "          [-21.11559369]],\n",
       " \n",
       "         ...,\n",
       " \n",
       "         [[-27.7457109 ],\n",
       "          [-52.26008582],\n",
       "          [-50.89364525],\n",
       "          ...,\n",
       "          [-53.20687153],\n",
       "          [-59.90805095],\n",
       "          [-54.03753721]],\n",
       " \n",
       "         [[-27.72090377],\n",
       "          [-56.45908992],\n",
       "          [-52.73147876],\n",
       "          ...,\n",
       "          [-55.5447091 ],\n",
       "          [-58.02379982],\n",
       "          [-56.73690611]],\n",
       " \n",
       "         [[-28.20996417],\n",
       "          [-51.53366978],\n",
       "          [-53.47580024],\n",
       "          ...,\n",
       "          [-57.38173883],\n",
       "          [-62.29422635],\n",
       "          [-54.19963313]]],\n",
       " \n",
       " \n",
       "        ...,\n",
       " \n",
       " \n",
       "        [[[-19.04280472],\n",
       "          [-20.38740158],\n",
       "          [-22.34614372],\n",
       "          ...,\n",
       "          [-26.73331833],\n",
       "          [-32.85724258],\n",
       "          [-29.48091507]],\n",
       " \n",
       "         [[-21.39039612],\n",
       "          [-16.14853096],\n",
       "          [-23.10217667],\n",
       "          ...,\n",
       "          [-27.12044525],\n",
       "          [-33.35666275],\n",
       "          [-27.23989868]],\n",
       " \n",
       "         [[-19.346632  ],\n",
       "          [-15.01817513],\n",
       "          [-26.62765312],\n",
       "          ...,\n",
       "          [-28.86489868],\n",
       "          [-34.66595459],\n",
       "          [-27.04520798]],\n",
       " \n",
       "         ...,\n",
       " \n",
       "         [[-31.51904678],\n",
       "          [-33.09088898],\n",
       "          [-40.72832108],\n",
       "          ...,\n",
       "          [-64.80953979],\n",
       "          [-61.54733276],\n",
       "          [-56.87405396]],\n",
       " \n",
       "         [[-33.57725525],\n",
       "          [-31.45498276],\n",
       "          [-40.94293213],\n",
       "          ...,\n",
       "          [-66.75134277],\n",
       "          [-59.24417496],\n",
       "          [-56.26132584]],\n",
       " \n",
       "         [[-33.29803848],\n",
       "          [-33.01805496],\n",
       "          [-43.28119659],\n",
       "          ...,\n",
       "          [-64.77125549],\n",
       "          [-63.66820908],\n",
       "          [-61.77713013]]],\n",
       " \n",
       " \n",
       "        [[[-18.57007826],\n",
       "          [-18.44910558],\n",
       "          [ -3.6018663 ],\n",
       "          ...,\n",
       "          [-22.41262178],\n",
       "          [-16.79589379],\n",
       "          [-29.87362724]],\n",
       " \n",
       "         [[-22.25474864],\n",
       "          [ -8.79947489],\n",
       "          [ -1.85481221],\n",
       "          ...,\n",
       "          [-20.55936593],\n",
       "          [ -9.83808754],\n",
       "          [-25.85447369]],\n",
       " \n",
       "         [[-21.28804702],\n",
       "          [ -1.55345199],\n",
       "          [  0.82704721],\n",
       "          ...,\n",
       "          [-19.66027259],\n",
       "          [ -8.43915686],\n",
       "          [-19.00340625]],\n",
       " \n",
       "         ...,\n",
       " \n",
       "         [[-44.96223072],\n",
       "          [-40.8672605 ],\n",
       "          [-25.11161091],\n",
       "          ...,\n",
       "          [-41.19875428],\n",
       "          [-39.32161582],\n",
       "          [-45.22867145]],\n",
       " \n",
       "         [[-43.54906211],\n",
       "          [-37.47850251],\n",
       "          [-29.15292447],\n",
       "          ...,\n",
       "          [-41.41485858],\n",
       "          [-37.71167174],\n",
       "          [-49.52030391]],\n",
       " \n",
       "         [[-44.01210643],\n",
       "          [-40.24552165],\n",
       "          [-29.78828633],\n",
       "          ...,\n",
       "          [-40.93555735],\n",
       "          [-36.49877776],\n",
       "          [-46.41557975]]],\n",
       " \n",
       " \n",
       "        [[[-13.79971949],\n",
       "          [-22.78908586],\n",
       "          [-13.1292901 ],\n",
       "          ...,\n",
       "          [  2.12241792],\n",
       "          [ -7.0814407 ],\n",
       "          [  1.59321198]],\n",
       " \n",
       "         [[-11.53712682],\n",
       "          [-25.57220589],\n",
       "          [-18.8543905 ],\n",
       "          ...,\n",
       "          [  8.43334265],\n",
       "          [-10.77252048],\n",
       "          [  8.30937856]],\n",
       " \n",
       "         [[-12.15065885],\n",
       "          [-26.71558526],\n",
       "          [-26.22749381],\n",
       "          ...,\n",
       "          [ 12.41287135],\n",
       "          [-12.64699733],\n",
       "          [ 11.59263859]],\n",
       " \n",
       "         ...,\n",
       " \n",
       "         [[-25.364508  ],\n",
       "          [-28.44735684],\n",
       "          [-45.71125589],\n",
       "          ...,\n",
       "          [-18.8507841 ],\n",
       "          [ -8.39983305],\n",
       "          [-12.84768471]],\n",
       " \n",
       "         [[-33.32512547],\n",
       "          [-32.37022879],\n",
       "          [-51.65336294],\n",
       "          ...,\n",
       "          [-18.37814597],\n",
       "          [ -8.30856779],\n",
       "          [ -8.83742359]],\n",
       " \n",
       "         [[-31.62724897],\n",
       "          [-35.55866948],\n",
       "          [-51.94588846],\n",
       "          ...,\n",
       "          [-17.36191883],\n",
       "          [-11.16027442],\n",
       "          [-12.11400725]]]]),\n",
       " 'cqt1': array([[[[0.]]],\n",
       " \n",
       " \n",
       "        [[[0.]]],\n",
       " \n",
       " \n",
       "        [[[0.]]],\n",
       " \n",
       " \n",
       "        [[[0.]]],\n",
       " \n",
       " \n",
       "        [[[0.]]],\n",
       " \n",
       " \n",
       "        [[[0.]]],\n",
       " \n",
       " \n",
       "        [[[0.]]],\n",
       " \n",
       " \n",
       "        [[[0.]]],\n",
       " \n",
       " \n",
       "        [[[0.]]],\n",
       " \n",
       " \n",
       "        [[[0.]]],\n",
       " \n",
       " \n",
       "        [[[0.]]],\n",
       " \n",
       " \n",
       "        [[[0.]]],\n",
       " \n",
       " \n",
       "        [[[0.]]],\n",
       " \n",
       " \n",
       "        [[[0.]]],\n",
       " \n",
       " \n",
       "        [[[0.]]],\n",
       " \n",
       " \n",
       "        [[[0.]]],\n",
       " \n",
       " \n",
       "        [[[0.]]],\n",
       " \n",
       " \n",
       "        [[[0.]]],\n",
       " \n",
       " \n",
       "        [[[0.]]],\n",
       " \n",
       " \n",
       "        [[[0.]]],\n",
       " \n",
       " \n",
       "        [[[0.]]],\n",
       " \n",
       " \n",
       "        [[[0.]]],\n",
       " \n",
       " \n",
       "        [[[0.]]],\n",
       " \n",
       " \n",
       "        [[[0.]]],\n",
       " \n",
       " \n",
       "        [[[0.]]],\n",
       " \n",
       " \n",
       "        [[[0.]]],\n",
       " \n",
       " \n",
       "        [[[0.]]],\n",
       " \n",
       " \n",
       "        [[[0.]]],\n",
       " \n",
       " \n",
       "        [[[0.]]],\n",
       " \n",
       " \n",
       "        [[[0.]]],\n",
       " \n",
       " \n",
       "        [[[0.]]],\n",
       " \n",
       " \n",
       "        [[[0.]]],\n",
       " \n",
       " \n",
       "        [[[0.]]],\n",
       " \n",
       " \n",
       "        [[[0.]]],\n",
       " \n",
       " \n",
       "        [[[0.]]],\n",
       " \n",
       " \n",
       "        [[[0.]]],\n",
       " \n",
       " \n",
       "        [[[0.]]],\n",
       " \n",
       " \n",
       "        [[[0.]]],\n",
       " \n",
       " \n",
       "        [[[0.]]],\n",
       " \n",
       " \n",
       "        [[[0.]]],\n",
       " \n",
       " \n",
       "        [[[0.]]],\n",
       " \n",
       " \n",
       "        [[[0.]]],\n",
       " \n",
       " \n",
       "        [[[0.]]],\n",
       " \n",
       " \n",
       "        [[[0.]]],\n",
       " \n",
       " \n",
       "        [[[0.]]],\n",
       " \n",
       " \n",
       "        [[[0.]]],\n",
       " \n",
       " \n",
       "        [[[0.]]],\n",
       " \n",
       " \n",
       "        [[[0.]]],\n",
       " \n",
       " \n",
       "        [[[0.]]],\n",
       " \n",
       " \n",
       "        [[[0.]]],\n",
       " \n",
       " \n",
       "        [[[0.]]],\n",
       " \n",
       " \n",
       "        [[[0.]]],\n",
       " \n",
       " \n",
       "        [[[0.]]],\n",
       " \n",
       " \n",
       "        [[[0.]]],\n",
       " \n",
       " \n",
       "        [[[0.]]],\n",
       " \n",
       " \n",
       "        [[[0.]]],\n",
       " \n",
       " \n",
       "        [[[0.]]],\n",
       " \n",
       " \n",
       "        [[[0.]]],\n",
       " \n",
       " \n",
       "        [[[0.]]],\n",
       " \n",
       " \n",
       "        [[[0.]]],\n",
       " \n",
       " \n",
       "        [[[0.]]],\n",
       " \n",
       " \n",
       "        [[[0.]]],\n",
       " \n",
       " \n",
       "        [[[0.]]],\n",
       " \n",
       " \n",
       "        [[[0.]]],\n",
       " \n",
       " \n",
       "        [[[0.]]],\n",
       " \n",
       " \n",
       "        [[[0.]]],\n",
       " \n",
       " \n",
       "        [[[0.]]],\n",
       " \n",
       " \n",
       "        [[[0.]]],\n",
       " \n",
       " \n",
       "        [[[0.]]],\n",
       " \n",
       " \n",
       "        [[[0.]]],\n",
       " \n",
       " \n",
       "        [[[0.]]],\n",
       " \n",
       " \n",
       "        [[[0.]]],\n",
       " \n",
       " \n",
       "        [[[0.]]],\n",
       " \n",
       " \n",
       "        [[[0.]]],\n",
       " \n",
       " \n",
       "        [[[0.]]],\n",
       " \n",
       " \n",
       "        [[[0.]]],\n",
       " \n",
       " \n",
       "        [[[0.]]],\n",
       " \n",
       " \n",
       "        [[[0.]]],\n",
       " \n",
       " \n",
       "        [[[0.]]],\n",
       " \n",
       " \n",
       "        [[[0.]]],\n",
       " \n",
       " \n",
       "        [[[0.]]],\n",
       " \n",
       " \n",
       "        [[[0.]]],\n",
       " \n",
       " \n",
       "        [[[0.]]],\n",
       " \n",
       " \n",
       "        [[[0.]]],\n",
       " \n",
       " \n",
       "        [[[0.]]],\n",
       " \n",
       " \n",
       "        [[[0.]]],\n",
       " \n",
       " \n",
       "        [[[0.]]],\n",
       " \n",
       " \n",
       "        [[[0.]]],\n",
       " \n",
       " \n",
       "        [[[0.]]],\n",
       " \n",
       " \n",
       "        [[[0.]]],\n",
       " \n",
       " \n",
       "        [[[0.]]],\n",
       " \n",
       " \n",
       "        [[[0.]]],\n",
       " \n",
       " \n",
       "        [[[0.]]],\n",
       " \n",
       " \n",
       "        [[[0.]]],\n",
       " \n",
       " \n",
       "        [[[0.]]],\n",
       " \n",
       " \n",
       "        [[[0.]]],\n",
       " \n",
       " \n",
       "        [[[0.]]],\n",
       " \n",
       " \n",
       "        [[[0.]]],\n",
       " \n",
       " \n",
       "        [[[0.]]],\n",
       " \n",
       " \n",
       "        [[[0.]]],\n",
       " \n",
       " \n",
       "        [[[0.]]],\n",
       " \n",
       " \n",
       "        [[[0.]]],\n",
       " \n",
       " \n",
       "        [[[0.]]],\n",
       " \n",
       " \n",
       "        [[[0.]]],\n",
       " \n",
       " \n",
       "        [[[0.]]],\n",
       " \n",
       " \n",
       "        [[[0.]]],\n",
       " \n",
       " \n",
       "        [[[0.]]],\n",
       " \n",
       " \n",
       "        [[[0.]]],\n",
       " \n",
       " \n",
       "        [[[0.]]],\n",
       " \n",
       " \n",
       "        [[[0.]]],\n",
       " \n",
       " \n",
       "        [[[0.]]],\n",
       " \n",
       " \n",
       "        [[[0.]]],\n",
       " \n",
       " \n",
       "        [[[0.]]],\n",
       " \n",
       " \n",
       "        [[[0.]]],\n",
       " \n",
       " \n",
       "        [[[0.]]],\n",
       " \n",
       " \n",
       "        [[[0.]]],\n",
       " \n",
       " \n",
       "        [[[0.]]],\n",
       " \n",
       " \n",
       "        [[[0.]]],\n",
       " \n",
       " \n",
       "        [[[0.]]],\n",
       " \n",
       " \n",
       "        [[[0.]]],\n",
       " \n",
       " \n",
       "        [[[0.]]],\n",
       " \n",
       " \n",
       "        [[[0.]]],\n",
       " \n",
       " \n",
       "        [[[0.]]],\n",
       " \n",
       " \n",
       "        [[[0.]]],\n",
       " \n",
       " \n",
       "        [[[0.]]],\n",
       " \n",
       " \n",
       "        [[[0.]]],\n",
       " \n",
       " \n",
       "        [[[0.]]],\n",
       " \n",
       " \n",
       "        [[[0.]]],\n",
       " \n",
       " \n",
       "        [[[0.]]],\n",
       " \n",
       " \n",
       "        [[[0.]]],\n",
       " \n",
       " \n",
       "        [[[0.]]],\n",
       " \n",
       " \n",
       "        [[[0.]]],\n",
       " \n",
       " \n",
       "        [[[0.]]],\n",
       " \n",
       " \n",
       "        [[[0.]]],\n",
       " \n",
       " \n",
       "        [[[0.]]],\n",
       " \n",
       " \n",
       "        [[[0.]]],\n",
       " \n",
       " \n",
       "        [[[0.]]],\n",
       " \n",
       " \n",
       "        [[[0.]]],\n",
       " \n",
       " \n",
       "        [[[0.]]],\n",
       " \n",
       " \n",
       "        [[[0.]]],\n",
       " \n",
       " \n",
       "        [[[0.]]],\n",
       " \n",
       " \n",
       "        [[[0.]]],\n",
       " \n",
       " \n",
       "        [[[0.]]],\n",
       " \n",
       " \n",
       "        [[[0.]]],\n",
       " \n",
       " \n",
       "        [[[0.]]],\n",
       " \n",
       " \n",
       "        [[[0.]]],\n",
       " \n",
       " \n",
       "        [[[0.]]],\n",
       " \n",
       " \n",
       "        [[[0.]]],\n",
       " \n",
       " \n",
       "        [[[0.]]],\n",
       " \n",
       " \n",
       "        [[[0.]]],\n",
       " \n",
       " \n",
       "        [[[0.]]],\n",
       " \n",
       " \n",
       "        [[[0.]]],\n",
       " \n",
       " \n",
       "        [[[0.]]],\n",
       " \n",
       " \n",
       "        [[[0.]]],\n",
       " \n",
       " \n",
       "        [[[0.]]],\n",
       " \n",
       " \n",
       "        [[[0.]]],\n",
       " \n",
       " \n",
       "        [[[0.]]],\n",
       " \n",
       " \n",
       "        [[[0.]]],\n",
       " \n",
       " \n",
       "        [[[0.]]],\n",
       " \n",
       " \n",
       "        [[[0.]]],\n",
       " \n",
       " \n",
       "        [[[0.]]],\n",
       " \n",
       " \n",
       "        [[[0.]]],\n",
       " \n",
       " \n",
       "        [[[0.]]],\n",
       " \n",
       " \n",
       "        [[[0.]]],\n",
       " \n",
       " \n",
       "        [[[0.]]],\n",
       " \n",
       " \n",
       "        [[[0.]]],\n",
       " \n",
       " \n",
       "        [[[0.]]],\n",
       " \n",
       " \n",
       "        [[[0.]]],\n",
       " \n",
       " \n",
       "        [[[0.]]],\n",
       " \n",
       " \n",
       "        [[[0.]]],\n",
       " \n",
       " \n",
       "        [[[0.]]],\n",
       " \n",
       " \n",
       "        [[[0.]]],\n",
       " \n",
       " \n",
       "        [[[0.]]],\n",
       " \n",
       " \n",
       "        [[[0.]]],\n",
       " \n",
       " \n",
       "        [[[0.]]],\n",
       " \n",
       " \n",
       "        [[[0.]]],\n",
       " \n",
       " \n",
       "        [[[0.]]],\n",
       " \n",
       " \n",
       "        [[[0.]]],\n",
       " \n",
       " \n",
       "        [[[0.]]],\n",
       " \n",
       " \n",
       "        [[[0.]]],\n",
       " \n",
       " \n",
       "        [[[0.]]],\n",
       " \n",
       " \n",
       "        [[[0.]]],\n",
       " \n",
       " \n",
       "        [[[0.]]],\n",
       " \n",
       " \n",
       "        [[[0.]]],\n",
       " \n",
       " \n",
       "        [[[0.]]],\n",
       " \n",
       " \n",
       "        [[[0.]]],\n",
       " \n",
       " \n",
       "        [[[0.]]],\n",
       " \n",
       " \n",
       "        [[[0.]]],\n",
       " \n",
       " \n",
       "        [[[0.]]],\n",
       " \n",
       " \n",
       "        [[[0.]]],\n",
       " \n",
       " \n",
       "        [[[0.]]],\n",
       " \n",
       " \n",
       "        [[[0.]]],\n",
       " \n",
       " \n",
       "        [[[0.]]],\n",
       " \n",
       " \n",
       "        [[[0.]]],\n",
       " \n",
       " \n",
       "        [[[0.]]],\n",
       " \n",
       " \n",
       "        [[[0.]]],\n",
       " \n",
       " \n",
       "        [[[0.]]],\n",
       " \n",
       " \n",
       "        [[[0.]]],\n",
       " \n",
       " \n",
       "        [[[0.]]],\n",
       " \n",
       " \n",
       "        [[[0.]]],\n",
       " \n",
       " \n",
       "        [[[0.]]],\n",
       " \n",
       " \n",
       "        [[[0.]]],\n",
       " \n",
       " \n",
       "        [[[0.]]],\n",
       " \n",
       " \n",
       "        [[[0.]]],\n",
       " \n",
       " \n",
       "        [[[0.]]],\n",
       " \n",
       " \n",
       "        [[[0.]]],\n",
       " \n",
       " \n",
       "        [[[0.]]],\n",
       " \n",
       " \n",
       "        [[[0.]]],\n",
       " \n",
       " \n",
       "        [[[0.]]],\n",
       " \n",
       " \n",
       "        [[[0.]]],\n",
       " \n",
       " \n",
       "        [[[0.]]],\n",
       " \n",
       " \n",
       "        [[[0.]]],\n",
       " \n",
       " \n",
       "        [[[0.]]],\n",
       " \n",
       " \n",
       "        [[[0.]]],\n",
       " \n",
       " \n",
       "        [[[0.]]],\n",
       " \n",
       " \n",
       "        [[[0.]]],\n",
       " \n",
       " \n",
       "        [[[0.]]],\n",
       " \n",
       " \n",
       "        [[[0.]]],\n",
       " \n",
       " \n",
       "        [[[0.]]],\n",
       " \n",
       " \n",
       "        [[[0.]]],\n",
       " \n",
       " \n",
       "        [[[0.]]],\n",
       " \n",
       " \n",
       "        [[[0.]]],\n",
       " \n",
       " \n",
       "        [[[0.]]],\n",
       " \n",
       " \n",
       "        [[[0.]]],\n",
       " \n",
       " \n",
       "        [[[0.]]],\n",
       " \n",
       " \n",
       "        [[[0.]]],\n",
       " \n",
       " \n",
       "        [[[0.]]],\n",
       " \n",
       " \n",
       "        [[[0.]]],\n",
       " \n",
       " \n",
       "        [[[0.]]],\n",
       " \n",
       " \n",
       "        [[[0.]]],\n",
       " \n",
       " \n",
       "        [[[0.]]],\n",
       " \n",
       " \n",
       "        [[[0.]]],\n",
       " \n",
       " \n",
       "        [[[0.]]],\n",
       " \n",
       " \n",
       "        [[[0.]]],\n",
       " \n",
       " \n",
       "        [[[0.]]],\n",
       " \n",
       " \n",
       "        [[[0.]]],\n",
       " \n",
       " \n",
       "        [[[0.]]],\n",
       " \n",
       " \n",
       "        [[[0.]]],\n",
       " \n",
       " \n",
       "        [[[0.]]],\n",
       " \n",
       " \n",
       "        [[[0.]]],\n",
       " \n",
       " \n",
       "        [[[0.]]],\n",
       " \n",
       " \n",
       "        [[[0.]]],\n",
       " \n",
       " \n",
       "        [[[0.]]],\n",
       " \n",
       " \n",
       "        [[[0.]]],\n",
       " \n",
       " \n",
       "        [[[0.]]],\n",
       " \n",
       " \n",
       "        [[[0.]]],\n",
       " \n",
       " \n",
       "        [[[0.]]],\n",
       " \n",
       " \n",
       "        [[[0.]]],\n",
       " \n",
       " \n",
       "        [[[0.]]],\n",
       " \n",
       " \n",
       "        [[[0.]]],\n",
       " \n",
       " \n",
       "        [[[0.]]],\n",
       " \n",
       " \n",
       "        [[[0.]]],\n",
       " \n",
       " \n",
       "        [[[0.]]],\n",
       " \n",
       " \n",
       "        [[[0.]]],\n",
       " \n",
       " \n",
       "        [[[0.]]],\n",
       " \n",
       " \n",
       "        [[[0.]]],\n",
       " \n",
       " \n",
       "        [[[0.]]],\n",
       " \n",
       " \n",
       "        [[[0.]]],\n",
       " \n",
       " \n",
       "        [[[0.]]],\n",
       " \n",
       " \n",
       "        [[[0.]]],\n",
       " \n",
       " \n",
       "        [[[0.]]],\n",
       " \n",
       " \n",
       "        [[[0.]]],\n",
       " \n",
       " \n",
       "        [[[0.]]],\n",
       " \n",
       " \n",
       "        [[[0.]]],\n",
       " \n",
       " \n",
       "        [[[0.]]],\n",
       " \n",
       " \n",
       "        [[[0.]]],\n",
       " \n",
       " \n",
       "        [[[0.]]],\n",
       " \n",
       " \n",
       "        [[[0.]]],\n",
       " \n",
       " \n",
       "        [[[0.]]],\n",
       " \n",
       " \n",
       "        [[[0.]]],\n",
       " \n",
       " \n",
       "        [[[0.]]],\n",
       " \n",
       " \n",
       "        [[[0.]]],\n",
       " \n",
       " \n",
       "        [[[0.]]],\n",
       " \n",
       " \n",
       "        [[[0.]]],\n",
       " \n",
       " \n",
       "        [[[0.]]],\n",
       " \n",
       " \n",
       "        [[[0.]]],\n",
       " \n",
       " \n",
       "        [[[0.]]],\n",
       " \n",
       " \n",
       "        [[[0.]]],\n",
       " \n",
       " \n",
       "        [[[0.]]],\n",
       " \n",
       " \n",
       "        [[[0.]]],\n",
       " \n",
       " \n",
       "        [[[0.]]],\n",
       " \n",
       " \n",
       "        [[[0.]]],\n",
       " \n",
       " \n",
       "        [[[0.]]],\n",
       " \n",
       " \n",
       "        [[[0.]]],\n",
       " \n",
       " \n",
       "        [[[0.]]],\n",
       " \n",
       " \n",
       "        [[[0.]]],\n",
       " \n",
       " \n",
       "        [[[0.]]],\n",
       " \n",
       " \n",
       "        [[[0.]]],\n",
       " \n",
       " \n",
       "        [[[0.]]],\n",
       " \n",
       " \n",
       "        [[[0.]]],\n",
       " \n",
       " \n",
       "        [[[0.]]],\n",
       " \n",
       " \n",
       "        [[[0.]]],\n",
       " \n",
       " \n",
       "        [[[0.]]],\n",
       " \n",
       " \n",
       "        [[[0.]]],\n",
       " \n",
       " \n",
       "        [[[0.]]],\n",
       " \n",
       " \n",
       "        [[[0.]]],\n",
       " \n",
       " \n",
       "        [[[0.]]],\n",
       " \n",
       " \n",
       "        [[[0.]]],\n",
       " \n",
       " \n",
       "        [[[0.]]],\n",
       " \n",
       " \n",
       "        [[[0.]]],\n",
       " \n",
       " \n",
       "        [[[0.]]],\n",
       " \n",
       " \n",
       "        [[[0.]]],\n",
       " \n",
       " \n",
       "        [[[0.]]],\n",
       " \n",
       " \n",
       "        [[[0.]]],\n",
       " \n",
       " \n",
       "        [[[0.]]],\n",
       " \n",
       " \n",
       "        [[[0.]]],\n",
       " \n",
       " \n",
       "        [[[0.]]],\n",
       " \n",
       " \n",
       "        [[[0.]]],\n",
       " \n",
       " \n",
       "        [[[0.]]],\n",
       " \n",
       " \n",
       "        [[[0.]]],\n",
       " \n",
       " \n",
       "        [[[0.]]],\n",
       " \n",
       " \n",
       "        [[[0.]]],\n",
       " \n",
       " \n",
       "        [[[0.]]],\n",
       " \n",
       " \n",
       "        [[[0.]]],\n",
       " \n",
       " \n",
       "        [[[0.]]],\n",
       " \n",
       " \n",
       "        [[[0.]]],\n",
       " \n",
       " \n",
       "        [[[0.]]],\n",
       " \n",
       " \n",
       "        [[[0.]]],\n",
       " \n",
       " \n",
       "        [[[0.]]],\n",
       " \n",
       " \n",
       "        [[[0.]]],\n",
       " \n",
       " \n",
       "        [[[0.]]],\n",
       " \n",
       " \n",
       "        [[[0.]]],\n",
       " \n",
       " \n",
       "        [[[0.]]],\n",
       " \n",
       " \n",
       "        [[[0.]]],\n",
       " \n",
       " \n",
       "        [[[0.]]],\n",
       " \n",
       " \n",
       "        [[[0.]]],\n",
       " \n",
       " \n",
       "        [[[0.]]],\n",
       " \n",
       " \n",
       "        [[[0.]]],\n",
       " \n",
       " \n",
       "        [[[0.]]],\n",
       " \n",
       " \n",
       "        [[[0.]]],\n",
       " \n",
       " \n",
       "        [[[0.]]],\n",
       " \n",
       " \n",
       "        [[[0.]]],\n",
       " \n",
       " \n",
       "        [[[0.]]],\n",
       " \n",
       " \n",
       "        [[[0.]]],\n",
       " \n",
       " \n",
       "        [[[0.]]],\n",
       " \n",
       " \n",
       "        [[[0.]]],\n",
       " \n",
       " \n",
       "        [[[0.]]],\n",
       " \n",
       " \n",
       "        [[[0.]]],\n",
       " \n",
       " \n",
       "        [[[0.]]],\n",
       " \n",
       " \n",
       "        [[[0.]]],\n",
       " \n",
       " \n",
       "        [[[0.]]],\n",
       " \n",
       " \n",
       "        [[[0.]]],\n",
       " \n",
       " \n",
       "        [[[0.]]],\n",
       " \n",
       " \n",
       "        [[[0.]]],\n",
       " \n",
       " \n",
       "        [[[0.]]],\n",
       " \n",
       " \n",
       "        [[[0.]]],\n",
       " \n",
       " \n",
       "        [[[0.]]],\n",
       " \n",
       " \n",
       "        [[[0.]]],\n",
       " \n",
       " \n",
       "        [[[0.]]],\n",
       " \n",
       " \n",
       "        [[[0.]]],\n",
       " \n",
       " \n",
       "        [[[0.]]],\n",
       " \n",
       " \n",
       "        [[[0.]]],\n",
       " \n",
       " \n",
       "        [[[0.]]],\n",
       " \n",
       " \n",
       "        [[[0.]]],\n",
       " \n",
       " \n",
       "        [[[0.]]],\n",
       " \n",
       " \n",
       "        [[[0.]]],\n",
       " \n",
       " \n",
       "        [[[0.]]],\n",
       " \n",
       " \n",
       "        [[[0.]]],\n",
       " \n",
       " \n",
       "        [[[0.]]],\n",
       " \n",
       " \n",
       "        [[[0.]]],\n",
       " \n",
       " \n",
       "        [[[0.]]],\n",
       " \n",
       " \n",
       "        [[[0.]]],\n",
       " \n",
       " \n",
       "        [[[0.]]],\n",
       " \n",
       " \n",
       "        [[[0.]]],\n",
       " \n",
       " \n",
       "        [[[0.]]],\n",
       " \n",
       " \n",
       "        [[[0.]]],\n",
       " \n",
       " \n",
       "        [[[0.]]],\n",
       " \n",
       " \n",
       "        [[[0.]]],\n",
       " \n",
       " \n",
       "        [[[0.]]],\n",
       " \n",
       " \n",
       "        [[[0.]]],\n",
       " \n",
       " \n",
       "        [[[0.]]],\n",
       " \n",
       " \n",
       "        [[[0.]]],\n",
       " \n",
       " \n",
       "        [[[0.]]],\n",
       " \n",
       " \n",
       "        [[[0.]]],\n",
       " \n",
       " \n",
       "        [[[0.]]],\n",
       " \n",
       " \n",
       "        [[[0.]]],\n",
       " \n",
       " \n",
       "        [[[0.]]],\n",
       " \n",
       " \n",
       "        [[[0.]]],\n",
       " \n",
       " \n",
       "        [[[0.]]],\n",
       " \n",
       " \n",
       "        [[[0.]]],\n",
       " \n",
       " \n",
       "        [[[0.]]],\n",
       " \n",
       " \n",
       "        [[[0.]]],\n",
       " \n",
       " \n",
       "        [[[0.]]],\n",
       " \n",
       " \n",
       "        [[[0.]]],\n",
       " \n",
       " \n",
       "        [[[0.]]],\n",
       " \n",
       " \n",
       "        [[[0.]]],\n",
       " \n",
       " \n",
       "        [[[0.]]],\n",
       " \n",
       " \n",
       "        [[[0.]]],\n",
       " \n",
       " \n",
       "        [[[0.]]],\n",
       " \n",
       " \n",
       "        [[[0.]]],\n",
       " \n",
       " \n",
       "        [[[0.]]],\n",
       " \n",
       " \n",
       "        [[[0.]]],\n",
       " \n",
       " \n",
       "        [[[0.]]],\n",
       " \n",
       " \n",
       "        [[[0.]]],\n",
       " \n",
       " \n",
       "        [[[0.]]],\n",
       " \n",
       " \n",
       "        [[[0.]]],\n",
       " \n",
       " \n",
       "        [[[0.]]],\n",
       " \n",
       " \n",
       "        [[[0.]]],\n",
       " \n",
       " \n",
       "        [[[0.]]],\n",
       " \n",
       " \n",
       "        [[[0.]]],\n",
       " \n",
       " \n",
       "        [[[0.]]],\n",
       " \n",
       " \n",
       "        [[[0.]]],\n",
       " \n",
       " \n",
       "        [[[0.]]],\n",
       " \n",
       " \n",
       "        [[[0.]]],\n",
       " \n",
       " \n",
       "        [[[0.]]],\n",
       " \n",
       " \n",
       "        [[[0.]]],\n",
       " \n",
       " \n",
       "        [[[0.]]],\n",
       " \n",
       " \n",
       "        [[[0.]]],\n",
       " \n",
       " \n",
       "        [[[0.]]],\n",
       " \n",
       " \n",
       "        [[[0.]]],\n",
       " \n",
       " \n",
       "        [[[0.]]],\n",
       " \n",
       " \n",
       "        [[[0.]]],\n",
       " \n",
       " \n",
       "        [[[0.]]],\n",
       " \n",
       " \n",
       "        [[[0.]]],\n",
       " \n",
       " \n",
       "        [[[0.]]],\n",
       " \n",
       " \n",
       "        [[[0.]]],\n",
       " \n",
       " \n",
       "        [[[0.]]],\n",
       " \n",
       " \n",
       "        [[[0.]]],\n",
       " \n",
       " \n",
       "        [[[0.]]],\n",
       " \n",
       " \n",
       "        [[[0.]]],\n",
       " \n",
       " \n",
       "        [[[0.]]],\n",
       " \n",
       " \n",
       "        [[[0.]]],\n",
       " \n",
       " \n",
       "        [[[0.]]],\n",
       " \n",
       " \n",
       "        [[[0.]]],\n",
       " \n",
       " \n",
       "        [[[0.]]],\n",
       " \n",
       " \n",
       "        [[[0.]]],\n",
       " \n",
       " \n",
       "        [[[0.]]],\n",
       " \n",
       " \n",
       "        [[[0.]]],\n",
       " \n",
       " \n",
       "        [[[0.]]],\n",
       " \n",
       " \n",
       "        [[[0.]]],\n",
       " \n",
       " \n",
       "        [[[0.]]],\n",
       " \n",
       " \n",
       "        [[[0.]]],\n",
       " \n",
       " \n",
       "        [[[0.]]],\n",
       " \n",
       " \n",
       "        [[[0.]]],\n",
       " \n",
       " \n",
       "        [[[0.]]],\n",
       " \n",
       " \n",
       "        [[[0.]]],\n",
       " \n",
       " \n",
       "        [[[0.]]],\n",
       " \n",
       " \n",
       "        [[[0.]]],\n",
       " \n",
       " \n",
       "        [[[0.]]],\n",
       " \n",
       " \n",
       "        [[[0.]]],\n",
       " \n",
       " \n",
       "        [[[0.]]],\n",
       " \n",
       " \n",
       "        [[[0.]]],\n",
       " \n",
       " \n",
       "        [[[0.]]],\n",
       " \n",
       " \n",
       "        [[[0.]]],\n",
       " \n",
       " \n",
       "        [[[0.]]],\n",
       " \n",
       " \n",
       "        [[[0.]]],\n",
       " \n",
       " \n",
       "        [[[0.]]],\n",
       " \n",
       " \n",
       "        [[[0.]]],\n",
       " \n",
       " \n",
       "        [[[0.]]],\n",
       " \n",
       " \n",
       "        [[[0.]]],\n",
       " \n",
       " \n",
       "        [[[0.]]],\n",
       " \n",
       " \n",
       "        [[[0.]]],\n",
       " \n",
       " \n",
       "        [[[0.]]],\n",
       " \n",
       " \n",
       "        [[[0.]]],\n",
       " \n",
       " \n",
       "        [[[0.]]],\n",
       " \n",
       " \n",
       "        [[[0.]]],\n",
       " \n",
       " \n",
       "        [[[0.]]],\n",
       " \n",
       " \n",
       "        [[[0.]]],\n",
       " \n",
       " \n",
       "        [[[0.]]],\n",
       " \n",
       " \n",
       "        [[[0.]]],\n",
       " \n",
       " \n",
       "        [[[0.]]],\n",
       " \n",
       " \n",
       "        [[[0.]]],\n",
       " \n",
       " \n",
       "        [[[0.]]],\n",
       " \n",
       " \n",
       "        [[[0.]]],\n",
       " \n",
       " \n",
       "        [[[0.]]],\n",
       " \n",
       " \n",
       "        [[[0.]]],\n",
       " \n",
       " \n",
       "        [[[0.]]],\n",
       " \n",
       " \n",
       "        [[[0.]]],\n",
       " \n",
       " \n",
       "        [[[0.]]],\n",
       " \n",
       " \n",
       "        [[[0.]]],\n",
       " \n",
       " \n",
       "        [[[0.]]],\n",
       " \n",
       " \n",
       "        [[[0.]]],\n",
       " \n",
       " \n",
       "        [[[0.]]],\n",
       " \n",
       " \n",
       "        [[[0.]]],\n",
       " \n",
       " \n",
       "        [[[0.]]],\n",
       " \n",
       " \n",
       "        [[[0.]]],\n",
       " \n",
       " \n",
       "        [[[0.]]],\n",
       " \n",
       " \n",
       "        [[[0.]]],\n",
       " \n",
       " \n",
       "        [[[0.]]],\n",
       " \n",
       " \n",
       "        [[[0.]]],\n",
       " \n",
       " \n",
       "        [[[0.]]],\n",
       " \n",
       " \n",
       "        [[[0.]]],\n",
       " \n",
       " \n",
       "        [[[0.]]],\n",
       " \n",
       " \n",
       "        [[[0.]]],\n",
       " \n",
       " \n",
       "        [[[0.]]],\n",
       " \n",
       " \n",
       "        [[[0.]]],\n",
       " \n",
       " \n",
       "        [[[0.]]],\n",
       " \n",
       " \n",
       "        [[[0.]]],\n",
       " \n",
       " \n",
       "        [[[0.]]],\n",
       " \n",
       " \n",
       "        [[[0.]]],\n",
       " \n",
       " \n",
       "        [[[0.]]],\n",
       " \n",
       " \n",
       "        [[[0.]]],\n",
       " \n",
       " \n",
       "        [[[0.]]],\n",
       " \n",
       " \n",
       "        [[[0.]]],\n",
       " \n",
       " \n",
       "        [[[0.]]],\n",
       " \n",
       " \n",
       "        [[[0.]]],\n",
       " \n",
       " \n",
       "        [[[0.]]],\n",
       " \n",
       " \n",
       "        [[[0.]]],\n",
       " \n",
       " \n",
       "        [[[0.]]],\n",
       " \n",
       " \n",
       "        [[[0.]]],\n",
       " \n",
       " \n",
       "        [[[0.]]],\n",
       " \n",
       " \n",
       "        [[[0.]]],\n",
       " \n",
       " \n",
       "        [[[0.]]],\n",
       " \n",
       " \n",
       "        [[[0.]]],\n",
       " \n",
       " \n",
       "        [[[0.]]],\n",
       " \n",
       " \n",
       "        [[[0.]]],\n",
       " \n",
       " \n",
       "        [[[0.]]],\n",
       " \n",
       " \n",
       "        [[[0.]]],\n",
       " \n",
       " \n",
       "        [[[0.]]],\n",
       " \n",
       " \n",
       "        [[[0.]]],\n",
       " \n",
       " \n",
       "        [[[0.]]],\n",
       " \n",
       " \n",
       "        [[[0.]]],\n",
       " \n",
       " \n",
       "        [[[0.]]],\n",
       " \n",
       " \n",
       "        [[[0.]]],\n",
       " \n",
       " \n",
       "        [[[0.]]],\n",
       " \n",
       " \n",
       "        [[[0.]]],\n",
       " \n",
       " \n",
       "        [[[0.]]],\n",
       " \n",
       " \n",
       "        [[[0.]]],\n",
       " \n",
       " \n",
       "        [[[0.]]],\n",
       " \n",
       " \n",
       "        [[[0.]]],\n",
       " \n",
       " \n",
       "        [[[0.]]],\n",
       " \n",
       " \n",
       "        [[[0.]]],\n",
       " \n",
       " \n",
       "        [[[0.]]],\n",
       " \n",
       " \n",
       "        [[[0.]]],\n",
       " \n",
       " \n",
       "        [[[0.]]],\n",
       " \n",
       " \n",
       "        [[[0.]]],\n",
       " \n",
       " \n",
       "        [[[0.]]],\n",
       " \n",
       " \n",
       "        [[[0.]]],\n",
       " \n",
       " \n",
       "        [[[0.]]],\n",
       " \n",
       " \n",
       "        [[[0.]]],\n",
       " \n",
       " \n",
       "        [[[0.]]],\n",
       " \n",
       " \n",
       "        [[[0.]]],\n",
       " \n",
       " \n",
       "        [[[0.]]],\n",
       " \n",
       " \n",
       "        [[[0.]]],\n",
       " \n",
       " \n",
       "        [[[0.]]],\n",
       " \n",
       " \n",
       "        [[[0.]]],\n",
       " \n",
       " \n",
       "        [[[0.]]],\n",
       " \n",
       " \n",
       "        [[[0.]]],\n",
       " \n",
       " \n",
       "        [[[0.]]],\n",
       " \n",
       " \n",
       "        [[[0.]]],\n",
       " \n",
       " \n",
       "        [[[0.]]],\n",
       " \n",
       " \n",
       "        [[[0.]]],\n",
       " \n",
       " \n",
       "        [[[0.]]],\n",
       " \n",
       " \n",
       "        [[[0.]]],\n",
       " \n",
       " \n",
       "        [[[0.]]],\n",
       " \n",
       " \n",
       "        [[[0.]]],\n",
       " \n",
       " \n",
       "        [[[0.]]],\n",
       " \n",
       " \n",
       "        [[[0.]]],\n",
       " \n",
       " \n",
       "        [[[0.]]],\n",
       " \n",
       " \n",
       "        [[[0.]]],\n",
       " \n",
       " \n",
       "        [[[0.]]],\n",
       " \n",
       " \n",
       "        [[[0.]]],\n",
       " \n",
       " \n",
       "        [[[0.]]],\n",
       " \n",
       " \n",
       "        [[[0.]]],\n",
       " \n",
       " \n",
       "        [[[0.]]],\n",
       " \n",
       " \n",
       "        [[[0.]]],\n",
       " \n",
       " \n",
       "        [[[0.]]],\n",
       " \n",
       " \n",
       "        [[[0.]]],\n",
       " \n",
       " \n",
       "        [[[0.]]],\n",
       " \n",
       " \n",
       "        [[[0.]]],\n",
       " \n",
       " \n",
       "        [[[0.]]],\n",
       " \n",
       " \n",
       "        [[[0.]]],\n",
       " \n",
       " \n",
       "        [[[0.]]],\n",
       " \n",
       " \n",
       "        [[[0.]]],\n",
       " \n",
       " \n",
       "        [[[0.]]],\n",
       " \n",
       " \n",
       "        [[[0.]]],\n",
       " \n",
       " \n",
       "        [[[0.]]],\n",
       " \n",
       " \n",
       "        [[[0.]]],\n",
       " \n",
       " \n",
       "        [[[0.]]],\n",
       " \n",
       " \n",
       "        [[[0.]]],\n",
       " \n",
       " \n",
       "        [[[0.]]],\n",
       " \n",
       " \n",
       "        [[[0.]]],\n",
       " \n",
       " \n",
       "        [[[0.]]],\n",
       " \n",
       " \n",
       "        [[[0.]]],\n",
       " \n",
       " \n",
       "        [[[0.]]],\n",
       " \n",
       " \n",
       "        [[[0.]]],\n",
       " \n",
       " \n",
       "        [[[0.]]],\n",
       " \n",
       " \n",
       "        [[[0.]]],\n",
       " \n",
       " \n",
       "        [[[0.]]],\n",
       " \n",
       " \n",
       "        [[[0.]]],\n",
       " \n",
       " \n",
       "        [[[0.]]],\n",
       " \n",
       " \n",
       "        [[[0.]]],\n",
       " \n",
       " \n",
       "        [[[0.]]],\n",
       " \n",
       " \n",
       "        [[[0.]]],\n",
       " \n",
       " \n",
       "        [[[0.]]],\n",
       " \n",
       " \n",
       "        [[[0.]]],\n",
       " \n",
       " \n",
       "        [[[0.]]],\n",
       " \n",
       " \n",
       "        [[[0.]]],\n",
       " \n",
       " \n",
       "        [[[0.]]],\n",
       " \n",
       " \n",
       "        [[[0.]]],\n",
       " \n",
       " \n",
       "        [[[0.]]],\n",
       " \n",
       " \n",
       "        [[[0.]]],\n",
       " \n",
       " \n",
       "        [[[0.]]],\n",
       " \n",
       " \n",
       "        [[[0.]]],\n",
       " \n",
       " \n",
       "        [[[0.]]],\n",
       " \n",
       " \n",
       "        [[[0.]]],\n",
       " \n",
       " \n",
       "        [[[0.]]],\n",
       " \n",
       " \n",
       "        [[[0.]]],\n",
       " \n",
       " \n",
       "        [[[0.]]],\n",
       " \n",
       " \n",
       "        [[[0.]]],\n",
       " \n",
       " \n",
       "        [[[0.]]],\n",
       " \n",
       " \n",
       "        [[[0.]]],\n",
       " \n",
       " \n",
       "        [[[0.]]],\n",
       " \n",
       " \n",
       "        [[[0.]]],\n",
       " \n",
       " \n",
       "        [[[0.]]],\n",
       " \n",
       " \n",
       "        [[[0.]]],\n",
       " \n",
       " \n",
       "        [[[0.]]],\n",
       " \n",
       " \n",
       "        [[[0.]]],\n",
       " \n",
       " \n",
       "        [[[0.]]],\n",
       " \n",
       " \n",
       "        [[[0.]]],\n",
       " \n",
       " \n",
       "        [[[0.]]],\n",
       " \n",
       " \n",
       "        [[[0.]]],\n",
       " \n",
       " \n",
       "        [[[0.]]],\n",
       " \n",
       " \n",
       "        [[[0.]]],\n",
       " \n",
       " \n",
       "        [[[0.]]],\n",
       " \n",
       " \n",
       "        [[[0.]]],\n",
       " \n",
       " \n",
       "        [[[0.]]],\n",
       " \n",
       " \n",
       "        [[[0.]]],\n",
       " \n",
       " \n",
       "        [[[0.]]],\n",
       " \n",
       " \n",
       "        [[[0.]]],\n",
       " \n",
       " \n",
       "        [[[0.]]],\n",
       " \n",
       " \n",
       "        [[[0.]]],\n",
       " \n",
       " \n",
       "        [[[0.]]],\n",
       " \n",
       " \n",
       "        [[[0.]]],\n",
       " \n",
       " \n",
       "        [[[0.]]],\n",
       " \n",
       " \n",
       "        [[[0.]]],\n",
       " \n",
       " \n",
       "        [[[0.]]],\n",
       " \n",
       " \n",
       "        [[[0.]]],\n",
       " \n",
       " \n",
       "        [[[0.]]],\n",
       " \n",
       " \n",
       "        [[[0.]]],\n",
       " \n",
       " \n",
       "        [[[0.]]]]),\n",
       " 'stft1': array([[[[0.]]],\n",
       " \n",
       " \n",
       "        [[[0.]]],\n",
       " \n",
       " \n",
       "        [[[0.]]],\n",
       " \n",
       " \n",
       "        [[[0.]]],\n",
       " \n",
       " \n",
       "        [[[0.]]],\n",
       " \n",
       " \n",
       "        [[[0.]]],\n",
       " \n",
       " \n",
       "        [[[0.]]],\n",
       " \n",
       " \n",
       "        [[[0.]]],\n",
       " \n",
       " \n",
       "        [[[0.]]],\n",
       " \n",
       " \n",
       "        [[[0.]]],\n",
       " \n",
       " \n",
       "        [[[0.]]],\n",
       " \n",
       " \n",
       "        [[[0.]]],\n",
       " \n",
       " \n",
       "        [[[0.]]],\n",
       " \n",
       " \n",
       "        [[[0.]]],\n",
       " \n",
       " \n",
       "        [[[0.]]],\n",
       " \n",
       " \n",
       "        [[[0.]]],\n",
       " \n",
       " \n",
       "        [[[0.]]],\n",
       " \n",
       " \n",
       "        [[[0.]]],\n",
       " \n",
       " \n",
       "        [[[0.]]],\n",
       " \n",
       " \n",
       "        [[[0.]]],\n",
       " \n",
       " \n",
       "        [[[0.]]],\n",
       " \n",
       " \n",
       "        [[[0.]]],\n",
       " \n",
       " \n",
       "        [[[0.]]],\n",
       " \n",
       " \n",
       "        [[[0.]]],\n",
       " \n",
       " \n",
       "        [[[0.]]],\n",
       " \n",
       " \n",
       "        [[[0.]]],\n",
       " \n",
       " \n",
       "        [[[0.]]],\n",
       " \n",
       " \n",
       "        [[[0.]]],\n",
       " \n",
       " \n",
       "        [[[0.]]],\n",
       " \n",
       " \n",
       "        [[[0.]]],\n",
       " \n",
       " \n",
       "        [[[0.]]],\n",
       " \n",
       " \n",
       "        [[[0.]]],\n",
       " \n",
       " \n",
       "        [[[0.]]],\n",
       " \n",
       " \n",
       "        [[[0.]]],\n",
       " \n",
       " \n",
       "        [[[0.]]],\n",
       " \n",
       " \n",
       "        [[[0.]]],\n",
       " \n",
       " \n",
       "        [[[0.]]],\n",
       " \n",
       " \n",
       "        [[[0.]]],\n",
       " \n",
       " \n",
       "        [[[0.]]],\n",
       " \n",
       " \n",
       "        [[[0.]]],\n",
       " \n",
       " \n",
       "        [[[0.]]],\n",
       " \n",
       " \n",
       "        [[[0.]]],\n",
       " \n",
       " \n",
       "        [[[0.]]],\n",
       " \n",
       " \n",
       "        [[[0.]]],\n",
       " \n",
       " \n",
       "        [[[0.]]],\n",
       " \n",
       " \n",
       "        [[[0.]]],\n",
       " \n",
       " \n",
       "        [[[0.]]],\n",
       " \n",
       " \n",
       "        [[[0.]]],\n",
       " \n",
       " \n",
       "        [[[0.]]],\n",
       " \n",
       " \n",
       "        [[[0.]]],\n",
       " \n",
       " \n",
       "        [[[0.]]],\n",
       " \n",
       " \n",
       "        [[[0.]]],\n",
       " \n",
       " \n",
       "        [[[0.]]],\n",
       " \n",
       " \n",
       "        [[[0.]]],\n",
       " \n",
       " \n",
       "        [[[0.]]],\n",
       " \n",
       " \n",
       "        [[[0.]]],\n",
       " \n",
       " \n",
       "        [[[0.]]],\n",
       " \n",
       " \n",
       "        [[[0.]]],\n",
       " \n",
       " \n",
       "        [[[0.]]],\n",
       " \n",
       " \n",
       "        [[[0.]]],\n",
       " \n",
       " \n",
       "        [[[0.]]],\n",
       " \n",
       " \n",
       "        [[[0.]]],\n",
       " \n",
       " \n",
       "        [[[0.]]],\n",
       " \n",
       " \n",
       "        [[[0.]]],\n",
       " \n",
       " \n",
       "        [[[0.]]],\n",
       " \n",
       " \n",
       "        [[[0.]]],\n",
       " \n",
       " \n",
       "        [[[0.]]],\n",
       " \n",
       " \n",
       "        [[[0.]]],\n",
       " \n",
       " \n",
       "        [[[0.]]],\n",
       " \n",
       " \n",
       "        [[[0.]]],\n",
       " \n",
       " \n",
       "        [[[0.]]],\n",
       " \n",
       " \n",
       "        [[[0.]]],\n",
       " \n",
       " \n",
       "        [[[0.]]],\n",
       " \n",
       " \n",
       "        [[[0.]]],\n",
       " \n",
       " \n",
       "        [[[0.]]],\n",
       " \n",
       " \n",
       "        [[[0.]]],\n",
       " \n",
       " \n",
       "        [[[0.]]],\n",
       " \n",
       " \n",
       "        [[[0.]]],\n",
       " \n",
       " \n",
       "        [[[0.]]],\n",
       " \n",
       " \n",
       "        [[[0.]]],\n",
       " \n",
       " \n",
       "        [[[0.]]],\n",
       " \n",
       " \n",
       "        [[[0.]]],\n",
       " \n",
       " \n",
       "        [[[0.]]],\n",
       " \n",
       " \n",
       "        [[[0.]]],\n",
       " \n",
       " \n",
       "        [[[0.]]],\n",
       " \n",
       " \n",
       "        [[[0.]]],\n",
       " \n",
       " \n",
       "        [[[0.]]],\n",
       " \n",
       " \n",
       "        [[[0.]]],\n",
       " \n",
       " \n",
       "        [[[0.]]],\n",
       " \n",
       " \n",
       "        [[[0.]]],\n",
       " \n",
       " \n",
       "        [[[0.]]],\n",
       " \n",
       " \n",
       "        [[[0.]]],\n",
       " \n",
       " \n",
       "        [[[0.]]],\n",
       " \n",
       " \n",
       "        [[[0.]]],\n",
       " \n",
       " \n",
       "        [[[0.]]],\n",
       " \n",
       " \n",
       "        [[[0.]]],\n",
       " \n",
       " \n",
       "        [[[0.]]],\n",
       " \n",
       " \n",
       "        [[[0.]]],\n",
       " \n",
       " \n",
       "        [[[0.]]],\n",
       " \n",
       " \n",
       "        [[[0.]]],\n",
       " \n",
       " \n",
       "        [[[0.]]],\n",
       " \n",
       " \n",
       "        [[[0.]]],\n",
       " \n",
       " \n",
       "        [[[0.]]],\n",
       " \n",
       " \n",
       "        [[[0.]]],\n",
       " \n",
       " \n",
       "        [[[0.]]],\n",
       " \n",
       " \n",
       "        [[[0.]]],\n",
       " \n",
       " \n",
       "        [[[0.]]],\n",
       " \n",
       " \n",
       "        [[[0.]]],\n",
       " \n",
       " \n",
       "        [[[0.]]],\n",
       " \n",
       " \n",
       "        [[[0.]]],\n",
       " \n",
       " \n",
       "        [[[0.]]],\n",
       " \n",
       " \n",
       "        [[[0.]]],\n",
       " \n",
       " \n",
       "        [[[0.]]],\n",
       " \n",
       " \n",
       "        [[[0.]]],\n",
       " \n",
       " \n",
       "        [[[0.]]],\n",
       " \n",
       " \n",
       "        [[[0.]]],\n",
       " \n",
       " \n",
       "        [[[0.]]],\n",
       " \n",
       " \n",
       "        [[[0.]]],\n",
       " \n",
       " \n",
       "        [[[0.]]],\n",
       " \n",
       " \n",
       "        [[[0.]]],\n",
       " \n",
       " \n",
       "        [[[0.]]],\n",
       " \n",
       " \n",
       "        [[[0.]]],\n",
       " \n",
       " \n",
       "        [[[0.]]],\n",
       " \n",
       " \n",
       "        [[[0.]]],\n",
       " \n",
       " \n",
       "        [[[0.]]],\n",
       " \n",
       " \n",
       "        [[[0.]]],\n",
       " \n",
       " \n",
       "        [[[0.]]],\n",
       " \n",
       " \n",
       "        [[[0.]]],\n",
       " \n",
       " \n",
       "        [[[0.]]],\n",
       " \n",
       " \n",
       "        [[[0.]]],\n",
       " \n",
       " \n",
       "        [[[0.]]],\n",
       " \n",
       " \n",
       "        [[[0.]]],\n",
       " \n",
       " \n",
       "        [[[0.]]],\n",
       " \n",
       " \n",
       "        [[[0.]]],\n",
       " \n",
       " \n",
       "        [[[0.]]],\n",
       " \n",
       " \n",
       "        [[[0.]]],\n",
       " \n",
       " \n",
       "        [[[0.]]],\n",
       " \n",
       " \n",
       "        [[[0.]]],\n",
       " \n",
       " \n",
       "        [[[0.]]],\n",
       " \n",
       " \n",
       "        [[[0.]]],\n",
       " \n",
       " \n",
       "        [[[0.]]],\n",
       " \n",
       " \n",
       "        [[[0.]]],\n",
       " \n",
       " \n",
       "        [[[0.]]],\n",
       " \n",
       " \n",
       "        [[[0.]]],\n",
       " \n",
       " \n",
       "        [[[0.]]],\n",
       " \n",
       " \n",
       "        [[[0.]]],\n",
       " \n",
       " \n",
       "        [[[0.]]],\n",
       " \n",
       " \n",
       "        [[[0.]]],\n",
       " \n",
       " \n",
       "        [[[0.]]],\n",
       " \n",
       " \n",
       "        [[[0.]]],\n",
       " \n",
       " \n",
       "        [[[0.]]],\n",
       " \n",
       " \n",
       "        [[[0.]]],\n",
       " \n",
       " \n",
       "        [[[0.]]],\n",
       " \n",
       " \n",
       "        [[[0.]]],\n",
       " \n",
       " \n",
       "        [[[0.]]],\n",
       " \n",
       " \n",
       "        [[[0.]]],\n",
       " \n",
       " \n",
       "        [[[0.]]],\n",
       " \n",
       " \n",
       "        [[[0.]]],\n",
       " \n",
       " \n",
       "        [[[0.]]],\n",
       " \n",
       " \n",
       "        [[[0.]]],\n",
       " \n",
       " \n",
       "        [[[0.]]],\n",
       " \n",
       " \n",
       "        [[[0.]]],\n",
       " \n",
       " \n",
       "        [[[0.]]],\n",
       " \n",
       " \n",
       "        [[[0.]]],\n",
       " \n",
       " \n",
       "        [[[0.]]],\n",
       " \n",
       " \n",
       "        [[[0.]]],\n",
       " \n",
       " \n",
       "        [[[0.]]],\n",
       " \n",
       " \n",
       "        [[[0.]]],\n",
       " \n",
       " \n",
       "        [[[0.]]],\n",
       " \n",
       " \n",
       "        [[[0.]]],\n",
       " \n",
       " \n",
       "        [[[0.]]],\n",
       " \n",
       " \n",
       "        [[[0.]]],\n",
       " \n",
       " \n",
       "        [[[0.]]],\n",
       " \n",
       " \n",
       "        [[[0.]]],\n",
       " \n",
       " \n",
       "        [[[0.]]],\n",
       " \n",
       " \n",
       "        [[[0.]]],\n",
       " \n",
       " \n",
       "        [[[0.]]],\n",
       " \n",
       " \n",
       "        [[[0.]]],\n",
       " \n",
       " \n",
       "        [[[0.]]],\n",
       " \n",
       " \n",
       "        [[[0.]]],\n",
       " \n",
       " \n",
       "        [[[0.]]],\n",
       " \n",
       " \n",
       "        [[[0.]]],\n",
       " \n",
       " \n",
       "        [[[0.]]],\n",
       " \n",
       " \n",
       "        [[[0.]]],\n",
       " \n",
       " \n",
       "        [[[0.]]],\n",
       " \n",
       " \n",
       "        [[[0.]]],\n",
       " \n",
       " \n",
       "        [[[0.]]],\n",
       " \n",
       " \n",
       "        [[[0.]]],\n",
       " \n",
       " \n",
       "        [[[0.]]],\n",
       " \n",
       " \n",
       "        [[[0.]]],\n",
       " \n",
       " \n",
       "        [[[0.]]],\n",
       " \n",
       " \n",
       "        [[[0.]]],\n",
       " \n",
       " \n",
       "        [[[0.]]],\n",
       " \n",
       " \n",
       "        [[[0.]]],\n",
       " \n",
       " \n",
       "        [[[0.]]],\n",
       " \n",
       " \n",
       "        [[[0.]]],\n",
       " \n",
       " \n",
       "        [[[0.]]],\n",
       " \n",
       " \n",
       "        [[[0.]]],\n",
       " \n",
       " \n",
       "        [[[0.]]],\n",
       " \n",
       " \n",
       "        [[[0.]]],\n",
       " \n",
       " \n",
       "        [[[0.]]],\n",
       " \n",
       " \n",
       "        [[[0.]]],\n",
       " \n",
       " \n",
       "        [[[0.]]],\n",
       " \n",
       " \n",
       "        [[[0.]]],\n",
       " \n",
       " \n",
       "        [[[0.]]],\n",
       " \n",
       " \n",
       "        [[[0.]]],\n",
       " \n",
       " \n",
       "        [[[0.]]],\n",
       " \n",
       " \n",
       "        [[[0.]]],\n",
       " \n",
       " \n",
       "        [[[0.]]],\n",
       " \n",
       " \n",
       "        [[[0.]]],\n",
       " \n",
       " \n",
       "        [[[0.]]],\n",
       " \n",
       " \n",
       "        [[[0.]]],\n",
       " \n",
       " \n",
       "        [[[0.]]],\n",
       " \n",
       " \n",
       "        [[[0.]]],\n",
       " \n",
       " \n",
       "        [[[0.]]],\n",
       " \n",
       " \n",
       "        [[[0.]]],\n",
       " \n",
       " \n",
       "        [[[0.]]],\n",
       " \n",
       " \n",
       "        [[[0.]]],\n",
       " \n",
       " \n",
       "        [[[0.]]],\n",
       " \n",
       " \n",
       "        [[[0.]]],\n",
       " \n",
       " \n",
       "        [[[0.]]],\n",
       " \n",
       " \n",
       "        [[[0.]]],\n",
       " \n",
       " \n",
       "        [[[0.]]],\n",
       " \n",
       " \n",
       "        [[[0.]]],\n",
       " \n",
       " \n",
       "        [[[0.]]],\n",
       " \n",
       " \n",
       "        [[[0.]]],\n",
       " \n",
       " \n",
       "        [[[0.]]],\n",
       " \n",
       " \n",
       "        [[[0.]]],\n",
       " \n",
       " \n",
       "        [[[0.]]],\n",
       " \n",
       " \n",
       "        [[[0.]]],\n",
       " \n",
       " \n",
       "        [[[0.]]],\n",
       " \n",
       " \n",
       "        [[[0.]]],\n",
       " \n",
       " \n",
       "        [[[0.]]],\n",
       " \n",
       " \n",
       "        [[[0.]]],\n",
       " \n",
       " \n",
       "        [[[0.]]],\n",
       " \n",
       " \n",
       "        [[[0.]]],\n",
       " \n",
       " \n",
       "        [[[0.]]],\n",
       " \n",
       " \n",
       "        [[[0.]]],\n",
       " \n",
       " \n",
       "        [[[0.]]],\n",
       " \n",
       " \n",
       "        [[[0.]]],\n",
       " \n",
       " \n",
       "        [[[0.]]],\n",
       " \n",
       " \n",
       "        [[[0.]]],\n",
       " \n",
       " \n",
       "        [[[0.]]],\n",
       " \n",
       " \n",
       "        [[[0.]]],\n",
       " \n",
       " \n",
       "        [[[0.]]],\n",
       " \n",
       " \n",
       "        [[[0.]]],\n",
       " \n",
       " \n",
       "        [[[0.]]],\n",
       " \n",
       " \n",
       "        [[[0.]]],\n",
       " \n",
       " \n",
       "        [[[0.]]],\n",
       " \n",
       " \n",
       "        [[[0.]]],\n",
       " \n",
       " \n",
       "        [[[0.]]],\n",
       " \n",
       " \n",
       "        [[[0.]]],\n",
       " \n",
       " \n",
       "        [[[0.]]],\n",
       " \n",
       " \n",
       "        [[[0.]]],\n",
       " \n",
       " \n",
       "        [[[0.]]],\n",
       " \n",
       " \n",
       "        [[[0.]]],\n",
       " \n",
       " \n",
       "        [[[0.]]],\n",
       " \n",
       " \n",
       "        [[[0.]]],\n",
       " \n",
       " \n",
       "        [[[0.]]],\n",
       " \n",
       " \n",
       "        [[[0.]]],\n",
       " \n",
       " \n",
       "        [[[0.]]],\n",
       " \n",
       " \n",
       "        [[[0.]]],\n",
       " \n",
       " \n",
       "        [[[0.]]],\n",
       " \n",
       " \n",
       "        [[[0.]]],\n",
       " \n",
       " \n",
       "        [[[0.]]],\n",
       " \n",
       " \n",
       "        [[[0.]]],\n",
       " \n",
       " \n",
       "        [[[0.]]],\n",
       " \n",
       " \n",
       "        [[[0.]]],\n",
       " \n",
       " \n",
       "        [[[0.]]],\n",
       " \n",
       " \n",
       "        [[[0.]]],\n",
       " \n",
       " \n",
       "        [[[0.]]],\n",
       " \n",
       " \n",
       "        [[[0.]]],\n",
       " \n",
       " \n",
       "        [[[0.]]],\n",
       " \n",
       " \n",
       "        [[[0.]]],\n",
       " \n",
       " \n",
       "        [[[0.]]],\n",
       " \n",
       " \n",
       "        [[[0.]]],\n",
       " \n",
       " \n",
       "        [[[0.]]],\n",
       " \n",
       " \n",
       "        [[[0.]]],\n",
       " \n",
       " \n",
       "        [[[0.]]],\n",
       " \n",
       " \n",
       "        [[[0.]]],\n",
       " \n",
       " \n",
       "        [[[0.]]],\n",
       " \n",
       " \n",
       "        [[[0.]]],\n",
       " \n",
       " \n",
       "        [[[0.]]],\n",
       " \n",
       " \n",
       "        [[[0.]]],\n",
       " \n",
       " \n",
       "        [[[0.]]],\n",
       " \n",
       " \n",
       "        [[[0.]]],\n",
       " \n",
       " \n",
       "        [[[0.]]],\n",
       " \n",
       " \n",
       "        [[[0.]]],\n",
       " \n",
       " \n",
       "        [[[0.]]],\n",
       " \n",
       " \n",
       "        [[[0.]]],\n",
       " \n",
       " \n",
       "        [[[0.]]],\n",
       " \n",
       " \n",
       "        [[[0.]]],\n",
       " \n",
       " \n",
       "        [[[0.]]],\n",
       " \n",
       " \n",
       "        [[[0.]]],\n",
       " \n",
       " \n",
       "        [[[0.]]],\n",
       " \n",
       " \n",
       "        [[[0.]]],\n",
       " \n",
       " \n",
       "        [[[0.]]],\n",
       " \n",
       " \n",
       "        [[[0.]]],\n",
       " \n",
       " \n",
       "        [[[0.]]],\n",
       " \n",
       " \n",
       "        [[[0.]]],\n",
       " \n",
       " \n",
       "        [[[0.]]],\n",
       " \n",
       " \n",
       "        [[[0.]]],\n",
       " \n",
       " \n",
       "        [[[0.]]],\n",
       " \n",
       " \n",
       "        [[[0.]]],\n",
       " \n",
       " \n",
       "        [[[0.]]],\n",
       " \n",
       " \n",
       "        [[[0.]]],\n",
       " \n",
       " \n",
       "        [[[0.]]],\n",
       " \n",
       " \n",
       "        [[[0.]]],\n",
       " \n",
       " \n",
       "        [[[0.]]],\n",
       " \n",
       " \n",
       "        [[[0.]]],\n",
       " \n",
       " \n",
       "        [[[0.]]],\n",
       " \n",
       " \n",
       "        [[[0.]]],\n",
       " \n",
       " \n",
       "        [[[0.]]],\n",
       " \n",
       " \n",
       "        [[[0.]]],\n",
       " \n",
       " \n",
       "        [[[0.]]],\n",
       " \n",
       " \n",
       "        [[[0.]]],\n",
       " \n",
       " \n",
       "        [[[0.]]],\n",
       " \n",
       " \n",
       "        [[[0.]]],\n",
       " \n",
       " \n",
       "        [[[0.]]],\n",
       " \n",
       " \n",
       "        [[[0.]]],\n",
       " \n",
       " \n",
       "        [[[0.]]],\n",
       " \n",
       " \n",
       "        [[[0.]]],\n",
       " \n",
       " \n",
       "        [[[0.]]],\n",
       " \n",
       " \n",
       "        [[[0.]]],\n",
       " \n",
       " \n",
       "        [[[0.]]],\n",
       " \n",
       " \n",
       "        [[[0.]]],\n",
       " \n",
       " \n",
       "        [[[0.]]],\n",
       " \n",
       " \n",
       "        [[[0.]]],\n",
       " \n",
       " \n",
       "        [[[0.]]],\n",
       " \n",
       " \n",
       "        [[[0.]]],\n",
       " \n",
       " \n",
       "        [[[0.]]],\n",
       " \n",
       " \n",
       "        [[[0.]]],\n",
       " \n",
       " \n",
       "        [[[0.]]],\n",
       " \n",
       " \n",
       "        [[[0.]]],\n",
       " \n",
       " \n",
       "        [[[0.]]],\n",
       " \n",
       " \n",
       "        [[[0.]]],\n",
       " \n",
       " \n",
       "        [[[0.]]],\n",
       " \n",
       " \n",
       "        [[[0.]]],\n",
       " \n",
       " \n",
       "        [[[0.]]],\n",
       " \n",
       " \n",
       "        [[[0.]]],\n",
       " \n",
       " \n",
       "        [[[0.]]],\n",
       " \n",
       " \n",
       "        [[[0.]]],\n",
       " \n",
       " \n",
       "        [[[0.]]],\n",
       " \n",
       " \n",
       "        [[[0.]]],\n",
       " \n",
       " \n",
       "        [[[0.]]],\n",
       " \n",
       " \n",
       "        [[[0.]]],\n",
       " \n",
       " \n",
       "        [[[0.]]],\n",
       " \n",
       " \n",
       "        [[[0.]]],\n",
       " \n",
       " \n",
       "        [[[0.]]],\n",
       " \n",
       " \n",
       "        [[[0.]]],\n",
       " \n",
       " \n",
       "        [[[0.]]],\n",
       " \n",
       " \n",
       "        [[[0.]]],\n",
       " \n",
       " \n",
       "        [[[0.]]],\n",
       " \n",
       " \n",
       "        [[[0.]]],\n",
       " \n",
       " \n",
       "        [[[0.]]],\n",
       " \n",
       " \n",
       "        [[[0.]]],\n",
       " \n",
       " \n",
       "        [[[0.]]],\n",
       " \n",
       " \n",
       "        [[[0.]]],\n",
       " \n",
       " \n",
       "        [[[0.]]],\n",
       " \n",
       " \n",
       "        [[[0.]]],\n",
       " \n",
       " \n",
       "        [[[0.]]],\n",
       " \n",
       " \n",
       "        [[[0.]]],\n",
       " \n",
       " \n",
       "        [[[0.]]],\n",
       " \n",
       " \n",
       "        [[[0.]]],\n",
       " \n",
       " \n",
       "        [[[0.]]],\n",
       " \n",
       " \n",
       "        [[[0.]]],\n",
       " \n",
       " \n",
       "        [[[0.]]],\n",
       " \n",
       " \n",
       "        [[[0.]]],\n",
       " \n",
       " \n",
       "        [[[0.]]],\n",
       " \n",
       " \n",
       "        [[[0.]]],\n",
       " \n",
       " \n",
       "        [[[0.]]],\n",
       " \n",
       " \n",
       "        [[[0.]]],\n",
       " \n",
       " \n",
       "        [[[0.]]],\n",
       " \n",
       " \n",
       "        [[[0.]]],\n",
       " \n",
       " \n",
       "        [[[0.]]],\n",
       " \n",
       " \n",
       "        [[[0.]]],\n",
       " \n",
       " \n",
       "        [[[0.]]],\n",
       " \n",
       " \n",
       "        [[[0.]]],\n",
       " \n",
       " \n",
       "        [[[0.]]],\n",
       " \n",
       " \n",
       "        [[[0.]]],\n",
       " \n",
       " \n",
       "        [[[0.]]],\n",
       " \n",
       " \n",
       "        [[[0.]]],\n",
       " \n",
       " \n",
       "        [[[0.]]],\n",
       " \n",
       " \n",
       "        [[[0.]]],\n",
       " \n",
       " \n",
       "        [[[0.]]],\n",
       " \n",
       " \n",
       "        [[[0.]]],\n",
       " \n",
       " \n",
       "        [[[0.]]],\n",
       " \n",
       " \n",
       "        [[[0.]]],\n",
       " \n",
       " \n",
       "        [[[0.]]],\n",
       " \n",
       " \n",
       "        [[[0.]]],\n",
       " \n",
       " \n",
       "        [[[0.]]],\n",
       " \n",
       " \n",
       "        [[[0.]]],\n",
       " \n",
       " \n",
       "        [[[0.]]],\n",
       " \n",
       " \n",
       "        [[[0.]]],\n",
       " \n",
       " \n",
       "        [[[0.]]],\n",
       " \n",
       " \n",
       "        [[[0.]]],\n",
       " \n",
       " \n",
       "        [[[0.]]],\n",
       " \n",
       " \n",
       "        [[[0.]]],\n",
       " \n",
       " \n",
       "        [[[0.]]],\n",
       " \n",
       " \n",
       "        [[[0.]]],\n",
       " \n",
       " \n",
       "        [[[0.]]],\n",
       " \n",
       " \n",
       "        [[[0.]]],\n",
       " \n",
       " \n",
       "        [[[0.]]],\n",
       " \n",
       " \n",
       "        [[[0.]]],\n",
       " \n",
       " \n",
       "        [[[0.]]],\n",
       " \n",
       " \n",
       "        [[[0.]]],\n",
       " \n",
       " \n",
       "        [[[0.]]],\n",
       " \n",
       " \n",
       "        [[[0.]]],\n",
       " \n",
       " \n",
       "        [[[0.]]],\n",
       " \n",
       " \n",
       "        [[[0.]]],\n",
       " \n",
       " \n",
       "        [[[0.]]],\n",
       " \n",
       " \n",
       "        [[[0.]]],\n",
       " \n",
       " \n",
       "        [[[0.]]],\n",
       " \n",
       " \n",
       "        [[[0.]]],\n",
       " \n",
       " \n",
       "        [[[0.]]],\n",
       " \n",
       " \n",
       "        [[[0.]]],\n",
       " \n",
       " \n",
       "        [[[0.]]],\n",
       " \n",
       " \n",
       "        [[[0.]]],\n",
       " \n",
       " \n",
       "        [[[0.]]],\n",
       " \n",
       " \n",
       "        [[[0.]]],\n",
       " \n",
       " \n",
       "        [[[0.]]],\n",
       " \n",
       " \n",
       "        [[[0.]]],\n",
       " \n",
       " \n",
       "        [[[0.]]],\n",
       " \n",
       " \n",
       "        [[[0.]]],\n",
       " \n",
       " \n",
       "        [[[0.]]],\n",
       " \n",
       " \n",
       "        [[[0.]]],\n",
       " \n",
       " \n",
       "        [[[0.]]],\n",
       " \n",
       " \n",
       "        [[[0.]]],\n",
       " \n",
       " \n",
       "        [[[0.]]],\n",
       " \n",
       " \n",
       "        [[[0.]]],\n",
       " \n",
       " \n",
       "        [[[0.]]],\n",
       " \n",
       " \n",
       "        [[[0.]]],\n",
       " \n",
       " \n",
       "        [[[0.]]],\n",
       " \n",
       " \n",
       "        [[[0.]]],\n",
       " \n",
       " \n",
       "        [[[0.]]],\n",
       " \n",
       " \n",
       "        [[[0.]]],\n",
       " \n",
       " \n",
       "        [[[0.]]],\n",
       " \n",
       " \n",
       "        [[[0.]]],\n",
       " \n",
       " \n",
       "        [[[0.]]],\n",
       " \n",
       " \n",
       "        [[[0.]]],\n",
       " \n",
       " \n",
       "        [[[0.]]],\n",
       " \n",
       " \n",
       "        [[[0.]]],\n",
       " \n",
       " \n",
       "        [[[0.]]],\n",
       " \n",
       " \n",
       "        [[[0.]]],\n",
       " \n",
       " \n",
       "        [[[0.]]],\n",
       " \n",
       " \n",
       "        [[[0.]]],\n",
       " \n",
       " \n",
       "        [[[0.]]],\n",
       " \n",
       " \n",
       "        [[[0.]]],\n",
       " \n",
       " \n",
       "        [[[0.]]],\n",
       " \n",
       " \n",
       "        [[[0.]]],\n",
       " \n",
       " \n",
       "        [[[0.]]],\n",
       " \n",
       " \n",
       "        [[[0.]]],\n",
       " \n",
       " \n",
       "        [[[0.]]],\n",
       " \n",
       " \n",
       "        [[[0.]]],\n",
       " \n",
       " \n",
       "        [[[0.]]],\n",
       " \n",
       " \n",
       "        [[[0.]]],\n",
       " \n",
       " \n",
       "        [[[0.]]],\n",
       " \n",
       " \n",
       "        [[[0.]]],\n",
       " \n",
       " \n",
       "        [[[0.]]],\n",
       " \n",
       " \n",
       "        [[[0.]]],\n",
       " \n",
       " \n",
       "        [[[0.]]],\n",
       " \n",
       " \n",
       "        [[[0.]]],\n",
       " \n",
       " \n",
       "        [[[0.]]],\n",
       " \n",
       " \n",
       "        [[[0.]]],\n",
       " \n",
       " \n",
       "        [[[0.]]],\n",
       " \n",
       " \n",
       "        [[[0.]]],\n",
       " \n",
       " \n",
       "        [[[0.]]],\n",
       " \n",
       " \n",
       "        [[[0.]]],\n",
       " \n",
       " \n",
       "        [[[0.]]],\n",
       " \n",
       " \n",
       "        [[[0.]]],\n",
       " \n",
       " \n",
       "        [[[0.]]],\n",
       " \n",
       " \n",
       "        [[[0.]]],\n",
       " \n",
       " \n",
       "        [[[0.]]],\n",
       " \n",
       " \n",
       "        [[[0.]]],\n",
       " \n",
       " \n",
       "        [[[0.]]],\n",
       " \n",
       " \n",
       "        [[[0.]]],\n",
       " \n",
       " \n",
       "        [[[0.]]],\n",
       " \n",
       " \n",
       "        [[[0.]]],\n",
       " \n",
       " \n",
       "        [[[0.]]],\n",
       " \n",
       " \n",
       "        [[[0.]]],\n",
       " \n",
       " \n",
       "        [[[0.]]],\n",
       " \n",
       " \n",
       "        [[[0.]]],\n",
       " \n",
       " \n",
       "        [[[0.]]],\n",
       " \n",
       " \n",
       "        [[[0.]]],\n",
       " \n",
       " \n",
       "        [[[0.]]],\n",
       " \n",
       " \n",
       "        [[[0.]]],\n",
       " \n",
       " \n",
       "        [[[0.]]],\n",
       " \n",
       " \n",
       "        [[[0.]]],\n",
       " \n",
       " \n",
       "        [[[0.]]],\n",
       " \n",
       " \n",
       "        [[[0.]]],\n",
       " \n",
       " \n",
       "        [[[0.]]],\n",
       " \n",
       " \n",
       "        [[[0.]]],\n",
       " \n",
       " \n",
       "        [[[0.]]],\n",
       " \n",
       " \n",
       "        [[[0.]]],\n",
       " \n",
       " \n",
       "        [[[0.]]],\n",
       " \n",
       " \n",
       "        [[[0.]]],\n",
       " \n",
       " \n",
       "        [[[0.]]],\n",
       " \n",
       " \n",
       "        [[[0.]]],\n",
       " \n",
       " \n",
       "        [[[0.]]],\n",
       " \n",
       " \n",
       "        [[[0.]]],\n",
       " \n",
       " \n",
       "        [[[0.]]],\n",
       " \n",
       " \n",
       "        [[[0.]]],\n",
       " \n",
       " \n",
       "        [[[0.]]],\n",
       " \n",
       " \n",
       "        [[[0.]]],\n",
       " \n",
       " \n",
       "        [[[0.]]],\n",
       " \n",
       " \n",
       "        [[[0.]]],\n",
       " \n",
       " \n",
       "        [[[0.]]],\n",
       " \n",
       " \n",
       "        [[[0.]]],\n",
       " \n",
       " \n",
       "        [[[0.]]],\n",
       " \n",
       " \n",
       "        [[[0.]]],\n",
       " \n",
       " \n",
       "        [[[0.]]],\n",
       " \n",
       " \n",
       "        [[[0.]]],\n",
       " \n",
       " \n",
       "        [[[0.]]],\n",
       " \n",
       " \n",
       "        [[[0.]]],\n",
       " \n",
       " \n",
       "        [[[0.]]],\n",
       " \n",
       " \n",
       "        [[[0.]]],\n",
       " \n",
       " \n",
       "        [[[0.]]],\n",
       " \n",
       " \n",
       "        [[[0.]]],\n",
       " \n",
       " \n",
       "        [[[0.]]],\n",
       " \n",
       " \n",
       "        [[[0.]]],\n",
       " \n",
       " \n",
       "        [[[0.]]],\n",
       " \n",
       " \n",
       "        [[[0.]]],\n",
       " \n",
       " \n",
       "        [[[0.]]],\n",
       " \n",
       " \n",
       "        [[[0.]]],\n",
       " \n",
       " \n",
       "        [[[0.]]],\n",
       " \n",
       " \n",
       "        [[[0.]]],\n",
       " \n",
       " \n",
       "        [[[0.]]],\n",
       " \n",
       " \n",
       "        [[[0.]]],\n",
       " \n",
       " \n",
       "        [[[0.]]],\n",
       " \n",
       " \n",
       "        [[[0.]]],\n",
       " \n",
       " \n",
       "        [[[0.]]],\n",
       " \n",
       " \n",
       "        [[[0.]]],\n",
       " \n",
       " \n",
       "        [[[0.]]],\n",
       " \n",
       " \n",
       "        [[[0.]]],\n",
       " \n",
       " \n",
       "        [[[0.]]],\n",
       " \n",
       " \n",
       "        [[[0.]]],\n",
       " \n",
       " \n",
       "        [[[0.]]],\n",
       " \n",
       " \n",
       "        [[[0.]]],\n",
       " \n",
       " \n",
       "        [[[0.]]],\n",
       " \n",
       " \n",
       "        [[[0.]]],\n",
       " \n",
       " \n",
       "        [[[0.]]],\n",
       " \n",
       " \n",
       "        [[[0.]]],\n",
       " \n",
       " \n",
       "        [[[0.]]],\n",
       " \n",
       " \n",
       "        [[[0.]]],\n",
       " \n",
       " \n",
       "        [[[0.]]],\n",
       " \n",
       " \n",
       "        [[[0.]]],\n",
       " \n",
       " \n",
       "        [[[0.]]],\n",
       " \n",
       " \n",
       "        [[[0.]]],\n",
       " \n",
       " \n",
       "        [[[0.]]],\n",
       " \n",
       " \n",
       "        [[[0.]]],\n",
       " \n",
       " \n",
       "        [[[0.]]],\n",
       " \n",
       " \n",
       "        [[[0.]]],\n",
       " \n",
       " \n",
       "        [[[0.]]],\n",
       " \n",
       " \n",
       "        [[[0.]]],\n",
       " \n",
       " \n",
       "        [[[0.]]],\n",
       " \n",
       " \n",
       "        [[[0.]]],\n",
       " \n",
       " \n",
       "        [[[0.]]],\n",
       " \n",
       " \n",
       "        [[[0.]]],\n",
       " \n",
       " \n",
       "        [[[0.]]],\n",
       " \n",
       " \n",
       "        [[[0.]]],\n",
       " \n",
       " \n",
       "        [[[0.]]],\n",
       " \n",
       " \n",
       "        [[[0.]]],\n",
       " \n",
       " \n",
       "        [[[0.]]],\n",
       " \n",
       " \n",
       "        [[[0.]]],\n",
       " \n",
       " \n",
       "        [[[0.]]],\n",
       " \n",
       " \n",
       "        [[[0.]]],\n",
       " \n",
       " \n",
       "        [[[0.]]],\n",
       " \n",
       " \n",
       "        [[[0.]]],\n",
       " \n",
       " \n",
       "        [[[0.]]],\n",
       " \n",
       " \n",
       "        [[[0.]]],\n",
       " \n",
       " \n",
       "        [[[0.]]],\n",
       " \n",
       " \n",
       "        [[[0.]]],\n",
       " \n",
       " \n",
       "        [[[0.]]],\n",
       " \n",
       " \n",
       "        [[[0.]]],\n",
       " \n",
       " \n",
       "        [[[0.]]],\n",
       " \n",
       " \n",
       "        [[[0.]]],\n",
       " \n",
       " \n",
       "        [[[0.]]],\n",
       " \n",
       " \n",
       "        [[[0.]]],\n",
       " \n",
       " \n",
       "        [[[0.]]],\n",
       " \n",
       " \n",
       "        [[[0.]]],\n",
       " \n",
       " \n",
       "        [[[0.]]],\n",
       " \n",
       " \n",
       "        [[[0.]]],\n",
       " \n",
       " \n",
       "        [[[0.]]],\n",
       " \n",
       " \n",
       "        [[[0.]]],\n",
       " \n",
       " \n",
       "        [[[0.]]],\n",
       " \n",
       " \n",
       "        [[[0.]]],\n",
       " \n",
       " \n",
       "        [[[0.]]],\n",
       " \n",
       " \n",
       "        [[[0.]]],\n",
       " \n",
       " \n",
       "        [[[0.]]],\n",
       " \n",
       " \n",
       "        [[[0.]]],\n",
       " \n",
       " \n",
       "        [[[0.]]],\n",
       " \n",
       " \n",
       "        [[[0.]]],\n",
       " \n",
       " \n",
       "        [[[0.]]],\n",
       " \n",
       " \n",
       "        [[[0.]]],\n",
       " \n",
       " \n",
       "        [[[0.]]],\n",
       " \n",
       " \n",
       "        [[[0.]]],\n",
       " \n",
       " \n",
       "        [[[0.]]],\n",
       " \n",
       " \n",
       "        [[[0.]]],\n",
       " \n",
       " \n",
       "        [[[0.]]],\n",
       " \n",
       " \n",
       "        [[[0.]]],\n",
       " \n",
       " \n",
       "        [[[0.]]],\n",
       " \n",
       " \n",
       "        [[[0.]]],\n",
       " \n",
       " \n",
       "        [[[0.]]],\n",
       " \n",
       " \n",
       "        [[[0.]]],\n",
       " \n",
       " \n",
       "        [[[0.]]],\n",
       " \n",
       " \n",
       "        [[[0.]]],\n",
       " \n",
       " \n",
       "        [[[0.]]],\n",
       " \n",
       " \n",
       "        [[[0.]]],\n",
       " \n",
       " \n",
       "        [[[0.]]],\n",
       " \n",
       " \n",
       "        [[[0.]]],\n",
       " \n",
       " \n",
       "        [[[0.]]],\n",
       " \n",
       " \n",
       "        [[[0.]]],\n",
       " \n",
       " \n",
       "        [[[0.]]],\n",
       " \n",
       " \n",
       "        [[[0.]]],\n",
       " \n",
       " \n",
       "        [[[0.]]],\n",
       " \n",
       " \n",
       "        [[[0.]]],\n",
       " \n",
       " \n",
       "        [[[0.]]],\n",
       " \n",
       " \n",
       "        [[[0.]]],\n",
       " \n",
       " \n",
       "        [[[0.]]],\n",
       " \n",
       " \n",
       "        [[[0.]]],\n",
       " \n",
       " \n",
       "        [[[0.]]],\n",
       " \n",
       " \n",
       "        [[[0.]]],\n",
       " \n",
       " \n",
       "        [[[0.]]],\n",
       " \n",
       " \n",
       "        [[[0.]]],\n",
       " \n",
       " \n",
       "        [[[0.]]],\n",
       " \n",
       " \n",
       "        [[[0.]]],\n",
       " \n",
       " \n",
       "        [[[0.]]],\n",
       " \n",
       " \n",
       "        [[[0.]]],\n",
       " \n",
       " \n",
       "        [[[0.]]],\n",
       " \n",
       " \n",
       "        [[[0.]]],\n",
       " \n",
       " \n",
       "        [[[0.]]]]),\n",
       " 'interval': array([[[0.],\n",
       "         [0.],\n",
       "         [0.],\n",
       "         ...,\n",
       "         [0.],\n",
       "         [0.],\n",
       "         [0.]],\n",
       " \n",
       "        [[0.],\n",
       "         [0.],\n",
       "         [0.],\n",
       "         ...,\n",
       "         [0.],\n",
       "         [0.],\n",
       "         [0.]],\n",
       " \n",
       "        [[0.],\n",
       "         [0.],\n",
       "         [0.],\n",
       "         ...,\n",
       "         [0.],\n",
       "         [0.],\n",
       "         [0.]],\n",
       " \n",
       "        ...,\n",
       " \n",
       "        [[0.],\n",
       "         [0.],\n",
       "         [0.],\n",
       "         ...,\n",
       "         [0.],\n",
       "         [0.],\n",
       "         [0.]],\n",
       " \n",
       "        [[0.],\n",
       "         [0.],\n",
       "         [0.],\n",
       "         ...,\n",
       "         [0.],\n",
       "         [0.],\n",
       "         [0.]],\n",
       " \n",
       "        [[0.],\n",
       "         [0.],\n",
       "         [0.],\n",
       "         ...,\n",
       "         [0.],\n",
       "         [0.],\n",
       "         [0.]]], dtype=float32),\n",
       " 'interval_mean': array([[0.],\n",
       "        [0.],\n",
       "        [0.],\n",
       "        [0.],\n",
       "        [0.],\n",
       "        [0.],\n",
       "        [0.],\n",
       "        [0.],\n",
       "        [0.],\n",
       "        [0.],\n",
       "        [0.],\n",
       "        [0.],\n",
       "        [0.],\n",
       "        [0.],\n",
       "        [0.],\n",
       "        [0.],\n",
       "        [0.],\n",
       "        [0.],\n",
       "        [0.],\n",
       "        [0.],\n",
       "        [0.],\n",
       "        [0.],\n",
       "        [0.],\n",
       "        [0.],\n",
       "        [0.],\n",
       "        [0.],\n",
       "        [0.],\n",
       "        [0.],\n",
       "        [0.],\n",
       "        [0.],\n",
       "        [0.],\n",
       "        [0.],\n",
       "        [0.],\n",
       "        [0.],\n",
       "        [0.],\n",
       "        [0.],\n",
       "        [0.],\n",
       "        [0.],\n",
       "        [0.],\n",
       "        [0.],\n",
       "        [0.],\n",
       "        [0.],\n",
       "        [0.],\n",
       "        [0.],\n",
       "        [0.],\n",
       "        [0.],\n",
       "        [0.],\n",
       "        [0.],\n",
       "        [0.],\n",
       "        [0.],\n",
       "        [0.],\n",
       "        [0.],\n",
       "        [0.],\n",
       "        [0.],\n",
       "        [0.],\n",
       "        [0.],\n",
       "        [0.],\n",
       "        [0.],\n",
       "        [0.],\n",
       "        [0.],\n",
       "        [0.],\n",
       "        [0.],\n",
       "        [0.],\n",
       "        [0.],\n",
       "        [0.],\n",
       "        [0.],\n",
       "        [0.],\n",
       "        [0.],\n",
       "        [0.],\n",
       "        [0.],\n",
       "        [0.],\n",
       "        [0.],\n",
       "        [0.],\n",
       "        [0.],\n",
       "        [0.],\n",
       "        [0.],\n",
       "        [0.],\n",
       "        [0.],\n",
       "        [0.],\n",
       "        [0.],\n",
       "        [0.],\n",
       "        [0.],\n",
       "        [0.],\n",
       "        [0.],\n",
       "        [0.],\n",
       "        [0.],\n",
       "        [0.],\n",
       "        [0.],\n",
       "        [0.],\n",
       "        [0.],\n",
       "        [0.],\n",
       "        [0.],\n",
       "        [0.],\n",
       "        [0.],\n",
       "        [0.],\n",
       "        [0.],\n",
       "        [0.],\n",
       "        [0.],\n",
       "        [0.],\n",
       "        [0.],\n",
       "        [0.],\n",
       "        [0.],\n",
       "        [0.],\n",
       "        [0.],\n",
       "        [0.],\n",
       "        [0.],\n",
       "        [0.],\n",
       "        [0.],\n",
       "        [0.],\n",
       "        [0.],\n",
       "        [0.],\n",
       "        [0.],\n",
       "        [0.],\n",
       "        [0.],\n",
       "        [0.],\n",
       "        [0.],\n",
       "        [0.],\n",
       "        [0.],\n",
       "        [0.],\n",
       "        [0.],\n",
       "        [0.],\n",
       "        [0.],\n",
       "        [0.],\n",
       "        [0.],\n",
       "        [0.],\n",
       "        [0.],\n",
       "        [0.],\n",
       "        [0.],\n",
       "        [0.],\n",
       "        [0.],\n",
       "        [0.],\n",
       "        [0.],\n",
       "        [0.],\n",
       "        [0.],\n",
       "        [0.],\n",
       "        [0.],\n",
       "        [0.],\n",
       "        [0.],\n",
       "        [0.],\n",
       "        [0.],\n",
       "        [0.],\n",
       "        [0.],\n",
       "        [0.],\n",
       "        [0.],\n",
       "        [0.],\n",
       "        [0.],\n",
       "        [0.],\n",
       "        [0.],\n",
       "        [0.],\n",
       "        [0.],\n",
       "        [0.],\n",
       "        [0.],\n",
       "        [0.],\n",
       "        [0.],\n",
       "        [0.],\n",
       "        [0.],\n",
       "        [0.],\n",
       "        [0.],\n",
       "        [0.],\n",
       "        [0.],\n",
       "        [0.],\n",
       "        [0.],\n",
       "        [0.],\n",
       "        [0.],\n",
       "        [0.],\n",
       "        [0.],\n",
       "        [0.],\n",
       "        [0.],\n",
       "        [0.],\n",
       "        [0.],\n",
       "        [0.],\n",
       "        [0.],\n",
       "        [0.],\n",
       "        [0.],\n",
       "        [0.],\n",
       "        [0.],\n",
       "        [0.],\n",
       "        [0.],\n",
       "        [0.],\n",
       "        [0.],\n",
       "        [0.],\n",
       "        [0.],\n",
       "        [0.],\n",
       "        [0.],\n",
       "        [0.],\n",
       "        [0.],\n",
       "        [0.],\n",
       "        [0.],\n",
       "        [0.],\n",
       "        [0.],\n",
       "        [0.],\n",
       "        [0.],\n",
       "        [0.],\n",
       "        [0.],\n",
       "        [0.],\n",
       "        [0.],\n",
       "        [0.],\n",
       "        [0.],\n",
       "        [0.],\n",
       "        [0.],\n",
       "        [0.],\n",
       "        [0.],\n",
       "        [0.],\n",
       "        [0.],\n",
       "        [0.],\n",
       "        [0.],\n",
       "        [0.],\n",
       "        [0.],\n",
       "        [0.],\n",
       "        [0.],\n",
       "        [0.],\n",
       "        [0.],\n",
       "        [0.],\n",
       "        [0.],\n",
       "        [0.],\n",
       "        [0.],\n",
       "        [0.],\n",
       "        [0.],\n",
       "        [0.],\n",
       "        [0.],\n",
       "        [0.],\n",
       "        [0.],\n",
       "        [0.],\n",
       "        [0.],\n",
       "        [0.],\n",
       "        [0.],\n",
       "        [0.],\n",
       "        [0.],\n",
       "        [0.],\n",
       "        [0.],\n",
       "        [0.],\n",
       "        [0.],\n",
       "        [0.],\n",
       "        [0.],\n",
       "        [0.],\n",
       "        [0.],\n",
       "        [0.],\n",
       "        [0.],\n",
       "        [0.],\n",
       "        [0.],\n",
       "        [0.],\n",
       "        [0.],\n",
       "        [0.],\n",
       "        [0.],\n",
       "        [0.],\n",
       "        [0.],\n",
       "        [0.],\n",
       "        [0.],\n",
       "        [0.],\n",
       "        [0.],\n",
       "        [0.],\n",
       "        [0.],\n",
       "        [0.],\n",
       "        [0.],\n",
       "        [0.],\n",
       "        [0.],\n",
       "        [0.],\n",
       "        [0.],\n",
       "        [0.],\n",
       "        [0.],\n",
       "        [0.],\n",
       "        [0.],\n",
       "        [0.],\n",
       "        [0.],\n",
       "        [0.],\n",
       "        [0.],\n",
       "        [0.],\n",
       "        [0.],\n",
       "        [0.],\n",
       "        [0.],\n",
       "        [0.],\n",
       "        [0.],\n",
       "        [0.],\n",
       "        [0.],\n",
       "        [0.],\n",
       "        [0.],\n",
       "        [0.],\n",
       "        [0.],\n",
       "        [0.],\n",
       "        [0.],\n",
       "        [0.],\n",
       "        [0.],\n",
       "        [0.],\n",
       "        [0.],\n",
       "        [0.],\n",
       "        [0.],\n",
       "        [0.],\n",
       "        [0.],\n",
       "        [0.],\n",
       "        [0.],\n",
       "        [0.],\n",
       "        [0.],\n",
       "        [0.],\n",
       "        [0.],\n",
       "        [0.],\n",
       "        [0.],\n",
       "        [0.],\n",
       "        [0.],\n",
       "        [0.],\n",
       "        [0.],\n",
       "        [0.],\n",
       "        [0.],\n",
       "        [0.],\n",
       "        [0.],\n",
       "        [0.],\n",
       "        [0.],\n",
       "        [0.],\n",
       "        [0.],\n",
       "        [0.],\n",
       "        [0.],\n",
       "        [0.],\n",
       "        [0.],\n",
       "        [0.],\n",
       "        [0.],\n",
       "        [0.],\n",
       "        [0.],\n",
       "        [0.],\n",
       "        [0.],\n",
       "        [0.],\n",
       "        [0.],\n",
       "        [0.],\n",
       "        [0.],\n",
       "        [0.],\n",
       "        [0.],\n",
       "        [0.],\n",
       "        [0.],\n",
       "        [0.],\n",
       "        [0.],\n",
       "        [0.],\n",
       "        [0.],\n",
       "        [0.],\n",
       "        [0.],\n",
       "        [0.],\n",
       "        [0.],\n",
       "        [0.],\n",
       "        [0.],\n",
       "        [0.],\n",
       "        [0.],\n",
       "        [0.],\n",
       "        [0.],\n",
       "        [0.],\n",
       "        [0.],\n",
       "        [0.],\n",
       "        [0.],\n",
       "        [0.],\n",
       "        [0.],\n",
       "        [0.],\n",
       "        [0.],\n",
       "        [0.],\n",
       "        [0.],\n",
       "        [0.],\n",
       "        [0.],\n",
       "        [0.],\n",
       "        [0.],\n",
       "        [0.],\n",
       "        [0.],\n",
       "        [0.],\n",
       "        [0.],\n",
       "        [0.],\n",
       "        [0.],\n",
       "        [0.],\n",
       "        [0.],\n",
       "        [0.],\n",
       "        [0.],\n",
       "        [0.],\n",
       "        [0.],\n",
       "        [0.],\n",
       "        [0.],\n",
       "        [0.],\n",
       "        [0.],\n",
       "        [0.],\n",
       "        [0.],\n",
       "        [0.],\n",
       "        [0.],\n",
       "        [0.],\n",
       "        [0.],\n",
       "        [0.],\n",
       "        [0.],\n",
       "        [0.],\n",
       "        [0.],\n",
       "        [0.],\n",
       "        [0.],\n",
       "        [0.],\n",
       "        [0.],\n",
       "        [0.],\n",
       "        [0.],\n",
       "        [0.],\n",
       "        [0.],\n",
       "        [0.],\n",
       "        [0.],\n",
       "        [0.],\n",
       "        [0.],\n",
       "        [0.],\n",
       "        [0.],\n",
       "        [0.],\n",
       "        [0.],\n",
       "        [0.],\n",
       "        [0.],\n",
       "        [0.],\n",
       "        [0.],\n",
       "        [0.],\n",
       "        [0.],\n",
       "        [0.],\n",
       "        [0.],\n",
       "        [0.],\n",
       "        [0.],\n",
       "        [0.],\n",
       "        [0.],\n",
       "        [0.],\n",
       "        [0.],\n",
       "        [0.],\n",
       "        [0.],\n",
       "        [0.],\n",
       "        [0.],\n",
       "        [0.],\n",
       "        [0.],\n",
       "        [0.],\n",
       "        [0.],\n",
       "        [0.],\n",
       "        [0.],\n",
       "        [0.],\n",
       "        [0.],\n",
       "        [0.],\n",
       "        [0.],\n",
       "        [0.],\n",
       "        [0.],\n",
       "        [0.],\n",
       "        [0.],\n",
       "        [0.],\n",
       "        [0.],\n",
       "        [0.],\n",
       "        [0.],\n",
       "        [0.],\n",
       "        [0.],\n",
       "        [0.],\n",
       "        [0.],\n",
       "        [0.],\n",
       "        [0.],\n",
       "        [0.],\n",
       "        [0.],\n",
       "        [0.],\n",
       "        [0.],\n",
       "        [0.],\n",
       "        [0.],\n",
       "        [0.],\n",
       "        [0.],\n",
       "        [0.],\n",
       "        [0.],\n",
       "        [0.],\n",
       "        [0.],\n",
       "        [0.],\n",
       "        [0.],\n",
       "        [0.],\n",
       "        [0.],\n",
       "        [0.],\n",
       "        [0.],\n",
       "        [0.],\n",
       "        [0.],\n",
       "        [0.],\n",
       "        [0.],\n",
       "        [0.],\n",
       "        [0.],\n",
       "        [0.],\n",
       "        [0.],\n",
       "        [0.],\n",
       "        [0.],\n",
       "        [0.],\n",
       "        [0.],\n",
       "        [0.],\n",
       "        [0.],\n",
       "        [0.],\n",
       "        [0.],\n",
       "        [0.],\n",
       "        [0.],\n",
       "        [0.],\n",
       "        [0.],\n",
       "        [0.],\n",
       "        [0.],\n",
       "        [0.],\n",
       "        [0.],\n",
       "        [0.],\n",
       "        [0.],\n",
       "        [0.],\n",
       "        [0.],\n",
       "        [0.],\n",
       "        [0.],\n",
       "        [0.],\n",
       "        [0.],\n",
       "        [0.],\n",
       "        [0.],\n",
       "        [0.],\n",
       "        [0.],\n",
       "        [0.],\n",
       "        [0.],\n",
       "        [0.],\n",
       "        [0.],\n",
       "        [0.],\n",
       "        [0.],\n",
       "        [0.],\n",
       "        [0.],\n",
       "        [0.],\n",
       "        [0.],\n",
       "        [0.],\n",
       "        [0.],\n",
       "        [0.],\n",
       "        [0.],\n",
       "        [0.],\n",
       "        [0.],\n",
       "        [0.],\n",
       "        [0.],\n",
       "        [0.],\n",
       "        [0.],\n",
       "        [0.],\n",
       "        [0.],\n",
       "        [0.],\n",
       "        [0.],\n",
       "        [0.],\n",
       "        [0.],\n",
       "        [0.],\n",
       "        [0.],\n",
       "        [0.],\n",
       "        [0.],\n",
       "        [0.],\n",
       "        [0.],\n",
       "        [0.],\n",
       "        [0.],\n",
       "        [0.],\n",
       "        [0.],\n",
       "        [0.],\n",
       "        [0.],\n",
       "        [0.],\n",
       "        [0.],\n",
       "        [0.],\n",
       "        [0.],\n",
       "        [0.],\n",
       "        [0.],\n",
       "        [0.],\n",
       "        [0.],\n",
       "        [0.],\n",
       "        [0.],\n",
       "        [0.],\n",
       "        [0.],\n",
       "        [0.],\n",
       "        [0.],\n",
       "        [0.],\n",
       "        [0.],\n",
       "        [0.],\n",
       "        [0.],\n",
       "        [0.],\n",
       "        [0.],\n",
       "        [0.],\n",
       "        [0.],\n",
       "        [0.],\n",
       "        [0.],\n",
       "        [0.],\n",
       "        [0.],\n",
       "        [0.],\n",
       "        [0.],\n",
       "        [0.],\n",
       "        [0.],\n",
       "        [0.],\n",
       "        [0.],\n",
       "        [0.],\n",
       "        [0.],\n",
       "        [0.],\n",
       "        [0.],\n",
       "        [0.],\n",
       "        [0.],\n",
       "        [0.],\n",
       "        [0.],\n",
       "        [0.],\n",
       "        [0.],\n",
       "        [0.],\n",
       "        [0.],\n",
       "        [0.],\n",
       "        [0.],\n",
       "        [0.],\n",
       "        [0.],\n",
       "        [0.],\n",
       "        [0.],\n",
       "        [0.],\n",
       "        [0.],\n",
       "        [0.],\n",
       "        [0.],\n",
       "        [0.],\n",
       "        [0.],\n",
       "        [0.],\n",
       "        [0.],\n",
       "        [0.],\n",
       "        [0.],\n",
       "        [0.],\n",
       "        [0.],\n",
       "        [0.],\n",
       "        [0.],\n",
       "        [0.],\n",
       "        [0.],\n",
       "        [0.],\n",
       "        [0.],\n",
       "        [0.],\n",
       "        [0.],\n",
       "        [0.],\n",
       "        [0.],\n",
       "        [0.],\n",
       "        [0.],\n",
       "        [0.],\n",
       "        [0.],\n",
       "        [0.],\n",
       "        [0.],\n",
       "        [0.],\n",
       "        [0.],\n",
       "        [0.],\n",
       "        [0.],\n",
       "        [0.],\n",
       "        [0.],\n",
       "        [0.],\n",
       "        [0.],\n",
       "        [0.],\n",
       "        [0.],\n",
       "        [0.],\n",
       "        [0.],\n",
       "        [0.],\n",
       "        [0.],\n",
       "        [0.],\n",
       "        [0.],\n",
       "        [0.],\n",
       "        [0.],\n",
       "        [0.],\n",
       "        [0.],\n",
       "        [0.],\n",
       "        [0.],\n",
       "        [0.]]),\n",
       " 'mm_labels': array([[0.8, 0.2],\n",
       "        [0.8, 0.2],\n",
       "        [1. , 0. ],\n",
       "        ...,\n",
       "        [0. , 1. ],\n",
       "        [0. , 1. ],\n",
       "        [1. , 0. ]]),\n",
       " 'out_labels': array([[1, 0],\n",
       "        [1, 0],\n",
       "        [1, 0],\n",
       "        ...,\n",
       "        [0, 1],\n",
       "        [0, 1],\n",
       "        [0, 1]]),\n",
       " 'partial_raw': array([], dtype=float64)}"
      ]
     },
     "execution_count": 87,
     "metadata": {},
     "output_type": "execute_result"
    }
   ],
   "source": [
    "features_test"
   ]
  }
 ],
 "metadata": {
  "kernelspec": {
   "display_name": "Python 3 (ipykernel)",
   "language": "python",
   "name": "python3"
  },
  "language_info": {
   "codemirror_mode": {
    "name": "ipython",
    "version": 3
   },
   "file_extension": ".py",
   "mimetype": "text/x-python",
   "name": "python",
   "nbconvert_exporter": "python",
   "pygments_lexer": "ipython3",
   "version": "3.8.10"
  },
  "toc": {
   "base_numbering": 1,
   "nav_menu": {},
   "number_sections": true,
   "sideBar": true,
   "skip_h1_title": false,
   "title_cell": "Table of Contents",
   "title_sidebar": "Contents",
   "toc_cell": false,
   "toc_position": {},
   "toc_section_display": true,
   "toc_window_display": false
  }
 },
 "nbformat": 4,
 "nbformat_minor": 5
}
